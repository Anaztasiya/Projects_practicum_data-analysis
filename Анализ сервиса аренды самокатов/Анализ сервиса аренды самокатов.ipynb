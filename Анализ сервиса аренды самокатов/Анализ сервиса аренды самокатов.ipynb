{
 "cells": [
  {
   "cell_type": "markdown",
   "id": "28c4346e",
   "metadata": {},
   "source": [
    "# Анализ сервиса аренды самокатов GoFast\n",
    "\n",
    "В наличии есть данные о некоторых пользователях приложения аренды самокатов из нескольких городов, а также об их поездках. Необходимо проанализировать данные и проверить некоторые гипотезы, которые могут помочь бизнесу вырасти.\n",
    "\n",
    "Чтобы совершать поездки по городу, пользователи сервиса GoFast пользуются мобильным приложением. Сервисом можно пользоваться:\n",
    "\n",
    "<b>Без подписки</b>\n",
    "    \n",
    "* абонентская плата отсутствует\n",
    "    \n",
    "* стоимость одной минуты поездки — 8 рублей\n",
    "    \n",
    "* стоимость старта (начала поездки) — 50 рублей\n",
    "\n",
    "\n",
    "<b>С подпиской Ultra</b>\n",
    "\n",
    "* абонентская плата — 199 рублей в месяц\n",
    "\n",
    "* стоимость одной минуты поездки — 6 рублей\n",
    "\n",
    "* стоимость старта — бесплатно\n",
    "\n",
    "---\n",
    "\n",
    "<b> Пользователи —</b> users_go.csv\n",
    "\n",
    "* user_id — уникальный идентификатор пользователя\n",
    "\n",
    "* name — имя пользователя\n",
    "\n",
    "* age — возраст\n",
    "\n",
    "* city — город\n",
    "\n",
    "* subscription_type — тип подписки (free, ultra)\n",
    "\n",
    "\n",
    "<b> Поeздки —</b> rides_go.csv\n",
    "\n",
    "* user_id — уникальный идентификатор пользователя\n",
    "\n",
    "* distance — расстояние, которое пользователь проехал в текущей сессии (в метрах)\n",
    "\n",
    "* duration — продолжительность сессии (в минутах) — время с того момента, как пользователь нажал кнопку «Начать поездку» до момента, как он нажал кнопку «Завершить поездку»\n",
    "\n",
    "* date — дата совершения поездки\n",
    "\n",
    "\n",
    "<b> Подписки —</b> subscriptions_go.csv\n",
    "\n",
    "* subscription_type — тип подписки\n",
    "\n",
    "* minute_price — стоимость одной минуты поездки по данной подписке\n",
    "\n",
    "* start_ride_price — стоимость начала поездки\n",
    "\n",
    "* subscription_fee — стоимость ежемесячного платежа"
   ]
  },
  {
   "cell_type": "code",
   "execution_count": 1,
   "id": "72576667",
   "metadata": {},
   "outputs": [],
   "source": [
    "import pandas as pd\n",
    "import matplotlib.pyplot as plt\n",
    "import seaborn as sns\n",
    "import plotly.express as px\n",
    "import numpy as np\n",
    "from scipy import stats as st"
   ]
  },
  {
   "cell_type": "markdown",
   "id": "c42cbe00",
   "metadata": {},
   "source": [
    "#### Шаг 1. Загрузка данных"
   ]
  },
  {
   "cell_type": "markdown",
   "id": "968f00eb",
   "metadata": {},
   "source": [
    "Подключимся к таблицам и изучим общую информацию об имеющихся данных."
   ]
  },
  {
   "cell_type": "markdown",
   "id": "10d69c6b",
   "metadata": {},
   "source": [
    "##### Таблица с пользователями"
   ]
  },
  {
   "cell_type": "code",
   "execution_count": 2,
   "id": "eff9f206",
   "metadata": {},
   "outputs": [],
   "source": [
    "try:\n",
    "    data_users = pd.read_csv('/datasets/users_go.csv')\n",
    "except:\n",
    "    data_users = pd.read_csv('https://code.s3.yandex.net/datasets/users_go.csv')"
   ]
  },
  {
   "cell_type": "code",
   "execution_count": 3,
   "id": "7bb7300b",
   "metadata": {},
   "outputs": [
    {
     "name": "stdout",
     "output_type": "stream",
     "text": [
      "<class 'pandas.core.frame.DataFrame'>\n",
      "RangeIndex: 1565 entries, 0 to 1564\n",
      "Data columns (total 5 columns):\n",
      " #   Column             Non-Null Count  Dtype \n",
      "---  ------             --------------  ----- \n",
      " 0   user_id            1565 non-null   int64 \n",
      " 1   name               1565 non-null   object\n",
      " 2   age                1565 non-null   int64 \n",
      " 3   city               1565 non-null   object\n",
      " 4   subscription_type  1565 non-null   object\n",
      "dtypes: int64(2), object(3)\n",
      "memory usage: 61.3+ KB\n"
     ]
    }
   ],
   "source": [
    "data_users.info()"
   ]
  },
  {
   "cell_type": "code",
   "execution_count": 4,
   "id": "a01ecb64",
   "metadata": {},
   "outputs": [
    {
     "data": {
      "text/html": [
       "<div>\n",
       "<style scoped>\n",
       "    .dataframe tbody tr th:only-of-type {\n",
       "        vertical-align: middle;\n",
       "    }\n",
       "\n",
       "    .dataframe tbody tr th {\n",
       "        vertical-align: top;\n",
       "    }\n",
       "\n",
       "    .dataframe thead th {\n",
       "        text-align: right;\n",
       "    }\n",
       "</style>\n",
       "<table border=\"1\" class=\"dataframe\">\n",
       "  <thead>\n",
       "    <tr style=\"text-align: right;\">\n",
       "      <th></th>\n",
       "      <th>user_id</th>\n",
       "      <th>name</th>\n",
       "      <th>age</th>\n",
       "      <th>city</th>\n",
       "      <th>subscription_type</th>\n",
       "    </tr>\n",
       "  </thead>\n",
       "  <tbody>\n",
       "    <tr>\n",
       "      <th>0</th>\n",
       "      <td>1</td>\n",
       "      <td>Кира</td>\n",
       "      <td>22</td>\n",
       "      <td>Тюмень</td>\n",
       "      <td>ultra</td>\n",
       "    </tr>\n",
       "    <tr>\n",
       "      <th>1</th>\n",
       "      <td>2</td>\n",
       "      <td>Станислав</td>\n",
       "      <td>31</td>\n",
       "      <td>Омск</td>\n",
       "      <td>ultra</td>\n",
       "    </tr>\n",
       "    <tr>\n",
       "      <th>2</th>\n",
       "      <td>3</td>\n",
       "      <td>Алексей</td>\n",
       "      <td>20</td>\n",
       "      <td>Москва</td>\n",
       "      <td>ultra</td>\n",
       "    </tr>\n",
       "    <tr>\n",
       "      <th>3</th>\n",
       "      <td>4</td>\n",
       "      <td>Константин</td>\n",
       "      <td>26</td>\n",
       "      <td>Ростов-на-Дону</td>\n",
       "      <td>ultra</td>\n",
       "    </tr>\n",
       "    <tr>\n",
       "      <th>4</th>\n",
       "      <td>5</td>\n",
       "      <td>Адель</td>\n",
       "      <td>28</td>\n",
       "      <td>Омск</td>\n",
       "      <td>ultra</td>\n",
       "    </tr>\n",
       "    <tr>\n",
       "      <th>5</th>\n",
       "      <td>6</td>\n",
       "      <td>Регина</td>\n",
       "      <td>25</td>\n",
       "      <td>Краснодар</td>\n",
       "      <td>ultra</td>\n",
       "    </tr>\n",
       "    <tr>\n",
       "      <th>6</th>\n",
       "      <td>7</td>\n",
       "      <td>Игорь</td>\n",
       "      <td>23</td>\n",
       "      <td>Омск</td>\n",
       "      <td>ultra</td>\n",
       "    </tr>\n",
       "    <tr>\n",
       "      <th>7</th>\n",
       "      <td>8</td>\n",
       "      <td>Юрий</td>\n",
       "      <td>23</td>\n",
       "      <td>Краснодар</td>\n",
       "      <td>ultra</td>\n",
       "    </tr>\n",
       "    <tr>\n",
       "      <th>8</th>\n",
       "      <td>9</td>\n",
       "      <td>Ян</td>\n",
       "      <td>21</td>\n",
       "      <td>Пятигорск</td>\n",
       "      <td>ultra</td>\n",
       "    </tr>\n",
       "    <tr>\n",
       "      <th>9</th>\n",
       "      <td>10</td>\n",
       "      <td>Валерий</td>\n",
       "      <td>18</td>\n",
       "      <td>Екатеринбург</td>\n",
       "      <td>ultra</td>\n",
       "    </tr>\n",
       "  </tbody>\n",
       "</table>\n",
       "</div>"
      ],
      "text/plain": [
       "   user_id        name  age            city subscription_type\n",
       "0        1        Кира   22          Тюмень             ultra\n",
       "1        2   Станислав   31            Омск             ultra\n",
       "2        3     Алексей   20          Москва             ultra\n",
       "3        4  Константин   26  Ростов-на-Дону             ultra\n",
       "4        5       Адель   28            Омск             ultra\n",
       "5        6      Регина   25       Краснодар             ultra\n",
       "6        7       Игорь   23            Омск             ultra\n",
       "7        8        Юрий   23       Краснодар             ultra\n",
       "8        9          Ян   21       Пятигорск             ultra\n",
       "9       10     Валерий   18    Екатеринбург             ultra"
      ]
     },
     "execution_count": 4,
     "metadata": {},
     "output_type": "execute_result"
    }
   ],
   "source": [
    "data_users.head(10)"
   ]
  },
  {
   "cell_type": "markdown",
   "id": "94e95cbe",
   "metadata": {},
   "source": [
    "В таблице с пользователями хранятся данные о полутра тысячах пользователей, их имени, возрасте, городе и типе подписки."
   ]
  },
  {
   "cell_type": "markdown",
   "id": "1f4a34e5",
   "metadata": {},
   "source": [
    "##### Таблица с поездками"
   ]
  },
  {
   "cell_type": "code",
   "execution_count": 5,
   "id": "c087bd55",
   "metadata": {},
   "outputs": [],
   "source": [
    "try:\n",
    "    data_riders = pd.read_csv('/datasets/rides_go.csv')\n",
    "except:\n",
    "    data_riders = pd.read_csv('https://code.s3.yandex.net/datasets/rides_go.csv')"
   ]
  },
  {
   "cell_type": "code",
   "execution_count": 6,
   "id": "908cdc67",
   "metadata": {},
   "outputs": [
    {
     "name": "stdout",
     "output_type": "stream",
     "text": [
      "<class 'pandas.core.frame.DataFrame'>\n",
      "RangeIndex: 18068 entries, 0 to 18067\n",
      "Data columns (total 4 columns):\n",
      " #   Column    Non-Null Count  Dtype  \n",
      "---  ------    --------------  -----  \n",
      " 0   user_id   18068 non-null  int64  \n",
      " 1   distance  18068 non-null  float64\n",
      " 2   duration  18068 non-null  float64\n",
      " 3   date      18068 non-null  object \n",
      "dtypes: float64(2), int64(1), object(1)\n",
      "memory usage: 564.8+ KB\n"
     ]
    }
   ],
   "source": [
    "data_riders.info()"
   ]
  },
  {
   "cell_type": "code",
   "execution_count": 7,
   "id": "3e1ae146",
   "metadata": {},
   "outputs": [
    {
     "data": {
      "text/html": [
       "<div>\n",
       "<style scoped>\n",
       "    .dataframe tbody tr th:only-of-type {\n",
       "        vertical-align: middle;\n",
       "    }\n",
       "\n",
       "    .dataframe tbody tr th {\n",
       "        vertical-align: top;\n",
       "    }\n",
       "\n",
       "    .dataframe thead th {\n",
       "        text-align: right;\n",
       "    }\n",
       "</style>\n",
       "<table border=\"1\" class=\"dataframe\">\n",
       "  <thead>\n",
       "    <tr style=\"text-align: right;\">\n",
       "      <th></th>\n",
       "      <th>user_id</th>\n",
       "      <th>distance</th>\n",
       "      <th>duration</th>\n",
       "      <th>date</th>\n",
       "    </tr>\n",
       "  </thead>\n",
       "  <tbody>\n",
       "    <tr>\n",
       "      <th>0</th>\n",
       "      <td>1</td>\n",
       "      <td>4409.919140</td>\n",
       "      <td>25.599769</td>\n",
       "      <td>2021-01-01</td>\n",
       "    </tr>\n",
       "    <tr>\n",
       "      <th>1</th>\n",
       "      <td>1</td>\n",
       "      <td>2617.592153</td>\n",
       "      <td>15.816871</td>\n",
       "      <td>2021-01-18</td>\n",
       "    </tr>\n",
       "    <tr>\n",
       "      <th>2</th>\n",
       "      <td>1</td>\n",
       "      <td>754.159807</td>\n",
       "      <td>6.232113</td>\n",
       "      <td>2021-04-20</td>\n",
       "    </tr>\n",
       "    <tr>\n",
       "      <th>3</th>\n",
       "      <td>1</td>\n",
       "      <td>2694.783254</td>\n",
       "      <td>18.511000</td>\n",
       "      <td>2021-08-11</td>\n",
       "    </tr>\n",
       "    <tr>\n",
       "      <th>4</th>\n",
       "      <td>1</td>\n",
       "      <td>4028.687306</td>\n",
       "      <td>26.265803</td>\n",
       "      <td>2021-08-28</td>\n",
       "    </tr>\n",
       "    <tr>\n",
       "      <th>5</th>\n",
       "      <td>1</td>\n",
       "      <td>2770.890808</td>\n",
       "      <td>16.650138</td>\n",
       "      <td>2021-10-09</td>\n",
       "    </tr>\n",
       "    <tr>\n",
       "      <th>6</th>\n",
       "      <td>1</td>\n",
       "      <td>3039.020292</td>\n",
       "      <td>14.927879</td>\n",
       "      <td>2021-10-19</td>\n",
       "    </tr>\n",
       "    <tr>\n",
       "      <th>7</th>\n",
       "      <td>1</td>\n",
       "      <td>2842.118050</td>\n",
       "      <td>23.117468</td>\n",
       "      <td>2021-11-06</td>\n",
       "    </tr>\n",
       "    <tr>\n",
       "      <th>8</th>\n",
       "      <td>1</td>\n",
       "      <td>3412.690668</td>\n",
       "      <td>15.238072</td>\n",
       "      <td>2021-11-14</td>\n",
       "    </tr>\n",
       "    <tr>\n",
       "      <th>9</th>\n",
       "      <td>1</td>\n",
       "      <td>748.690645</td>\n",
       "      <td>15.041884</td>\n",
       "      <td>2021-11-22</td>\n",
       "    </tr>\n",
       "  </tbody>\n",
       "</table>\n",
       "</div>"
      ],
      "text/plain": [
       "   user_id     distance   duration        date\n",
       "0        1  4409.919140  25.599769  2021-01-01\n",
       "1        1  2617.592153  15.816871  2021-01-18\n",
       "2        1   754.159807   6.232113  2021-04-20\n",
       "3        1  2694.783254  18.511000  2021-08-11\n",
       "4        1  4028.687306  26.265803  2021-08-28\n",
       "5        1  2770.890808  16.650138  2021-10-09\n",
       "6        1  3039.020292  14.927879  2021-10-19\n",
       "7        1  2842.118050  23.117468  2021-11-06\n",
       "8        1  3412.690668  15.238072  2021-11-14\n",
       "9        1   748.690645  15.041884  2021-11-22"
      ]
     },
     "execution_count": 7,
     "metadata": {},
     "output_type": "execute_result"
    }
   ],
   "source": [
    "data_riders.head(10)"
   ]
  },
  {
   "cell_type": "markdown",
   "id": "65fafc0f",
   "metadata": {},
   "source": [
    "В таблице с поездками хранятся данные о длительности поездки, дистанции, дате совершения поездки и id пользователя."
   ]
  },
  {
   "cell_type": "markdown",
   "id": "0045507b",
   "metadata": {},
   "source": [
    "##### Таблица с подписками"
   ]
  },
  {
   "cell_type": "code",
   "execution_count": 8,
   "id": "b1345672",
   "metadata": {},
   "outputs": [],
   "source": [
    "try:\n",
    "    data_sub = pd.read_csv('/datasets/subscriptions_go.csv')\n",
    "except:\n",
    "    data_sub = pd.read_csv('https://code.s3.yandex.net/datasets/subscriptions_go.csv')"
   ]
  },
  {
   "cell_type": "code",
   "execution_count": 9,
   "id": "fde55b83",
   "metadata": {},
   "outputs": [
    {
     "name": "stdout",
     "output_type": "stream",
     "text": [
      "<class 'pandas.core.frame.DataFrame'>\n",
      "RangeIndex: 2 entries, 0 to 1\n",
      "Data columns (total 4 columns):\n",
      " #   Column             Non-Null Count  Dtype \n",
      "---  ------             --------------  ----- \n",
      " 0   subscription_type  2 non-null      object\n",
      " 1   minute_price       2 non-null      int64 \n",
      " 2   start_ride_price   2 non-null      int64 \n",
      " 3   subscription_fee   2 non-null      int64 \n",
      "dtypes: int64(3), object(1)\n",
      "memory usage: 192.0+ bytes\n"
     ]
    }
   ],
   "source": [
    "data_sub.info()"
   ]
  },
  {
   "cell_type": "code",
   "execution_count": 10,
   "id": "e46b5c11",
   "metadata": {},
   "outputs": [
    {
     "data": {
      "text/html": [
       "<div>\n",
       "<style scoped>\n",
       "    .dataframe tbody tr th:only-of-type {\n",
       "        vertical-align: middle;\n",
       "    }\n",
       "\n",
       "    .dataframe tbody tr th {\n",
       "        vertical-align: top;\n",
       "    }\n",
       "\n",
       "    .dataframe thead th {\n",
       "        text-align: right;\n",
       "    }\n",
       "</style>\n",
       "<table border=\"1\" class=\"dataframe\">\n",
       "  <thead>\n",
       "    <tr style=\"text-align: right;\">\n",
       "      <th></th>\n",
       "      <th>subscription_type</th>\n",
       "      <th>minute_price</th>\n",
       "      <th>start_ride_price</th>\n",
       "      <th>subscription_fee</th>\n",
       "    </tr>\n",
       "  </thead>\n",
       "  <tbody>\n",
       "    <tr>\n",
       "      <th>0</th>\n",
       "      <td>free</td>\n",
       "      <td>8</td>\n",
       "      <td>50</td>\n",
       "      <td>0</td>\n",
       "    </tr>\n",
       "    <tr>\n",
       "      <th>1</th>\n",
       "      <td>ultra</td>\n",
       "      <td>6</td>\n",
       "      <td>0</td>\n",
       "      <td>199</td>\n",
       "    </tr>\n",
       "  </tbody>\n",
       "</table>\n",
       "</div>"
      ],
      "text/plain": [
       "  subscription_type  minute_price  start_ride_price  subscription_fee\n",
       "0              free             8                50                 0\n",
       "1             ultra             6                 0               199"
      ]
     },
     "execution_count": 10,
     "metadata": {},
     "output_type": "execute_result"
    }
   ],
   "source": [
    "data_sub.head()"
   ]
  },
  {
   "cell_type": "markdown",
   "id": "1aae2878",
   "metadata": {},
   "source": [
    "В таблице с типами подписки хранится информация о стоимости одной минуты поездки, стоимости старта поездки и ежемесячного платежа. Изучив информацию о типах подписки, видим, что для пользователей с подпиской ultra нет платы за старт поездки и стоимость одной минуты дешевле. Ежемесячная стоимость такой подписки составляет 199 рублей. Пользователям без подписки за каждый старт поездки необходимо заплатить 50 рублей, а также стоимость одной минуты поездки на 2 рубля дороже."
   ]
  },
  {
   "cell_type": "markdown",
   "id": "e95ebca7",
   "metadata": {},
   "source": [
    "#### Шаг 2. Предобработка данных"
   ]
  },
  {
   "cell_type": "markdown",
   "id": "4894ffad",
   "metadata": {},
   "source": [
    "Поменяем тип данных там, где это возможно. И добавим столбец."
   ]
  },
  {
   "cell_type": "markdown",
   "id": "64c52854",
   "metadata": {},
   "source": [
    "Приведем столбец date к типу данных дат."
   ]
  },
  {
   "cell_type": "code",
   "execution_count": 11,
   "id": "af6d202c",
   "metadata": {},
   "outputs": [],
   "source": [
    "data_riders['date'] = pd.to_datetime(data_riders['date'], format = '%Y-%m-%d')"
   ]
  },
  {
   "cell_type": "code",
   "execution_count": 12,
   "id": "93362a34",
   "metadata": {},
   "outputs": [
    {
     "data": {
      "text/plain": [
       "0   2021-01-01\n",
       "1   2021-01-18\n",
       "2   2021-04-20\n",
       "3   2021-08-11\n",
       "4   2021-08-28\n",
       "5   2021-10-09\n",
       "6   2021-10-19\n",
       "7   2021-11-06\n",
       "8   2021-11-14\n",
       "9   2021-11-22\n",
       "Name: date, dtype: datetime64[ns]"
      ]
     },
     "execution_count": 12,
     "metadata": {},
     "output_type": "execute_result"
    }
   ],
   "source": [
    "data_riders['date'].head(10)"
   ]
  },
  {
   "cell_type": "code",
   "execution_count": 13,
   "id": "70662973",
   "metadata": {},
   "outputs": [
    {
     "name": "stderr",
     "output_type": "stream",
     "text": [
      "/tmp/ipykernel_152/4233802546.py:1: FutureWarning: Treating datetime data as categorical rather than numeric in `.describe` is deprecated and will be removed in a future version of pandas. Specify `datetime_is_numeric=True` to silence this warning and adopt the future behavior now.\n",
      "  data_riders['date'].describe()\n"
     ]
    },
    {
     "data": {
      "text/plain": [
       "count                   18068\n",
       "unique                    364\n",
       "top       2021-12-22 00:00:00\n",
       "freq                       72\n",
       "first     2021-01-01 00:00:00\n",
       "last      2021-12-30 00:00:00\n",
       "Name: date, dtype: object"
      ]
     },
     "execution_count": 13,
     "metadata": {},
     "output_type": "execute_result"
    }
   ],
   "source": [
    "data_riders['date'].describe()"
   ]
  },
  {
   "cell_type": "markdown",
   "id": "8ff7376c",
   "metadata": {},
   "source": [
    "Таблица с поездками содержит данные о поездах за 2021 год (с 01.01.2021 по 30.12.2021)"
   ]
  },
  {
   "cell_type": "markdown",
   "id": "97dbbe2f",
   "metadata": {},
   "source": [
    "На основе данных столбца дат создадим столбец с месяцем поездки."
   ]
  },
  {
   "cell_type": "code",
   "execution_count": 14,
   "id": "43134681",
   "metadata": {},
   "outputs": [
    {
     "data": {
      "text/plain": [
       "0     1\n",
       "1     1\n",
       "2     4\n",
       "3     8\n",
       "4     8\n",
       "5    10\n",
       "6    10\n",
       "7    11\n",
       "8    11\n",
       "9    11\n",
       "Name: month, dtype: int64"
      ]
     },
     "execution_count": 14,
     "metadata": {},
     "output_type": "execute_result"
    }
   ],
   "source": [
    "data_riders['month'] = data_riders['date'].dt.month\n",
    "\n",
    "data_riders['month'].head(10)"
   ]
  },
  {
   "cell_type": "markdown",
   "id": "be102392",
   "metadata": {},
   "source": [
    "Рассмотрим количество пропусков и дубликатов в таблицах."
   ]
  },
  {
   "cell_type": "code",
   "execution_count": 15,
   "id": "21cae369",
   "metadata": {},
   "outputs": [
    {
     "data": {
      "text/plain": [
       "user_id              0\n",
       "name                 0\n",
       "age                  0\n",
       "city                 0\n",
       "subscription_type    0\n",
       "dtype: int64"
      ]
     },
     "execution_count": 15,
     "metadata": {},
     "output_type": "execute_result"
    }
   ],
   "source": [
    "data_users.isna().sum()"
   ]
  },
  {
   "cell_type": "code",
   "execution_count": 16,
   "id": "ea61223d",
   "metadata": {},
   "outputs": [
    {
     "data": {
      "text/plain": [
       "user_id     0\n",
       "distance    0\n",
       "duration    0\n",
       "date        0\n",
       "month       0\n",
       "dtype: int64"
      ]
     },
     "execution_count": 16,
     "metadata": {},
     "output_type": "execute_result"
    }
   ],
   "source": [
    "data_riders.isna().sum()"
   ]
  },
  {
   "cell_type": "code",
   "execution_count": 17,
   "id": "323cd2bc",
   "metadata": {},
   "outputs": [
    {
     "data": {
      "text/plain": [
       "subscription_type    0\n",
       "minute_price         0\n",
       "start_ride_price     0\n",
       "subscription_fee     0\n",
       "dtype: int64"
      ]
     },
     "execution_count": 17,
     "metadata": {},
     "output_type": "execute_result"
    }
   ],
   "source": [
    "data_sub.isna().sum()"
   ]
  },
  {
   "cell_type": "code",
   "execution_count": 18,
   "id": "aa7ed0ac",
   "metadata": {},
   "outputs": [
    {
     "data": {
      "text/plain": [
       "31"
      ]
     },
     "execution_count": 18,
     "metadata": {},
     "output_type": "execute_result"
    }
   ],
   "source": [
    "data_users.duplicated().sum()"
   ]
  },
  {
   "cell_type": "code",
   "execution_count": 19,
   "id": "87a930d2",
   "metadata": {},
   "outputs": [
    {
     "data": {
      "text/plain": [
       "0"
      ]
     },
     "execution_count": 19,
     "metadata": {},
     "output_type": "execute_result"
    }
   ],
   "source": [
    "data_users.drop_duplicates(inplace=True)\n",
    "data_users.duplicated().sum()"
   ]
  },
  {
   "cell_type": "code",
   "execution_count": 20,
   "id": "dc6c2000",
   "metadata": {},
   "outputs": [
    {
     "data": {
      "text/plain": [
       "0"
      ]
     },
     "execution_count": 20,
     "metadata": {},
     "output_type": "execute_result"
    }
   ],
   "source": [
    "data_riders.duplicated().sum()"
   ]
  },
  {
   "cell_type": "markdown",
   "id": "a93d40ad",
   "metadata": {},
   "source": [
    "<b>Вывод</b>\n",
    "\n",
    "Провели предобработку данных. Столбец с датами привели к типу дат, а также выделили месяц поездки в отдельный столбцец.\n",
    "Изучили данные на наличие пропусков и дубликатов.\n",
    "В имеющихся таблицах с данными пропущенных значений не оказалось. А дубликаты из таблицы с пользователями были удалены."
   ]
  },
  {
   "cell_type": "markdown",
   "id": "212593c7",
   "metadata": {},
   "source": [
    "#### Шаг 3. Исследовательский анализ данных"
   ]
  },
  {
   "cell_type": "markdown",
   "id": "bb15b211",
   "metadata": {},
   "source": [
    "На данном этапе, подготовив данные, проведем исследовательский анализ данных и опишем общую информацию о пользователях и поездках."
   ]
  },
  {
   "cell_type": "markdown",
   "id": "19baed99",
   "metadata": {},
   "source": [
    "<b>Частота встречаемости городов</b>"
   ]
  },
  {
   "cell_type": "code",
   "execution_count": 21,
   "id": "57e21427",
   "metadata": {},
   "outputs": [
    {
     "data": {
      "text/plain": [
       "Пятигорск         219\n",
       "Екатеринбург      204\n",
       "Ростов-на-Дону    198\n",
       "Краснодар         193\n",
       "Сочи              189\n",
       "Омск              183\n",
       "Тюмень            180\n",
       "Москва            168\n",
       "Name: city, dtype: int64"
      ]
     },
     "execution_count": 21,
     "metadata": {},
     "output_type": "execute_result"
    }
   ],
   "source": [
    "count_users_by_city = data_users['city'].value_counts()\n",
    "count_users_by_city"
   ]
  },
  {
   "cell_type": "code",
   "execution_count": 22,
   "id": "ee33790e",
   "metadata": {},
   "outputs": [
    {
     "data": {
      "text/plain": [
       "Пятигорск         14.0\n",
       "Екатеринбург      13.0\n",
       "Ростов-на-Дону    13.0\n",
       "Краснодар         13.0\n",
       "Сочи              12.0\n",
       "Омск              12.0\n",
       "Тюмень            12.0\n",
       "Москва            11.0\n",
       "Name: city, dtype: float64"
      ]
     },
     "execution_count": 22,
     "metadata": {},
     "output_type": "execute_result"
    }
   ],
   "source": [
    "count_users_by_city['rate'] = round(data_users['city'].value_counts() / \n",
    "                                    count_users_by_city.sum(), 2) * 100\n",
    "count_users_by_city['rate']"
   ]
  },
  {
   "cell_type": "code",
   "execution_count": 23,
   "id": "d9251521",
   "metadata": {
    "scrolled": true
   },
   "outputs": [
    {
     "data": {
      "image/png": "[encoded data removed]",
      "text/plain": [
       "<Figure size 504x504 with 1 Axes>"
      ]
     },
     "metadata": {},
     "output_type": "display_data"
    }
   ],
   "source": [
    "data_users['city'].value_counts().plot(\n",
    "    kind = 'pie', \n",
    "    y = count_users_by_city,\n",
    "    autopct = '%1.0f%%',\n",
    "    figsize=(7,7), \n",
    "    title = 'Распределение пользователей по городам');"
   ]
  },
  {
   "cell_type": "markdown",
   "id": "01ebc421",
   "metadata": {},
   "source": [
    "Больше всего пользователей из городов: Пятигорск, Екатеринбруг и Ростов-на-Дону."
   ]
  },
  {
   "cell_type": "markdown",
   "id": "d0dbdb70",
   "metadata": {},
   "source": [
    "<b>Соотношение пользователей с подпиской и без подписки</b>"
   ]
  },
  {
   "cell_type": "code",
   "execution_count": 24,
   "id": "dcfce960",
   "metadata": {},
   "outputs": [
    {
     "data": {
      "text/plain": [
       "free     835\n",
       "ultra    699\n",
       "Name: subscription_type, dtype: int64"
      ]
     },
     "execution_count": 24,
     "metadata": {},
     "output_type": "execute_result"
    }
   ],
   "source": [
    "count_sub = data_users['subscription_type'].value_counts()\n",
    "count_sub"
   ]
  },
  {
   "cell_type": "code",
   "execution_count": 25,
   "id": "d4891ef4",
   "metadata": {},
   "outputs": [
    {
     "data": {
      "image/png": "[encoded data removed]",
      "text/plain": [
       "<Figure size 360x360 with 1 Axes>"
      ]
     },
     "metadata": {},
     "output_type": "display_data"
    }
   ],
   "source": [
    "data_users['subscription_type'].value_counts().plot(\n",
    "    kind = 'pie', \n",
    "    y = count_sub, \n",
    "    autopct = '%1.0f%%', \n",
    "    figsize=(5,5),\n",
    "    title = 'Процентное соотношение пользователей с подпиской и без');"
   ]
  },
  {
   "cell_type": "markdown",
   "id": "b61d4984",
   "metadata": {},
   "source": [
    "Подпиской пользуются 46% пользователей."
   ]
  },
  {
   "cell_type": "markdown",
   "id": "47542b6a",
   "metadata": {},
   "source": [
    "<b>Возраст пользователей</b>"
   ]
  },
  {
   "cell_type": "code",
   "execution_count": 26,
   "id": "d2ceeaba",
   "metadata": {},
   "outputs": [
    {
     "data": {
      "image/png": "[encoded data removed]",
      "text/plain": [
       "<Figure size 432x288 with 1 Axes>"
      ]
     },
     "metadata": {
      "needs_background": "light"
     },
     "output_type": "display_data"
    }
   ],
   "source": [
    "plt.hist(data_users['age'], bins = 10)\n",
    "plt.title('Возраст пользователей')\n",
    "plt.xlabel('Возраст')\n",
    "plt.ylabel('Количество пользователей')\n",
    "plt.grid()\n",
    "plt.show()"
   ]
  },
  {
   "cell_type": "code",
   "execution_count": 27,
   "id": "48e721b5",
   "metadata": {},
   "outputs": [
    {
     "data": {
      "text/plain": [
       "12"
      ]
     },
     "execution_count": 27,
     "metadata": {},
     "output_type": "execute_result"
    }
   ],
   "source": [
    "data_users['age'].sort_values().min()"
   ]
  },
  {
   "cell_type": "code",
   "execution_count": 28,
   "id": "02235f37",
   "metadata": {},
   "outputs": [
    {
     "data": {
      "text/plain": [
       "43"
      ]
     },
     "execution_count": 28,
     "metadata": {},
     "output_type": "execute_result"
    }
   ],
   "source": [
    "data_users['age'].sort_values().max()"
   ]
  },
  {
   "cell_type": "code",
   "execution_count": 29,
   "id": "d9e4f6c0",
   "metadata": {},
   "outputs": [
    {
     "data": {
      "text/plain": [
       "count    1534.000000\n",
       "mean       24.903520\n",
       "std         4.572367\n",
       "min        12.000000\n",
       "25%        22.000000\n",
       "50%        25.000000\n",
       "75%        28.000000\n",
       "max        43.000000\n",
       "Name: age, dtype: float64"
      ]
     },
     "execution_count": 29,
     "metadata": {},
     "output_type": "execute_result"
    }
   ],
   "source": [
    "data_users['age'].describe()"
   ]
  },
  {
   "cell_type": "markdown",
   "id": "f9689176",
   "metadata": {},
   "source": [
    "Возраст пользователей сервиса аренды самокатов составляет от 12 до 43 лет. Большая часть пользователей (75%) до 28 лет. Средний возраст пользоватлей 25 лет."
   ]
  },
  {
   "cell_type": "markdown",
   "id": "929f49a6",
   "metadata": {},
   "source": [
    "<b>Расстояние, которое пользователь преодолел за одну поездку</b>"
   ]
  },
  {
   "cell_type": "code",
   "execution_count": 30,
   "id": "1a67c87a",
   "metadata": {
    "scrolled": true
   },
   "outputs": [
    {
     "data": {
      "image/png": "[encoded data removed]",
      "text/plain": [
       "<Figure size 432x288 with 1 Axes>"
      ]
     },
     "metadata": {
      "needs_background": "light"
     },
     "output_type": "display_data"
    }
   ],
   "source": [
    "sns.boxplot(x=data_riders['distance'], color='blue')\n",
    "plt.title('Расстояние, преодоленное за одну поездку')\n",
    "plt.xlabel('Расстояние, м')\n",
    "_ = plt.xlim(0, 8000)"
   ]
  },
  {
   "cell_type": "code",
   "execution_count": 31,
   "id": "752259bf",
   "metadata": {},
   "outputs": [
    {
     "data": {
      "text/plain": [
       "0.86"
      ]
     },
     "execution_count": 31,
     "metadata": {},
     "output_type": "execute_result"
    }
   ],
   "source": [
    "round(data_riders['distance'].sort_values(), 2).min()"
   ]
  },
  {
   "cell_type": "code",
   "execution_count": 32,
   "id": "8d5aee83",
   "metadata": {},
   "outputs": [
    {
     "data": {
      "text/plain": [
       "7211.01"
      ]
     },
     "execution_count": 32,
     "metadata": {},
     "output_type": "execute_result"
    }
   ],
   "source": [
    "round(data_riders['distance'].sort_values(), 2).max()"
   ]
  },
  {
   "cell_type": "code",
   "execution_count": 33,
   "id": "f288bd5f",
   "metadata": {},
   "outputs": [
    {
     "data": {
      "text/plain": [
       "count    18068.000000\n",
       "mean      3070.659976\n",
       "std       1116.831209\n",
       "min          0.855683\n",
       "25%       2543.226360\n",
       "50%       3133.609994\n",
       "75%       3776.222735\n",
       "max       7211.007745\n",
       "Name: distance, dtype: float64"
      ]
     },
     "execution_count": 33,
     "metadata": {},
     "output_type": "execute_result"
    }
   ],
   "source": [
    "data_riders['distance'].describe()"
   ]
  },
  {
   "cell_type": "markdown",
   "id": "d9d298da",
   "metadata": {},
   "source": [
    "Дистанция одной поездки по данным таблицы составляет от 0,8 м до 7,2 км. В среднем пользователи проезжают 3 километра за одну поездку."
   ]
  },
  {
   "cell_type": "markdown",
   "id": "d947635b",
   "metadata": {},
   "source": [
    "<b>Продолжительность поездок</b>"
   ]
  },
  {
   "cell_type": "markdown",
   "id": "5cc357a0",
   "metadata": {},
   "source": [
    "sns.boxplot(x = data_riders['duration'], color='blue')\n",
    "plt.title('Время, проведенное в поездке')\n",
    "plt.xlabel('Время, минуты')\n",
    "_ = plt.xlim(0, 45)"
   ]
  },
  {
   "cell_type": "code",
   "execution_count": 34,
   "id": "55dd7d86",
   "metadata": {},
   "outputs": [
    {
     "data": {
      "text/plain": [
       "0.5"
      ]
     },
     "execution_count": 34,
     "metadata": {},
     "output_type": "execute_result"
    }
   ],
   "source": [
    "data_riders['duration'].sort_values().min()"
   ]
  },
  {
   "cell_type": "code",
   "execution_count": 35,
   "id": "f9d75bce",
   "metadata": {
    "scrolled": true
   },
   "outputs": [
    {
     "data": {
      "text/plain": [
       "40.82396261922424"
      ]
     },
     "execution_count": 35,
     "metadata": {},
     "output_type": "execute_result"
    }
   ],
   "source": [
    "data_riders['duration'].sort_values().max()"
   ]
  },
  {
   "cell_type": "code",
   "execution_count": 36,
   "id": "ba6471cd",
   "metadata": {},
   "outputs": [
    {
     "data": {
      "text/plain": [
       "count    18068.000000\n",
       "mean        17.805011\n",
       "std          6.091051\n",
       "min          0.500000\n",
       "25%         13.597563\n",
       "50%         17.678395\n",
       "75%         21.724800\n",
       "max         40.823963\n",
       "Name: duration, dtype: float64"
      ]
     },
     "execution_count": 36,
     "metadata": {},
     "output_type": "execute_result"
    }
   ],
   "source": [
    "data_riders['duration'].describe()"
   ]
  },
  {
   "cell_type": "markdown",
   "id": "a3635ba2",
   "metadata": {},
   "source": [
    "Длительность поездок составляет от 0,5 до 40 минут. В среднем одна поездка длится 17 минут."
   ]
  },
  {
   "cell_type": "markdown",
   "id": "260d90b6",
   "metadata": {},
   "source": [
    "Добавим столбец со скоростью поездки, чтобы дополнительно проанализировать данные на наличие аномальных значений"
   ]
  },
  {
   "cell_type": "code",
   "execution_count": 37,
   "id": "c12c7340",
   "metadata": {},
   "outputs": [],
   "source": [
    "data_riders['speed'] = data_riders['distance']/data_riders['duration']"
   ]
  },
  {
   "cell_type": "code",
   "execution_count": 38,
   "id": "cf6ccffb",
   "metadata": {},
   "outputs": [
    {
     "data": {
      "text/plain": [
       "count    18068.000000\n",
       "mean       229.754352\n",
       "std        735.936479\n",
       "min          0.085552\n",
       "25%        135.464046\n",
       "50%        170.852249\n",
       "75%        215.496668\n",
       "max      14422.015489\n",
       "Name: speed, dtype: float64"
      ]
     },
     "execution_count": 38,
     "metadata": {},
     "output_type": "execute_result"
    }
   ],
   "source": [
    "data_riders['speed'].describe()"
   ]
  },
  {
   "cell_type": "code",
   "execution_count": 39,
   "id": "60c49ae1",
   "metadata": {},
   "outputs": [
    {
     "data": {
      "image/png": "[encoded data removed]",
      "text/plain": [
       "<Figure size 432x288 with 1 Axes>"
      ]
     },
     "metadata": {
      "needs_background": "light"
     },
     "output_type": "display_data"
    }
   ],
   "source": [
    "sns.boxplot(x = data_riders['speed'], color='blue')\n",
    "plt.title('Скорость поездки')\n",
    "plt.xlabel('м/мин')\n",
    "_ = plt.xlim(0, 15000)"
   ]
  },
  {
   "cell_type": "code",
   "execution_count": 40,
   "id": "9e44dc96",
   "metadata": {},
   "outputs": [
    {
     "data": {
      "image/png": "[encoded data removed]",
      "text/plain": [
       "<Figure size 432x288 with 1 Axes>"
      ]
     },
     "metadata": {
      "needs_background": "light"
     },
     "output_type": "display_data"
    }
   ],
   "source": [
    "sns.boxplot(x = data_riders[data_riders['speed'] > 8000]['speed'], color='blue')\n",
    "plt.title('Скорость поездки')\n",
    "plt.xlabel('м/мин')\n",
    "_ = plt.xlim(2000, 15000)"
   ]
  },
  {
   "cell_type": "code",
   "execution_count": 41,
   "id": "4e790d6f",
   "metadata": {},
   "outputs": [
    {
     "data": {
      "text/plain": [
       "count       95.000000\n",
       "mean     10226.353097\n",
       "std       1316.508209\n",
       "min       8060.616017\n",
       "25%       9223.021640\n",
       "50%      10105.538822\n",
       "75%      10976.918198\n",
       "max      14422.015489\n",
       "Name: speed, dtype: float64"
      ]
     },
     "execution_count": 41,
     "metadata": {},
     "output_type": "execute_result"
    }
   ],
   "source": [
    "data_riders[data_riders['speed'] > 8000]['speed'].describe()"
   ]
  },
  {
   "cell_type": "code",
   "execution_count": 42,
   "id": "16317a0e",
   "metadata": {},
   "outputs": [
    {
     "data": {
      "text/html": [
       "<div>\n",
       "<style scoped>\n",
       "    .dataframe tbody tr th:only-of-type {\n",
       "        vertical-align: middle;\n",
       "    }\n",
       "\n",
       "    .dataframe tbody tr th {\n",
       "        vertical-align: top;\n",
       "    }\n",
       "\n",
       "    .dataframe thead th {\n",
       "        text-align: right;\n",
       "    }\n",
       "</style>\n",
       "<table border=\"1\" class=\"dataframe\">\n",
       "  <thead>\n",
       "    <tr style=\"text-align: right;\">\n",
       "      <th></th>\n",
       "      <th>user_id</th>\n",
       "      <th>distance</th>\n",
       "      <th>duration</th>\n",
       "      <th>month</th>\n",
       "      <th>speed</th>\n",
       "    </tr>\n",
       "  </thead>\n",
       "  <tbody>\n",
       "    <tr>\n",
       "      <th>count</th>\n",
       "      <td>95.000000</td>\n",
       "      <td>95.000000</td>\n",
       "      <td>95.0</td>\n",
       "      <td>95.000000</td>\n",
       "      <td>95.000000</td>\n",
       "    </tr>\n",
       "    <tr>\n",
       "      <th>mean</th>\n",
       "      <td>1092.210526</td>\n",
       "      <td>5113.176549</td>\n",
       "      <td>0.5</td>\n",
       "      <td>6.484211</td>\n",
       "      <td>10226.353097</td>\n",
       "    </tr>\n",
       "    <tr>\n",
       "      <th>std</th>\n",
       "      <td>244.028551</td>\n",
       "      <td>658.254104</td>\n",
       "      <td>0.0</td>\n",
       "      <td>3.709858</td>\n",
       "      <td>1316.508209</td>\n",
       "    </tr>\n",
       "    <tr>\n",
       "      <th>min</th>\n",
       "      <td>701.000000</td>\n",
       "      <td>4030.308008</td>\n",
       "      <td>0.5</td>\n",
       "      <td>1.000000</td>\n",
       "      <td>8060.616017</td>\n",
       "    </tr>\n",
       "    <tr>\n",
       "      <th>25%</th>\n",
       "      <td>901.000000</td>\n",
       "      <td>4611.510820</td>\n",
       "      <td>0.5</td>\n",
       "      <td>3.000000</td>\n",
       "      <td>9223.021640</td>\n",
       "    </tr>\n",
       "    <tr>\n",
       "      <th>50%</th>\n",
       "      <td>1069.000000</td>\n",
       "      <td>5052.769411</td>\n",
       "      <td>0.5</td>\n",
       "      <td>6.000000</td>\n",
       "      <td>10105.538822</td>\n",
       "    </tr>\n",
       "    <tr>\n",
       "      <th>75%</th>\n",
       "      <td>1310.500000</td>\n",
       "      <td>5488.459099</td>\n",
       "      <td>0.5</td>\n",
       "      <td>10.000000</td>\n",
       "      <td>10976.918198</td>\n",
       "    </tr>\n",
       "    <tr>\n",
       "      <th>max</th>\n",
       "      <td>1524.000000</td>\n",
       "      <td>7211.007745</td>\n",
       "      <td>0.5</td>\n",
       "      <td>12.000000</td>\n",
       "      <td>14422.015489</td>\n",
       "    </tr>\n",
       "  </tbody>\n",
       "</table>\n",
       "</div>"
      ],
      "text/plain": [
       "           user_id     distance  duration      month         speed\n",
       "count    95.000000    95.000000      95.0  95.000000     95.000000\n",
       "mean   1092.210526  5113.176549       0.5   6.484211  10226.353097\n",
       "std     244.028551   658.254104       0.0   3.709858   1316.508209\n",
       "min     701.000000  4030.308008       0.5   1.000000   8060.616017\n",
       "25%     901.000000  4611.510820       0.5   3.000000   9223.021640\n",
       "50%    1069.000000  5052.769411       0.5   6.000000  10105.538822\n",
       "75%    1310.500000  5488.459099       0.5  10.000000  10976.918198\n",
       "max    1524.000000  7211.007745       0.5  12.000000  14422.015489"
      ]
     },
     "execution_count": 42,
     "metadata": {},
     "output_type": "execute_result"
    }
   ],
   "source": [
    "data_riders[data_riders['speed'] > 8000].describe()"
   ]
  },
  {
   "cell_type": "markdown",
   "id": "369b65cf",
   "metadata": {},
   "source": [
    "Заметили аномальные значения в соотношении пройденной дистанции и времени поездки. 95 поездок, длительность которых составляла полминуты, в то время как пройденная дистанция от 4 до 7 км. Можем предположить что у нас ошибка в данных, т.к. всего таких значений 95, что является 0,5% от всей таблицы. Их не так много, поэтому не вижу смысла их удалять, считаю они не окажут сильное влияние на другие выводы."
   ]
  },
  {
   "cell_type": "code",
   "execution_count": 43,
   "id": "c500163d",
   "metadata": {},
   "outputs": [
    {
     "data": {
      "text/plain": [
       "95"
      ]
     },
     "execution_count": 43,
     "metadata": {},
     "output_type": "execute_result"
    }
   ],
   "source": [
    "data_riders[data_riders['duration']==0.5]['duration'].count()"
   ]
  },
  {
   "cell_type": "markdown",
   "id": "830d482e",
   "metadata": {},
   "source": [
    "Все поездки по полминуты это и есть поездки с аномальными выбросами."
   ]
  },
  {
   "cell_type": "markdown",
   "id": "66daa5fb",
   "metadata": {},
   "source": [
    "<b>Вывод</b>\n",
    "\n",
    "Проанализировав имеющиеся данные, можем сделать следующие выводы:\n",
    "\n",
    "<b><i>Частота встречаемости городов</i></b>\n",
    "\n",
    "Количество пользователей по городам распределено примерно одинаково, нет выдающихся значений. Всего в данных представлены пользователи из 8 городов. Лидером по количеству пользователей является Пятигорск - 219 пользователей. Меньше всего пользователей в Москве - 168. Связано это скорее всего с тем, что Пятигорск по размерам в несколько раз меньше Москвы, т.е. в Пятигорске удобнее брать самокат, чтобы куда-то добраться.\n",
    "\n",
    "<b><i>Соотношение пользователей с подпиской и без подписки</i></b>\n",
    "\n",
    "Пользователей, использующих бесплатную подписку больше - 835 человек, что является ~54% от общего числа пользователей. Платной подпиской пользуются 699 пользователей, что соответственно является ~46%.\n",
    "\n",
    "<b><i>Возраст пользователей</i></b>\n",
    "\n",
    "Сервисом пользуются люди от 12 до 43 лет.\n",
    "75% пользователей до 28 лет. Средний возраст пользователей - 25 лет.\n",
    "\n",
    "<b><i>Расстояние, которое пользователь преодолел за одну поездку</i></b>\n",
    "\n",
    "Самая короткая дистанция - 0.86 км\n",
    "Самая длинная - 7.2 км\n",
    "В основном пользователи проезжают от 2.5 км до 4 км.\n",
    "\n",
    "<b><i>Продолжительность поездок</i></b>\n",
    "\n",
    "Самые короткие поездки - по пол минуты. При этом изучив данные немного глубже, заметили, что в этих поездках аномально большие значения дистанций поездки. Всего таких поездок 95. Это составляет пол процента от всех поездок, что сильно не повлияет на последующие выводы, поэтому данные решили не удалять.\n",
    "Самая длинная поездка заняла 40 минут.\n",
    "В основном же длительность поездки состовляет 13 - 22 минут."
   ]
  },
  {
   "cell_type": "markdown",
   "id": "4ef51331",
   "metadata": {},
   "source": [
    "#### Шаг 4. Объединение данных"
   ]
  },
  {
   "cell_type": "markdown",
   "id": "3b2c741a",
   "metadata": {},
   "source": [
    "<b>Объединим данные о пользователях, поездках и подписках в один датафрейм.</b>"
   ]
  },
  {
   "cell_type": "code",
   "execution_count": 44,
   "id": "a98372e7",
   "metadata": {
    "scrolled": false
   },
   "outputs": [
    {
     "data": {
      "text/html": [
       "<div>\n",
       "<style scoped>\n",
       "    .dataframe tbody tr th:only-of-type {\n",
       "        vertical-align: middle;\n",
       "    }\n",
       "\n",
       "    .dataframe tbody tr th {\n",
       "        vertical-align: top;\n",
       "    }\n",
       "\n",
       "    .dataframe thead th {\n",
       "        text-align: right;\n",
       "    }\n",
       "</style>\n",
       "<table border=\"1\" class=\"dataframe\">\n",
       "  <thead>\n",
       "    <tr style=\"text-align: right;\">\n",
       "      <th></th>\n",
       "      <th>user_id</th>\n",
       "      <th>name</th>\n",
       "      <th>age</th>\n",
       "      <th>city</th>\n",
       "      <th>subscription_type</th>\n",
       "      <th>distance</th>\n",
       "      <th>duration</th>\n",
       "      <th>date</th>\n",
       "      <th>month</th>\n",
       "      <th>speed</th>\n",
       "      <th>minute_price</th>\n",
       "      <th>start_ride_price</th>\n",
       "      <th>subscription_fee</th>\n",
       "    </tr>\n",
       "  </thead>\n",
       "  <tbody>\n",
       "    <tr>\n",
       "      <th>0</th>\n",
       "      <td>1</td>\n",
       "      <td>Кира</td>\n",
       "      <td>22</td>\n",
       "      <td>Тюмень</td>\n",
       "      <td>ultra</td>\n",
       "      <td>4409.919140</td>\n",
       "      <td>25.599769</td>\n",
       "      <td>2021-01-01</td>\n",
       "      <td>1</td>\n",
       "      <td>172.264021</td>\n",
       "      <td>6</td>\n",
       "      <td>0</td>\n",
       "      <td>199</td>\n",
       "    </tr>\n",
       "    <tr>\n",
       "      <th>1</th>\n",
       "      <td>1</td>\n",
       "      <td>Кира</td>\n",
       "      <td>22</td>\n",
       "      <td>Тюмень</td>\n",
       "      <td>ultra</td>\n",
       "      <td>2617.592153</td>\n",
       "      <td>15.816871</td>\n",
       "      <td>2021-01-18</td>\n",
       "      <td>1</td>\n",
       "      <td>165.493673</td>\n",
       "      <td>6</td>\n",
       "      <td>0</td>\n",
       "      <td>199</td>\n",
       "    </tr>\n",
       "    <tr>\n",
       "      <th>2</th>\n",
       "      <td>1</td>\n",
       "      <td>Кира</td>\n",
       "      <td>22</td>\n",
       "      <td>Тюмень</td>\n",
       "      <td>ultra</td>\n",
       "      <td>754.159807</td>\n",
       "      <td>6.232113</td>\n",
       "      <td>2021-04-20</td>\n",
       "      <td>4</td>\n",
       "      <td>121.011887</td>\n",
       "      <td>6</td>\n",
       "      <td>0</td>\n",
       "      <td>199</td>\n",
       "    </tr>\n",
       "    <tr>\n",
       "      <th>3</th>\n",
       "      <td>1</td>\n",
       "      <td>Кира</td>\n",
       "      <td>22</td>\n",
       "      <td>Тюмень</td>\n",
       "      <td>ultra</td>\n",
       "      <td>2694.783254</td>\n",
       "      <td>18.511000</td>\n",
       "      <td>2021-08-11</td>\n",
       "      <td>8</td>\n",
       "      <td>145.577402</td>\n",
       "      <td>6</td>\n",
       "      <td>0</td>\n",
       "      <td>199</td>\n",
       "    </tr>\n",
       "    <tr>\n",
       "      <th>4</th>\n",
       "      <td>1</td>\n",
       "      <td>Кира</td>\n",
       "      <td>22</td>\n",
       "      <td>Тюмень</td>\n",
       "      <td>ultra</td>\n",
       "      <td>4028.687306</td>\n",
       "      <td>26.265803</td>\n",
       "      <td>2021-08-28</td>\n",
       "      <td>8</td>\n",
       "      <td>153.381465</td>\n",
       "      <td>6</td>\n",
       "      <td>0</td>\n",
       "      <td>199</td>\n",
       "    </tr>\n",
       "  </tbody>\n",
       "</table>\n",
       "</div>"
      ],
      "text/plain": [
       "   user_id  name  age    city subscription_type     distance   duration  \\\n",
       "0        1  Кира   22  Тюмень             ultra  4409.919140  25.599769   \n",
       "1        1  Кира   22  Тюмень             ultra  2617.592153  15.816871   \n",
       "2        1  Кира   22  Тюмень             ultra   754.159807   6.232113   \n",
       "3        1  Кира   22  Тюмень             ultra  2694.783254  18.511000   \n",
       "4        1  Кира   22  Тюмень             ultra  4028.687306  26.265803   \n",
       "\n",
       "        date  month       speed  minute_price  start_ride_price  \\\n",
       "0 2021-01-01      1  172.264021             6                 0   \n",
       "1 2021-01-18      1  165.493673             6                 0   \n",
       "2 2021-04-20      4  121.011887             6                 0   \n",
       "3 2021-08-11      8  145.577402             6                 0   \n",
       "4 2021-08-28      8  153.381465             6                 0   \n",
       "\n",
       "   subscription_fee  \n",
       "0               199  \n",
       "1               199  \n",
       "2               199  \n",
       "3               199  \n",
       "4               199  "
      ]
     },
     "execution_count": 44,
     "metadata": {},
     "output_type": "execute_result"
    }
   ],
   "source": [
    "full_data = data_users.merge(data_riders)\n",
    "full_data = full_data.merge(data_sub)\n",
    "full_data.head()"
   ]
  },
  {
   "cell_type": "code",
   "execution_count": 45,
   "id": "95d32efa",
   "metadata": {},
   "outputs": [
    {
     "name": "stdout",
     "output_type": "stream",
     "text": [
      "<class 'pandas.core.frame.DataFrame'>\n",
      "Int64Index: 18068 entries, 0 to 18067\n",
      "Data columns (total 13 columns):\n",
      " #   Column             Non-Null Count  Dtype         \n",
      "---  ------             --------------  -----         \n",
      " 0   user_id            18068 non-null  int64         \n",
      " 1   name               18068 non-null  object        \n",
      " 2   age                18068 non-null  int64         \n",
      " 3   city               18068 non-null  object        \n",
      " 4   subscription_type  18068 non-null  object        \n",
      " 5   distance           18068 non-null  float64       \n",
      " 6   duration           18068 non-null  float64       \n",
      " 7   date               18068 non-null  datetime64[ns]\n",
      " 8   month              18068 non-null  int64         \n",
      " 9   speed              18068 non-null  float64       \n",
      " 10  minute_price       18068 non-null  int64         \n",
      " 11  start_ride_price   18068 non-null  int64         \n",
      " 12  subscription_fee   18068 non-null  int64         \n",
      "dtypes: datetime64[ns](1), float64(3), int64(6), object(3)\n",
      "memory usage: 1.9+ MB\n"
     ]
    }
   ],
   "source": [
    "full_data.info()"
   ]
  },
  {
   "cell_type": "markdown",
   "id": "7d2ea31b",
   "metadata": {},
   "source": [
    "<b>Создадим два датафрейма с данными о пользователях без подписки и с подпиской</b>"
   ]
  },
  {
   "cell_type": "code",
   "execution_count": 46,
   "id": "c7799a45",
   "metadata": {},
   "outputs": [
    {
     "data": {
      "text/html": [
       "<div>\n",
       "<style scoped>\n",
       "    .dataframe tbody tr th:only-of-type {\n",
       "        vertical-align: middle;\n",
       "    }\n",
       "\n",
       "    .dataframe tbody tr th {\n",
       "        vertical-align: top;\n",
       "    }\n",
       "\n",
       "    .dataframe thead th {\n",
       "        text-align: right;\n",
       "    }\n",
       "</style>\n",
       "<table border=\"1\" class=\"dataframe\">\n",
       "  <thead>\n",
       "    <tr style=\"text-align: right;\">\n",
       "      <th></th>\n",
       "      <th>user_id</th>\n",
       "      <th>name</th>\n",
       "      <th>age</th>\n",
       "      <th>city</th>\n",
       "      <th>subscription_type</th>\n",
       "      <th>distance</th>\n",
       "      <th>duration</th>\n",
       "      <th>date</th>\n",
       "      <th>month</th>\n",
       "      <th>speed</th>\n",
       "      <th>minute_price</th>\n",
       "      <th>start_ride_price</th>\n",
       "      <th>subscription_fee</th>\n",
       "    </tr>\n",
       "  </thead>\n",
       "  <tbody>\n",
       "    <tr>\n",
       "      <th>6500</th>\n",
       "      <td>700</td>\n",
       "      <td>Айдар</td>\n",
       "      <td>22</td>\n",
       "      <td>Омск</td>\n",
       "      <td>free</td>\n",
       "      <td>2515.690719</td>\n",
       "      <td>14.944286</td>\n",
       "      <td>2021-01-02</td>\n",
       "      <td>1</td>\n",
       "      <td>168.337961</td>\n",
       "      <td>8</td>\n",
       "      <td>50</td>\n",
       "      <td>0</td>\n",
       "    </tr>\n",
       "    <tr>\n",
       "      <th>6501</th>\n",
       "      <td>700</td>\n",
       "      <td>Айдар</td>\n",
       "      <td>22</td>\n",
       "      <td>Омск</td>\n",
       "      <td>free</td>\n",
       "      <td>846.932642</td>\n",
       "      <td>16.234663</td>\n",
       "      <td>2021-02-01</td>\n",
       "      <td>2</td>\n",
       "      <td>52.168168</td>\n",
       "      <td>8</td>\n",
       "      <td>50</td>\n",
       "      <td>0</td>\n",
       "    </tr>\n",
       "    <tr>\n",
       "      <th>6502</th>\n",
       "      <td>700</td>\n",
       "      <td>Айдар</td>\n",
       "      <td>22</td>\n",
       "      <td>Омск</td>\n",
       "      <td>free</td>\n",
       "      <td>4004.434142</td>\n",
       "      <td>20.016628</td>\n",
       "      <td>2021-02-04</td>\n",
       "      <td>2</td>\n",
       "      <td>200.055381</td>\n",
       "      <td>8</td>\n",
       "      <td>50</td>\n",
       "      <td>0</td>\n",
       "    </tr>\n",
       "    <tr>\n",
       "      <th>6503</th>\n",
       "      <td>700</td>\n",
       "      <td>Айдар</td>\n",
       "      <td>22</td>\n",
       "      <td>Омск</td>\n",
       "      <td>free</td>\n",
       "      <td>1205.911290</td>\n",
       "      <td>9.782872</td>\n",
       "      <td>2021-02-10</td>\n",
       "      <td>2</td>\n",
       "      <td>123.267611</td>\n",
       "      <td>8</td>\n",
       "      <td>50</td>\n",
       "      <td>0</td>\n",
       "    </tr>\n",
       "    <tr>\n",
       "      <th>6504</th>\n",
       "      <td>700</td>\n",
       "      <td>Айдар</td>\n",
       "      <td>22</td>\n",
       "      <td>Омск</td>\n",
       "      <td>free</td>\n",
       "      <td>3047.379435</td>\n",
       "      <td>17.427673</td>\n",
       "      <td>2021-02-14</td>\n",
       "      <td>2</td>\n",
       "      <td>174.858655</td>\n",
       "      <td>8</td>\n",
       "      <td>50</td>\n",
       "      <td>0</td>\n",
       "    </tr>\n",
       "  </tbody>\n",
       "</table>\n",
       "</div>"
      ],
      "text/plain": [
       "      user_id   name  age  city subscription_type     distance   duration  \\\n",
       "6500      700  Айдар   22  Омск              free  2515.690719  14.944286   \n",
       "6501      700  Айдар   22  Омск              free   846.932642  16.234663   \n",
       "6502      700  Айдар   22  Омск              free  4004.434142  20.016628   \n",
       "6503      700  Айдар   22  Омск              free  1205.911290   9.782872   \n",
       "6504      700  Айдар   22  Омск              free  3047.379435  17.427673   \n",
       "\n",
       "           date  month       speed  minute_price  start_ride_price  \\\n",
       "6500 2021-01-02      1  168.337961             8                50   \n",
       "6501 2021-02-01      2   52.168168             8                50   \n",
       "6502 2021-02-04      2  200.055381             8                50   \n",
       "6503 2021-02-10      2  123.267611             8                50   \n",
       "6504 2021-02-14      2  174.858655             8                50   \n",
       "\n",
       "      subscription_fee  \n",
       "6500                 0  \n",
       "6501                 0  \n",
       "6502                 0  \n",
       "6503                 0  \n",
       "6504                 0  "
      ]
     },
     "execution_count": 46,
     "metadata": {},
     "output_type": "execute_result"
    }
   ],
   "source": [
    "free_sub = full_data.query(\"`subscription_type` == 'free'\")\n",
    "free_sub.head()"
   ]
  },
  {
   "cell_type": "code",
   "execution_count": 47,
   "id": "19294120",
   "metadata": {
    "scrolled": true
   },
   "outputs": [
    {
     "data": {
      "text/html": [
       "<div>\n",
       "<style scoped>\n",
       "    .dataframe tbody tr th:only-of-type {\n",
       "        vertical-align: middle;\n",
       "    }\n",
       "\n",
       "    .dataframe tbody tr th {\n",
       "        vertical-align: top;\n",
       "    }\n",
       "\n",
       "    .dataframe thead th {\n",
       "        text-align: right;\n",
       "    }\n",
       "</style>\n",
       "<table border=\"1\" class=\"dataframe\">\n",
       "  <thead>\n",
       "    <tr style=\"text-align: right;\">\n",
       "      <th></th>\n",
       "      <th>user_id</th>\n",
       "      <th>name</th>\n",
       "      <th>age</th>\n",
       "      <th>city</th>\n",
       "      <th>subscription_type</th>\n",
       "      <th>distance</th>\n",
       "      <th>duration</th>\n",
       "      <th>date</th>\n",
       "      <th>month</th>\n",
       "      <th>speed</th>\n",
       "      <th>minute_price</th>\n",
       "      <th>start_ride_price</th>\n",
       "      <th>subscription_fee</th>\n",
       "    </tr>\n",
       "  </thead>\n",
       "  <tbody>\n",
       "    <tr>\n",
       "      <th>0</th>\n",
       "      <td>1</td>\n",
       "      <td>Кира</td>\n",
       "      <td>22</td>\n",
       "      <td>Тюмень</td>\n",
       "      <td>ultra</td>\n",
       "      <td>4409.919140</td>\n",
       "      <td>25.599769</td>\n",
       "      <td>2021-01-01</td>\n",
       "      <td>1</td>\n",
       "      <td>172.264021</td>\n",
       "      <td>6</td>\n",
       "      <td>0</td>\n",
       "      <td>199</td>\n",
       "    </tr>\n",
       "    <tr>\n",
       "      <th>1</th>\n",
       "      <td>1</td>\n",
       "      <td>Кира</td>\n",
       "      <td>22</td>\n",
       "      <td>Тюмень</td>\n",
       "      <td>ultra</td>\n",
       "      <td>2617.592153</td>\n",
       "      <td>15.816871</td>\n",
       "      <td>2021-01-18</td>\n",
       "      <td>1</td>\n",
       "      <td>165.493673</td>\n",
       "      <td>6</td>\n",
       "      <td>0</td>\n",
       "      <td>199</td>\n",
       "    </tr>\n",
       "    <tr>\n",
       "      <th>2</th>\n",
       "      <td>1</td>\n",
       "      <td>Кира</td>\n",
       "      <td>22</td>\n",
       "      <td>Тюмень</td>\n",
       "      <td>ultra</td>\n",
       "      <td>754.159807</td>\n",
       "      <td>6.232113</td>\n",
       "      <td>2021-04-20</td>\n",
       "      <td>4</td>\n",
       "      <td>121.011887</td>\n",
       "      <td>6</td>\n",
       "      <td>0</td>\n",
       "      <td>199</td>\n",
       "    </tr>\n",
       "    <tr>\n",
       "      <th>3</th>\n",
       "      <td>1</td>\n",
       "      <td>Кира</td>\n",
       "      <td>22</td>\n",
       "      <td>Тюмень</td>\n",
       "      <td>ultra</td>\n",
       "      <td>2694.783254</td>\n",
       "      <td>18.511000</td>\n",
       "      <td>2021-08-11</td>\n",
       "      <td>8</td>\n",
       "      <td>145.577402</td>\n",
       "      <td>6</td>\n",
       "      <td>0</td>\n",
       "      <td>199</td>\n",
       "    </tr>\n",
       "    <tr>\n",
       "      <th>4</th>\n",
       "      <td>1</td>\n",
       "      <td>Кира</td>\n",
       "      <td>22</td>\n",
       "      <td>Тюмень</td>\n",
       "      <td>ultra</td>\n",
       "      <td>4028.687306</td>\n",
       "      <td>26.265803</td>\n",
       "      <td>2021-08-28</td>\n",
       "      <td>8</td>\n",
       "      <td>153.381465</td>\n",
       "      <td>6</td>\n",
       "      <td>0</td>\n",
       "      <td>199</td>\n",
       "    </tr>\n",
       "  </tbody>\n",
       "</table>\n",
       "</div>"
      ],
      "text/plain": [
       "   user_id  name  age    city subscription_type     distance   duration  \\\n",
       "0        1  Кира   22  Тюмень             ultra  4409.919140  25.599769   \n",
       "1        1  Кира   22  Тюмень             ultra  2617.592153  15.816871   \n",
       "2        1  Кира   22  Тюмень             ultra   754.159807   6.232113   \n",
       "3        1  Кира   22  Тюмень             ultra  2694.783254  18.511000   \n",
       "4        1  Кира   22  Тюмень             ultra  4028.687306  26.265803   \n",
       "\n",
       "        date  month       speed  minute_price  start_ride_price  \\\n",
       "0 2021-01-01      1  172.264021             6                 0   \n",
       "1 2021-01-18      1  165.493673             6                 0   \n",
       "2 2021-04-20      4  121.011887             6                 0   \n",
       "3 2021-08-11      8  145.577402             6                 0   \n",
       "4 2021-08-28      8  153.381465             6                 0   \n",
       "\n",
       "   subscription_fee  \n",
       "0               199  \n",
       "1               199  \n",
       "2               199  \n",
       "3               199  \n",
       "4               199  "
      ]
     },
     "execution_count": 47,
     "metadata": {},
     "output_type": "execute_result"
    }
   ],
   "source": [
    "ultra_sub = full_data.query(\"`subscription_type` == 'ultra'\")\n",
    "ultra_sub.head()"
   ]
  },
  {
   "cell_type": "markdown",
   "id": "bed44c09",
   "metadata": {},
   "source": [
    "<b>Визуализируем информацию о расстоянии на бесплатном и платном тарифах</b>"
   ]
  },
  {
   "cell_type": "code",
   "execution_count": 48,
   "id": "86cf23bf",
   "metadata": {},
   "outputs": [
    {
     "data": {
      "image/png": "[encoded data removed]",
      "text/plain": [
       "<Figure size 432x288 with 1 Axes>"
      ]
     },
     "metadata": {
      "needs_background": "light"
     },
     "output_type": "display_data"
    },
    {
     "data": {
      "text/plain": [
       "<Figure size 2880x2880 with 0 Axes>"
      ]
     },
     "metadata": {},
     "output_type": "display_data"
    }
   ],
   "source": [
    "plt.hist([free_sub['distance'], ultra_sub['distance']], bins=40, range = (0, 7000), label=['free_sub', 'ultra_sub'])\n",
    "plt.title('Расстояние, на разных тарифах')\n",
    "plt.xlabel('Расстояние, м')\n",
    "plt.ylabel('Количество поездок')\n",
    "plt.legend(loc='upper right')\n",
    "plt.figure(figsize=(40,40))\n",
    "plt.show()"
   ]
  },
  {
   "cell_type": "code",
   "execution_count": 49,
   "id": "740e90c0",
   "metadata": {},
   "outputs": [
    {
     "data": {
      "text/plain": [
       "count    11568.000000\n",
       "mean      3045.495282\n",
       "std       1246.173806\n",
       "min          0.855683\n",
       "25%       2366.562689\n",
       "50%       3114.648465\n",
       "75%       3905.697894\n",
       "max       7211.007745\n",
       "Name: distance, dtype: float64"
      ]
     },
     "execution_count": 49,
     "metadata": {},
     "output_type": "execute_result"
    }
   ],
   "source": [
    "free_sub['distance'].describe()"
   ]
  },
  {
   "cell_type": "code",
   "execution_count": 50,
   "id": "b67d0f99",
   "metadata": {},
   "outputs": [
    {
     "data": {
      "text/plain": [
       "count    6500.000000\n",
       "mean     3115.445388\n",
       "std       836.895330\n",
       "min       244.210438\n",
       "25%      2785.444017\n",
       "50%      3148.637229\n",
       "75%      3560.574425\n",
       "max      5699.769662\n",
       "Name: distance, dtype: float64"
      ]
     },
     "execution_count": 50,
     "metadata": {},
     "output_type": "execute_result"
    }
   ],
   "source": [
    "ultra_sub['distance'].describe()"
   ]
  },
  {
   "cell_type": "markdown",
   "id": "a0d06606",
   "metadata": {},
   "source": [
    "Пользователи с бесплатной подпиской совершают более длительные поздки, чем пользователи с платной подпиской. Поездок с бесплатной подпиской почти в два раза больше."
   ]
  },
  {
   "cell_type": "markdown",
   "id": "7cc9c021",
   "metadata": {},
   "source": [
    "<b>Визуализируем информацию о времени на бесплатном и платном тарифах</b>"
   ]
  },
  {
   "cell_type": "code",
   "execution_count": 51,
   "id": "faaebcfc",
   "metadata": {
    "scrolled": true
   },
   "outputs": [
    {
     "data": {
      "image/png": "[encoded data removed]",
      "text/plain": [
       "<Figure size 432x288 with 1 Axes>"
      ]
     },
     "metadata": {
      "needs_background": "light"
     },
     "output_type": "display_data"
    },
    {
     "data": {
      "text/plain": [
       "<Figure size 2880x2880 with 0 Axes>"
      ]
     },
     "metadata": {},
     "output_type": "display_data"
    }
   ],
   "source": [
    "plt.hist([free_sub['duration'], ultra_sub['duration']], bins=30, range = (0, 35), label=['free_sub', 'ultra_sub'])\n",
    "plt.title('Время, на разных тарифах')\n",
    "plt.xlabel('Время поездки, минуты')\n",
    "plt.ylabel('Количество поездок')\n",
    "plt.legend(loc='upper right')\n",
    "plt.figure(figsize=(40,40))\n",
    "plt.show()"
   ]
  },
  {
   "cell_type": "code",
   "execution_count": 52,
   "id": "1a31bc0e",
   "metadata": {},
   "outputs": [
    {
     "data": {
      "text/plain": [
       "count    11568.000000\n",
       "mean        17.390909\n",
       "std          6.326803\n",
       "min          0.500000\n",
       "25%         12.958437\n",
       "50%         17.326890\n",
       "75%         21.594071\n",
       "max         34.948498\n",
       "Name: duration, dtype: float64"
      ]
     },
     "execution_count": 52,
     "metadata": {},
     "output_type": "execute_result"
    }
   ],
   "source": [
    "free_sub['duration'].describe()"
   ]
  },
  {
   "cell_type": "code",
   "execution_count": 53,
   "id": "04e34074",
   "metadata": {},
   "outputs": [
    {
     "data": {
      "text/plain": [
       "count    6500.000000\n",
       "mean       18.541985\n",
       "std         5.572048\n",
       "min         3.760353\n",
       "25%        14.524654\n",
       "50%        18.178153\n",
       "75%        21.884129\n",
       "max        40.823963\n",
       "Name: duration, dtype: float64"
      ]
     },
     "execution_count": 53,
     "metadata": {},
     "output_type": "execute_result"
    }
   ],
   "source": [
    "ultra_sub['duration'].describe()"
   ]
  },
  {
   "cell_type": "markdown",
   "id": "7846e21d",
   "metadata": {},
   "source": [
    "<b>Вывод</b>\n",
    "\n",
    "Объединили данные о пользователях, поездках и тарифах в один датафрейм - <i>full_data</i>.\n",
    "\n",
    "Также были выделены два датафрейма на основе <i>full_data</i>:\n",
    "\n",
    "<i>free_sub</i> - Информация о пользователях с бесплатным тарифом\n",
    "\n",
    "<i>ultra_sub</i> - Информация о пользователях с платным тарифом\n",
    "\n",
    "Визуализирована информация о расстоянии и времени для каждого из тарифов.\n",
    "\n",
    "Для бесплатного тарифа время поездки составляет от 10 до 30 минут, и проезжают от 2 до 5 км, есть пользователи, которые проехали даже 6, 6.5 км.\n",
    "\n",
    "Платный тариф. В основном время укладывается в промежуток от 15 до 25 минут. Пик расстояния приходится на 3км.\n",
    "\n",
    "Таким образом, можно сделать вывод, что пользователи с бесплатным тарифом в целом совершают более долгие поездки, а также проезжают большее расстояние, чем пользователи на платном тарифе."
   ]
  },
  {
   "cell_type": "markdown",
   "id": "402d620f",
   "metadata": {},
   "source": [
    "#### Шаг 5. Подсчёт выручки"
   ]
  },
  {
   "cell_type": "markdown",
   "id": "d9523079",
   "metadata": {},
   "source": [
    "<b>Найдем суммарное расстояние, количество поeздок и суммарное время для каждого пользователя за каждый месяц. А так же добавим столбец с помесячной выручкой.</b>"
   ]
  },
  {
   "cell_type": "code",
   "execution_count": 54,
   "id": "7ea4421e",
   "metadata": {},
   "outputs": [],
   "source": [
    "full_data['duration'] = np.ceil(full_data['duration'])"
   ]
  },
  {
   "cell_type": "code",
   "execution_count": 55,
   "id": "9ef315ec",
   "metadata": {},
   "outputs": [
    {
     "data": {
      "text/html": [
       "<div>\n",
       "<style scoped>\n",
       "    .dataframe tbody tr th:only-of-type {\n",
       "        vertical-align: middle;\n",
       "    }\n",
       "\n",
       "    .dataframe tbody tr th {\n",
       "        vertical-align: top;\n",
       "    }\n",
       "\n",
       "    .dataframe thead th {\n",
       "        text-align: right;\n",
       "    }\n",
       "</style>\n",
       "<table border=\"1\" class=\"dataframe\">\n",
       "  <thead>\n",
       "    <tr style=\"text-align: right;\">\n",
       "      <th></th>\n",
       "      <th></th>\n",
       "      <th>distance</th>\n",
       "      <th>duration</th>\n",
       "      <th>minute_price</th>\n",
       "      <th>name</th>\n",
       "      <th>start_ride_price</th>\n",
       "      <th>subscription_fee</th>\n",
       "      <th>subscription_type</th>\n",
       "    </tr>\n",
       "    <tr>\n",
       "      <th>month</th>\n",
       "      <th>user_id</th>\n",
       "      <th></th>\n",
       "      <th></th>\n",
       "      <th></th>\n",
       "      <th></th>\n",
       "      <th></th>\n",
       "      <th></th>\n",
       "      <th></th>\n",
       "    </tr>\n",
       "  </thead>\n",
       "  <tbody>\n",
       "    <tr>\n",
       "      <th rowspan=\"5\" valign=\"top\">1</th>\n",
       "      <th>1</th>\n",
       "      <td>7027.511294</td>\n",
       "      <td>42.0</td>\n",
       "      <td>6</td>\n",
       "      <td>2</td>\n",
       "      <td>0</td>\n",
       "      <td>199</td>\n",
       "      <td>ultra</td>\n",
       "    </tr>\n",
       "    <tr>\n",
       "      <th>1061</th>\n",
       "      <td>12637.249630</td>\n",
       "      <td>43.0</td>\n",
       "      <td>8</td>\n",
       "      <td>3</td>\n",
       "      <td>50</td>\n",
       "      <td>0</td>\n",
       "      <td>free</td>\n",
       "    </tr>\n",
       "    <tr>\n",
       "      <th>1063</th>\n",
       "      <td>3276.362299</td>\n",
       "      <td>10.0</td>\n",
       "      <td>8</td>\n",
       "      <td>1</td>\n",
       "      <td>50</td>\n",
       "      <td>0</td>\n",
       "      <td>free</td>\n",
       "    </tr>\n",
       "    <tr>\n",
       "      <th>1064</th>\n",
       "      <td>5297.324649</td>\n",
       "      <td>15.0</td>\n",
       "      <td>8</td>\n",
       "      <td>1</td>\n",
       "      <td>50</td>\n",
       "      <td>0</td>\n",
       "      <td>free</td>\n",
       "    </tr>\n",
       "    <tr>\n",
       "      <th>1065</th>\n",
       "      <td>14547.099333</td>\n",
       "      <td>99.0</td>\n",
       "      <td>8</td>\n",
       "      <td>4</td>\n",
       "      <td>50</td>\n",
       "      <td>0</td>\n",
       "      <td>free</td>\n",
       "    </tr>\n",
       "  </tbody>\n",
       "</table>\n",
       "</div>"
      ],
      "text/plain": [
       "                   distance  duration  minute_price  name  start_ride_price  \\\n",
       "month user_id                                                                 \n",
       "1     1         7027.511294      42.0             6     2                 0   \n",
       "      1061     12637.249630      43.0             8     3                50   \n",
       "      1063      3276.362299      10.0             8     1                50   \n",
       "      1064      5297.324649      15.0             8     1                50   \n",
       "      1065     14547.099333      99.0             8     4                50   \n",
       "\n",
       "               subscription_fee subscription_type  \n",
       "month user_id                                      \n",
       "1     1                     199             ultra  \n",
       "      1061                    0              free  \n",
       "      1063                    0              free  \n",
       "      1064                    0              free  \n",
       "      1065                    0              free  "
      ]
     },
     "execution_count": 55,
     "metadata": {},
     "output_type": "execute_result"
    }
   ],
   "source": [
    "total_data = pd.pivot_table(full_data,\n",
    "                           index=['month', 'user_id'],\n",
    "                           values = ['distance', 'duration', 'name', 'subscription_type', 'minute_price', 'start_ride_price', 'subscription_fee'],\n",
    "                           aggfunc = {'distance': sum, \n",
    "                                      'duration' : sum, \n",
    "                                      'name' : len, \n",
    "                                      'subscription_type' : min,\n",
    "                                      'minute_price' : min,\n",
    "                                      'start_ride_price' : min,\n",
    "                                      'subscription_fee' : min})\n",
    "total_data.sort_values(by='month').head()"
   ]
  },
  {
   "cell_type": "code",
   "execution_count": 56,
   "id": "cfd55289",
   "metadata": {},
   "outputs": [
    {
     "data": {
      "text/html": [
       "<div>\n",
       "<style scoped>\n",
       "    .dataframe tbody tr th:only-of-type {\n",
       "        vertical-align: middle;\n",
       "    }\n",
       "\n",
       "    .dataframe tbody tr th {\n",
       "        vertical-align: top;\n",
       "    }\n",
       "\n",
       "    .dataframe thead th {\n",
       "        text-align: right;\n",
       "    }\n",
       "</style>\n",
       "<table border=\"1\" class=\"dataframe\">\n",
       "  <thead>\n",
       "    <tr style=\"text-align: right;\">\n",
       "      <th></th>\n",
       "      <th></th>\n",
       "      <th>distance</th>\n",
       "      <th>duration</th>\n",
       "      <th>minute_price</th>\n",
       "      <th>count_tips</th>\n",
       "      <th>start_ride_price</th>\n",
       "      <th>subscription_fee</th>\n",
       "      <th>subscription_type</th>\n",
       "    </tr>\n",
       "    <tr>\n",
       "      <th>month</th>\n",
       "      <th>user_id</th>\n",
       "      <th></th>\n",
       "      <th></th>\n",
       "      <th></th>\n",
       "      <th></th>\n",
       "      <th></th>\n",
       "      <th></th>\n",
       "      <th></th>\n",
       "    </tr>\n",
       "  </thead>\n",
       "  <tbody>\n",
       "    <tr>\n",
       "      <th rowspan=\"5\" valign=\"top\">1</th>\n",
       "      <th>1</th>\n",
       "      <td>7027.511294</td>\n",
       "      <td>42.0</td>\n",
       "      <td>6</td>\n",
       "      <td>2</td>\n",
       "      <td>0</td>\n",
       "      <td>199</td>\n",
       "      <td>ultra</td>\n",
       "    </tr>\n",
       "    <tr>\n",
       "      <th>1061</th>\n",
       "      <td>12637.249630</td>\n",
       "      <td>43.0</td>\n",
       "      <td>8</td>\n",
       "      <td>3</td>\n",
       "      <td>50</td>\n",
       "      <td>0</td>\n",
       "      <td>free</td>\n",
       "    </tr>\n",
       "    <tr>\n",
       "      <th>1063</th>\n",
       "      <td>3276.362299</td>\n",
       "      <td>10.0</td>\n",
       "      <td>8</td>\n",
       "      <td>1</td>\n",
       "      <td>50</td>\n",
       "      <td>0</td>\n",
       "      <td>free</td>\n",
       "    </tr>\n",
       "    <tr>\n",
       "      <th>1064</th>\n",
       "      <td>5297.324649</td>\n",
       "      <td>15.0</td>\n",
       "      <td>8</td>\n",
       "      <td>1</td>\n",
       "      <td>50</td>\n",
       "      <td>0</td>\n",
       "      <td>free</td>\n",
       "    </tr>\n",
       "    <tr>\n",
       "      <th>1065</th>\n",
       "      <td>14547.099333</td>\n",
       "      <td>99.0</td>\n",
       "      <td>8</td>\n",
       "      <td>4</td>\n",
       "      <td>50</td>\n",
       "      <td>0</td>\n",
       "      <td>free</td>\n",
       "    </tr>\n",
       "  </tbody>\n",
       "</table>\n",
       "</div>"
      ],
      "text/plain": [
       "                   distance  duration  minute_price  count_tips  \\\n",
       "month user_id                                                     \n",
       "1     1         7027.511294      42.0             6           2   \n",
       "      1061     12637.249630      43.0             8           3   \n",
       "      1063      3276.362299      10.0             8           1   \n",
       "      1064      5297.324649      15.0             8           1   \n",
       "      1065     14547.099333      99.0             8           4   \n",
       "\n",
       "               start_ride_price  subscription_fee subscription_type  \n",
       "month user_id                                                        \n",
       "1     1                       0               199             ultra  \n",
       "      1061                   50                 0              free  \n",
       "      1063                   50                 0              free  \n",
       "      1064                   50                 0              free  \n",
       "      1065                   50                 0              free  "
      ]
     },
     "execution_count": 56,
     "metadata": {},
     "output_type": "execute_result"
    }
   ],
   "source": [
    "total_data.rename(columns = {'name' : 'count_tips'}, inplace = True)\n",
    "total_data.sort_values(by='month').head()"
   ]
  },
  {
   "cell_type": "code",
   "execution_count": 57,
   "id": "4be3ca97",
   "metadata": {
    "scrolled": false
   },
   "outputs": [
    {
     "data": {
      "text/html": [
       "<div>\n",
       "<style scoped>\n",
       "    .dataframe tbody tr th:only-of-type {\n",
       "        vertical-align: middle;\n",
       "    }\n",
       "\n",
       "    .dataframe tbody tr th {\n",
       "        vertical-align: top;\n",
       "    }\n",
       "\n",
       "    .dataframe thead th {\n",
       "        text-align: right;\n",
       "    }\n",
       "</style>\n",
       "<table border=\"1\" class=\"dataframe\">\n",
       "  <thead>\n",
       "    <tr style=\"text-align: right;\">\n",
       "      <th></th>\n",
       "      <th></th>\n",
       "      <th>distance</th>\n",
       "      <th>duration</th>\n",
       "      <th>minute_price</th>\n",
       "      <th>count_tips</th>\n",
       "      <th>start_ride_price</th>\n",
       "      <th>subscription_fee</th>\n",
       "      <th>subscription_type</th>\n",
       "      <th>revenue_per_month</th>\n",
       "    </tr>\n",
       "    <tr>\n",
       "      <th>month</th>\n",
       "      <th>user_id</th>\n",
       "      <th></th>\n",
       "      <th></th>\n",
       "      <th></th>\n",
       "      <th></th>\n",
       "      <th></th>\n",
       "      <th></th>\n",
       "      <th></th>\n",
       "      <th></th>\n",
       "    </tr>\n",
       "  </thead>\n",
       "  <tbody>\n",
       "    <tr>\n",
       "      <th rowspan=\"5\" valign=\"top\">1</th>\n",
       "      <th>1</th>\n",
       "      <td>7027.511294</td>\n",
       "      <td>42.0</td>\n",
       "      <td>6</td>\n",
       "      <td>2</td>\n",
       "      <td>0</td>\n",
       "      <td>199</td>\n",
       "      <td>ultra</td>\n",
       "      <td>451.0</td>\n",
       "    </tr>\n",
       "    <tr>\n",
       "      <th>3</th>\n",
       "      <td>3061.777147</td>\n",
       "      <td>13.0</td>\n",
       "      <td>6</td>\n",
       "      <td>1</td>\n",
       "      <td>0</td>\n",
       "      <td>199</td>\n",
       "      <td>ultra</td>\n",
       "      <td>277.0</td>\n",
       "    </tr>\n",
       "    <tr>\n",
       "      <th>5</th>\n",
       "      <td>3914.646990</td>\n",
       "      <td>13.0</td>\n",
       "      <td>6</td>\n",
       "      <td>1</td>\n",
       "      <td>0</td>\n",
       "      <td>199</td>\n",
       "      <td>ultra</td>\n",
       "      <td>277.0</td>\n",
       "    </tr>\n",
       "    <tr>\n",
       "      <th>7</th>\n",
       "      <td>6478.080979</td>\n",
       "      <td>28.0</td>\n",
       "      <td>6</td>\n",
       "      <td>2</td>\n",
       "      <td>0</td>\n",
       "      <td>199</td>\n",
       "      <td>ultra</td>\n",
       "      <td>367.0</td>\n",
       "    </tr>\n",
       "    <tr>\n",
       "      <th>12</th>\n",
       "      <td>3577.151148</td>\n",
       "      <td>33.0</td>\n",
       "      <td>6</td>\n",
       "      <td>1</td>\n",
       "      <td>0</td>\n",
       "      <td>199</td>\n",
       "      <td>ultra</td>\n",
       "      <td>397.0</td>\n",
       "    </tr>\n",
       "  </tbody>\n",
       "</table>\n",
       "</div>"
      ],
      "text/plain": [
       "                  distance  duration  minute_price  count_tips  \\\n",
       "month user_id                                                    \n",
       "1     1        7027.511294      42.0             6           2   \n",
       "      3        3061.777147      13.0             6           1   \n",
       "      5        3914.646990      13.0             6           1   \n",
       "      7        6478.080979      28.0             6           2   \n",
       "      12       3577.151148      33.0             6           1   \n",
       "\n",
       "               start_ride_price  subscription_fee subscription_type  \\\n",
       "month user_id                                                         \n",
       "1     1                       0               199             ultra   \n",
       "      3                       0               199             ultra   \n",
       "      5                       0               199             ultra   \n",
       "      7                       0               199             ultra   \n",
       "      12                      0               199             ultra   \n",
       "\n",
       "               revenue_per_month  \n",
       "month user_id                     \n",
       "1     1                    451.0  \n",
       "      3                    277.0  \n",
       "      5                    277.0  \n",
       "      7                    367.0  \n",
       "      12                   397.0  "
      ]
     },
     "execution_count": 57,
     "metadata": {},
     "output_type": "execute_result"
    }
   ],
   "source": [
    "total_data['revenue_per_month'] = total_data['start_ride_price'] * total_data['count_tips'] + total_data['minute_price'] * total_data['duration'] + total_data['subscription_fee']\n",
    "total_data.head()"
   ]
  },
  {
   "cell_type": "markdown",
   "id": "df013e94",
   "metadata": {},
   "source": [
    "<b>Вывод</b>\n",
    "\n",
    "На основе датафрема создали сводную таблицу с агрегированными данными суммарного расстояния, количества поездок, времени и типом подписки по каждому пользователю в разрезе месяца. И добавили столбец с ежемесячной выручкой, принесенной каждым пользователем."
   ]
  },
  {
   "cell_type": "markdown",
   "id": "41545ac0",
   "metadata": {},
   "source": [
    "#### Шаг 6. Проверка гипотез"
   ]
  },
  {
   "cell_type": "markdown",
   "id": "a30f639a",
   "metadata": {},
   "source": [
    "##### 6.1\n",
    "\n",
    "Проверим гипотезу: <b>Пользователи с подпиской тратят больше времени на поездки, чем пользователи на бесплатном тарифе</b>.\n",
    "\n",
    "H_0: Время (<i>duration</i>) пользователей на подписке <i>ultra</i> = время (<i>duration</i>) пользователей на подписке <b>free</b>\n",
    "\n",
    "H_1: Время (<i>duration</i>) пользователей на подписке <i>ultra</i> > время (<i>duration</i>) пользователей на подписке <b>free</b>\n",
    "\n",
    "alpha = 0.05"
   ]
  },
  {
   "cell_type": "code",
   "execution_count": 58,
   "id": "62a49608",
   "metadata": {},
   "outputs": [
    {
     "name": "stdout",
     "output_type": "stream",
     "text": [
      "1.2804098316645618e-34\n",
      "Отвергаем нулевую гипотезу\n"
     ]
    }
   ],
   "source": [
    "ultra = ultra_sub['duration'] \n",
    "\n",
    "free = free_sub['duration']\n",
    "\n",
    "results = st.ttest_ind(ultra, \n",
    "                       free,\n",
    "                       alternative = 'greater')\n",
    "\n",
    "alpha = 0.05\n",
    "\n",
    "print(results.pvalue)\n",
    "\n",
    "if results.pvalue < alpha:\n",
    "    print('Отвергаем нулевую гипотезу')\n",
    "else:\n",
    "    print('Не удалось отвергнуть нулевую гипотезу')"
   ]
  },
  {
   "cell_type": "code",
   "execution_count": 59,
   "id": "19c0a0f6",
   "metadata": {},
   "outputs": [
    {
     "data": {
      "image/png": "[encoded data removed]",
      "text/plain": [
       "<Figure size 432x288 with 1 Axes>"
      ]
     },
     "metadata": {
      "needs_background": "light"
     },
     "output_type": "display_data"
    }
   ],
   "source": [
    "ax = sns.barplot(x = 'month',\n",
    "            y = 'duration',\n",
    "            hue = \"subscription_type\",\n",
    "            data = full_data,\n",
    "            palette = ['green', 'blue'])\n",
    "ax.set_title('Распределение продолжительности поездок по видам подписок и месяцам')\n",
    "ax.set(xlabel='Номер месяца', ylabel='Продолжительность поездок');"
   ]
  },
  {
   "cell_type": "markdown",
   "id": "664dfff8",
   "metadata": {},
   "source": [
    "<b>Вывод</b>\n",
    "\n",
    "Отвергли гипотезу о том, что время поездки пользователей на тарифе <b>ultra</b> равно времени поездки пользователей на тарифе <b>free</b>. По графику также заметно, что в среднем пользователи с подпиской трятят в месяц больше времни на поездки."
   ]
  },
  {
   "cell_type": "markdown",
   "id": "cc227e77",
   "metadata": {},
   "source": [
    "##### 6.2\n",
    "\n",
    "Проверим гипотезу: <b>пользователи с подпиской проезжают расстояние, не превышающее 3130 метров за одну поездку.</b>\n",
    "\n",
    "H_0: Расстояние (<i>distance</i>) пользователей на подписке <i>ultra</i> = 3130 метров\n",
    "\n",
    "H_1: Расстояние (<i>distance</i>) пользователей на подписке <i>ultra</i> > 3130 метров\n",
    "\n",
    "alpha = 0.05"
   ]
  },
  {
   "cell_type": "code",
   "execution_count": 60,
   "id": "a0f2498f",
   "metadata": {
    "scrolled": false
   },
   "outputs": [
    {
     "name": "stdout",
     "output_type": "stream",
     "text": [
      "0.9195368847849785\n",
      "Не удалось отвергнуть нулевую гипотезу\n"
     ]
    }
   ],
   "source": [
    "ultra_dist = ultra_sub['distance']\n",
    "\n",
    "interested_value = 3130.0\n",
    "\n",
    "alpha = .05\n",
    "\n",
    "results = st.ttest_1samp(\n",
    "    ultra_dist, \n",
    "    interested_value,\n",
    "    alternative='greater')\n",
    "    \n",
    "print(results.pvalue)\n",
    "\n",
    "if (results.pvalue < alpha):\n",
    "    print('Отвергаем нулевую гипотезу')\n",
    "else:\n",
    "    print('Не удалось отвергнуть нулевую гипотезу')"
   ]
  },
  {
   "cell_type": "markdown",
   "id": "29ba5623",
   "metadata": {},
   "source": [
    "<b>Вывод</b>\n",
    "\n",
    "Мы принимаем нулевую гипотезу о том что среднее расстояние, которое проехали пользователи на тарифе <b>ultra</b> не превышает 3130 метров. Что является оптимальным с точки зрения износа самоката."
   ]
  },
  {
   "cell_type": "markdown",
   "id": "af5e82f0",
   "metadata": {},
   "source": [
    "##### 6.3\n",
    "\n",
    "Проверим гипотезу: <b>помесячная выручка от пользователей с подпиской выше, чем выручка от пользователей без подписки</b>\n",
    "\n",
    "H_0: Выручка (<i>revenue_per_month</i>) пользователей на подписке <i>ultra</i> = выручка (<i>revenue_per_month</i>) пользователей на подписке <b>free</b>\n",
    "\n",
    "H_1: Выручка (<i>revenue_per_month</i>) пользователей на подписке <i>ultra</i> > выручка (<i>revenue_per_month</i>) пользователей на подписке <b>free</b>\n",
    "\n",
    "alpha = 0.05"
   ]
  },
  {
   "cell_type": "code",
   "execution_count": 61,
   "id": "0daf3810",
   "metadata": {},
   "outputs": [
    {
     "name": "stdout",
     "output_type": "stream",
     "text": [
      "1.8850394384715216e-31\n",
      "Отвергаем нулевую гипотезу\n"
     ]
    }
   ],
   "source": [
    "ultra_per_mnth = total_data.loc[total_data.subscription_type == 'ultra', 'revenue_per_month'] \n",
    "\n",
    "free_per_mnth = total_data.loc[total_data.subscription_type == 'free', 'revenue_per_month'] \n",
    "\n",
    "\n",
    "results = st.ttest_ind(ultra_per_mnth, \n",
    "                       free_per_mnth,\n",
    "                       alternative = 'greater')\n",
    "\n",
    "alpha = .05\n",
    "\n",
    "print(results.pvalue)\n",
    "\n",
    "if results.pvalue < alpha:\n",
    "    print('Отвергаем нулевую гипотезу')\n",
    "else:\n",
    "    print('Не удалось отвергнуть нулевую гипотезу')"
   ]
  },
  {
   "cell_type": "markdown",
   "id": "3b2963d2",
   "metadata": {},
   "source": [
    "<b>Вывод</b>\n",
    "\n",
    "Проверив гипотезу, можем утверждать, что выручка с пользователей на подписке <b>ultra</b> превышает выручку с пользователей на подписке <b>free</b>."
   ]
  },
  {
   "cell_type": "markdown",
   "id": "a1263da7",
   "metadata": {},
   "source": [
    "##### 6.4\n",
    "\n",
    "Представьте такую ситуацию: техническая команда сервиса обновила сервера, с которыми взаимодействует мобильное приложение. Она надеется, что из-за этого количество обращений в техподдержку значимо снизилось. Некоторый файл содержит для каждого пользователя данные о количестве обращений до обновления и после него. Какой тест вам понадобился бы для проверки этой гипотезы?\n",
    "\n",
    "Ответ:\n",
    "\n",
    "Будем использовать гипотезу о равенстве средних для зависимых (парных) выборок.\n",
    "\n",
    "Гипотезы будут сформулированы так:\n",
    "\n",
    "H0 : μ1 = μ2\n",
    "\n",
    "H1 : μ1 > μ2\n",
    "\n",
    "где μ1 и μ2 - средние значения количество обращений в техподдержку до и после изменения.\n",
    "\n",
    "Метод, который нужно использовать при сравнении: scipy.stats.ttest_rel()"
   ]
  },
  {
   "cell_type": "markdown",
   "id": "61213c5e",
   "metadata": {},
   "source": [
    "# Общий вывод"
   ]
  },
  {
   "cell_type": "markdown",
   "id": "4642784c",
   "metadata": {},
   "source": [
    "Для данного проекта было использовано 3 датафрейма: с пользователями, информацией о поездках, информацией о подписках.\n",
    "\n",
    "После подключения к данным провели их предобработку, изучили общую информацию об имеющихся данных. Проверили данные на пропуски, их не оказалось ни в одной таблице. Поменяли тип данных у столбца <i>date</i> из датафрейма <i>data_riders</i> к типу даты. Также добавили столбец <i>month</i> с номером месяца. Удалили дубликаты строк из данных с пользователями.\n",
    "\n",
    "<b>Провели исследовательский анализ данных:</b>\n",
    "\n",
    "Вывели, что количество пользователей по городам распределено примерно одинаково, нет выдающихся значений. Пользователи сервиса представлены в 8 городах.  Лидером по количеству пользователей является Пятигорск - 219 пользователей. Меньше всего пользователей в Москве - 168.\n",
    "\n",
    "Пользователей, использующих бесплатную подписку больше - 835 человек, 54% от общего числа пользователей. Платной подпиской пользуется 699 пользователей, что составляет 46%.\n",
    "\n",
    "Возраст пользователей сервиса от 12 до 43 лет.\n",
    "\n",
    "В среднем длительность поездки составляет 17 минут. \n",
    "Среднее расстояние, которое проезжают поользователи - 3 км.\n",
    "\n",
    "Добавили столбец со скоростью, чтобы проверить данные на наличие аномальных значений. Заметили, что есть поездки, в которых время составляет пол минуты, при том, что дистанция поездки - несколько километров. Таких поездок оказалось 95, что составляет 0,5% от всех данных.\n",
    "\n",
    "Объединили данные о пользователях, поездках и подписках в один датафрейм. И на его основе создали два датафрема в разрезе типов подписки.\n",
    "\n",
    "Затем визуализировали информацию о расстоянии и времени поездки для пользоватей каждого тарифа.\n",
    "\n",
    "Для бесплатного тарифа время поездки составляет от 10 до 30 минут, и проезжают от 2 до 5 км, есть пользователи, которые проехали до 7 км.\n",
    "\n",
    "Платный тариф. В основном время составляет от 15 до 25 минут. Пик расстояния приходится на 3км, максимально расстояние 5,6 км\n",
    "\n",
    "Нашли суммарное расстояние, количество поездок и суммарное время для каждого пользователя за каждый месяц - вывели все данные в отдельный датафрейм <i>total_data</i>. Добавили в датафрейм <i>total_data</i> столбец с помесячной выручкой от каждого пользователя<i>revenue_per_month</i>.\n",
    "\n",
    "<b>Проверили гипотезы:</b>\n",
    "\n",
    "Отвергли гипотезу о том, что время поездки пользователей на платном тарифе равно времени поездки пользователей на тарифе бесплатном.\n",
    "\n",
    "Приняли нулевую гипотезу о том, что среднее расстояние, которое проехали пользователи на платном тарифе не превышает 3130 метров. Что является оптимальным с точки зрения износа самоката.\n",
    "\n",
    "Приняли гипотезу, что помесячная выручка от пользователей с подпиской выше, чем выручка от пользователей без подписки. Для компании более выгодными считаются клиенты с подпиской.\n",
    "\n",
    "Сформировали гипотезы и опредили какой метод сравнения использовать для их проверки. "
   ]
  }
 ],
 "metadata": {
  "ExecuteTimeLog": [
   {
    "duration": 1431,
    "start_time": "2024-04-03T21:19:20.037Z"
   },
   {
    "duration": 109,
    "start_time": "2024-04-03T21:19:45.840Z"
   },
   {
    "duration": 12,
    "start_time": "2024-04-03T21:19:56.791Z"
   },
   {
    "duration": 12,
    "start_time": "2024-04-03T21:22:13.823Z"
   },
   {
    "duration": 174,
    "start_time": "2024-04-03T21:22:38.152Z"
   },
   {
    "duration": 11,
    "start_time": "2024-04-03T21:24:08.817Z"
   },
   {
    "duration": 10,
    "start_time": "2024-04-03T21:24:25.824Z"
   },
   {
    "duration": 82,
    "start_time": "2024-04-03T21:24:52.072Z"
   },
   {
    "duration": 10,
    "start_time": "2024-04-03T21:25:00.082Z"
   },
   {
    "duration": 7,
    "start_time": "2024-04-03T21:25:12.084Z"
   },
   {
    "duration": 8,
    "start_time": "2024-04-03T21:30:05.586Z"
   },
   {
    "duration": 6,
    "start_time": "2024-04-03T21:30:18.954Z"
   },
   {
    "duration": 8,
    "start_time": "2024-04-03T21:31:02.137Z"
   },
   {
    "duration": 6,
    "start_time": "2024-04-03T21:32:47.043Z"
   },
   {
    "duration": 7,
    "start_time": "2024-04-03T21:32:55.233Z"
   },
   {
    "duration": 5,
    "start_time": "2024-04-03T21:33:04.452Z"
   },
   {
    "duration": 6,
    "start_time": "2024-04-03T21:33:18.592Z"
   },
   {
    "duration": 6,
    "start_time": "2024-04-03T21:33:30.690Z"
   },
   {
    "duration": 8,
    "start_time": "2024-04-03T21:34:27.695Z"
   },
   {
    "duration": 8,
    "start_time": "2024-04-03T21:34:33.561Z"
   },
   {
    "duration": 5,
    "start_time": "2024-04-03T21:36:36.997Z"
   },
   {
    "duration": 10,
    "start_time": "2024-04-03T21:37:49.466Z"
   },
   {
    "duration": 161,
    "start_time": "2024-04-03T21:37:51.912Z"
   },
   {
    "duration": 6,
    "start_time": "2024-04-03T21:39:04.063Z"
   },
   {
    "duration": 92,
    "start_time": "2024-04-03T21:39:17.036Z"
   },
   {
    "duration": 83,
    "start_time": "2024-04-03T21:39:33.634Z"
   },
   {
    "duration": 154,
    "start_time": "2024-04-03T21:40:52.532Z"
   },
   {
    "duration": 5,
    "start_time": "2024-04-03T21:41:34.346Z"
   },
   {
    "duration": 5,
    "start_time": "2024-04-03T21:41:44.084Z"
   },
   {
    "duration": 106,
    "start_time": "2024-04-03T21:42:45.838Z"
   },
   {
    "duration": 7,
    "start_time": "2024-04-03T21:43:30.282Z"
   },
   {
    "duration": 8,
    "start_time": "2024-04-03T21:43:33.836Z"
   },
   {
    "duration": 6,
    "start_time": "2024-04-03T21:44:05.343Z"
   },
   {
    "duration": 6,
    "start_time": "2024-04-03T21:44:06.482Z"
   },
   {
    "duration": 103,
    "start_time": "2024-04-03T21:45:18.172Z"
   },
   {
    "duration": 7,
    "start_time": "2024-04-03T21:46:22.512Z"
   },
   {
    "duration": 7,
    "start_time": "2024-04-03T21:46:25.198Z"
   },
   {
    "duration": 1266,
    "start_time": "2024-04-03T21:50:29.804Z"
   },
   {
    "duration": 30,
    "start_time": "2024-04-03T21:50:31.072Z"
   },
   {
    "duration": 157,
    "start_time": "2024-04-03T21:50:31.103Z"
   },
   {
    "duration": 61,
    "start_time": "2024-04-03T21:50:31.262Z"
   },
   {
    "duration": 63,
    "start_time": "2024-04-03T21:50:31.325Z"
   },
   {
    "duration": 50,
    "start_time": "2024-04-03T21:50:31.389Z"
   },
   {
    "duration": 64,
    "start_time": "2024-04-03T21:50:31.441Z"
   },
   {
    "duration": 53,
    "start_time": "2024-04-03T21:50:31.507Z"
   },
   {
    "duration": 26,
    "start_time": "2024-04-03T21:50:31.562Z"
   },
   {
    "duration": 48,
    "start_time": "2024-04-03T21:50:31.589Z"
   },
   {
    "duration": 53,
    "start_time": "2024-04-03T21:50:31.639Z"
   },
   {
    "duration": 106,
    "start_time": "2024-04-03T21:50:31.694Z"
   },
   {
    "duration": 202,
    "start_time": "2024-04-03T21:50:31.801Z"
   },
   {
    "duration": 70,
    "start_time": "2024-04-03T21:50:32.007Z"
   },
   {
    "duration": 30,
    "start_time": "2024-04-03T21:50:32.079Z"
   },
   {
    "duration": 11,
    "start_time": "2024-04-03T21:50:32.111Z"
   },
   {
    "duration": 15,
    "start_time": "2024-04-03T21:50:32.123Z"
   },
   {
    "duration": 9,
    "start_time": "2024-04-03T21:50:32.140Z"
   },
   {
    "duration": 11,
    "start_time": "2024-04-03T21:50:32.151Z"
   },
   {
    "duration": 8,
    "start_time": "2024-04-03T21:50:32.163Z"
   },
   {
    "duration": 18,
    "start_time": "2024-04-03T21:50:32.173Z"
   },
   {
    "duration": 163,
    "start_time": "2024-04-03T21:50:32.193Z"
   },
   {
    "duration": 5,
    "start_time": "2024-04-03T21:50:32.358Z"
   },
   {
    "duration": 89,
    "start_time": "2024-04-03T21:50:32.370Z"
   },
   {
    "duration": 153,
    "start_time": "2024-04-03T21:50:32.461Z"
   },
   {
    "duration": 5,
    "start_time": "2024-04-03T21:50:32.615Z"
   },
   {
    "duration": 10,
    "start_time": "2024-04-03T21:50:32.622Z"
   },
   {
    "duration": 113,
    "start_time": "2024-04-03T21:50:32.634Z"
   },
   {
    "duration": 7,
    "start_time": "2024-04-03T21:50:32.748Z"
   },
   {
    "duration": 14,
    "start_time": "2024-04-03T21:50:32.756Z"
   },
   {
    "duration": 111,
    "start_time": "2024-04-03T21:50:32.771Z"
   },
   {
    "duration": 7,
    "start_time": "2024-04-03T21:50:32.883Z"
   },
   {
    "duration": 13,
    "start_time": "2024-04-03T21:50:32.891Z"
   },
   {
    "duration": 28,
    "start_time": "2024-04-03T21:53:45.002Z"
   },
   {
    "duration": 17,
    "start_time": "2024-04-03T21:54:49.321Z"
   },
   {
    "duration": 15,
    "start_time": "2024-04-03T21:55:50.681Z"
   },
   {
    "duration": 174,
    "start_time": "2024-04-03T21:57:11.638Z"
   },
   {
    "duration": 163,
    "start_time": "2024-04-03T21:57:27.851Z"
   },
   {
    "duration": 220,
    "start_time": "2024-04-03T21:58:17.724Z"
   },
   {
    "duration": 157,
    "start_time": "2024-04-03T21:58:28.561Z"
   },
   {
    "duration": 897,
    "start_time": "2024-04-03T22:02:59.896Z"
   },
   {
    "duration": 12,
    "start_time": "2024-04-03T22:03:29.539Z"
   },
   {
    "duration": 3,
    "start_time": "2024-04-03T22:04:45.904Z"
   },
   {
    "duration": 137,
    "start_time": "2024-04-03T22:05:02.192Z"
   },
   {
    "duration": 5,
    "start_time": "2024-04-03T22:10:35.027Z"
   },
   {
    "duration": 770,
    "start_time": "2024-04-03T22:10:54.553Z"
   },
   {
    "duration": 9,
    "start_time": "2024-04-03T22:16:29.601Z"
   },
   {
    "duration": 4,
    "start_time": "2024-04-03T22:19:29.589Z"
   },
   {
    "duration": 1209,
    "start_time": "2024-04-03T22:41:30.470Z"
   },
   {
    "duration": 29,
    "start_time": "2024-04-03T22:41:31.681Z"
   },
   {
    "duration": 62,
    "start_time": "2024-04-03T22:41:31.712Z"
   },
   {
    "duration": 77,
    "start_time": "2024-04-03T22:41:31.776Z"
   },
   {
    "duration": 91,
    "start_time": "2024-04-03T22:41:31.855Z"
   },
   {
    "duration": 17,
    "start_time": "2024-04-03T22:41:31.948Z"
   },
   {
    "duration": 18,
    "start_time": "2024-04-03T22:41:31.966Z"
   },
   {
    "duration": 35,
    "start_time": "2024-04-03T22:41:31.986Z"
   },
   {
    "duration": 29,
    "start_time": "2024-04-03T22:41:32.022Z"
   },
   {
    "duration": 66,
    "start_time": "2024-04-03T22:41:32.052Z"
   },
   {
    "duration": 43,
    "start_time": "2024-04-03T22:41:32.120Z"
   },
   {
    "duration": 108,
    "start_time": "2024-04-03T22:41:32.165Z"
   },
   {
    "duration": 26,
    "start_time": "2024-04-03T22:41:32.275Z"
   },
   {
    "duration": 24,
    "start_time": "2024-04-03T22:41:32.304Z"
   },
   {
    "duration": 31,
    "start_time": "2024-04-03T22:41:32.329Z"
   },
   {
    "duration": 66,
    "start_time": "2024-04-03T22:41:32.361Z"
   },
   {
    "duration": 75,
    "start_time": "2024-04-03T22:41:32.428Z"
   },
   {
    "duration": 30,
    "start_time": "2024-04-03T22:41:32.504Z"
   },
   {
    "duration": 37,
    "start_time": "2024-04-03T22:41:32.536Z"
   },
   {
    "duration": 18,
    "start_time": "2024-04-03T22:41:32.574Z"
   },
   {
    "duration": 10,
    "start_time": "2024-04-03T22:41:32.593Z"
   },
   {
    "duration": 157,
    "start_time": "2024-04-03T22:41:32.605Z"
   },
   {
    "duration": 5,
    "start_time": "2024-04-03T22:41:32.764Z"
   },
   {
    "duration": 115,
    "start_time": "2024-04-03T22:41:32.770Z"
   },
   {
    "duration": 142,
    "start_time": "2024-04-03T22:41:32.887Z"
   },
   {
    "duration": 5,
    "start_time": "2024-04-03T22:41:33.031Z"
   },
   {
    "duration": 14,
    "start_time": "2024-04-03T22:41:33.038Z"
   },
   {
    "duration": 133,
    "start_time": "2024-04-03T22:41:33.054Z"
   },
   {
    "duration": 7,
    "start_time": "2024-04-03T22:41:33.189Z"
   },
   {
    "duration": 9,
    "start_time": "2024-04-03T22:41:33.198Z"
   },
   {
    "duration": 124,
    "start_time": "2024-04-03T22:41:33.209Z"
   },
   {
    "duration": 7,
    "start_time": "2024-04-03T22:41:33.335Z"
   },
   {
    "duration": 7,
    "start_time": "2024-04-03T22:41:33.344Z"
   },
   {
    "duration": 43,
    "start_time": "2024-04-03T22:41:33.353Z"
   },
   {
    "duration": 17,
    "start_time": "2024-04-03T22:41:33.397Z"
   },
   {
    "duration": 14,
    "start_time": "2024-04-03T22:41:33.416Z"
   },
   {
    "duration": 199,
    "start_time": "2024-04-03T22:41:33.432Z"
   },
   {
    "duration": 244,
    "start_time": "2024-04-03T22:41:33.632Z"
   },
   {
    "duration": 175,
    "start_time": "2024-04-03T22:41:33.878Z"
   },
   {
    "duration": 168,
    "start_time": "2024-04-03T22:41:34.054Z"
   },
   {
    "duration": 857,
    "start_time": "2024-04-03T22:41:34.226Z"
   },
   {
    "duration": 12,
    "start_time": "2024-04-03T22:41:35.087Z"
   },
   {
    "duration": 4,
    "start_time": "2024-04-03T22:41:35.100Z"
   },
   {
    "duration": 161,
    "start_time": "2024-04-03T22:41:35.105Z"
   },
   {
    "duration": 5,
    "start_time": "2024-04-03T22:41:35.268Z"
   },
   {
    "duration": 813,
    "start_time": "2024-04-03T22:41:35.275Z"
   },
   {
    "duration": 5,
    "start_time": "2024-04-03T22:41:36.089Z"
   },
   {
    "duration": 30,
    "start_time": "2024-04-03T22:41:36.096Z"
   },
   {
    "duration": 1275,
    "start_time": "2024-04-03T22:46:13.599Z"
   },
   {
    "duration": 28,
    "start_time": "2024-04-03T22:46:14.876Z"
   },
   {
    "duration": 11,
    "start_time": "2024-04-03T22:46:14.906Z"
   },
   {
    "duration": 20,
    "start_time": "2024-04-03T22:46:14.918Z"
   },
   {
    "duration": 27,
    "start_time": "2024-04-03T22:46:14.940Z"
   },
   {
    "duration": 12,
    "start_time": "2024-04-03T22:46:14.969Z"
   },
   {
    "duration": 9,
    "start_time": "2024-04-03T22:46:14.982Z"
   },
   {
    "duration": 17,
    "start_time": "2024-04-03T22:46:14.993Z"
   },
   {
    "duration": 33,
    "start_time": "2024-04-03T22:46:15.011Z"
   },
   {
    "duration": 55,
    "start_time": "2024-04-03T22:46:15.046Z"
   },
   {
    "duration": 38,
    "start_time": "2024-04-03T22:46:15.102Z"
   },
   {
    "duration": 63,
    "start_time": "2024-04-03T22:46:15.141Z"
   },
   {
    "duration": 37,
    "start_time": "2024-04-03T22:46:15.205Z"
   },
   {
    "duration": 29,
    "start_time": "2024-04-03T22:46:15.245Z"
   },
   {
    "duration": 52,
    "start_time": "2024-04-03T22:46:15.275Z"
   },
   {
    "duration": 41,
    "start_time": "2024-04-03T22:46:15.329Z"
   },
   {
    "duration": 19,
    "start_time": "2024-04-03T22:46:15.371Z"
   },
   {
    "duration": 10,
    "start_time": "2024-04-03T22:46:15.391Z"
   },
   {
    "duration": 33,
    "start_time": "2024-04-03T22:46:15.402Z"
   },
   {
    "duration": 12,
    "start_time": "2024-04-03T22:46:15.437Z"
   },
   {
    "duration": 24,
    "start_time": "2024-04-03T22:46:15.451Z"
   },
   {
    "duration": 155,
    "start_time": "2024-04-03T22:46:15.476Z"
   },
   {
    "duration": 5,
    "start_time": "2024-04-03T22:46:15.633Z"
   },
   {
    "duration": 92,
    "start_time": "2024-04-03T22:46:15.639Z"
   },
   {
    "duration": 149,
    "start_time": "2024-04-03T22:46:15.733Z"
   },
   {
    "duration": 6,
    "start_time": "2024-04-03T22:46:15.884Z"
   },
   {
    "duration": 5,
    "start_time": "2024-04-03T22:46:15.892Z"
   },
   {
    "duration": 112,
    "start_time": "2024-04-03T22:46:15.899Z"
   },
   {
    "duration": 6,
    "start_time": "2024-04-03T22:46:16.012Z"
   },
   {
    "duration": 6,
    "start_time": "2024-04-03T22:46:16.019Z"
   },
   {
    "duration": 114,
    "start_time": "2024-04-03T22:46:16.026Z"
   },
   {
    "duration": 6,
    "start_time": "2024-04-03T22:46:16.141Z"
   },
   {
    "duration": 17,
    "start_time": "2024-04-03T22:46:16.148Z"
   },
   {
    "duration": 52,
    "start_time": "2024-04-03T22:46:16.166Z"
   },
   {
    "duration": 15,
    "start_time": "2024-04-03T22:46:16.220Z"
   },
   {
    "duration": 13,
    "start_time": "2024-04-03T22:46:16.237Z"
   },
   {
    "duration": 210,
    "start_time": "2024-04-03T22:46:16.251Z"
   },
   {
    "duration": 241,
    "start_time": "2024-04-03T22:46:16.463Z"
   },
   {
    "duration": 172,
    "start_time": "2024-04-03T22:46:16.705Z"
   },
   {
    "duration": 164,
    "start_time": "2024-04-03T22:46:16.879Z"
   },
   {
    "duration": 809,
    "start_time": "2024-04-03T22:46:17.046Z"
   },
   {
    "duration": 11,
    "start_time": "2024-04-03T22:46:17.857Z"
   },
   {
    "duration": 18,
    "start_time": "2024-04-03T22:46:17.870Z"
   },
   {
    "duration": 136,
    "start_time": "2024-04-03T22:46:17.890Z"
   },
   {
    "duration": 5,
    "start_time": "2024-04-03T22:46:18.028Z"
   },
   {
    "duration": 820,
    "start_time": "2024-04-03T22:46:18.035Z"
   },
   {
    "duration": 5,
    "start_time": "2024-04-03T22:46:18.857Z"
   },
   {
    "duration": 23,
    "start_time": "2024-04-03T22:46:18.863Z"
   },
   {
    "duration": 63,
    "start_time": "2024-04-29T08:26:34.574Z"
   },
   {
    "duration": 48,
    "start_time": "2024-04-29T08:38:57.460Z"
   },
   {
    "duration": 1509,
    "start_time": "2024-04-29T08:39:12.576Z"
   },
   {
    "duration": 72,
    "start_time": "2024-04-29T08:39:17.175Z"
   },
   {
    "duration": 12,
    "start_time": "2024-04-29T08:39:19.840Z"
   },
   {
    "duration": 18,
    "start_time": "2024-04-29T08:39:22.360Z"
   },
   {
    "duration": 89,
    "start_time": "2024-04-29T08:39:31.111Z"
   },
   {
    "duration": 13,
    "start_time": "2024-04-29T08:39:31.743Z"
   },
   {
    "duration": 11,
    "start_time": "2024-04-29T08:39:32.747Z"
   },
   {
    "duration": 66,
    "start_time": "2024-04-29T08:39:45.661Z"
   },
   {
    "duration": 22,
    "start_time": "2024-04-29T08:39:56.093Z"
   },
   {
    "duration": 11,
    "start_time": "2024-04-29T08:58:54.192Z"
   },
   {
    "duration": 10,
    "start_time": "2024-04-29T08:59:06.403Z"
   },
   {
    "duration": 5,
    "start_time": "2024-04-29T08:59:07.061Z"
   },
   {
    "duration": 9,
    "start_time": "2024-04-29T08:59:08.511Z"
   },
   {
    "duration": 7,
    "start_time": "2024-04-29T09:04:52.926Z"
   },
   {
    "duration": 9,
    "start_time": "2024-04-29T09:36:54.223Z"
   },
   {
    "duration": 9,
    "start_time": "2024-04-29T09:48:54.679Z"
   },
   {
    "duration": 9,
    "start_time": "2024-04-29T09:57:40.646Z"
   },
   {
    "duration": 5,
    "start_time": "2024-04-29T10:02:59.863Z"
   },
   {
    "duration": 10,
    "start_time": "2024-04-29T10:03:16.594Z"
   },
   {
    "duration": 5,
    "start_time": "2024-04-29T10:05:12.885Z"
   },
   {
    "duration": 10,
    "start_time": "2024-04-29T10:05:13.768Z"
   },
   {
    "duration": 4,
    "start_time": "2024-04-29T10:05:55.479Z"
   },
   {
    "duration": 10,
    "start_time": "2024-04-29T10:05:56.285Z"
   },
   {
    "duration": 124,
    "start_time": "2024-04-29T10:08:27.106Z"
   },
   {
    "duration": 107,
    "start_time": "2024-04-29T10:08:56.916Z"
   },
   {
    "duration": 711,
    "start_time": "2024-04-29T10:10:49.423Z"
   },
   {
    "duration": 173,
    "start_time": "2024-04-29T10:11:01.348Z"
   },
   {
    "duration": 289,
    "start_time": "2024-04-29T10:11:11.859Z"
   },
   {
    "duration": 185,
    "start_time": "2024-04-29T10:11:19.427Z"
   },
   {
    "duration": 164,
    "start_time": "2024-04-29T10:11:31.802Z"
   },
   {
    "duration": 198,
    "start_time": "2024-04-29T10:12:15.988Z"
   },
   {
    "duration": 10,
    "start_time": "2024-04-29T10:13:09.407Z"
   },
   {
    "duration": 10,
    "start_time": "2024-04-29T10:13:16.739Z"
   },
   {
    "duration": 102,
    "start_time": "2024-04-29T10:13:31.950Z"
   },
   {
    "duration": 106,
    "start_time": "2024-04-29T10:13:41.449Z"
   },
   {
    "duration": 109,
    "start_time": "2024-04-29T10:13:58.886Z"
   },
   {
    "duration": 10,
    "start_time": "2024-04-29T10:15:12.637Z"
   },
   {
    "duration": 10,
    "start_time": "2024-04-29T10:15:21.026Z"
   },
   {
    "duration": 9,
    "start_time": "2024-04-29T10:15:29.236Z"
   },
   {
    "duration": 12,
    "start_time": "2024-04-29T10:16:32.489Z"
   },
   {
    "duration": 32,
    "start_time": "2024-04-29T10:17:09.896Z"
   },
   {
    "duration": 77,
    "start_time": "2024-04-29T10:38:59.996Z"
   },
   {
    "duration": 29,
    "start_time": "2024-04-29T10:39:15.139Z"
   },
   {
    "duration": 8,
    "start_time": "2024-04-29T10:41:17.324Z"
   },
   {
    "duration": 6,
    "start_time": "2024-04-29T10:41:34.656Z"
   },
   {
    "duration": 10,
    "start_time": "2024-04-29T10:52:38.097Z"
   },
   {
    "duration": 19,
    "start_time": "2024-04-29T10:52:50.154Z"
   },
   {
    "duration": 70,
    "start_time": "2024-04-29T10:53:51.769Z"
   },
   {
    "duration": 12,
    "start_time": "2024-04-29T10:53:52.722Z"
   },
   {
    "duration": 9,
    "start_time": "2024-04-29T10:53:54.710Z"
   },
   {
    "duration": 30,
    "start_time": "2024-04-29T10:54:06.447Z"
   },
   {
    "duration": 20,
    "start_time": "2024-04-29T10:54:10.269Z"
   },
   {
    "duration": 17,
    "start_time": "2024-04-29T10:54:14.954Z"
   },
   {
    "duration": 192,
    "start_time": "2024-04-29T10:54:16.904Z"
   },
   {
    "duration": 9,
    "start_time": "2024-04-29T10:54:17.924Z"
   },
   {
    "duration": 8,
    "start_time": "2024-04-29T10:54:43.053Z"
   },
   {
    "duration": 9,
    "start_time": "2024-04-29T11:04:07.536Z"
   },
   {
    "duration": 11,
    "start_time": "2024-04-29T11:04:29.644Z"
   },
   {
    "duration": 13,
    "start_time": "2024-04-29T11:07:38.734Z"
   },
   {
    "duration": 15,
    "start_time": "2024-04-29T11:08:16.435Z"
   },
   {
    "duration": 19,
    "start_time": "2024-04-29T11:09:05.669Z"
   },
   {
    "duration": 19,
    "start_time": "2024-04-29T11:10:57.540Z"
   },
   {
    "duration": 15,
    "start_time": "2024-04-29T12:13:38.861Z"
   },
   {
    "duration": 17,
    "start_time": "2024-04-29T12:14:16.929Z"
   },
   {
    "duration": 11,
    "start_time": "2024-04-29T12:14:25.144Z"
   },
   {
    "duration": 9,
    "start_time": "2024-04-29T12:14:36.856Z"
   },
   {
    "duration": 13,
    "start_time": "2024-04-29T12:15:11.221Z"
   },
   {
    "duration": 19,
    "start_time": "2024-04-29T12:15:36.106Z"
   },
   {
    "duration": 34,
    "start_time": "2024-04-29T12:16:15.124Z"
   },
   {
    "duration": 370,
    "start_time": "2024-04-29T12:17:41.828Z"
   },
   {
    "duration": 8,
    "start_time": "2024-04-29T12:18:06.494Z"
   },
   {
    "duration": 8,
    "start_time": "2024-04-29T12:18:20.074Z"
   },
   {
    "duration": 838,
    "start_time": "2024-04-29T12:18:40.207Z"
   },
   {
    "duration": 26,
    "start_time": "2024-04-29T12:19:22.189Z"
   },
   {
    "duration": 23,
    "start_time": "2024-04-29T12:20:29.764Z"
   },
   {
    "duration": 55,
    "start_time": "2024-04-29T12:23:22.947Z"
   },
   {
    "duration": 1184,
    "start_time": "2024-04-29T18:03:16.918Z"
   },
   {
    "duration": 104,
    "start_time": "2024-04-29T18:03:18.104Z"
   },
   {
    "duration": 11,
    "start_time": "2024-04-29T18:03:18.210Z"
   },
   {
    "duration": 12,
    "start_time": "2024-04-29T18:03:18.223Z"
   },
   {
    "duration": 142,
    "start_time": "2024-04-29T18:03:18.236Z"
   },
   {
    "duration": 11,
    "start_time": "2024-04-29T18:03:18.380Z"
   },
   {
    "duration": 9,
    "start_time": "2024-04-29T18:03:18.393Z"
   },
   {
    "duration": 76,
    "start_time": "2024-04-29T18:03:18.404Z"
   },
   {
    "duration": 10,
    "start_time": "2024-04-29T18:03:18.482Z"
   },
   {
    "duration": 12,
    "start_time": "2024-04-29T18:03:18.496Z"
   },
   {
    "duration": 15,
    "start_time": "2024-04-29T18:03:18.510Z"
   },
   {
    "duration": 5,
    "start_time": "2024-04-29T18:03:18.526Z"
   },
   {
    "duration": 12,
    "start_time": "2024-04-29T18:03:18.532Z"
   },
   {
    "duration": 7,
    "start_time": "2024-04-29T18:03:18.545Z"
   },
   {
    "duration": 5,
    "start_time": "2024-04-29T18:03:18.553Z"
   },
   {
    "duration": 6,
    "start_time": "2024-04-29T18:03:18.559Z"
   },
   {
    "duration": 7,
    "start_time": "2024-04-29T18:03:18.566Z"
   },
   {
    "duration": 12,
    "start_time": "2024-04-29T18:03:18.575Z"
   },
   {
    "duration": 27,
    "start_time": "2024-04-29T18:03:18.589Z"
   },
   {
    "duration": 8,
    "start_time": "2024-04-29T18:03:18.617Z"
   },
   {
    "duration": 28,
    "start_time": "2024-04-29T18:03:18.626Z"
   },
   {
    "duration": 10,
    "start_time": "2024-04-29T18:03:18.656Z"
   },
   {
    "duration": 177,
    "start_time": "2024-04-29T18:03:18.667Z"
   },
   {
    "duration": 6,
    "start_time": "2024-04-29T18:03:18.845Z"
   },
   {
    "duration": 109,
    "start_time": "2024-04-29T18:03:18.852Z"
   },
   {
    "duration": 157,
    "start_time": "2024-04-29T18:03:18.963Z"
   },
   {
    "duration": 5,
    "start_time": "2024-04-29T18:03:19.121Z"
   },
   {
    "duration": 5,
    "start_time": "2024-04-29T18:03:19.131Z"
   },
   {
    "duration": 10,
    "start_time": "2024-04-29T18:03:19.137Z"
   },
   {
    "duration": 142,
    "start_time": "2024-04-29T18:03:19.149Z"
   },
   {
    "duration": 6,
    "start_time": "2024-04-29T18:03:19.293Z"
   },
   {
    "duration": 18,
    "start_time": "2024-04-29T18:03:19.300Z"
   },
   {
    "duration": 9,
    "start_time": "2024-04-29T18:03:19.319Z"
   },
   {
    "duration": 113,
    "start_time": "2024-04-29T18:03:19.330Z"
   },
   {
    "duration": 6,
    "start_time": "2024-04-29T18:03:19.444Z"
   },
   {
    "duration": 13,
    "start_time": "2024-04-29T18:03:19.451Z"
   },
   {
    "duration": 9,
    "start_time": "2024-04-29T18:03:19.466Z"
   },
   {
    "duration": 4,
    "start_time": "2024-04-29T18:03:19.476Z"
   },
   {
    "duration": 12,
    "start_time": "2024-04-29T18:03:19.481Z"
   },
   {
    "duration": 107,
    "start_time": "2024-04-29T18:03:19.494Z"
   },
   {
    "duration": 96,
    "start_time": "2024-04-29T18:03:19.602Z"
   },
   {
    "duration": 16,
    "start_time": "2024-04-29T18:03:19.700Z"
   },
   {
    "duration": 35,
    "start_time": "2024-04-29T18:03:19.717Z"
   },
   {
    "duration": 5,
    "start_time": "2024-04-29T18:03:19.753Z"
   },
   {
    "duration": 26,
    "start_time": "2024-04-29T18:03:19.759Z"
   },
   {
    "duration": 102,
    "start_time": "2024-04-29T18:03:19.786Z"
   },
   {
    "duration": 26,
    "start_time": "2024-04-29T18:03:19.889Z"
   },
   {
    "duration": 187,
    "start_time": "2024-04-29T18:03:19.916Z"
   },
   {
    "duration": 16,
    "start_time": "2024-04-29T18:03:20.104Z"
   },
   {
    "duration": 176,
    "start_time": "2024-04-29T18:03:20.121Z"
   },
   {
    "duration": 19,
    "start_time": "2024-04-29T18:03:20.299Z"
   },
   {
    "duration": 177,
    "start_time": "2024-04-29T18:03:20.319Z"
   },
   {
    "duration": 18,
    "start_time": "2024-04-29T18:03:20.497Z"
   },
   {
    "duration": 165,
    "start_time": "2024-04-29T18:03:20.517Z"
   },
   {
    "duration": 8,
    "start_time": "2024-04-29T18:03:20.684Z"
   },
   {
    "duration": 831,
    "start_time": "2024-04-29T18:03:20.693Z"
   },
   {
    "duration": 12,
    "start_time": "2024-04-29T18:03:21.526Z"
   },
   {
    "duration": 3,
    "start_time": "2024-04-29T18:03:21.539Z"
   },
   {
    "duration": 155,
    "start_time": "2024-04-29T18:03:21.544Z"
   },
   {
    "duration": 4,
    "start_time": "2024-04-29T18:03:21.701Z"
   },
   {
    "duration": 796,
    "start_time": "2024-04-29T18:03:21.706Z"
   },
   {
    "duration": 11,
    "start_time": "2024-04-29T18:03:22.503Z"
   },
   {
    "duration": 9,
    "start_time": "2024-04-29T18:03:22.516Z"
   },
   {
    "duration": 1239,
    "start_time": "2024-04-29T18:03:51.343Z"
   },
   {
    "duration": 29,
    "start_time": "2024-04-29T18:03:52.584Z"
   },
   {
    "duration": 10,
    "start_time": "2024-04-29T18:03:52.615Z"
   },
   {
    "duration": 18,
    "start_time": "2024-04-29T18:03:52.627Z"
   },
   {
    "duration": 27,
    "start_time": "2024-04-29T18:03:52.647Z"
   },
   {
    "duration": 10,
    "start_time": "2024-04-29T18:03:52.676Z"
   },
   {
    "duration": 15,
    "start_time": "2024-04-29T18:03:52.687Z"
   },
   {
    "duration": 15,
    "start_time": "2024-04-29T18:03:52.704Z"
   },
   {
    "duration": 10,
    "start_time": "2024-04-29T18:03:52.720Z"
   },
   {
    "duration": 12,
    "start_time": "2024-04-29T18:03:52.733Z"
   },
   {
    "duration": 10,
    "start_time": "2024-04-29T18:03:52.747Z"
   },
   {
    "duration": 6,
    "start_time": "2024-04-29T18:03:52.759Z"
   },
   {
    "duration": 10,
    "start_time": "2024-04-29T18:03:52.767Z"
   },
   {
    "duration": 6,
    "start_time": "2024-04-29T18:03:52.778Z"
   },
   {
    "duration": 5,
    "start_time": "2024-04-29T18:03:52.786Z"
   },
   {
    "duration": 5,
    "start_time": "2024-04-29T18:03:52.815Z"
   },
   {
    "duration": 11,
    "start_time": "2024-04-29T18:03:52.822Z"
   },
   {
    "duration": 8,
    "start_time": "2024-04-29T18:03:52.834Z"
   },
   {
    "duration": 8,
    "start_time": "2024-04-29T18:03:52.844Z"
   },
   {
    "duration": 7,
    "start_time": "2024-04-29T18:03:52.853Z"
   },
   {
    "duration": 4,
    "start_time": "2024-04-29T18:03:52.862Z"
   },
   {
    "duration": 9,
    "start_time": "2024-04-29T18:03:52.867Z"
   },
   {
    "duration": 177,
    "start_time": "2024-04-29T18:03:52.878Z"
   },
   {
    "duration": 6,
    "start_time": "2024-04-29T18:03:53.057Z"
   },
   {
    "duration": 100,
    "start_time": "2024-04-29T18:03:53.065Z"
   },
   {
    "duration": 144,
    "start_time": "2024-04-29T18:03:53.166Z"
   },
   {
    "duration": 6,
    "start_time": "2024-04-29T18:03:53.311Z"
   },
   {
    "duration": 4,
    "start_time": "2024-04-29T18:03:53.321Z"
   },
   {
    "duration": 8,
    "start_time": "2024-04-29T18:03:53.327Z"
   },
   {
    "duration": 124,
    "start_time": "2024-04-29T18:03:53.337Z"
   },
   {
    "duration": 6,
    "start_time": "2024-04-29T18:03:53.463Z"
   },
   {
    "duration": 6,
    "start_time": "2024-04-29T18:03:53.470Z"
   },
   {
    "duration": 18,
    "start_time": "2024-04-29T18:03:53.477Z"
   },
   {
    "duration": 120,
    "start_time": "2024-04-29T18:03:53.496Z"
   },
   {
    "duration": 7,
    "start_time": "2024-04-29T18:03:53.617Z"
   },
   {
    "duration": 7,
    "start_time": "2024-04-29T18:03:53.625Z"
   },
   {
    "duration": 7,
    "start_time": "2024-04-29T18:03:53.634Z"
   },
   {
    "duration": 9,
    "start_time": "2024-04-29T18:03:53.642Z"
   },
   {
    "duration": 16,
    "start_time": "2024-04-29T18:03:53.653Z"
   },
   {
    "duration": 106,
    "start_time": "2024-04-29T18:03:53.670Z"
   },
   {
    "duration": 100,
    "start_time": "2024-04-29T18:03:53.777Z"
   },
   {
    "duration": 8,
    "start_time": "2024-04-29T18:03:53.879Z"
   },
   {
    "duration": 33,
    "start_time": "2024-04-29T18:03:53.889Z"
   },
   {
    "duration": 5,
    "start_time": "2024-04-29T18:03:53.923Z"
   },
   {
    "duration": 26,
    "start_time": "2024-04-29T18:03:53.929Z"
   },
   {
    "duration": 97,
    "start_time": "2024-04-29T18:03:53.957Z"
   },
   {
    "duration": 20,
    "start_time": "2024-04-29T18:03:54.056Z"
   },
   {
    "duration": 181,
    "start_time": "2024-04-29T18:03:54.077Z"
   },
   {
    "duration": 8,
    "start_time": "2024-04-29T18:03:54.259Z"
   },
   {
    "duration": 169,
    "start_time": "2024-04-29T18:03:54.268Z"
   },
   {
    "duration": 7,
    "start_time": "2024-04-29T18:03:54.439Z"
   },
   {
    "duration": 177,
    "start_time": "2024-04-29T18:03:54.448Z"
   },
   {
    "duration": 8,
    "start_time": "2024-04-29T18:03:54.627Z"
   },
   {
    "duration": 199,
    "start_time": "2024-04-29T18:03:54.637Z"
   },
   {
    "duration": 8,
    "start_time": "2024-04-29T18:03:54.838Z"
   },
   {
    "duration": 837,
    "start_time": "2024-04-29T18:03:54.847Z"
   },
   {
    "duration": 12,
    "start_time": "2024-04-29T18:03:55.685Z"
   },
   {
    "duration": 3,
    "start_time": "2024-04-29T18:03:55.698Z"
   },
   {
    "duration": 152,
    "start_time": "2024-04-29T18:03:55.702Z"
   },
   {
    "duration": 6,
    "start_time": "2024-04-29T18:03:55.856Z"
   },
   {
    "duration": 825,
    "start_time": "2024-04-29T18:03:55.864Z"
   },
   {
    "duration": 5,
    "start_time": "2024-04-29T18:03:56.691Z"
   },
   {
    "duration": 19,
    "start_time": "2024-04-29T18:03:56.698Z"
   },
   {
    "duration": 36,
    "start_time": "2024-04-29T18:50:04.792Z"
   },
   {
    "duration": 10,
    "start_time": "2024-04-29T18:53:33.908Z"
   },
   {
    "duration": 1234,
    "start_time": "2024-04-29T18:59:18.231Z"
   },
   {
    "duration": 28,
    "start_time": "2024-04-29T18:59:19.467Z"
   },
   {
    "duration": 11,
    "start_time": "2024-04-29T18:59:19.497Z"
   },
   {
    "duration": 17,
    "start_time": "2024-04-29T18:59:19.510Z"
   },
   {
    "duration": 33,
    "start_time": "2024-04-29T18:59:19.529Z"
   },
   {
    "duration": 12,
    "start_time": "2024-04-29T18:59:19.563Z"
   },
   {
    "duration": 10,
    "start_time": "2024-04-29T18:59:19.576Z"
   },
   {
    "duration": 16,
    "start_time": "2024-04-29T18:59:19.587Z"
   },
   {
    "duration": 8,
    "start_time": "2024-04-29T18:59:19.605Z"
   },
   {
    "duration": 15,
    "start_time": "2024-04-29T18:59:19.617Z"
   },
   {
    "duration": 9,
    "start_time": "2024-04-29T18:59:19.633Z"
   },
   {
    "duration": 11,
    "start_time": "2024-04-29T18:59:19.643Z"
   },
   {
    "duration": 11,
    "start_time": "2024-04-29T18:59:19.656Z"
   },
   {
    "duration": 8,
    "start_time": "2024-04-29T18:59:19.669Z"
   },
   {
    "duration": 27,
    "start_time": "2024-04-29T18:59:19.679Z"
   },
   {
    "duration": 12,
    "start_time": "2024-04-29T18:59:19.708Z"
   },
   {
    "duration": 5,
    "start_time": "2024-04-29T18:59:19.722Z"
   },
   {
    "duration": 20,
    "start_time": "2024-04-29T18:59:19.728Z"
   },
   {
    "duration": 7,
    "start_time": "2024-04-29T18:59:19.749Z"
   },
   {
    "duration": 7,
    "start_time": "2024-04-29T18:59:19.757Z"
   },
   {
    "duration": 6,
    "start_time": "2024-04-29T18:59:19.778Z"
   },
   {
    "duration": 8,
    "start_time": "2024-04-29T18:59:19.785Z"
   },
   {
    "duration": 162,
    "start_time": "2024-04-29T18:59:19.794Z"
   },
   {
    "duration": 5,
    "start_time": "2024-04-29T18:59:19.957Z"
   },
   {
    "duration": 97,
    "start_time": "2024-04-29T18:59:19.964Z"
   },
   {
    "duration": 151,
    "start_time": "2024-04-29T18:59:20.063Z"
   },
   {
    "duration": 4,
    "start_time": "2024-04-29T18:59:20.216Z"
   },
   {
    "duration": 6,
    "start_time": "2024-04-29T18:59:20.223Z"
   },
   {
    "duration": 8,
    "start_time": "2024-04-29T18:59:20.231Z"
   },
   {
    "duration": 124,
    "start_time": "2024-04-29T18:59:20.240Z"
   },
   {
    "duration": 6,
    "start_time": "2024-04-29T18:59:20.365Z"
   },
   {
    "duration": 19,
    "start_time": "2024-04-29T18:59:20.372Z"
   },
   {
    "duration": 8,
    "start_time": "2024-04-29T18:59:20.392Z"
   },
   {
    "duration": 18,
    "start_time": "2024-04-29T18:59:20.401Z"
   },
   {
    "duration": 6,
    "start_time": "2024-04-29T18:59:20.420Z"
   },
   {
    "duration": 8,
    "start_time": "2024-04-29T18:59:20.428Z"
   },
   {
    "duration": 4,
    "start_time": "2024-04-29T18:59:20.437Z"
   },
   {
    "duration": 9,
    "start_time": "2024-04-29T18:59:20.442Z"
   },
   {
    "duration": 120,
    "start_time": "2024-04-29T18:59:20.452Z"
   },
   {
    "duration": 101,
    "start_time": "2024-04-29T18:59:20.574Z"
   },
   {
    "duration": 9,
    "start_time": "2024-04-29T18:59:20.676Z"
   },
   {
    "duration": 34,
    "start_time": "2024-04-29T18:59:20.686Z"
   },
   {
    "duration": 5,
    "start_time": "2024-04-29T18:59:20.721Z"
   },
   {
    "duration": 33,
    "start_time": "2024-04-29T18:59:20.728Z"
   },
   {
    "duration": 17,
    "start_time": "2024-04-29T18:59:20.763Z"
   },
   {
    "duration": 38,
    "start_time": "2024-04-29T18:59:20.781Z"
   },
   {
    "duration": 204,
    "start_time": "2024-04-29T18:59:20.820Z"
   },
   {
    "duration": 8,
    "start_time": "2024-04-29T18:59:21.025Z"
   },
   {
    "duration": 271,
    "start_time": "2024-04-29T18:59:21.034Z"
   },
   {
    "duration": 15,
    "start_time": "2024-04-29T18:59:21.306Z"
   },
   {
    "duration": 173,
    "start_time": "2024-04-29T18:59:21.323Z"
   },
   {
    "duration": 19,
    "start_time": "2024-04-29T18:59:21.497Z"
   },
   {
    "duration": 163,
    "start_time": "2024-04-29T18:59:21.517Z"
   },
   {
    "duration": 7,
    "start_time": "2024-04-29T18:59:21.682Z"
   },
   {
    "duration": 824,
    "start_time": "2024-04-29T18:59:21.691Z"
   },
   {
    "duration": 13,
    "start_time": "2024-04-29T18:59:22.516Z"
   },
   {
    "duration": 3,
    "start_time": "2024-04-29T18:59:22.530Z"
   },
   {
    "duration": 152,
    "start_time": "2024-04-29T18:59:22.535Z"
   },
   {
    "duration": 4,
    "start_time": "2024-04-29T18:59:22.689Z"
   },
   {
    "duration": 821,
    "start_time": "2024-04-29T18:59:22.695Z"
   },
   {
    "duration": 5,
    "start_time": "2024-04-29T18:59:23.518Z"
   },
   {
    "duration": 13,
    "start_time": "2024-04-29T18:59:23.525Z"
   },
   {
    "duration": 54,
    "start_time": "2024-04-29T19:07:16.446Z"
   },
   {
    "duration": 1771,
    "start_time": "2024-04-29T19:07:27.857Z"
   },
   {
    "duration": 73,
    "start_time": "2024-04-29T19:07:29.630Z"
   },
   {
    "duration": 11,
    "start_time": "2024-04-29T19:07:29.705Z"
   },
   {
    "duration": 33,
    "start_time": "2024-04-29T19:07:29.719Z"
   },
   {
    "duration": 77,
    "start_time": "2024-04-29T19:07:29.755Z"
   },
   {
    "duration": 11,
    "start_time": "2024-04-29T19:07:29.833Z"
   },
   {
    "duration": 12,
    "start_time": "2024-04-29T19:07:29.847Z"
   },
   {
    "duration": 91,
    "start_time": "2024-04-29T19:07:29.861Z"
   },
   {
    "duration": 9,
    "start_time": "2024-04-29T19:07:29.954Z"
   },
   {
    "duration": 9,
    "start_time": "2024-04-29T19:07:29.967Z"
   },
   {
    "duration": 8,
    "start_time": "2024-04-29T19:07:29.978Z"
   },
   {
    "duration": 8,
    "start_time": "2024-04-29T19:07:29.987Z"
   },
   {
    "duration": 10,
    "start_time": "2024-04-29T19:07:29.996Z"
   },
   {
    "duration": 40,
    "start_time": "2024-04-29T19:07:30.007Z"
   },
   {
    "duration": 25,
    "start_time": "2024-04-29T19:07:30.048Z"
   },
   {
    "duration": 29,
    "start_time": "2024-04-29T19:07:30.075Z"
   },
   {
    "duration": 42,
    "start_time": "2024-04-29T19:07:30.105Z"
   },
   {
    "duration": 41,
    "start_time": "2024-04-29T19:07:30.148Z"
   },
   {
    "duration": 95,
    "start_time": "2024-04-29T19:07:30.191Z"
   },
   {
    "duration": 54,
    "start_time": "2024-04-29T19:07:30.288Z"
   },
   {
    "duration": 48,
    "start_time": "2024-04-29T19:07:30.343Z"
   },
   {
    "duration": 35,
    "start_time": "2024-04-29T19:07:30.393Z"
   },
   {
    "duration": 186,
    "start_time": "2024-04-29T19:07:30.429Z"
   },
   {
    "duration": 5,
    "start_time": "2024-04-29T19:07:30.617Z"
   },
   {
    "duration": 120,
    "start_time": "2024-04-29T19:07:30.624Z"
   },
   {
    "duration": 152,
    "start_time": "2024-04-29T19:07:30.745Z"
   },
   {
    "duration": 5,
    "start_time": "2024-04-29T19:07:30.898Z"
   },
   {
    "duration": 41,
    "start_time": "2024-04-29T19:07:30.906Z"
   },
   {
    "duration": 48,
    "start_time": "2024-04-29T19:07:30.948Z"
   },
   {
    "duration": 130,
    "start_time": "2024-04-29T19:07:30.998Z"
   },
   {
    "duration": 7,
    "start_time": "2024-04-29T19:07:31.130Z"
   },
   {
    "duration": 51,
    "start_time": "2024-04-29T19:07:31.138Z"
   },
   {
    "duration": 39,
    "start_time": "2024-04-29T19:07:31.191Z"
   },
   {
    "duration": 40,
    "start_time": "2024-04-29T19:07:31.232Z"
   },
   {
    "duration": 24,
    "start_time": "2024-04-29T19:07:31.274Z"
   },
   {
    "duration": 30,
    "start_time": "2024-04-29T19:07:31.299Z"
   },
   {
    "duration": 26,
    "start_time": "2024-04-29T19:07:31.331Z"
   },
   {
    "duration": 40,
    "start_time": "2024-04-29T19:07:31.359Z"
   },
   {
    "duration": 107,
    "start_time": "2024-04-29T19:07:31.400Z"
   },
   {
    "duration": 95,
    "start_time": "2024-04-29T19:07:31.509Z"
   },
   {
    "duration": 8,
    "start_time": "2024-04-29T19:07:31.606Z"
   },
   {
    "duration": 28,
    "start_time": "2024-04-29T19:07:31.615Z"
   },
   {
    "duration": 4,
    "start_time": "2024-04-29T19:07:31.645Z"
   },
   {
    "duration": 44,
    "start_time": "2024-04-29T19:07:31.651Z"
   },
   {
    "duration": 99,
    "start_time": "2024-04-29T19:07:31.697Z"
   },
   {
    "duration": 15,
    "start_time": "2024-04-29T19:07:31.797Z"
   },
   {
    "duration": 12,
    "start_time": "2024-04-29T19:07:31.814Z"
   },
   {
    "duration": 208,
    "start_time": "2024-04-29T19:07:31.828Z"
   },
   {
    "duration": 7,
    "start_time": "2024-04-29T19:07:32.038Z"
   },
   {
    "duration": 198,
    "start_time": "2024-04-29T19:07:32.047Z"
   },
   {
    "duration": 7,
    "start_time": "2024-04-29T19:07:32.246Z"
   },
   {
    "duration": 210,
    "start_time": "2024-04-29T19:07:32.265Z"
   },
   {
    "duration": 10,
    "start_time": "2024-04-29T19:07:32.479Z"
   },
   {
    "duration": 169,
    "start_time": "2024-04-29T19:07:32.491Z"
   },
   {
    "duration": 12,
    "start_time": "2024-04-29T19:07:32.664Z"
   },
   {
    "duration": 930,
    "start_time": "2024-04-29T19:07:32.678Z"
   },
   {
    "duration": 12,
    "start_time": "2024-04-29T19:07:33.610Z"
   },
   {
    "duration": 5,
    "start_time": "2024-04-29T19:07:33.623Z"
   },
   {
    "duration": 165,
    "start_time": "2024-04-29T19:07:33.629Z"
   },
   {
    "duration": 5,
    "start_time": "2024-04-29T19:07:33.795Z"
   },
   {
    "duration": 857,
    "start_time": "2024-04-29T19:07:33.802Z"
   },
   {
    "duration": 7,
    "start_time": "2024-04-29T19:07:34.661Z"
   },
   {
    "duration": 11,
    "start_time": "2024-04-29T19:07:34.670Z"
   },
   {
    "duration": 215,
    "start_time": "2024-04-29T19:14:24.583Z"
   },
   {
    "duration": 220,
    "start_time": "2024-04-29T19:15:21.575Z"
   },
   {
    "duration": 276,
    "start_time": "2024-04-29T19:16:03.876Z"
   },
   {
    "duration": 213,
    "start_time": "2024-04-29T19:16:38.612Z"
   },
   {
    "duration": 258,
    "start_time": "2024-04-29T19:17:08.151Z"
   },
   {
    "duration": 252,
    "start_time": "2024-04-29T19:19:11.790Z"
   },
   {
    "duration": 201,
    "start_time": "2024-04-29T19:19:27.088Z"
   },
   {
    "duration": 1232,
    "start_time": "2024-04-29T19:23:06.401Z"
   },
   {
    "duration": 29,
    "start_time": "2024-04-29T19:23:07.635Z"
   },
   {
    "duration": 16,
    "start_time": "2024-04-29T19:23:07.666Z"
   },
   {
    "duration": 16,
    "start_time": "2024-04-29T19:23:07.684Z"
   },
   {
    "duration": 26,
    "start_time": "2024-04-29T19:23:07.702Z"
   },
   {
    "duration": 10,
    "start_time": "2024-04-29T19:23:07.729Z"
   },
   {
    "duration": 26,
    "start_time": "2024-04-29T19:23:07.740Z"
   },
   {
    "duration": 25,
    "start_time": "2024-04-29T19:23:07.768Z"
   },
   {
    "duration": 12,
    "start_time": "2024-04-29T19:23:07.794Z"
   },
   {
    "duration": 10,
    "start_time": "2024-04-29T19:23:07.808Z"
   },
   {
    "duration": 8,
    "start_time": "2024-04-29T19:23:07.819Z"
   },
   {
    "duration": 4,
    "start_time": "2024-04-29T19:23:07.828Z"
   },
   {
    "duration": 11,
    "start_time": "2024-04-29T19:23:07.834Z"
   },
   {
    "duration": 10,
    "start_time": "2024-04-29T19:23:07.865Z"
   },
   {
    "duration": 22,
    "start_time": "2024-04-29T19:23:07.877Z"
   },
   {
    "duration": 14,
    "start_time": "2024-04-29T19:23:07.901Z"
   },
   {
    "duration": 7,
    "start_time": "2024-04-29T19:23:07.916Z"
   },
   {
    "duration": 6,
    "start_time": "2024-04-29T19:23:07.925Z"
   },
   {
    "duration": 9,
    "start_time": "2024-04-29T19:23:07.933Z"
   },
   {
    "duration": 29,
    "start_time": "2024-04-29T19:23:07.943Z"
   },
   {
    "duration": 7,
    "start_time": "2024-04-29T19:23:07.974Z"
   },
   {
    "duration": 15,
    "start_time": "2024-04-29T19:23:07.983Z"
   },
   {
    "duration": 198,
    "start_time": "2024-04-29T19:23:08.000Z"
   },
   {
    "duration": 7,
    "start_time": "2024-04-29T19:23:08.199Z"
   },
   {
    "duration": 114,
    "start_time": "2024-04-29T19:23:08.208Z"
   },
   {
    "duration": 168,
    "start_time": "2024-04-29T19:23:08.327Z"
   },
   {
    "duration": 6,
    "start_time": "2024-04-29T19:23:08.496Z"
   },
   {
    "duration": 14,
    "start_time": "2024-04-29T19:23:08.503Z"
   },
   {
    "duration": 14,
    "start_time": "2024-04-29T19:23:08.519Z"
   },
   {
    "duration": 115,
    "start_time": "2024-04-29T19:23:08.535Z"
   },
   {
    "duration": 14,
    "start_time": "2024-04-29T19:23:08.651Z"
   },
   {
    "duration": 8,
    "start_time": "2024-04-29T19:23:08.668Z"
   },
   {
    "duration": 15,
    "start_time": "2024-04-29T19:23:08.678Z"
   },
   {
    "duration": 5,
    "start_time": "2024-04-29T19:23:08.694Z"
   },
   {
    "duration": 5,
    "start_time": "2024-04-29T19:23:08.701Z"
   },
   {
    "duration": 6,
    "start_time": "2024-04-29T19:23:08.708Z"
   },
   {
    "duration": 3,
    "start_time": "2024-04-29T19:23:08.716Z"
   },
   {
    "duration": 12,
    "start_time": "2024-04-29T19:23:08.720Z"
   },
   {
    "duration": 109,
    "start_time": "2024-04-29T19:23:08.766Z"
   },
   {
    "duration": 120,
    "start_time": "2024-04-29T19:23:08.877Z"
   },
   {
    "duration": 9,
    "start_time": "2024-04-29T19:23:09.001Z"
   },
   {
    "duration": 21,
    "start_time": "2024-04-29T19:23:09.012Z"
   },
   {
    "duration": 4,
    "start_time": "2024-04-29T19:23:09.035Z"
   },
   {
    "duration": 52,
    "start_time": "2024-04-29T19:23:09.041Z"
   },
   {
    "duration": 13,
    "start_time": "2024-04-29T19:23:09.094Z"
   },
   {
    "duration": 15,
    "start_time": "2024-04-29T19:23:09.109Z"
   },
   {
    "duration": 14,
    "start_time": "2024-04-29T19:23:09.126Z"
   },
   {
    "duration": 332,
    "start_time": "2024-04-29T19:23:09.141Z"
   },
   {
    "duration": 9,
    "start_time": "2024-04-29T19:23:09.477Z"
   },
   {
    "duration": 8,
    "start_time": "2024-04-29T19:23:09.488Z"
   },
   {
    "duration": 274,
    "start_time": "2024-04-29T19:23:09.498Z"
   },
   {
    "duration": 12,
    "start_time": "2024-04-29T19:23:09.776Z"
   },
   {
    "duration": 9,
    "start_time": "2024-04-29T19:23:09.790Z"
   },
   {
    "duration": 4,
    "start_time": "2024-04-29T19:23:09.800Z"
   },
   {
    "duration": 923,
    "start_time": "2024-04-29T19:23:09.805Z"
   },
   {
    "duration": 10,
    "start_time": "2024-04-29T19:23:10.730Z"
   },
   {
    "duration": 10,
    "start_time": "2024-04-29T19:23:10.741Z"
   },
   {
    "duration": 159,
    "start_time": "2024-04-29T19:23:10.752Z"
   },
   {
    "duration": 5,
    "start_time": "2024-04-29T19:23:10.913Z"
   },
   {
    "duration": 813,
    "start_time": "2024-04-29T19:23:10.919Z"
   },
   {
    "duration": 6,
    "start_time": "2024-04-29T19:23:11.733Z"
   },
   {
    "duration": 26,
    "start_time": "2024-04-29T19:23:11.740Z"
   },
   {
    "duration": 20,
    "start_time": "2024-04-29T19:24:24.767Z"
   },
   {
    "duration": 908,
    "start_time": "2024-04-29T19:28:07.226Z"
   },
   {
    "duration": 11,
    "start_time": "2024-04-29T19:28:08.612Z"
   },
   {
    "duration": 11,
    "start_time": "2024-04-29T19:29:10.869Z"
   },
   {
    "duration": 1178,
    "start_time": "2024-04-29T19:29:27.150Z"
   },
   {
    "duration": 29,
    "start_time": "2024-04-29T19:29:28.329Z"
   },
   {
    "duration": 18,
    "start_time": "2024-04-29T19:29:28.362Z"
   },
   {
    "duration": 15,
    "start_time": "2024-04-29T19:29:28.381Z"
   },
   {
    "duration": 26,
    "start_time": "2024-04-29T19:29:28.398Z"
   },
   {
    "duration": 12,
    "start_time": "2024-04-29T19:29:28.425Z"
   },
   {
    "duration": 8,
    "start_time": "2024-04-29T19:29:28.438Z"
   },
   {
    "duration": 28,
    "start_time": "2024-04-29T19:29:28.447Z"
   },
   {
    "duration": 11,
    "start_time": "2024-04-29T19:29:28.489Z"
   },
   {
    "duration": 10,
    "start_time": "2024-04-29T19:29:28.502Z"
   },
   {
    "duration": 7,
    "start_time": "2024-04-29T19:29:28.513Z"
   },
   {
    "duration": 5,
    "start_time": "2024-04-29T19:29:28.522Z"
   },
   {
    "duration": 9,
    "start_time": "2024-04-29T19:29:28.528Z"
   },
   {
    "duration": 6,
    "start_time": "2024-04-29T19:29:28.539Z"
   },
   {
    "duration": 24,
    "start_time": "2024-04-29T19:29:28.546Z"
   },
   {
    "duration": 7,
    "start_time": "2024-04-29T19:29:28.572Z"
   },
   {
    "duration": 7,
    "start_time": "2024-04-29T19:29:28.583Z"
   },
   {
    "duration": 10,
    "start_time": "2024-04-29T19:29:28.592Z"
   },
   {
    "duration": 14,
    "start_time": "2024-04-29T19:29:28.603Z"
   },
   {
    "duration": 16,
    "start_time": "2024-04-29T19:29:28.619Z"
   },
   {
    "duration": 8,
    "start_time": "2024-04-29T19:29:28.636Z"
   },
   {
    "duration": 22,
    "start_time": "2024-04-29T19:29:28.645Z"
   },
   {
    "duration": 156,
    "start_time": "2024-04-29T19:29:28.668Z"
   },
   {
    "duration": 6,
    "start_time": "2024-04-29T19:29:28.825Z"
   },
   {
    "duration": 107,
    "start_time": "2024-04-29T19:29:28.832Z"
   },
   {
    "duration": 159,
    "start_time": "2024-04-29T19:29:28.940Z"
   },
   {
    "duration": 5,
    "start_time": "2024-04-29T19:29:29.103Z"
   },
   {
    "duration": 5,
    "start_time": "2024-04-29T19:29:29.109Z"
   },
   {
    "duration": 8,
    "start_time": "2024-04-29T19:29:29.115Z"
   },
   {
    "duration": 125,
    "start_time": "2024-04-29T19:29:29.125Z"
   },
   {
    "duration": 6,
    "start_time": "2024-04-29T19:29:29.251Z"
   },
   {
    "duration": 7,
    "start_time": "2024-04-29T19:29:29.259Z"
   },
   {
    "duration": 9,
    "start_time": "2024-04-29T19:29:29.267Z"
   },
   {
    "duration": 8,
    "start_time": "2024-04-29T19:29:29.277Z"
   },
   {
    "duration": 6,
    "start_time": "2024-04-29T19:29:29.286Z"
   },
   {
    "duration": 8,
    "start_time": "2024-04-29T19:29:29.294Z"
   },
   {
    "duration": 4,
    "start_time": "2024-04-29T19:29:29.304Z"
   },
   {
    "duration": 8,
    "start_time": "2024-04-29T19:29:29.309Z"
   },
   {
    "duration": 130,
    "start_time": "2024-04-29T19:29:29.319Z"
   },
   {
    "duration": 106,
    "start_time": "2024-04-29T19:29:29.451Z"
   },
   {
    "duration": 9,
    "start_time": "2024-04-29T19:29:29.558Z"
   },
   {
    "duration": 33,
    "start_time": "2024-04-29T19:29:29.569Z"
   },
   {
    "duration": 5,
    "start_time": "2024-04-29T19:29:29.603Z"
   },
   {
    "duration": 40,
    "start_time": "2024-04-29T19:29:29.610Z"
   },
   {
    "duration": 18,
    "start_time": "2024-04-29T19:29:29.652Z"
   },
   {
    "duration": 24,
    "start_time": "2024-04-29T19:29:29.672Z"
   },
   {
    "duration": 16,
    "start_time": "2024-04-29T19:29:29.697Z"
   },
   {
    "duration": 370,
    "start_time": "2024-04-29T19:29:29.714Z"
   },
   {
    "duration": 12,
    "start_time": "2024-04-29T19:29:30.085Z"
   },
   {
    "duration": 45,
    "start_time": "2024-04-29T19:29:30.099Z"
   },
   {
    "duration": 215,
    "start_time": "2024-04-29T19:29:30.146Z"
   },
   {
    "duration": 10,
    "start_time": "2024-04-29T19:29:30.364Z"
   },
   {
    "duration": 29,
    "start_time": "2024-04-29T19:29:30.376Z"
   },
   {
    "duration": 14,
    "start_time": "2024-04-29T19:29:30.407Z"
   },
   {
    "duration": 878,
    "start_time": "2024-04-29T19:29:30.422Z"
   },
   {
    "duration": 10,
    "start_time": "2024-04-29T19:29:31.301Z"
   },
   {
    "duration": 21,
    "start_time": "2024-04-29T19:29:31.312Z"
   },
   {
    "duration": 195,
    "start_time": "2024-04-29T19:29:31.334Z"
   },
   {
    "duration": 4,
    "start_time": "2024-04-29T19:29:31.531Z"
   },
   {
    "duration": 865,
    "start_time": "2024-04-29T19:29:31.537Z"
   },
   {
    "duration": 5,
    "start_time": "2024-04-29T19:29:32.404Z"
   },
   {
    "duration": 9,
    "start_time": "2024-04-29T19:29:32.411Z"
   },
   {
    "duration": 864,
    "start_time": "2024-04-29T19:30:09.225Z"
   },
   {
    "duration": 10,
    "start_time": "2024-04-29T19:30:12.422Z"
   },
   {
    "duration": 869,
    "start_time": "2024-04-29T19:30:48.935Z"
   },
   {
    "duration": 815,
    "start_time": "2024-04-29T19:34:32.032Z"
   },
   {
    "duration": 90,
    "start_time": "2024-04-29T19:36:32.848Z"
   },
   {
    "duration": 931,
    "start_time": "2024-04-29T19:37:08.289Z"
   },
   {
    "duration": 13,
    "start_time": "2024-04-29T19:40:11.886Z"
   },
   {
    "duration": 12,
    "start_time": "2024-04-29T19:41:42.579Z"
   },
   {
    "duration": 8,
    "start_time": "2024-04-29T19:42:11.830Z"
   },
   {
    "duration": 12,
    "start_time": "2024-04-29T19:42:19.433Z"
   },
   {
    "duration": 12,
    "start_time": "2024-04-29T19:42:30.793Z"
   },
   {
    "duration": 22,
    "start_time": "2024-04-29T19:42:36.743Z"
   },
   {
    "duration": 13,
    "start_time": "2024-04-29T19:45:02.933Z"
   },
   {
    "duration": 1233,
    "start_time": "2024-04-29T20:42:07.968Z"
   },
   {
    "duration": 29,
    "start_time": "2024-04-29T20:42:09.203Z"
   },
   {
    "duration": 10,
    "start_time": "2024-04-29T20:42:09.234Z"
   },
   {
    "duration": 11,
    "start_time": "2024-04-29T20:42:09.247Z"
   },
   {
    "duration": 29,
    "start_time": "2024-04-29T20:42:09.259Z"
   },
   {
    "duration": 11,
    "start_time": "2024-04-29T20:42:09.289Z"
   },
   {
    "duration": 9,
    "start_time": "2024-04-29T20:42:09.302Z"
   },
   {
    "duration": 18,
    "start_time": "2024-04-29T20:42:09.315Z"
   },
   {
    "duration": 9,
    "start_time": "2024-04-29T20:42:09.334Z"
   },
   {
    "duration": 11,
    "start_time": "2024-04-29T20:42:09.345Z"
   },
   {
    "duration": 7,
    "start_time": "2024-04-29T20:42:09.357Z"
   },
   {
    "duration": 4,
    "start_time": "2024-04-29T20:42:09.365Z"
   },
   {
    "duration": 9,
    "start_time": "2024-04-29T20:42:09.371Z"
   },
   {
    "duration": 16,
    "start_time": "2024-04-29T20:42:09.381Z"
   },
   {
    "duration": 21,
    "start_time": "2024-04-29T20:42:09.398Z"
   },
   {
    "duration": 16,
    "start_time": "2024-04-29T20:42:09.421Z"
   },
   {
    "duration": 6,
    "start_time": "2024-04-29T20:42:09.439Z"
   },
   {
    "duration": 5,
    "start_time": "2024-04-29T20:42:09.447Z"
   },
   {
    "duration": 7,
    "start_time": "2024-04-29T20:42:09.453Z"
   },
   {
    "duration": 8,
    "start_time": "2024-04-29T20:42:09.462Z"
   },
   {
    "duration": 5,
    "start_time": "2024-04-29T20:42:09.472Z"
   },
   {
    "duration": 38,
    "start_time": "2024-04-29T20:42:09.478Z"
   },
   {
    "duration": 155,
    "start_time": "2024-04-29T20:42:09.517Z"
   },
   {
    "duration": 6,
    "start_time": "2024-04-29T20:42:09.673Z"
   },
   {
    "duration": 113,
    "start_time": "2024-04-29T20:42:09.680Z"
   },
   {
    "duration": 147,
    "start_time": "2024-04-29T20:42:09.795Z"
   },
   {
    "duration": 4,
    "start_time": "2024-04-29T20:42:09.944Z"
   },
   {
    "duration": 4,
    "start_time": "2024-04-29T20:42:09.952Z"
   },
   {
    "duration": 9,
    "start_time": "2024-04-29T20:42:09.957Z"
   },
   {
    "duration": 129,
    "start_time": "2024-04-29T20:42:09.967Z"
   },
   {
    "duration": 7,
    "start_time": "2024-04-29T20:42:10.097Z"
   },
   {
    "duration": 7,
    "start_time": "2024-04-29T20:42:10.114Z"
   },
   {
    "duration": 7,
    "start_time": "2024-04-29T20:42:10.123Z"
   },
   {
    "duration": 6,
    "start_time": "2024-04-29T20:42:10.131Z"
   },
   {
    "duration": 5,
    "start_time": "2024-04-29T20:42:10.138Z"
   },
   {
    "duration": 8,
    "start_time": "2024-04-29T20:42:10.145Z"
   },
   {
    "duration": 3,
    "start_time": "2024-04-29T20:42:10.154Z"
   },
   {
    "duration": 9,
    "start_time": "2024-04-29T20:42:10.158Z"
   },
   {
    "duration": 132,
    "start_time": "2024-04-29T20:42:10.168Z"
   },
   {
    "duration": 97,
    "start_time": "2024-04-29T20:42:10.301Z"
   },
   {
    "duration": 15,
    "start_time": "2024-04-29T20:42:10.400Z"
   },
   {
    "duration": 20,
    "start_time": "2024-04-29T20:42:10.417Z"
   },
   {
    "duration": 5,
    "start_time": "2024-04-29T20:42:10.439Z"
   },
   {
    "duration": 26,
    "start_time": "2024-04-29T20:42:10.446Z"
   },
   {
    "duration": 42,
    "start_time": "2024-04-29T20:42:10.474Z"
   },
   {
    "duration": 16,
    "start_time": "2024-04-29T20:42:10.517Z"
   },
   {
    "duration": 18,
    "start_time": "2024-04-29T20:42:10.535Z"
   },
   {
    "duration": 335,
    "start_time": "2024-04-29T20:42:10.554Z"
   },
   {
    "duration": 8,
    "start_time": "2024-04-29T20:42:10.890Z"
   },
   {
    "duration": 18,
    "start_time": "2024-04-29T20:42:10.899Z"
   },
   {
    "duration": 218,
    "start_time": "2024-04-29T20:42:10.919Z"
   },
   {
    "duration": 7,
    "start_time": "2024-04-29T20:42:11.139Z"
   },
   {
    "duration": 7,
    "start_time": "2024-04-29T20:42:11.147Z"
   },
   {
    "duration": 5,
    "start_time": "2024-04-29T20:42:11.156Z"
   },
   {
    "duration": 853,
    "start_time": "2024-04-29T20:42:11.162Z"
   },
   {
    "duration": 11,
    "start_time": "2024-04-29T20:42:12.017Z"
   },
   {
    "duration": 13,
    "start_time": "2024-04-29T20:42:12.030Z"
   },
   {
    "duration": 5,
    "start_time": "2024-04-29T20:42:12.044Z"
   },
   {
    "duration": 804,
    "start_time": "2024-04-29T20:42:12.051Z"
   },
   {
    "duration": 4,
    "start_time": "2024-04-29T20:42:12.857Z"
   },
   {
    "duration": 11,
    "start_time": "2024-04-29T20:42:12.863Z"
   },
   {
    "duration": 10,
    "start_time": "2024-04-29T22:37:40.129Z"
   },
   {
    "duration": 1262,
    "start_time": "2024-04-29T22:42:46.243Z"
   },
   {
    "duration": 30,
    "start_time": "2024-04-29T22:42:47.507Z"
   },
   {
    "duration": 11,
    "start_time": "2024-04-29T22:42:47.538Z"
   },
   {
    "duration": 12,
    "start_time": "2024-04-29T22:42:47.551Z"
   },
   {
    "duration": 29,
    "start_time": "2024-04-29T22:42:47.564Z"
   },
   {
    "duration": 10,
    "start_time": "2024-04-29T22:42:47.594Z"
   },
   {
    "duration": 8,
    "start_time": "2024-04-29T22:42:47.606Z"
   },
   {
    "duration": 21,
    "start_time": "2024-04-29T22:42:47.617Z"
   },
   {
    "duration": 10,
    "start_time": "2024-04-29T22:42:47.639Z"
   },
   {
    "duration": 7,
    "start_time": "2024-04-29T22:42:47.652Z"
   },
   {
    "duration": 8,
    "start_time": "2024-04-29T22:42:47.661Z"
   },
   {
    "duration": 6,
    "start_time": "2024-04-29T22:42:47.670Z"
   },
   {
    "duration": 10,
    "start_time": "2024-04-29T22:42:47.677Z"
   },
   {
    "duration": 27,
    "start_time": "2024-04-29T22:42:47.689Z"
   },
   {
    "duration": 9,
    "start_time": "2024-04-29T22:42:47.718Z"
   },
   {
    "duration": 10,
    "start_time": "2024-04-29T22:42:47.729Z"
   },
   {
    "duration": 15,
    "start_time": "2024-04-29T22:42:47.740Z"
   },
   {
    "duration": 7,
    "start_time": "2024-04-29T22:42:47.757Z"
   },
   {
    "duration": 10,
    "start_time": "2024-04-29T22:42:47.765Z"
   },
   {
    "duration": 8,
    "start_time": "2024-04-29T22:42:47.777Z"
   },
   {
    "duration": 32,
    "start_time": "2024-04-29T22:42:47.787Z"
   },
   {
    "duration": 14,
    "start_time": "2024-04-29T22:42:47.821Z"
   },
   {
    "duration": 161,
    "start_time": "2024-04-29T22:42:47.837Z"
   },
   {
    "duration": 5,
    "start_time": "2024-04-29T22:42:48.000Z"
   },
   {
    "duration": 94,
    "start_time": "2024-04-29T22:42:48.006Z"
   },
   {
    "duration": 186,
    "start_time": "2024-04-29T22:42:48.102Z"
   },
   {
    "duration": 4,
    "start_time": "2024-04-29T22:42:48.290Z"
   },
   {
    "duration": 18,
    "start_time": "2024-04-29T22:42:48.297Z"
   },
   {
    "duration": 13,
    "start_time": "2024-04-29T22:42:48.317Z"
   },
   {
    "duration": 120,
    "start_time": "2024-04-29T22:42:48.332Z"
   },
   {
    "duration": 7,
    "start_time": "2024-04-29T22:42:48.454Z"
   },
   {
    "duration": 6,
    "start_time": "2024-04-29T22:42:48.462Z"
   },
   {
    "duration": 14,
    "start_time": "2024-04-29T22:42:48.469Z"
   },
   {
    "duration": 7,
    "start_time": "2024-04-29T22:42:48.485Z"
   },
   {
    "duration": 8,
    "start_time": "2024-04-29T22:42:48.514Z"
   },
   {
    "duration": 9,
    "start_time": "2024-04-29T22:42:48.523Z"
   },
   {
    "duration": 3,
    "start_time": "2024-04-29T22:42:48.534Z"
   },
   {
    "duration": 10,
    "start_time": "2024-04-29T22:42:48.538Z"
   },
   {
    "duration": 123,
    "start_time": "2024-04-29T22:42:48.550Z"
   },
   {
    "duration": 105,
    "start_time": "2024-04-29T22:42:48.674Z"
   },
   {
    "duration": 9,
    "start_time": "2024-04-29T22:42:48.780Z"
   },
   {
    "duration": 45,
    "start_time": "2024-04-29T22:42:48.790Z"
   },
   {
    "duration": 6,
    "start_time": "2024-04-29T22:42:48.837Z"
   },
   {
    "duration": 29,
    "start_time": "2024-04-29T22:42:48.845Z"
   },
   {
    "duration": 39,
    "start_time": "2024-04-29T22:42:48.876Z"
   },
   {
    "duration": 18,
    "start_time": "2024-04-29T22:42:48.917Z"
   },
   {
    "duration": 18,
    "start_time": "2024-04-29T22:42:48.937Z"
   },
   {
    "duration": 351,
    "start_time": "2024-04-29T22:42:48.956Z"
   },
   {
    "duration": 13,
    "start_time": "2024-04-29T22:42:49.309Z"
   },
   {
    "duration": 11,
    "start_time": "2024-04-29T22:42:49.324Z"
   },
   {
    "duration": 242,
    "start_time": "2024-04-29T22:42:49.337Z"
   },
   {
    "duration": 7,
    "start_time": "2024-04-29T22:42:49.580Z"
   },
   {
    "duration": 8,
    "start_time": "2024-04-29T22:42:49.588Z"
   },
   {
    "duration": 19,
    "start_time": "2024-04-29T22:42:49.597Z"
   },
   {
    "duration": 890,
    "start_time": "2024-04-29T22:42:49.619Z"
   },
   {
    "duration": 16,
    "start_time": "2024-04-29T22:42:50.511Z"
   },
   {
    "duration": 15,
    "start_time": "2024-04-29T22:42:50.529Z"
   },
   {
    "duration": 7,
    "start_time": "2024-04-29T22:42:50.546Z"
   },
   {
    "duration": 889,
    "start_time": "2024-04-29T22:42:50.554Z"
   },
   {
    "duration": 4,
    "start_time": "2024-04-29T22:42:51.445Z"
   },
   {
    "duration": 14,
    "start_time": "2024-04-29T22:42:51.450Z"
   },
   {
    "duration": 1502,
    "start_time": "2024-04-30T09:51:36.925Z"
   },
   {
    "duration": 114,
    "start_time": "2024-04-30T09:51:38.429Z"
   },
   {
    "duration": 13,
    "start_time": "2024-04-30T09:51:38.545Z"
   },
   {
    "duration": 43,
    "start_time": "2024-04-30T09:51:38.560Z"
   },
   {
    "duration": 177,
    "start_time": "2024-04-30T09:51:38.605Z"
   },
   {
    "duration": 12,
    "start_time": "2024-04-30T09:51:38.783Z"
   },
   {
    "duration": 37,
    "start_time": "2024-04-30T09:51:38.797Z"
   },
   {
    "duration": 98,
    "start_time": "2024-04-30T09:51:38.836Z"
   },
   {
    "duration": 10,
    "start_time": "2024-04-30T09:51:38.935Z"
   },
   {
    "duration": 32,
    "start_time": "2024-04-30T09:51:38.948Z"
   },
   {
    "duration": 33,
    "start_time": "2024-04-30T09:51:38.982Z"
   },
   {
    "duration": 33,
    "start_time": "2024-04-30T09:51:39.017Z"
   },
   {
    "duration": 19,
    "start_time": "2024-04-30T09:51:39.052Z"
   },
   {
    "duration": 9,
    "start_time": "2024-04-30T09:51:39.073Z"
   },
   {
    "duration": 20,
    "start_time": "2024-04-30T09:51:39.084Z"
   },
   {
    "duration": 9,
    "start_time": "2024-04-30T09:51:39.105Z"
   },
   {
    "duration": 6,
    "start_time": "2024-04-30T09:51:39.115Z"
   },
   {
    "duration": 5,
    "start_time": "2024-04-30T09:51:39.123Z"
   },
   {
    "duration": 9,
    "start_time": "2024-04-30T09:51:39.129Z"
   },
   {
    "duration": 9,
    "start_time": "2024-04-30T09:51:39.140Z"
   },
   {
    "duration": 24,
    "start_time": "2024-04-30T09:51:39.150Z"
   },
   {
    "duration": 8,
    "start_time": "2024-04-30T09:51:39.175Z"
   },
   {
    "duration": 180,
    "start_time": "2024-04-30T09:51:39.185Z"
   },
   {
    "duration": 10,
    "start_time": "2024-04-30T09:51:39.367Z"
   },
   {
    "duration": 103,
    "start_time": "2024-04-30T09:51:39.379Z"
   },
   {
    "duration": 171,
    "start_time": "2024-04-30T09:51:39.484Z"
   },
   {
    "duration": 5,
    "start_time": "2024-04-30T09:51:39.656Z"
   },
   {
    "duration": 5,
    "start_time": "2024-04-30T09:51:39.675Z"
   },
   {
    "duration": 8,
    "start_time": "2024-04-30T09:51:39.681Z"
   },
   {
    "duration": 136,
    "start_time": "2024-04-30T09:51:39.690Z"
   },
   {
    "duration": 6,
    "start_time": "2024-04-30T09:51:39.828Z"
   },
   {
    "duration": 16,
    "start_time": "2024-04-30T09:51:39.836Z"
   },
   {
    "duration": 23,
    "start_time": "2024-04-30T09:51:39.853Z"
   },
   {
    "duration": 7,
    "start_time": "2024-04-30T09:51:39.877Z"
   },
   {
    "duration": 11,
    "start_time": "2024-04-30T09:51:39.885Z"
   },
   {
    "duration": 8,
    "start_time": "2024-04-30T09:51:39.898Z"
   },
   {
    "duration": 4,
    "start_time": "2024-04-30T09:51:39.908Z"
   },
   {
    "duration": 27,
    "start_time": "2024-04-30T09:51:39.914Z"
   },
   {
    "duration": 133,
    "start_time": "2024-04-30T09:51:39.943Z"
   },
   {
    "duration": 113,
    "start_time": "2024-04-30T09:51:40.078Z"
   },
   {
    "duration": 9,
    "start_time": "2024-04-30T09:51:40.193Z"
   },
   {
    "duration": 23,
    "start_time": "2024-04-30T09:51:40.204Z"
   },
   {
    "duration": 6,
    "start_time": "2024-04-30T09:51:40.228Z"
   },
   {
    "duration": 60,
    "start_time": "2024-04-30T09:51:40.236Z"
   },
   {
    "duration": 14,
    "start_time": "2024-04-30T09:51:40.298Z"
   },
   {
    "duration": 35,
    "start_time": "2024-04-30T09:51:40.314Z"
   },
   {
    "duration": 24,
    "start_time": "2024-04-30T09:51:40.350Z"
   },
   {
    "duration": 352,
    "start_time": "2024-04-30T09:51:40.376Z"
   },
   {
    "duration": 8,
    "start_time": "2024-04-30T09:51:40.730Z"
   },
   {
    "duration": 7,
    "start_time": "2024-04-30T09:51:40.740Z"
   },
   {
    "duration": 261,
    "start_time": "2024-04-30T09:51:40.749Z"
   },
   {
    "duration": 8,
    "start_time": "2024-04-30T09:51:41.012Z"
   },
   {
    "duration": 7,
    "start_time": "2024-04-30T09:51:41.022Z"
   },
   {
    "duration": 8,
    "start_time": "2024-04-30T09:51:41.031Z"
   },
   {
    "duration": 987,
    "start_time": "2024-04-30T09:51:41.041Z"
   },
   {
    "duration": 12,
    "start_time": "2024-04-30T09:51:42.029Z"
   },
   {
    "duration": 31,
    "start_time": "2024-04-30T09:51:42.043Z"
   },
   {
    "duration": 7,
    "start_time": "2024-04-30T09:51:42.076Z"
   },
   {
    "duration": 890,
    "start_time": "2024-04-30T09:51:42.084Z"
   },
   {
    "duration": 5,
    "start_time": "2024-04-30T09:51:42.976Z"
   },
   {
    "duration": 12,
    "start_time": "2024-04-30T09:51:42.983Z"
   },
   {
    "duration": 1339,
    "start_time": "2024-04-30T09:54:52.211Z"
   },
   {
    "duration": 29,
    "start_time": "2024-04-30T09:54:53.552Z"
   },
   {
    "duration": 19,
    "start_time": "2024-04-30T09:54:53.583Z"
   },
   {
    "duration": 19,
    "start_time": "2024-04-30T09:54:53.604Z"
   },
   {
    "duration": 31,
    "start_time": "2024-04-30T09:54:53.625Z"
   },
   {
    "duration": 12,
    "start_time": "2024-04-30T09:54:53.658Z"
   },
   {
    "duration": 17,
    "start_time": "2024-04-30T09:54:53.671Z"
   },
   {
    "duration": 17,
    "start_time": "2024-04-30T09:54:53.690Z"
   },
   {
    "duration": 10,
    "start_time": "2024-04-30T09:54:53.709Z"
   },
   {
    "duration": 28,
    "start_time": "2024-04-30T09:54:53.721Z"
   },
   {
    "duration": 26,
    "start_time": "2024-04-30T09:54:53.751Z"
   },
   {
    "duration": 13,
    "start_time": "2024-04-30T09:54:53.779Z"
   },
   {
    "duration": 15,
    "start_time": "2024-04-30T09:54:53.793Z"
   },
   {
    "duration": 20,
    "start_time": "2024-04-30T09:54:53.810Z"
   },
   {
    "duration": 17,
    "start_time": "2024-04-30T09:54:53.832Z"
   },
   {
    "duration": 14,
    "start_time": "2024-04-30T09:54:53.851Z"
   },
   {
    "duration": 8,
    "start_time": "2024-04-30T09:54:53.867Z"
   },
   {
    "duration": 34,
    "start_time": "2024-04-30T09:54:53.877Z"
   },
   {
    "duration": 30,
    "start_time": "2024-04-30T09:54:53.912Z"
   },
   {
    "duration": 20,
    "start_time": "2024-04-30T09:54:53.944Z"
   },
   {
    "duration": 13,
    "start_time": "2024-04-30T09:54:53.966Z"
   },
   {
    "duration": 14,
    "start_time": "2024-04-30T09:54:53.981Z"
   },
   {
    "duration": 202,
    "start_time": "2024-04-30T09:54:53.997Z"
   },
   {
    "duration": 8,
    "start_time": "2024-04-30T09:54:54.201Z"
   },
   {
    "duration": 117,
    "start_time": "2024-04-30T09:54:54.211Z"
   },
   {
    "duration": 184,
    "start_time": "2024-04-30T09:54:54.329Z"
   },
   {
    "duration": 5,
    "start_time": "2024-04-30T09:54:54.515Z"
   },
   {
    "duration": 29,
    "start_time": "2024-04-30T09:54:54.525Z"
   },
   {
    "duration": 13,
    "start_time": "2024-04-30T09:54:54.556Z"
   },
   {
    "duration": 128,
    "start_time": "2024-04-30T09:54:54.571Z"
   },
   {
    "duration": 8,
    "start_time": "2024-04-30T09:54:54.701Z"
   },
   {
    "duration": 28,
    "start_time": "2024-04-30T09:54:54.711Z"
   },
   {
    "duration": 13,
    "start_time": "2024-04-30T09:54:54.741Z"
   },
   {
    "duration": 33,
    "start_time": "2024-04-30T09:54:54.756Z"
   },
   {
    "duration": 47,
    "start_time": "2024-04-30T09:54:54.790Z"
   },
   {
    "duration": 26,
    "start_time": "2024-04-30T09:54:54.839Z"
   },
   {
    "duration": 20,
    "start_time": "2024-04-30T09:54:54.867Z"
   },
   {
    "duration": 49,
    "start_time": "2024-04-30T09:54:54.888Z"
   },
   {
    "duration": 137,
    "start_time": "2024-04-30T09:54:54.939Z"
   },
   {
    "duration": 107,
    "start_time": "2024-04-30T09:54:55.078Z"
   },
   {
    "duration": 9,
    "start_time": "2024-04-30T09:54:55.186Z"
   },
   {
    "duration": 35,
    "start_time": "2024-04-30T09:54:55.196Z"
   },
   {
    "duration": 8,
    "start_time": "2024-04-30T09:54:55.233Z"
   },
   {
    "duration": 64,
    "start_time": "2024-04-30T09:54:55.242Z"
   },
   {
    "duration": 14,
    "start_time": "2024-04-30T09:54:55.308Z"
   },
   {
    "duration": 77,
    "start_time": "2024-04-30T09:54:55.324Z"
   },
   {
    "duration": 33,
    "start_time": "2024-04-30T09:54:55.402Z"
   },
   {
    "duration": 341,
    "start_time": "2024-04-30T09:54:55.437Z"
   },
   {
    "duration": 8,
    "start_time": "2024-04-30T09:54:55.780Z"
   },
   {
    "duration": 28,
    "start_time": "2024-04-30T09:54:55.790Z"
   },
   {
    "duration": 277,
    "start_time": "2024-04-30T09:54:55.821Z"
   },
   {
    "duration": 9,
    "start_time": "2024-04-30T09:54:56.099Z"
   },
   {
    "duration": 10,
    "start_time": "2024-04-30T09:54:56.110Z"
   },
   {
    "duration": 15,
    "start_time": "2024-04-30T09:54:56.121Z"
   },
   {
    "duration": 955,
    "start_time": "2024-04-30T09:54:56.138Z"
   },
   {
    "duration": 13,
    "start_time": "2024-04-30T09:54:57.095Z"
   },
   {
    "duration": 15,
    "start_time": "2024-04-30T09:54:57.109Z"
   },
   {
    "duration": 13,
    "start_time": "2024-04-30T09:54:57.126Z"
   },
   {
    "duration": 919,
    "start_time": "2024-04-30T09:54:57.141Z"
   },
   {
    "duration": 13,
    "start_time": "2024-04-30T09:54:58.062Z"
   },
   {
    "duration": 17,
    "start_time": "2024-04-30T09:54:58.077Z"
   },
   {
    "duration": 1168,
    "start_time": "2024-04-30T14:41:01.264Z"
   },
   {
    "duration": 29,
    "start_time": "2024-04-30T14:41:02.433Z"
   },
   {
    "duration": 10,
    "start_time": "2024-04-30T14:41:02.464Z"
   },
   {
    "duration": 45,
    "start_time": "2024-04-30T14:41:02.476Z"
   },
   {
    "duration": 47,
    "start_time": "2024-04-30T14:41:02.523Z"
   },
   {
    "duration": 24,
    "start_time": "2024-04-30T14:41:02.571Z"
   },
   {
    "duration": 13,
    "start_time": "2024-04-30T14:41:02.597Z"
   },
   {
    "duration": 22,
    "start_time": "2024-04-30T14:41:02.612Z"
   },
   {
    "duration": 9,
    "start_time": "2024-04-30T14:41:02.636Z"
   },
   {
    "duration": 28,
    "start_time": "2024-04-30T14:41:02.649Z"
   },
   {
    "duration": 22,
    "start_time": "2024-04-30T14:41:02.679Z"
   },
   {
    "duration": 14,
    "start_time": "2024-04-30T14:41:02.703Z"
   },
   {
    "duration": 14,
    "start_time": "2024-04-30T14:41:02.719Z"
   },
   {
    "duration": 8,
    "start_time": "2024-04-30T14:41:02.735Z"
   },
   {
    "duration": 20,
    "start_time": "2024-04-30T14:41:02.745Z"
   },
   {
    "duration": 7,
    "start_time": "2024-04-30T14:41:02.767Z"
   },
   {
    "duration": 7,
    "start_time": "2024-04-30T14:41:02.776Z"
   },
   {
    "duration": 21,
    "start_time": "2024-04-30T14:41:02.784Z"
   },
   {
    "duration": 7,
    "start_time": "2024-04-30T14:41:02.807Z"
   },
   {
    "duration": 7,
    "start_time": "2024-04-30T14:41:02.816Z"
   },
   {
    "duration": 12,
    "start_time": "2024-04-30T14:41:02.825Z"
   },
   {
    "duration": 13,
    "start_time": "2024-04-30T14:41:02.838Z"
   },
   {
    "duration": 146,
    "start_time": "2024-04-30T14:41:02.865Z"
   },
   {
    "duration": 5,
    "start_time": "2024-04-30T14:41:03.012Z"
   },
   {
    "duration": 86,
    "start_time": "2024-04-30T14:41:03.019Z"
   },
   {
    "duration": 138,
    "start_time": "2024-04-30T14:41:03.106Z"
   },
   {
    "duration": 5,
    "start_time": "2024-04-30T14:41:03.245Z"
   },
   {
    "duration": 15,
    "start_time": "2024-04-30T14:41:03.253Z"
   },
   {
    "duration": 7,
    "start_time": "2024-04-30T14:41:03.269Z"
   },
   {
    "duration": 112,
    "start_time": "2024-04-30T14:41:03.277Z"
   },
   {
    "duration": 6,
    "start_time": "2024-04-30T14:41:03.390Z"
   },
   {
    "duration": 6,
    "start_time": "2024-04-30T14:41:03.398Z"
   },
   {
    "duration": 8,
    "start_time": "2024-04-30T14:41:03.405Z"
   },
   {
    "duration": 5,
    "start_time": "2024-04-30T14:41:03.414Z"
   },
   {
    "duration": 5,
    "start_time": "2024-04-30T14:41:03.420Z"
   },
   {
    "duration": 40,
    "start_time": "2024-04-30T14:41:03.427Z"
   },
   {
    "duration": 3,
    "start_time": "2024-04-30T14:41:03.469Z"
   },
   {
    "duration": 14,
    "start_time": "2024-04-30T14:41:03.473Z"
   },
   {
    "duration": 99,
    "start_time": "2024-04-30T14:41:03.489Z"
   },
   {
    "duration": 93,
    "start_time": "2024-04-30T14:41:03.590Z"
   },
   {
    "duration": 9,
    "start_time": "2024-04-30T14:41:03.685Z"
   },
   {
    "duration": 29,
    "start_time": "2024-04-30T14:41:03.695Z"
   },
   {
    "duration": 6,
    "start_time": "2024-04-30T14:41:03.726Z"
   },
   {
    "duration": 57,
    "start_time": "2024-04-30T14:41:03.734Z"
   },
   {
    "duration": 17,
    "start_time": "2024-04-30T14:41:03.793Z"
   },
   {
    "duration": 18,
    "start_time": "2024-04-30T14:41:03.812Z"
   },
   {
    "duration": 39,
    "start_time": "2024-04-30T14:41:03.831Z"
   },
   {
    "duration": 309,
    "start_time": "2024-04-30T14:41:03.872Z"
   },
   {
    "duration": 10,
    "start_time": "2024-04-30T14:41:04.182Z"
   },
   {
    "duration": 9,
    "start_time": "2024-04-30T14:41:04.194Z"
   },
   {
    "duration": 246,
    "start_time": "2024-04-30T14:41:04.205Z"
   },
   {
    "duration": 19,
    "start_time": "2024-04-30T14:41:04.453Z"
   },
   {
    "duration": 9,
    "start_time": "2024-04-30T14:41:04.474Z"
   },
   {
    "duration": 3,
    "start_time": "2024-04-30T14:41:04.485Z"
   },
   {
    "duration": 823,
    "start_time": "2024-04-30T14:41:04.490Z"
   },
   {
    "duration": 12,
    "start_time": "2024-04-30T14:41:05.314Z"
   },
   {
    "duration": 15,
    "start_time": "2024-04-30T14:41:05.328Z"
   },
   {
    "duration": 6,
    "start_time": "2024-04-30T14:41:05.365Z"
   },
   {
    "duration": 755,
    "start_time": "2024-04-30T14:41:05.373Z"
   },
   {
    "duration": 5,
    "start_time": "2024-04-30T14:41:06.130Z"
   },
   {
    "duration": 9,
    "start_time": "2024-04-30T14:41:06.137Z"
   },
   {
    "duration": 1188,
    "start_time": "2024-04-30T22:26:40.705Z"
   },
   {
    "duration": 30,
    "start_time": "2024-04-30T22:26:41.895Z"
   },
   {
    "duration": 11,
    "start_time": "2024-04-30T22:26:41.926Z"
   },
   {
    "duration": 11,
    "start_time": "2024-04-30T22:26:41.939Z"
   },
   {
    "duration": 27,
    "start_time": "2024-04-30T22:26:41.952Z"
   },
   {
    "duration": 11,
    "start_time": "2024-04-30T22:26:41.981Z"
   },
   {
    "duration": 8,
    "start_time": "2024-04-30T22:26:41.993Z"
   },
   {
    "duration": 26,
    "start_time": "2024-04-30T22:26:42.003Z"
   },
   {
    "duration": 10,
    "start_time": "2024-04-30T22:26:42.030Z"
   },
   {
    "duration": 7,
    "start_time": "2024-04-30T22:26:42.042Z"
   },
   {
    "duration": 7,
    "start_time": "2024-04-30T22:26:42.050Z"
   },
   {
    "duration": 4,
    "start_time": "2024-04-30T22:26:42.058Z"
   },
   {
    "duration": 8,
    "start_time": "2024-04-30T22:26:42.064Z"
   },
   {
    "duration": 6,
    "start_time": "2024-04-30T22:26:42.073Z"
   },
   {
    "duration": 5,
    "start_time": "2024-04-30T22:26:42.080Z"
   },
   {
    "duration": 6,
    "start_time": "2024-04-30T22:26:42.115Z"
   },
   {
    "duration": 9,
    "start_time": "2024-04-30T22:26:42.123Z"
   },
   {
    "duration": 9,
    "start_time": "2024-04-30T22:26:42.134Z"
   },
   {
    "duration": 7,
    "start_time": "2024-04-30T22:26:42.144Z"
   },
   {
    "duration": 8,
    "start_time": "2024-04-30T22:26:42.152Z"
   },
   {
    "duration": 7,
    "start_time": "2024-04-30T22:26:42.162Z"
   },
   {
    "duration": 52,
    "start_time": "2024-04-30T22:26:42.170Z"
   },
   {
    "duration": 169,
    "start_time": "2024-04-30T22:26:42.223Z"
   },
   {
    "duration": 5,
    "start_time": "2024-04-30T22:26:42.393Z"
   },
   {
    "duration": 92,
    "start_time": "2024-04-30T22:26:42.399Z"
   },
   {
    "duration": 141,
    "start_time": "2024-04-30T22:26:42.493Z"
   },
   {
    "duration": 5,
    "start_time": "2024-04-30T22:26:42.636Z"
   },
   {
    "duration": 4,
    "start_time": "2024-04-30T22:26:42.646Z"
   },
   {
    "duration": 8,
    "start_time": "2024-04-30T22:26:42.652Z"
   },
   {
    "duration": 130,
    "start_time": "2024-04-30T22:26:42.661Z"
   },
   {
    "duration": 7,
    "start_time": "2024-04-30T22:26:42.793Z"
   },
   {
    "duration": 7,
    "start_time": "2024-04-30T22:26:42.815Z"
   },
   {
    "duration": 8,
    "start_time": "2024-04-30T22:26:42.824Z"
   },
   {
    "duration": 6,
    "start_time": "2024-04-30T22:26:42.834Z"
   },
   {
    "duration": 7,
    "start_time": "2024-04-30T22:26:42.841Z"
   },
   {
    "duration": 8,
    "start_time": "2024-04-30T22:26:42.850Z"
   },
   {
    "duration": 10,
    "start_time": "2024-04-30T22:26:42.859Z"
   },
   {
    "duration": 45,
    "start_time": "2024-04-30T22:26:42.870Z"
   },
   {
    "duration": 99,
    "start_time": "2024-04-30T22:26:42.917Z"
   },
   {
    "duration": 98,
    "start_time": "2024-04-30T22:26:43.018Z"
   },
   {
    "duration": 9,
    "start_time": "2024-04-30T22:26:43.118Z"
   },
   {
    "duration": 22,
    "start_time": "2024-04-30T22:26:43.128Z"
   },
   {
    "duration": 5,
    "start_time": "2024-04-30T22:26:43.152Z"
   },
   {
    "duration": 27,
    "start_time": "2024-04-30T22:26:43.158Z"
   },
   {
    "duration": 14,
    "start_time": "2024-04-30T22:26:43.215Z"
   },
   {
    "duration": 17,
    "start_time": "2024-04-30T22:26:43.230Z"
   },
   {
    "duration": 15,
    "start_time": "2024-04-30T22:26:43.248Z"
   },
   {
    "duration": 339,
    "start_time": "2024-04-30T22:26:43.265Z"
   },
   {
    "duration": 14,
    "start_time": "2024-04-30T22:26:43.606Z"
   },
   {
    "duration": 7,
    "start_time": "2024-04-30T22:26:43.622Z"
   },
   {
    "duration": 234,
    "start_time": "2024-04-30T22:26:43.630Z"
   },
   {
    "duration": 7,
    "start_time": "2024-04-30T22:26:43.866Z"
   },
   {
    "duration": 7,
    "start_time": "2024-04-30T22:26:43.874Z"
   },
   {
    "duration": 4,
    "start_time": "2024-04-30T22:26:43.882Z"
   },
   {
    "duration": 879,
    "start_time": "2024-04-30T22:26:43.887Z"
   },
   {
    "duration": 10,
    "start_time": "2024-04-30T22:26:44.768Z"
   },
   {
    "duration": 11,
    "start_time": "2024-04-30T22:26:44.779Z"
   },
   {
    "duration": 5,
    "start_time": "2024-04-30T22:26:44.791Z"
   },
   {
    "duration": 836,
    "start_time": "2024-04-30T22:26:44.797Z"
   },
   {
    "duration": 5,
    "start_time": "2024-04-30T22:26:45.634Z"
   },
   {
    "duration": 9,
    "start_time": "2024-04-30T22:26:45.641Z"
   }
  ],
  "kernelspec": {
   "display_name": "Python 3 (ipykernel)",
   "language": "python",
   "name": "python3"
  },
  "language_info": {
   "codemirror_mode": {
    "name": "ipython",
    "version": 3
   },
   "file_extension": ".py",
   "mimetype": "text/x-python",
   "name": "python",
   "nbconvert_exporter": "python",
   "pygments_lexer": "ipython3",
   "version": "3.9.5"
  },
  "toc": {
   "base_numbering": 1,
   "nav_menu": {},
   "number_sections": true,
   "sideBar": true,
   "skip_h1_title": true,
   "title_cell": "Table of Contents",
   "title_sidebar": "Contents",
   "toc_cell": false,
   "toc_position": {},
   "toc_section_display": true,
   "toc_window_display": false
  }
 },
 "nbformat": 4,
 "nbformat_minor": 5
}
