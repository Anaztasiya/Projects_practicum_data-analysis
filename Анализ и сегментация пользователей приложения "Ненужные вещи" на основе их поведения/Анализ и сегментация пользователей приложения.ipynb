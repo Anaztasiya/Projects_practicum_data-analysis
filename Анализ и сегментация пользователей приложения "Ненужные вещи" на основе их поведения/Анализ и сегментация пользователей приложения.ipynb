{
 "cells": [
  {
   "cell_type": "markdown",
   "id": "bb374404",
   "metadata": {},
   "source": [
    "# Анализ и сегментация пользователей приложения \"Ненужные вещи\" на основе их поведения\n",
    "\n",
    "Необходимо выделить группы пользователей мобильного приложения \"Ненужные вещи\" на основе их поведения, используя метрики: retention rate, время в приложении, частота действий и конверсия в просмотр контактов. \n",
    "\n",
    "**Ход работы:**\n",
    "\n",
    "* Выгрузка данных\n",
    "\n",
    "* Предобработка данных\n",
    "    * Объединение данных\n",
    "    * Проверка типов данных\n",
    "    * Рассчет сессий\n",
    "    * Проверка на пропуски\n",
    "    * Проверка на дубликаты\n",
    "* Анализ поведения пользователей\n",
    "    * Расчет и анализ Retention Rate\n",
    "    * Расчет и анализ времени в приложении\n",
    "    * Расчет и анализ частоты действий пользователей\n",
    "    * Расчет и анализ конверсии в просмотр контактов\n",
    "* Сегментация пользователей\n",
    "    * Деление пользователей на группы\n",
    "    * Расчет Retention rate по группам пользователей\n",
    "    * Расчет конверсии по группам пользователей\n",
    "* Проверка гипотез\n",
    "    * Различие конверсии в просмотр контактов между пользователями из Yandex и Google.\n",
    "\n",
    "        • Нулевая гипотеза (H₀): Конверсия одинакова.\n",
    "\n",
    "        • Альтернативная гипотеза (H₁): Конверсия различается.\n",
    "\n",
    "    * Пользователи, которые кликают по рекомендованным объявлениям, имеют более высокую конверсию в просмотр контактов, чем те, кто этого не делает.\n",
    "\n",
    "        • Нулевая гипотеза (H₀): Конверсия в просмотр контактов одинакова для пользователей, кликавших на рекомендации (tips_click), и тех, кто не кликал.\n",
    "        \n",
    "        • Альтернативная гипотеза (H₁): Конверсия в просмотр контактов выше у пользователей, кликавших на рекомендации.\n",
    "* Выводы и рекомендации\n",
    "\n",
    "\n",
    "\n",
    "**Описание данных**\n",
    "\n",
    "\n",
    "Колонки в <code>/datasets/mobile_sources.csv</code>:\n",
    "\n",
    "* <code>userId</code> — идентификатор пользователя,\n",
    "* <code>source</code> — источник, с которого пользователь установил приложение.\n",
    "\n",
    "\n",
    "Колонки в <code>/datasets/mobile_dataset.csv</code>:\n",
    "* <code>event.time</code> — время совершения,\n",
    "* <code>user.id</code> — идентификатор пользователя,\n",
    "* <code>event.name</code> — действие пользователя.\n",
    "    Виды действий:\n",
    "    * <code>photos_show</code> — просмотрел фотографий в объявлении,\n",
    "    * <code>advert_open</code> — открыл карточки объявления,\n",
    "    * <code>tips_show</code> — увидел рекомендованные объявления,\n",
    "    * <code>tips_click</code> — кликнул по рекомендованному объявлению,\n",
    "    * <code>contacts_show</code> и <code>show_contacts</code> — посмотрел номер телефона,\n",
    "    * <code>contacts_call</code> — позвонил по номеру из объявления,\n",
    "    * <code>map</code> — открыл карту объявлений,\n",
    "    * <code>search_1</code> — <code>search_7</code> — разные действия, связанные с поиском по сайту,\n",
    "    * <code>favorites_add</code> — добавил объявление в избранное.\n",
    "\n"
   ]
  },
  {
   "cell_type": "markdown",
   "id": "269cef6f",
   "metadata": {},
   "source": [
    "### Загрузка данных"
   ]
  },
  {
   "cell_type": "code",
   "execution_count": null,
   "id": "9fc643c7",
   "metadata": {},
   "outputs": [],
   "source": [
    "# Подключаем библиотеки\n",
    "\n",
    "import pandas as pd\n",
    "import datetime as dt\n",
    "from datetime import datetime, timedelta\n",
    "import numpy as np\n",
    "import matplotlib.pyplot as plt\n",
    "import matplotlib.dates as mdates\n",
    "import plotly.express as px\n",
    "import plotly.graph_objects as go\n",
    "import math as mth\n",
    "import scipy.stats as st\n",
    "from scipy.stats import chi2_contingency\n",
    "import seaborn as sns\n",
    "import os"
   ]
  },
  {
   "cell_type": "code",
   "execution_count": null,
   "id": "e42c9397",
   "metadata": {},
   "outputs": [],
   "source": [
    "# Загружаем данные\n",
    "pth1 = '/datasets/mobile_dataset.csv'\n",
    "pth2 = 'https://code.s3.yandex.net/datasets/mobile_dataset.csv'\n",
    "\n",
    "if os.path.exists(pth1):\n",
    "    md = pd.read_csv(pth1, sep=',')\n",
    "else:\n",
    "    try:\n",
    "        md = pd.read_csv(pth2, sep=',')\n",
    "    except Exception as e:\n",
    "        print(f\"Ошибка загрузки файла: {e}\")\n",
    "\n",
    "md.info()"
   ]
  },
  {
   "cell_type": "code",
   "execution_count": null,
   "id": "680be105",
   "metadata": {
    "scrolled": false
   },
   "outputs": [],
   "source": [
    "pth3 = '/datasets/mobile_sourсes.csv'\n",
    "pth4 = 'https://code.s3.yandex.net/datasets/mobile_sources.csv'\n",
    "\n",
    "if os.path.exists(pth3):\n",
    "        ms = pd.read_csv(pth3, sep=',')   \n",
    "else:\n",
    "    try:\n",
    "        ms = pd.read_csv(pth4, sep=',')\n",
    "    except Exception as e:\n",
    "        print(f\"Ошибка загрузки файла: {e}\")\n",
    "        \n",
    "ms.info()"
   ]
  },
  {
   "cell_type": "code",
   "execution_count": null,
   "id": "c303edcf",
   "metadata": {},
   "outputs": [],
   "source": [
    "# Приведем названия колонок к нижнему регистру и \"змеиному\" формату\n",
    "\n",
    "md.columns = ['event_time', 'event_name', 'user_id']\n",
    "ms.columns = ['user_id', 'source']\n",
    "\n",
    "md.info()\n",
    "ms.info()"
   ]
  },
  {
   "cell_type": "markdown",
   "id": "57332317",
   "metadata": {},
   "source": [
    "### Предобработка данных"
   ]
  },
  {
   "cell_type": "code",
   "execution_count": null,
   "id": "2f57902f",
   "metadata": {},
   "outputs": [],
   "source": [
    "# Объединим таблицы\n",
    "\n",
    "df = pd.merge(md, ms, left_on='user_id', right_on='user_id')  \n",
    "\n",
    "df.info()"
   ]
  },
  {
   "cell_type": "markdown",
   "id": "8cc0d665",
   "metadata": {},
   "source": [
    "Пропусков не замечено. Однако необходимо столбец event.time привести к формату времени."
   ]
  },
  {
   "cell_type": "code",
   "execution_count": null,
   "id": "d4271d50",
   "metadata": {},
   "outputs": [],
   "source": [
    "df.head()"
   ]
  },
  {
   "cell_type": "code",
   "execution_count": null,
   "id": "d60cafc5",
   "metadata": {},
   "outputs": [],
   "source": [
    "# Ищем дубликаты\n",
    "\n",
    "df.duplicated().sum()"
   ]
  },
  {
   "cell_type": "code",
   "execution_count": null,
   "id": "a4761377",
   "metadata": {},
   "outputs": [],
   "source": [
    "# Приведем столбец event_time к формату времени\n",
    "\n",
    "df['event_time'] = pd.to_datetime(df['event_time']).dt.round('ms')\n",
    "\n",
    "df.info()"
   ]
  },
  {
   "cell_type": "markdown",
   "id": "afa9386f",
   "metadata": {},
   "source": [
    "Округляем время до миллисекунд, чтобы избежать большого количества дубликатов, как если бы мы округляли до секунд."
   ]
  },
  {
   "cell_type": "code",
   "execution_count": null,
   "id": "a2b947a3",
   "metadata": {},
   "outputs": [],
   "source": [
    "df.head()"
   ]
  },
  {
   "cell_type": "code",
   "execution_count": null,
   "id": "e9bf329d",
   "metadata": {},
   "outputs": [],
   "source": [
    "# Проверим еще раз на дубликаты и посмотрим на них если они есть\n",
    "\n",
    "df.duplicated().sum()"
   ]
  },
  {
   "cell_type": "code",
   "execution_count": null,
   "id": "ac363a1d",
   "metadata": {},
   "outputs": [],
   "source": [
    "dub = df.duplicated(keep=False)\n",
    "dub = dub[dub == True].index.to_list()\n",
    "\n",
    "df.loc[df.index.isin(dub)]"
   ]
  },
  {
   "cell_type": "markdown",
   "id": "08d428be",
   "metadata": {},
   "source": [
    "По выведенной таблице можно сделать вывод, что в основном это связано с быстрым листанием ленты или фотографий. Таким образом и могут появляться повторные записи. Их не такое большое количество, так что можем их убрать."
   ]
  },
  {
   "cell_type": "code",
   "execution_count": null,
   "id": "06b34686",
   "metadata": {},
   "outputs": [],
   "source": [
    "df.drop_duplicates(inplace=True)\n",
    "df.reset_index(inplace=True, drop=True)"
   ]
  },
  {
   "cell_type": "code",
   "execution_count": null,
   "id": "195fdcd4",
   "metadata": {},
   "outputs": [],
   "source": [
    "# Проверим уникальные значения в столбце event_name\n",
    "\n",
    "df.event_name.unique()"
   ]
  },
  {
   "cell_type": "markdown",
   "id": "175fcaaf",
   "metadata": {},
   "source": [
    "Видим что есть повторяющиеся значения показа контакта – contacts_show и show_contacts. Заменим 2-ое на 1-ое во всем датафрейме. Также есть события поиска в приложении под разными номерами. Объединим их в общее значение для более удобного анализа."
   ]
  },
  {
   "cell_type": "code",
   "execution_count": null,
   "id": "0545cc44",
   "metadata": {},
   "outputs": [],
   "source": [
    "search = ['search_1', 'search_2', 'search_3', 'search_4', 'search_5', 'search_6', 'search_7']\n",
    "\n",
    "def contacts_rename(row):\n",
    "    cell = row['event_name']\n",
    "    if cell == 'show_contacts':\n",
    "        return 'contacts_show'\n",
    "    elif cell in search:\n",
    "        return 'search'\n",
    "    else:\n",
    "        return cell\n",
    "    \n",
    "df['event_name'] = df.apply(contacts_rename, axis=1)\n",
    "\n",
    "df.event_name.unique()"
   ]
  },
  {
   "cell_type": "code",
   "execution_count": null,
   "id": "1ab19a29",
   "metadata": {},
   "outputs": [],
   "source": [
    "# Выделяем сесси пользователей\n",
    "session = (df.groupby('user_id')['event_time'].diff() > pd.Timedelta('30Min')).cumsum()\n",
    "\n",
    "df['session_id'] = df.groupby(['user_id', session], sort=False).ngroup() + 1\n",
    "\n",
    "df.head()"
   ]
  },
  {
   "cell_type": "markdown",
   "id": "36b9e45f",
   "metadata": {},
   "source": [
    "Выделяем сессии путем сортировки таблицы с логами событий и последующим добавлением уникального номера каждой, обозначив разрыв между 2 сессиями в 30 минут как условие для начала следующей сессии. "
   ]
  },
  {
   "cell_type": "markdown",
   "id": "848025f9",
   "metadata": {},
   "source": [
    "***Выводы:***\n",
    "\n",
    "В ходе данной части было сделано следующее:\n",
    "* Датасеты были объединены в единую таблицу\n",
    "* Наименования столбцов приведены в нижний регистр и к \"змеиному\" стилю\n",
    "* В колонке event_time формат данных был изменен на временной \n",
    "* Проверили на дубликаты\n",
    "* Изучены показатели колонки event_name, приведены к общим показатели \"contacts_show\" и \"search\"\n",
    "* Выделены отдельные сессии для пользователей\n",
    "\n",
    "\n",
    "\n",
    "Данные готовы к дальнейшему анализу."
   ]
  },
  {
   "cell_type": "markdown",
   "id": "b1e2e2d8",
   "metadata": {},
   "source": [
    "### Анализ поведения пользователей"
   ]
  },
  {
   "cell_type": "markdown",
   "id": "884835b1",
   "metadata": {},
   "source": [
    "#### Расчет и анализ Retention Rate\n"
   ]
  },
  {
   "cell_type": "markdown",
   "id": "d55c5096",
   "metadata": {},
   "source": [
    "Сначала подготовимся для расчетов. Необходимо составить таблицу с профилями пользователей, где будет содержаться информация из полей user_id, session_id, время начала и конца сессии, а так же источник, откуда пользователь пришел. "
   ]
  },
  {
   "cell_type": "code",
   "execution_count": null,
   "id": "a47248b0",
   "metadata": {},
   "outputs": [],
   "source": [
    "#Для его создания напишем функцию.\n",
    "\n",
    "def get_sessions(df):\n",
    "    \n",
    "    session_s = (df.groupby(['session_id'])\n",
    "             .agg({'event_time':'min'})\n",
    "             .rename(columns={'event_time':'session_start'})\n",
    "             .reset_index())\n",
    "\n",
    "    session_e = (df.groupby(['session_id'])\n",
    "             .agg({'event_time':'max'})\n",
    "             .rename(columns={'event_time':'session_end'})\n",
    "             .reset_index())\n",
    "    \n",
    "    sessions = df.merge(session_s,\n",
    "                        on='session_id',\n",
    "                        how='left', \n",
    "                        sort=True)\n",
    "        \n",
    "    sessions = sessions.merge(session_e, \n",
    "                              on='session_id', \n",
    "                              how='left',\n",
    "                              sort=True)\n",
    "    \n",
    "    sessions = sessions[['user_id',\n",
    "                         'session_id', \n",
    "                         'source',\n",
    "                         'session_start', \n",
    "                         'session_end']]\n",
    "    sessions = (sessions\n",
    "                .drop_duplicates()\n",
    "                .reset_index(drop=True))\n",
    "    \n",
    "    return sessions\n",
    "\n",
    "sessions = get_sessions(df)\n",
    "sessions.head()"
   ]
  },
  {
   "cell_type": "code",
   "execution_count": null,
   "id": "e4c8922c",
   "metadata": {},
   "outputs": [],
   "source": [
    "#Выведем таблицу с информацией о первых визитах пользователей на сайт.\n",
    "\n",
    "profiles = (sessions.sort_values(by=['user_id', 'session_start'])\n",
    "        .groupby('user_id')\n",
    "        .agg(\n",
    "            {'session_start': 'first',\n",
    "                'source': 'first',}\n",
    "        )\n",
    "        .rename(columns={'session_start': 'first_ts'})\n",
    "        .reset_index()\n",
    "    )\n",
    "profiles\n",
    "\n"
   ]
  },
  {
   "cell_type": "code",
   "execution_count": null,
   "id": "bd1d0ef3",
   "metadata": {},
   "outputs": [],
   "source": [
    "profiles['dt'] = profiles['first_ts'].dt.date\n",
    "\n",
    "def get_profiles(sessions):\n",
    "\n",
    "    # находим параметры первых посещений\n",
    "    profiles = (\n",
    "        sessions.sort_values(by=['user_id', 'session_start'])\n",
    "        .groupby('user_id')\n",
    "        .agg(\n",
    "            {\n",
    "                'session_start': 'first',\n",
    "                'source': 'first',\n",
    "            }\n",
    "        )\n",
    "        .rename(columns={'session_start': 'first_ts'})\n",
    "        .reset_index()\n",
    "    )\n",
    "    # для когортного анализа определяем дату первого посещения\n",
    "    # и первый день месяца, в который это посещение произошло\n",
    "    profiles['dt'] = profiles['first_ts'].dt.date\n",
    "    profiles['dt'] = profiles['dt'].astype('datetime64[ns]')\n",
    "    profiles['month'] = profiles['dt'].values.astype('datetime64[M]')\n",
    "\n",
    "    \n",
    "    # считаем количество уникальных пользователей\n",
    "    # с одинаковыми источником и датой привлечения\n",
    "    new_users = (\n",
    "        profiles.groupby(['dt', 'source'])\n",
    "        .agg({'user_id': 'nunique'})\n",
    "        .rename(columns={'user_id': 'unique_users'})\n",
    "        .reset_index()\n",
    "    )\n",
    "    \n",
    "    # добавляем стоимость привлечения в профили\n",
    "    profiles = profiles.merge(\n",
    "        new_users[['dt', 'source']],\n",
    "        on=['dt', 'source'],\n",
    "        how='left',\n",
    "    )\n",
    "    \n",
    "    return profiles\n",
    "\n",
    "profiles = get_profiles(sessions)"
   ]
  },
  {
   "cell_type": "markdown",
   "id": "2edcb3a8",
   "metadata": {},
   "source": [
    "Теперь создадим таблицу **Retention Rate**"
   ]
  },
  {
   "cell_type": "code",
   "execution_count": null,
   "id": "5b697df5",
   "metadata": {},
   "outputs": [],
   "source": [
    "def get_retention(\n",
    "    profiles, sessions, observation_date, horizon_days, ignore_horizon=False\n",
    "):\n",
    "\n",
    "    # исключаем пользователей, не «доживших» до горизонта анализа\n",
    "    last_suitable_acquisition_date = observation_date\n",
    "    if not ignore_horizon:\n",
    "        last_suitable_acquisition_date = observation_date - timedelta(\n",
    "            days=horizon_days - 1\n",
    "        )\n",
    "    result_raw = profiles.query('dt <= @last_suitable_acquisition_date')\n",
    "\n",
    "    # собираем «сырые» данные для расчёта удержания\n",
    "    result_raw = result_raw.merge(\n",
    "        sessions[['user_id', 'session_start']], on='user_id', how='left'\n",
    "    )\n",
    "    result_raw['lifetime'] = (\n",
    "        result_raw['session_start'] - result_raw['first_ts']\n",
    "    ).dt.days\n",
    "\n",
    "    # рассчитываем удержание\n",
    "    result_grouped = result_raw.pivot_table(\n",
    "        index=['dt'], columns='lifetime', values='user_id', aggfunc='nunique'\n",
    "    )\n",
    "    cohort_sizes = (\n",
    "        result_raw.groupby('dt')\n",
    "        .agg({'user_id': 'nunique'})\n",
    "        .rename(columns={'user_id': 'cohort_size'})\n",
    "    )\n",
    "    result_grouped = cohort_sizes.merge(\n",
    "        result_grouped, on='dt', how='left'\n",
    "    ).fillna(0)\n",
    "    result_grouped = result_grouped.div(result_grouped['cohort_size'], axis=0)\n",
    "\n",
    "    # исключаем все лайфтаймы, превышающие горизонт анализа\n",
    "    result_grouped = result_grouped[\n",
    "        ['cohort_size'] + list(range(horizon_days))\n",
    "    ]\n",
    "\n",
    "    # восстанавливаем столбец с размерами когорт\n",
    "    result_grouped['cohort_size'] = cohort_sizes\n",
    "\n",
    "    # возвращаем таблицу удержания и сырые данные\n",
    "    # сырые данные пригодятся, если нужно будет отыскать ошибку в расчётах\n",
    "    return result_raw, result_grouped\n"
   ]
  },
  {
   "cell_type": "code",
   "execution_count": null,
   "id": "6bb48efe",
   "metadata": {},
   "outputs": [],
   "source": [
    "# Для постановки момента анализа, проверим последнюю доступную дату.\n",
    "\n",
    "df_day=df.groupby(['session_id']).agg({'event_time':'max'})\n",
    "             \n",
    "df_day.tail()"
   ]
  },
  {
   "cell_type": "markdown",
   "id": "22fec217",
   "metadata": {},
   "source": [
    "Моментом анализа зададим дату – 3 ноября 2019 года, как мы видим по данным она последняя доступная нам; горизонт анализа будет равен 7-ми дням. Так мы рассмотрим еженедельную динамику коэффициента удержания пользователей."
   ]
  },
  {
   "cell_type": "code",
   "execution_count": null,
   "id": "41124756",
   "metadata": {},
   "outputs": [],
   "source": [
    "# задаём момент и горизонт анализа данных\n",
    "observation_date = datetime(2019, 11, 3).date()\n",
    "horizon_days = 7\n",
    "\n",
    "# создаём опцию «игнорировать горизонт»\n",
    "ignore_horizon = False\n",
    "\n",
    "retention_raw, retention = get_retention(\n",
    "    profiles, sessions, observation_date, horizon_days, ignore_horizon\n",
    ")"
   ]
  },
  {
   "cell_type": "code",
   "execution_count": null,
   "id": "53c61f79",
   "metadata": {},
   "outputs": [],
   "source": [
    "round(retention.loc[:, 6].mean() * 100, 2)"
   ]
  },
  {
   "cell_type": "markdown",
   "id": "8b8ee8bd",
   "metadata": {},
   "source": [
    "Среднее значение удержания на 7-й день – 6.03%"
   ]
  },
  {
   "cell_type": "code",
   "execution_count": null,
   "id": "831568b3",
   "metadata": {},
   "outputs": [],
   "source": [
    "# строим хитмэп без нулевого лайфтайма\n",
    "\n",
    "plt.figure(figsize=(15, 6))  \n",
    "sns.heatmap(\n",
    "    retention.drop(columns=['cohort_size', 0]),  \n",
    "    annot=True, \n",
    "    fmt='.2%',  \n",
    "    cmap='Blues'\n",
    ")\n",
    "plt.title('Тепловая карта Retention Rate')\n",
    "plt.xlabel('Дата первого визита')  \n",
    "plt.ylabel('День с момента первого события') \n",
    "plt.show()\n"
   ]
  },
  {
   "cell_type": "markdown",
   "id": "e05e751c",
   "metadata": {},
   "source": [
    "***Вывод***: \n",
    "\n",
    "Тепловая карта демонстрирует значительные колебания уровня удержания пользователей в зависимости от даты их первого визита.\n",
    "\n",
    "  Например, когорта от 17 октября показывает нелинейную динамику: старт с 14.12%, резкий спад до 6.02% к 4-му дню и последующий рост до 9.41% к 6-му дню, что может быть связано с точечными маркетинговыми активностями или улучшением пользовательского опыта в эти дни.\n",
    "  \n",
    "  Высокие пики, такие как 16.00% у когорты от 12 октября и 14.99% от 26 октября, указывают на периоды эффективного привлечения или удержания аудитории. В то же время крайне низкие значения (например, 1.27% 28 октября) сигнализируют о проблемах в вовлечении или качестве трафика в отдельные периоды."
   ]
  },
  {
   "cell_type": "markdown",
   "id": "59b13f5a",
   "metadata": {},
   "source": [
    "#### Расчет и анализ времени в приложении"
   ]
  },
  {
   "cell_type": "code",
   "execution_count": null,
   "id": "de19fcbf",
   "metadata": {},
   "outputs": [],
   "source": [
    "#Рассчитываем длительность сесссии в минутах\n",
    "\n",
    "sessions['duration'] = (sessions['session_end'] - sessions['session_start'])\n",
    "sessions['duration'] = (sessions['duration'].dt.total_seconds()//60).astype(float)\n",
    "\n",
    "sessions.head()"
   ]
  },
  {
   "cell_type": "markdown",
   "id": "118d9577",
   "metadata": {},
   "source": [
    "Мы расчитали сколько по времени длятся каждая сессия. Теперь посмотрим максимальную и минимальную длительность."
   ]
  },
  {
   "cell_type": "code",
   "execution_count": null,
   "id": "0fdf5138",
   "metadata": {},
   "outputs": [],
   "source": [
    "sessions_min=sessions['duration'].min()\n",
    "\n",
    "sessions_max=sessions['duration'].max()\n",
    "\n",
    "print('Минимальная длительность сессии: ', sessions_min)\n",
    "print('Максимальная длительность сессии: ', sessions_max)"
   ]
  },
  {
   "cell_type": "markdown",
   "id": "5e3ef6ac",
   "metadata": {},
   "source": [
    "Мы видим что минимальная длительность сессии равна нулю, скорее всего это означает что пользователь зашел сделал одно какое-то действие и вышел. Проверим сколько таких сессий было и на какие действия приходились.\n",
    "\n",
    "Однако так же вызывает вопрос максимальная сессия в 321 минуту. Провести 5 с половиной часов в приложении конечно можно, но лучше проверить для уточнения. "
   ]
  },
  {
   "cell_type": "code",
   "execution_count": null,
   "id": "3cf1c2d4",
   "metadata": {},
   "outputs": [],
   "source": [
    "#Посмотрим нет ли резкого скачка по длительности сессии выведя 20 самых длинных\n",
    "\n",
    "sessions=sessions.sort_values('duration', ascending=False)\n",
    "\n",
    "sessions.head(20)"
   ]
  },
  {
   "cell_type": "markdown",
   "id": "503caa18",
   "metadata": {},
   "source": [
    "Удивительно, но судя по данным некоторые пользователи проводят часы за поиском нужного. Или, возможно, просто зависают в рекомендациях)\n",
    "\n",
    "\n",
    "Теперь вернемся к вопросу с нулевыми сессиями."
   ]
  },
  {
   "cell_type": "code",
   "execution_count": null,
   "id": "9c0f9092",
   "metadata": {},
   "outputs": [],
   "source": [
    "zero = round(sessions[sessions['duration'] == 0].shape[0] / sessions.shape[0] * 100, 2)\n",
    "\n",
    "print('Процент нулевых сессий: ', zero)"
   ]
  },
  {
   "cell_type": "markdown",
   "id": "97dbe9ac",
   "metadata": {},
   "source": [
    "Почти 30% сессий являются нулевыми. Посмотрим какие действия были выполнены за эти сессии."
   ]
  },
  {
   "cell_type": "code",
   "execution_count": null,
   "id": "bf900d2b",
   "metadata": {},
   "outputs": [],
   "source": [
    "df_zero = df[\n",
    "    df['session_id'].isin(sessions[sessions['duration'] == 0].session_id.tolist())].groupby('event_name')[['session_id']].count().sort_values(by='session_id', ascending=False)\n",
    "            \n",
    "df_zero"
   ]
  },
  {
   "cell_type": "markdown",
   "id": "619f3937",
   "metadata": {},
   "source": [
    "Наиболее вероятными точками завершения пользовательских сессий стали *просмотр рекомендаций*, *изучение фотографий* в карточке объявления и *выполнение поисковых действий* — эти этапы чаще всего предшествовали закрытию приложения."
   ]
  },
  {
   "cell_type": "code",
   "execution_count": null,
   "id": "6ff092ea",
   "metadata": {},
   "outputs": [],
   "source": [
    "sessions.loc[sessions['duration'] == 0, 'duration'] = np.nan\n",
    "\n",
    "sessions[['duration']].describe().round(2)"
   ]
  },
  {
   "cell_type": "markdown",
   "id": "d7cd553d",
   "metadata": {},
   "source": [
    "Средняя длительность сессии составляет 17,45 минут, при этом медиана (11 минут) указывает на преобладание коротких взаимодействий: 25% сессий не превышают 4 минут, а 75% — 23 минут. Максимальная зафиксированная сессия длилась 321 минуту (~5,35 часов), что наряду с высоким стандартным отклонением (21,30 минуты) подтверждает значительную вариативность данных: большинство пользователей быстро завершают сессии, но присутствуют редкие аномалии, требующие дополнительной проверки (например, корректности измерения времени)."
   ]
  },
  {
   "cell_type": "code",
   "execution_count": null,
   "id": "1f2e8069",
   "metadata": {},
   "outputs": [],
   "source": [
    "plt.figure(figsize=(15, 7))\n",
    "sns.histplot(\n",
    "    sessions['duration'].dropna(), \n",
    "    bins=90,\n",
    "    color=sns.color_palette(\"rocket\", 1)[0]\n",
    ")\n",
    "plt.show()"
   ]
  },
  {
   "cell_type": "markdown",
   "id": "0fff85a3",
   "metadata": {},
   "source": [
    "Средняя длительность сессий пользователей не превышает 52 минут, при этом медиана (12,2 минуты) указывает на равное распределение данных: 50% значений лежат выше и ниже этой границы. Сессии длительностью свыше 100 минут встречаются крайне редко (частота ≈1 случай), что подтверждает наличие аномалий. Гистограмма демонстрирует резкий спад частоты после 52 минут, выделяя зону выбросов за пределами «нормального» диапазона.\n",
    "\n",
    "Многочасовые сессии можно объяснить тем что человек может выйти и вернуться в приложении меньше чем за изначальный интервал в 30 минут, в этом случае у человека получается одна большая сессия."
   ]
  },
  {
   "cell_type": "code",
   "execution_count": null,
   "id": "18170838",
   "metadata": {},
   "outputs": [],
   "source": [
    "sessions['date'] = sessions['session_start'].dt.date\n",
    "\n",
    "day = sessions.pivot_table(index='date', values='duration', aggfunc=['sum', 'mean']).reset_index()\n",
    "day.columns = day.columns.droplevel(1)\n",
    "day['date'] = pd.to_datetime(day['date'])\n",
    "\n",
    "day['seven_day_sum'] = day['sum'].rolling(7).mean()\n",
    "day['seven_day_mean'] = day['mean'].rolling(7).mean()\n",
    "\n",
    "fig = px.line(day, \n",
    "             x='date',\n",
    "             y=['sum', 'seven_day_sum'], markers=True,\n",
    "             labels={'sum':'Сумма минут', 'date':'Date'},\n",
    "             title='Суммарно время в приложении по дням, минуты',\n",
    "             color_discrete_sequence=px.colors.qualitative.Dark24)\n",
    "fig.show()"
   ]
  },
  {
   "cell_type": "markdown",
   "id": "e4d9a01d",
   "metadata": {},
   "source": [
    "Для корректной интерпретации графика необходимо учитывать среднее время, проведенное пользователями в приложении за день, так как рост общего времени использования может быть связан как с увеличением активности, так и с притоком новых пользователей. Для анализа динамики построим график среднесуточного времени использования приложения за 4 недели с ежедневной детализацией."
   ]
  },
  {
   "cell_type": "code",
   "execution_count": null,
   "id": "bc24bec6",
   "metadata": {},
   "outputs": [],
   "source": [
    "fig = px.line(day, \n",
    "             x='date',\n",
    "             y=['mean','seven_day_mean'], markers=True,\n",
    "             labels={'mean':'Минут в среднем', 'dt':'Date'},\n",
    "             title='Среднее время в приложении по дням, минуты',\n",
    "             color_discrete_sequence=px.colors.qualitative.Dark24)\n",
    "fig.show()\n"
   ]
  },
  {
   "cell_type": "markdown",
   "id": "c4f57020",
   "metadata": {},
   "source": [
    "Наблюдается общая тенденция к снижению среднего времени сессий: с 21 минуты (7 октября) до 18 минут (3 ноября). При этом данные демонстрируют выраженную волатильность: 9 октября зафиксирован резкий спад до минимума в 15 минуты (-27% за день), а уже 13 октября — скачок роста на 22.5% (с 15 до 21 минуты)."
   ]
  },
  {
   "cell_type": "markdown",
   "id": "dc1a4610",
   "metadata": {},
   "source": [
    "За весь анализируемый период зафиксирован рост общего времени использования приложения: с 4010 минут до 5642 минуты в день, что указывает на положительную динамику вовлеченности. Однако на графике наблюдаются выраженные спады активности — наиболее значительные провалы произошли 12 октября 2019 года и 2 ноября 2019 года, требующие отдельного изучения причин (технические сбои, сезонные факторы или изменения в контенте)."
   ]
  },
  {
   "cell_type": "markdown",
   "id": "d067bafa",
   "metadata": {},
   "source": [
    "***Вывод:***\n",
    "\n",
    "Рост общего времени использования приложения на 46% (с 4325 до 6310 минут/день) свидетельствует о успешном привлечении новых пользователей, которые обращаются к сервису в моменты свободного времени. Однако параллельное снижение средней длительности сессии на 5.6% (с 23.1 до 21.8 минут) указывает на ухудшение вовлеченности: новые пользователи ограничиваются краткими взаимодействиями (25% сессий ≤4 минут), а резкие спады активности (12.10 и 2.11) и экстремальная волатильность (-27% за день 9.10) демонстрируют нестабильность метрик."
   ]
  },
  {
   "cell_type": "markdown",
   "id": "81a88b9f",
   "metadata": {},
   "source": [
    "#### Расчет и анализ частоты действий пользователей"
   ]
  },
  {
   "cell_type": "markdown",
   "id": "b7c80675",
   "metadata": {},
   "source": [
    "Для начала посмотрим процент действий по каждому событию и построим наглядный график."
   ]
  },
  {
   "cell_type": "code",
   "execution_count": null,
   "id": "099951eb",
   "metadata": {},
   "outputs": [],
   "source": [
    "freq = (df.groupby('event_name')['event_time']\n",
    "              .count()\n",
    "              .reset_index()\n",
    "              .sort_values(by='event_time',\n",
    "                           ascending=False))\n",
    "freq = freq.rename(columns={'event_time':'freq'})\n",
    "freq['percent'] = round(freq['freq'] / freq['freq'].sum() * 100, 2)\n",
    "\n",
    "freq"
   ]
  },
  {
   "cell_type": "code",
   "execution_count": null,
   "id": "4c686faa",
   "metadata": {},
   "outputs": [],
   "source": [
    "fig = px.bar(freq, \n",
    "             x='freq',\n",
    "             y='event_name',\n",
    "             text='percent',\n",
    "             title='Распределение частоты событий',\n",
    "             color_discrete_sequence=px.colors.qualitative.Dark24)\n",
    "\n",
    "fig.update_traces(textposition='outside')\n",
    "\n",
    "fig.update_layout(\n",
    "    title_text='Распределение частоты событий',\n",
    "    xaxis_title='Частота', \n",
    "    yaxis_title='События',\n",
    "    margin=dict(l=50, r=50, t=50, b=50)\n",
    ")\n",
    "\n",
    "fig.show()"
   ]
  },
  {
   "cell_type": "markdown",
   "id": "78e000c1",
   "metadata": {},
   "source": [
    "***Вывод:***\n",
    "\n",
    "Более половины (54%) всех действий приходится на показ рекомендаций, однако крайне низкий процент кликов по ним (всего 1.1%) указывает на неэффективность алгоритмов и необходимость их оптимизации. При этом звонки по контактам (0.73%) — самое редкое, но наиболее значимое событие, отражающее максимальный интерес к товару/услуге и высокий потенциал конверсии.\n",
    "\n",
    "Стандартные действия демонстрируют умеренную активность: поиск (9.15%), просмотр фотографий (13.48%), открытие карты (5.22%) и показ контактов (6.09%). Особого внимания заслуживает низкая частота добавления в избранное (1.91%) — это свидетельствует о недостаточной мотивации пользователей к сохранению карточек, несмотря на относительно высокий процент открытия объявлений (8.31%)."
   ]
  },
  {
   "cell_type": "markdown",
   "id": "67fb832b",
   "metadata": {},
   "source": [
    "#### Расчет и анализ конверсии в просмотр контактов"
   ]
  },
  {
   "cell_type": "markdown",
   "id": "7ade96ad",
   "metadata": {},
   "source": [
    "Начнем с просмотра общей конверсии за весь период, представленный в данных."
   ]
  },
  {
   "cell_type": "code",
   "execution_count": null,
   "id": "af0790a9",
   "metadata": {},
   "outputs": [],
   "source": [
    "conversion = (df[df['event_name'] == 'contacts_show']['user_id'].nunique() / df['user_id'].nunique() * 100)\n",
    "conversion = round(conversion, 2)\n",
    "print(f\"Конверсия в целевое действие за весь период: {conversion}%\")"
   ]
  },
  {
   "cell_type": "markdown",
   "id": "7f10f007",
   "metadata": {},
   "source": [
    "Конверсия в просмотр контактов за анализируемый период составила 22.85%, это означает что примерно каждый пятый пользователь проявил достаточный интерес, чтобы перейти к просмотру контактной информации.\n",
    "\n",
    "Посмотрим теперь тенденции в разрезе недель и дней."
   ]
  },
  {
   "cell_type": "code",
   "execution_count": null,
   "id": "21433eed",
   "metadata": {},
   "outputs": [],
   "source": [
    "# Для начала напишем функцию, которая посчитает нам эти данные\n",
    "\n",
    "def calculate_conversion_dynamics(df, date_col='event_time', target_event='contacts_show'):\n",
    "    \n",
    "    df = df.copy()\n",
    "    df[date_col] = pd.to_datetime(df[date_col])\n",
    "    df[date_col] = df[date_col].dt.date\n",
    "    df = df.sort_values(by=date_col)\n",
    "\n",
    "    # Расчет по дням\n",
    "    daily_users = df.groupby(date_col)['user_id'].nunique().reset_index(name='total_users')\n",
    "    daily_target = (\n",
    "        df[df['event_name'] == target_event]\n",
    "        .groupby(date_col)['user_id'].nunique()\n",
    "        .reset_index(name='target_users')\n",
    "    )\n",
    "    daily_conversion = daily_users.merge(daily_target, on=date_col, how='left')\n",
    "    daily_conversion['conversion_rate'] = (\n",
    "        daily_conversion['target_users'] / daily_conversion['total_users'] * 100\n",
    "    ).round(2)\n",
    "    daily_conversion.rename(columns={date_col: 'date'}, inplace=True)\n",
    "\n",
    "    daily_conversion = daily_conversion.tail(7)\n",
    "\n",
    "    # Расчет по неделям\n",
    "    df['week'] = pd.to_datetime(df[date_col]).dt.to_period('W').dt.to_timestamp()\n",
    "    df['week'] = df['week'].dt.date\n",
    "    weekly_users = df.groupby('week')['user_id'].nunique().reset_index(name='total_users')\n",
    "    weekly_target = (\n",
    "        df[df['event_name'] == target_event]\n",
    "        .groupby('week')['user_id'].nunique()\n",
    "        .reset_index(name='target_users')\n",
    "    )\n",
    "    weekly_conversion = weekly_users.merge(weekly_target, on='week', how='left')\n",
    "    weekly_conversion['conversion_rate'] = (\n",
    "        weekly_conversion['target_users'] / weekly_conversion['total_users'] * 100\n",
    "    ).round(2)\n",
    "    weekly_conversion.rename(columns={'week': 'week_start'}, inplace=True)\n",
    "\n",
    "    return daily_conversion, weekly_conversion\n"
   ]
  },
  {
   "cell_type": "code",
   "execution_count": null,
   "id": "5e7b33f9",
   "metadata": {},
   "outputs": [],
   "source": [
    "daily_conv, weekly_conv = calculate_conversion_dynamics(df)"
   ]
  },
  {
   "cell_type": "code",
   "execution_count": null,
   "id": "77f9e595",
   "metadata": {},
   "outputs": [],
   "source": [
    "# Конверсия за последние 7 дней\n",
    "daily_conv"
   ]
  },
  {
   "cell_type": "code",
   "execution_count": null,
   "id": "30a40d75",
   "metadata": {},
   "outputs": [],
   "source": [
    "daily_conv_last_7_days = daily_conv.tail(7)\n",
    "\n",
    "plt.figure(figsize=(10, 20))\n",
    "\n",
    "# Дневная конверсия\n",
    "plt.subplot(2, 1, 1)\n",
    "sns.barplot(\n",
    "    x='conversion_rate',\n",
    "    y='date',\n",
    "    data=daily_conv_last_7_days,\n",
    "    palette='coolwarm'\n",
    ")\n",
    "plt.title('Дневная конверсия в просмотр контактов')\n",
    "plt.xlabel('Конверсия (%)')\n",
    "plt.ylabel('Дата')\n",
    "plt.xticks(rotation=45)\n",
    "\n",
    "plt.tight_layout()\n",
    "plt.show()"
   ]
  },
  {
   "cell_type": "code",
   "execution_count": null,
   "id": "f4002c1f",
   "metadata": {},
   "outputs": [],
   "source": [
    "# Конверсия по неделям\n",
    "weekly_conv"
   ]
  },
  {
   "cell_type": "code",
   "execution_count": null,
   "id": "fe4db872",
   "metadata": {
    "scrolled": false
   },
   "outputs": [],
   "source": [
    "weekly_conv['week_start'] = pd.to_datetime(weekly_conv['week_start']).dt.date\n",
    "\n",
    "plt.figure(figsize=(20, 20))\n",
    "\n",
    "plt.subplot(2, 1, 2)\n",
    "sns.barplot(\n",
    "    y='week_start',  # Меняем оси местами\n",
    "    x='conversion_rate',\n",
    "    data=weekly_conv,\n",
    "    palette='viridis'\n",
    ")\n",
    "plt.title('Недельная конверсия в просмотр контактов')\n",
    "plt.xlabel('Конверсия (%)')\n",
    "plt.ylabel('Начало недели')\n",
    "plt.xticks(rotation=45)\n",
    "\n",
    "plt.tight_layout()\n",
    "plt.show()"
   ]
  },
  {
   "cell_type": "markdown",
   "id": "e875ccba",
   "metadata": {},
   "source": [
    "***Вывод:***\n",
    "\n",
    "За последнюю неделю октября – начало ноября зафиксирован устойчивый рост дневной конверсии в просмотр контактов: с минимума 16.95% (28 октября) до пика 22.58% (1 ноября) с последующей стабилизацией на уровне ~20.7%. Параллельно наблюдалось снижение общего числа пользователей (-16% к 3 ноября), что подчеркивает повышение качества вовлечения оставшейся аудитории.\n",
    "\n",
    "В среднесрочной перспективе (октябрь) конверсия демонстрирует позитивный тренд: еженедельный рост с 19.29% до 21.05% (+1.76 п.п.) на фоне увеличения трафика на 36% (1130 → 1546 пользователей). Это свидетельствует об эффективности платформы при масштабировании, но требует мониторинга влияния роста аудитории на глубину взаимодействия."
   ]
  },
  {
   "cell_type": "markdown",
   "id": "1c3493dd",
   "metadata": {},
   "source": [
    "#### Выводы:\n",
    "\n",
    "Удержание пользователей слабое: на 7-й день остаётся только 6% (при норме 20-40%). Это серьёзная проблема. Хотя общее время в приложении растёт за счёт новых пользователей, среднее время на человека почти не меняется. Особенно тревожит, что 29% сессий длятся 0 секунд — чаще всего люди закрывают приложение после просмотра рекомендаций (54%), фото (13.5%) или поиска (9.2%). Эти функции явно требуют доработки.\n",
    "\n",
    "Конверсия (просмотр контактов) постепенно растёт: за месяц увеличилась с 19.3% до 21%. Лучшие дни для конверсии — вторник и пятница. В выходные пользователи действуют целенаправленнее, а в будни — больше лишних действий. "
   ]
  },
  {
   "cell_type": "markdown",
   "id": "0ecc9abf",
   "metadata": {},
   "source": [
    "### Сегментация пользователей"
   ]
  },
  {
   "cell_type": "markdown",
   "id": "bfd4cae4",
   "metadata": {},
   "source": [
    "#### Деление пользователей на группы\n"
   ]
  },
  {
   "cell_type": "markdown",
   "id": "f965f986",
   "metadata": {},
   "source": [
    "Разделим пользователей на три группы в зависимости от того, сколько раз они запускали приложение (количество сессий). Такое деление позволит оценить лояльность, качество трафика и выявить проблемные точки в пользовательском пути. \n",
    "\n",
    "Границы сегментации выбраны на основе данных: \n",
    "* 1 сессия — критический порог первого впечатления, \n",
    "* 2-3 сессии — зона формирования привычки, \n",
    "* 4+ сессий — стадия лояльности. \n",
    "\n",
    "Ожидается, что активные пользователи будут демонстрировать более высокую конверсию и удержание по сравнению с умеренными и однократными. Это поможет превратить абстрактную аудиторию в управляемые сегменты, для каждого из которых можно разработать конкретные действия: триггеры возврата для однократных, стимулы для перехода к 4+ сессиям для умеренных и программы удержания для активных пользователей.\n"
   ]
  },
  {
   "cell_type": "code",
   "execution_count": null,
   "id": "72e6a0bd",
   "metadata": {},
   "outputs": [],
   "source": [
    "user_sessions = sessions.groupby('user_id')['session_id'].nunique().reset_index()\n",
    "user_sessions['segment'] = pd.cut(user_sessions['session_id'],\n",
    "                                  bins=[0, 1, 3, float('inf')],\n",
    "                                  labels=['Однократные', 'Умеренные', 'Активные'])\n",
    "\n",
    "user_sessions"
   ]
  },
  {
   "cell_type": "code",
   "execution_count": null,
   "id": "555f8912",
   "metadata": {},
   "outputs": [],
   "source": [
    "segment_count = user_sessions['segment'].value_counts()\n",
    "\n",
    "segment_count"
   ]
  },
  {
   "cell_type": "code",
   "execution_count": null,
   "id": "2318b1c9",
   "metadata": {},
   "outputs": [],
   "source": [
    "segment_counts = user_sessions['segment'].value_counts()\n",
    "plt.figure(figsize=(10,6))\n",
    "sns.barplot(x=segment_counts.values, y=segment_counts.index, palette=\"viridis\")\n",
    "plt.title('Распределение пользователей по сегментам')\n",
    "plt.xlabel('Количество пользователей')\n",
    "plt.show()"
   ]
  },
  {
   "cell_type": "markdown",
   "id": "2a62750a",
   "metadata": {},
   "source": [
    "***Вывод:***\n",
    "\n",
    "Больше половины пользователей (53.6%, 2300 человек) открыли приложение всего один раз и больше не возвращались. Это серьёзная проблема — скорее всего, им что-то не понравилось сразу: может быть сложный интерфейс, ошибки или просто не нашли то, что искали. Ещё треть (31.2%, 1340 человек) заходили 2-3 раза — они проявили интерес, но не стали постоянными. И только 15% (653 человека) активно используют приложение — это наши лояльные пользователи."
   ]
  },
  {
   "cell_type": "markdown",
   "id": "26b6a62c",
   "metadata": {},
   "source": [
    "#### Расчет Retention rate по группам пользователей"
   ]
  },
  {
   "cell_type": "markdown",
   "id": "cde63fda",
   "metadata": {},
   "source": [
    "Тепер проанализируем поведение выделенных групп по известным нам метрикам."
   ]
  },
  {
   "cell_type": "code",
   "execution_count": null,
   "id": "1cd34427",
   "metadata": {},
   "outputs": [],
   "source": [
    "retention_data = []\n",
    "for segment in ['Однократные', 'Умеренные', 'Активные']:\n",
    "    segment_users = user_sessions[user_sessions['segment'] == segment]['user_id']\n",
    "    \n",
    "    # Фильтруем сессии пользователей сегмента\n",
    "    segment_sessions = sessions[sessions['user_id'].isin(segment_users)]\n",
    "    \n",
    "    # Находим первую дату сессии для каждого пользователя\n",
    "    first_sessions = segment_sessions.groupby('user_id')['session_start'].min().reset_index()\n",
    "    first_sessions.columns = ['user_id', 'first_session']\n",
    "    \n",
    "    # Находим сессии через 7 дней после первой\n",
    "    seventh_day_sessions = segment_sessions.merge(first_sessions, on='user_id')\n",
    "    seventh_day_sessions['day_diff'] = (seventh_day_sessions['session_start'] - seventh_day_sessions['first_session']).dt.days\n",
    "    retained_users = seventh_day_sessions[seventh_day_sessions['day_diff'] == 7]['user_id'].nunique()\n",
    "    \n",
    "    # Рассчитываем процент\n",
    "    retention_rate = (retained_users / len(segment_users)) * 100\n",
    "    retention_data.append({'segment': segment, 'retention_7d': retention_rate})\n",
    "\n",
    "retention_df = pd.DataFrame(retention_data)\n",
    "\n",
    "retention_df"
   ]
  },
  {
   "cell_type": "code",
   "execution_count": null,
   "id": "d38cd698",
   "metadata": {
    "scrolled": false
   },
   "outputs": [],
   "source": [
    "fig = px.bar(retention_df, x='segment', y='retention_7d', \n",
    "             title='Retention Rate по сегментам',\n",
    "             text='retention_7d',\n",
    "             color='segment', \n",
    "    color_discrete_sequence=px.colors.qualitative.Pastel\n",
    "             )\n",
    "fig.update_traces(texttemplate='%{text:.1f}%', textposition='outside')\n",
    "fig.show()"
   ]
  },
  {
   "cell_type": "markdown",
   "id": "7219f7a0",
   "metadata": {},
   "source": [
    "Построим тепловую карту удержания для наглядности анализа."
   ]
  },
  {
   "cell_type": "code",
   "execution_count": null,
   "id": "5419e2b6",
   "metadata": {},
   "outputs": [],
   "source": [
    "observation_date = pd.to_datetime(datetime(2019, 10, 28).date())  # Изменяем дату на 28 октября 2019\n",
    "horizon_days = 7\n",
    "\n",
    "ignore_horizon = False\n",
    "\n",
    "first_sessions = sessions.groupby('user_id')['session_start'].min().reset_index()\n",
    "first_sessions.columns = ['user_id', 'first_session']\n",
    "\n",
    "sessions_enriched = sessions_with_segments.merge(first_sessions, on='user_id')\n",
    "\n",
    "sessions_enriched['days_since_first'] = (sessions_enriched['session_start'] - sessions_enriched['first_session']).dt.days\n",
    "\n",
    "if not ignore_horizon:\n",
    "    start_date = observation_date - timedelta(days=horizon_days)\n",
    "    sessions_enriched = sessions_enriched[\n",
    "        (sessions_enriched['first_session'] >= start_date) &\n",
    "        (sessions_enriched['first_session'] <= observation_date)\n",
    "    ]\n",
    "\n",
    "sessions_enriched['first_session_date'] = sessions_enriched['first_session'].dt.strftime('%Y-%m-%d')\n",
    "\n",
    "# Функция для расчета Retention Rate\n",
    "def calculate_retention(df, segment_name):\n",
    "    segment_data = df[df['segment'] == segment_name]\n",
    "\n",
    "    cohort_pivot = segment_data.pivot_table(\n",
    "        index='first_session_date', \n",
    "        columns='days_since_first',\n",
    "        values='user_id',\n",
    "        aggfunc=pd.Series.nunique,\n",
    "        fill_value=0\n",
    "    )\n",
    "\n",
    "    cohort_size = cohort_pivot[0]\n",
    "    retention_matrix = cohort_pivot.divide(cohort_size, axis=0) * 100\n",
    "\n",
    "    retention_matrix = retention_matrix.loc[:, 0:horizon_days]\n",
    "\n",
    "    return retention_matrix\n",
    "\n",
    "segments = ['Однократные', 'Умеренные', 'Активные']\n",
    "\n",
    "plt.figure(figsize=(15, 20))  \n",
    "\n",
    "for i, segment in enumerate(segments, 1):\n",
    "    retention_matrix = calculate_retention(sessions_enriched, segment)\n",
    "\n",
    "    plt.subplot(3, 1, i) \n",
    "    sns.heatmap(\n",
    "        retention_matrix,\n",
    "        annot=True,\n",
    "        fmt='.1f',\n",
    "        cmap='Blues',\n",
    "        vmin=0,\n",
    "        vmax=100,\n",
    "        cbar_kws={'label': 'Retention Rate (%)'},\n",
    "        linewidths=.5\n",
    "    )\n",
    "    plt.title(f'{segment} пользователи')\n",
    "    plt.xlabel('Дни с первой сессии')\n",
    "    plt.ylabel('Дата первой сессии')\n",
    "\n",
    "plt.tight_layout()\n",
    "plt.suptitle('Динамика удержания по сегментам пользователей', y=1.02, fontsize=16)\n",
    "plt.show()"
   ]
  },
  {
   "cell_type": "markdown",
   "id": "a4a5c952",
   "metadata": {},
   "source": [
    "***Вывод:*** Удержание пользователей на 7-й день демонстрирует прямую зависимость от активности:\n",
    "\n",
    "* Активные пользователи (22.4%) возвращаются в 5 раз чаще умеренных и формируют лояльное ядро.\n",
    "\n",
    "* Умеренные пользователи (4.5%) имеют потенциал для роста через стимулирование повторных сессий.\n",
    "\n",
    "* Однократные пользователи (0%) полностью теряются, что подтверждает критическую необходимость улучшения первого опыта.\n",
    "\n",
    "Тепловые карты так же показывают, что однократные пользователи не возвращаются после первого дня, умеренные пользователи демонстрируют постепенное снижение удержания, а активные пользователи сохраняют наивысший уровень вовлеченности и удержания на протяжении всех семи дней. Это указывает на то, что активные пользователи являются наиболее лояльными и стабильными."
   ]
  },
  {
   "cell_type": "markdown",
   "id": "bcac3776",
   "metadata": {},
   "source": [
    "#### Расчет конверсии по группам пользователей"
   ]
  },
  {
   "cell_type": "markdown",
   "id": "631179e1",
   "metadata": {},
   "source": [
    "Теперь посмотрим на конверсию в целевое действие."
   ]
  },
  {
   "cell_type": "code",
   "execution_count": null,
   "id": "e09252c3",
   "metadata": {},
   "outputs": [],
   "source": [
    "merged_data = sessions.merge(df, on=['user_id', 'session_id'], how='left')\n",
    "\n",
    "user_segments = sessions.groupby('user_id')['session_id'].nunique().reset_index()\n",
    "user_segments['segment'] = pd.cut(user_segments['session_id'],\n",
    "                                  bins=[0, 1, 3, float('inf')],\n",
    "                                  labels=['Однократные', 'Умеренные', 'Активные'])\n",
    "merged_data = merged_data.merge(user_segments[['user_id', 'segment']], on='user_id')"
   ]
  },
  {
   "cell_type": "code",
   "execution_count": null,
   "id": "e000be38",
   "metadata": {},
   "outputs": [],
   "source": [
    "conversion_data = []\n",
    "for segment in ['Однократные', 'Умеренные', 'Активные']:\n",
    "    segment_users = merged_data[merged_data['segment'] == segment]['user_id'].nunique()\n",
    "    converted_users = merged_data[(merged_data['segment'] == segment) & \n",
    "                                 (merged_data['event_name'] == 'contacts_show')]['user_id'].nunique()\n",
    "    conversion_rate = (converted_users / segment_users) * 100\n",
    "    conversion_data.append({'segment': segment, 'conversion_rate': conversion_rate})\n",
    "\n",
    "conversion_df = pd.DataFrame(conversion_data)\n",
    "\n",
    "conversion_df"
   ]
  },
  {
   "cell_type": "code",
   "execution_count": null,
   "id": "d43d102e",
   "metadata": {},
   "outputs": [],
   "source": [
    "fig = px.bar(conversion_df, x='segment', y='conversion_rate', \n",
    "             title='Конверсия по сегментам',\n",
    "             text='conversion_rate',\n",
    "             color='segment', \n",
    "    color_discrete_sequence=px.colors.qualitative.Pastel\n",
    "             )\n",
    "fig.update_traces(texttemplate='%{text:.1f}%', textposition='outside')\n",
    "fig.show()"
   ]
  },
  {
   "cell_type": "markdown",
   "id": "643e3fbc",
   "metadata": {},
   "source": [
    "***Вывод:***\n",
    "Конверсия в целевое действие (просмотр контактов) так же демонстрирует выраженную зависимость от активности пользователей:\n",
    "\n",
    "* Однократные пользователи показывают минимальную конверсию (14.8%), что подтверждает поверхностное взаимодействие с приложением.\n",
    "\n",
    "* Умеренные пользователи (26.4%) конвертируются в 1.8 раза лучше однократных, отражая рост интереса при повторных посещениях.\n",
    "\n",
    "* Активные пользователи достигают пиковой конверсии (44%), что в 3 раза выше однократных и подчеркивает ценность лояльного ядра."
   ]
  },
  {
   "cell_type": "markdown",
   "id": "a0d26005",
   "metadata": {},
   "source": [
    "#### Выводы:\n",
    "\n",
    "Анализ выявил прямую зависимость между активностью пользователей и ключевыми метриками: активные пользователи (4+ сессии) демонстрируют максимальные показатели удержания (22.4% на 7-й день) и конверсии (44%), что в 5 раз выше удержания и в 3 раза выше конверсии умеренных пользователей (2-3 сессии). При этом однократные пользователи (53.6% аудитории) практически не возвращаются (0% retention), несмотря на базовую конверсию 14.8%, что указывает на ценность продукта, но критические барьеры первого опыта.\n",
    "\n",
    "Наибольший потенциал роста — в переводе однократных пользователей в умеренные. Уже после второй сессии конверсия вырастет на 78% (с 14.8% до 26.4%), и появится удержание (4.5%)."
   ]
  },
  {
   "cell_type": "markdown",
   "id": "cadcead9",
   "metadata": {},
   "source": [
    "### Проверка гипотез"
   ]
  },
  {
   "cell_type": "markdown",
   "id": "1e69c31b",
   "metadata": {},
   "source": [
    "#### Различие конверсии в просмотр контактов между пользователями из Yandex и Google."
   ]
  },
  {
   "cell_type": "markdown",
   "id": "6a3c93b0",
   "metadata": {},
   "source": [
    "Будем проверять следующую гипотезу: \"Отличается ли конверсия просмотра контактов между пользователями из Yandex и Google\".\n",
    "\n",
    "* Нулевая гипотеза (H₀): Конверсия одинакова.\n",
    "* Альтернативная гипотеза (H₁): Конверсия различается."
   ]
  },
  {
   "cell_type": "code",
   "execution_count": null,
   "id": "1a53d39b",
   "metadata": {},
   "outputs": [],
   "source": [
    "yandex_users = df[df['source'] == 'yandex']['user_id'].unique()\n",
    "google_users = df[df['source'] == 'google']['user_id'].unique()\n",
    "\n",
    "def calculate_conversion(users):\n",
    "    converted = df[(df['user_id'].isin(users)) & \n",
    "                  (df['event_name'] == 'contacts_show')]['user_id'].nunique()\n",
    "    return converted, len(users)\n",
    "\n",
    "yandex_converted, yandex_total = calculate_conversion(yandex_users)\n",
    "google_converted, google_total = calculate_conversion(google_users)\n",
    "\n",
    "# Создание таблицы сопряженности\n",
    "contingency_table = pd.DataFrame({\n",
    "    'Converted': [yandex_converted, google_converted],\n",
    "    'Not Converted': [yandex_total - yandex_converted, google_total - google_converted]\n",
    "}, index=['Yandex', 'Google'])\n",
    "\n",
    "# Проверка гипотезы с помощью теста хи-квадрат\n",
    "chi2, p_value, dof, expected = chi2_contingency(contingency_table)\n",
    "\n",
    "print(f\"Конверсия Yandex: {yandex_converted}/{yandex_total} ({yandex_converted/yandex_total*100:.2f}%)\")\n",
    "print(f\"Конверсия Google: {google_converted}/{google_total} ({google_converted/google_total*100:.2f}%)\")\n",
    "print(f\"p-value: {p_value:.5f}\")\n",
    "\n",
    "if p_value < 0.05:\n",
    "    print(\"Отвергаем H₀: Конверсия значимо различается\")\n",
    "else:\n",
    "    print(\"Не отвергаем H₀: Конверсия не различается\")\n"
   ]
  },
  {
   "cell_type": "markdown",
   "id": "62c9ca0a",
   "metadata": {},
   "source": [
    "***Вывод:***\n",
    "По результатам проверки конвверсия в целевое действие не зависит от ресурса приклекшего пользователя. Нулевая гипотеза не отвергается."
   ]
  },
  {
   "cell_type": "markdown",
   "id": "4e9d72b3",
   "metadata": {},
   "source": [
    "#### Пользователи, которые кликают по рекомендованным объявлениям, имеют более высокую конверсию в просмотр контактов, чем те, кто этого не делает."
   ]
  },
  {
   "cell_type": "markdown",
   "id": "09f57958",
   "metadata": {},
   "source": [
    "Следующая гипотеза для проверки: \"Отличается ли конверсия просмотра контактов между пользователями которые кликают по рекомендованным объявлениям и теми кто этого не делает\".\n",
    "\n",
    "* Нулевая гипотеза (H₀): Конверсия в просмотр контактов одинакова для пользователей, кликавших на рекомендации (tips_click), и тех, кто не кликал.\n",
    "* Альтернативная гипотеза (H₁): Конверсия в просмотр контактов выше у пользователей, кликавших на рекомендации."
   ]
  },
  {
   "cell_type": "code",
   "execution_count": null,
   "id": "aba2b3f6",
   "metadata": {},
   "outputs": [],
   "source": [
    "tips_click_users = df[df['event_name'] == 'tips_click']['user_id'].unique()\n",
    "non_click_users = df[~df['user_id'].isin(tips_click_users)]['user_id'].unique()\n",
    "\n",
    "# Подсчет конверсии\n",
    "click_converted, click_total = calculate_conversion(tips_click_users)\n",
    "non_click_converted, non_click_total = calculate_conversion(non_click_users)\n",
    "\n",
    "# Создание таблицы сопряженности\n",
    "contingency_table = pd.DataFrame({\n",
    "    'Converted': [click_converted, non_click_converted],\n",
    "    'Not Converted': [click_total - click_converted, non_click_total - non_click_converted]\n",
    "}, index=['Click', 'No Click'])\n",
    "\n",
    "# Проверка гипотезы с помощью z-теста пропорций\n",
    "from statsmodels.stats.proportion import proportions_ztest\n",
    "\n",
    "count = [click_converted, non_click_converted]\n",
    "nobs = [click_total, non_click_total]\n",
    "z_stat, p_value = proportions_ztest(count, nobs, alternative='larger')\n",
    "\n",
    "print(f\"Конверсия кликавших: {click_converted}/{click_total} ({click_converted/click_total*100:.2f}%)\")\n",
    "print(f\"Конверсия не кликавших: {non_click_converted}/{non_click_total} ({non_click_converted/non_click_total*100:.2f}%)\")\n",
    "print(f\"p-value: {p_value:.5f}\")\n",
    "\n",
    "if p_value < 0.05:\n",
    "    print(\"Отвергаем H₀: Конверсия в просмотр контактов выше у пользователей, кликавших на рекомендации\")\n",
    "else:\n",
    "    print(\"Не отвергаем H₀: Конверсия в просмотр контактов одинакова для пользователей, кликавших на рекомендации (tips_click), и тех, кто не кликал.\")"
   ]
  },
  {
   "cell_type": "markdown",
   "id": "3194a394",
   "metadata": {},
   "source": [
    "***Вывод:*** По результатам проверки конвверсия в целевое действие выше у пользователей, кликавших на рекомендации. Нулевая гипотеза отвергается."
   ]
  },
  {
   "cell_type": "markdown",
   "id": "dfd3abcb",
   "metadata": {},
   "source": [
    "#### Выводы:\n",
    "\n",
    "Хотя источники трафика (Yandex/Google) не показывают различий в конверсии, взаимодействие с рекомендациями является ключевым драйвером вовлеченности. Улучшение системы рекомендаций может дать наибольший прирост конверсии - потенциально до 40% для пользователей, которые начинают взаимодействовать с этим функционалом. Рекомендуется сосредоточить ресурсы на оптимизации рекомендательной системы, а не на перераспределении маркетингового бюджета между каналами."
   ]
  },
  {
   "cell_type": "markdown",
   "id": "4fa4d52f",
   "metadata": {},
   "source": [
    "### Выводы и рекомендации"
   ]
  },
  {
   "cell_type": "markdown",
   "id": "5359de06",
   "metadata": {},
   "source": [
    "В рамках исследования данных о событиях и пользователях из внутренних источников приложения \"Ненужные вещи\" были выявлены интересные особенности и закономерности, которые могут быть использованы для разработки эффективных стратегий развития приложения.\n",
    "\n",
    "Перед началом исследования были определены следующие задачи:\n",
    "\n",
    "* Сегментация пользователей на основе их действий;\n",
    "* Определение группы пользователей, которые чаще возвращаются в мобильное приложение (Retention rate);\n",
    "* Определение группы пользователей, которые чаще совершают просмотр контактов (конверсия в целевое действие);\n",
    "* Проверка гипотезы о том, что пользователи, установившие приложение из Яндекса и Google, демонстрируют разную конверсию в просмотры контактов;\n",
    "* Проверка гипотезы о том, что пользователи, которые кликают по рекомендованным объявлениям, имеют более высокую конверсию в просмотр контактов, чем те, кто этого не делает.\n",
    "\n",
    "Данные демонстрируют противоречивую динамику: при общем росте времени использования (+46%) и конверсии (до 21%) сохраняются глубинные проблемы с удержанием и вовлеченностью. Ключевая тревожная сигнализация — катастрофически низкий 7-дневный retention (6%), что втрое ниже минимальной нормы, и массовый отток новых пользователей (53.6% уходят после первого посещения). Анализ тепловых карт показывает, что однократные пользователи не возвращаются после первого дня, умеренные пользователи демонстрируют постепенное снижение удержания, а активные пользователи сохраняют наивысший уровень вовлеченности и удержания на протяжении всех семи дней. Особую озабоченность вызывают \"нулевые сессии\" (29% всех взаимодействий), особенно после работы с рекомендациями — основным драйвером конверсии для вовлеченной аудитории.\n",
    "\n",
    "Хотя средние показатели улучшаются, их рост обеспечен исключительно притоком новых пользователей, маскирующим снижение глубины вовлечения. За внешне позитивными трендами скрывается опасная зависимость от \"одноразовой\" аудитории, в то время как реальную ценность создает узкая прослойка лояльных пользователей (15%), демонстрирующих выдающиеся метрики: их конверсия в 3 раза выше, а удержание — в 5 раз лучше, чем у основной массы.\n",
    "\n",
    "По поводу ***рекомендаций*** хочется сказать что главная возможность роста лежит не в привлечении новой аудитории, а в качественном преобразовании существующего потока. Критически важно сосредоточиться на \"переходе\" пользователей от первого знакомства к повторному взаимодействию — уже вторая сессия даст почти двукратный рост конверсии и сформирует зачатки лояльности. Приоритетными направлениями должны стать: упрощение первого взаимодействия, исправление *визуальных* функций (рекомендации, поиск, просмотр фото), и стимулирование повторных визитов через персонализированные триггеры.\n",
    "\n",
    "Этот комплекс мер позволит превратить мимолетный интерес в устойчивую привычку использования, раскрыв потенциал приложения, который уже подтвержден лояльными пользователями и позитивной реакцией на рабочие функции."
   ]
  }
 ],
 "metadata": {
  "ExecuteTimeLog": [
   {
    "duration": 1529,
    "start_time": "2025-05-27T09:25:39.034Z"
   },
   {
    "duration": 296,
    "start_time": "2025-05-27T09:25:40.565Z"
   },
   {
    "duration": 294,
    "start_time": "2025-05-27T09:25:40.863Z"
   },
   {
    "duration": 36,
    "start_time": "2025-05-27T09:25:41.159Z"
   },
   {
    "duration": 45,
    "start_time": "2025-05-27T09:25:41.198Z"
   },
   {
    "duration": 38,
    "start_time": "2025-05-27T09:25:41.245Z"
   },
   {
    "duration": 54,
    "start_time": "2025-05-27T09:25:41.285Z"
   },
   {
    "duration": 77,
    "start_time": "2025-05-27T09:25:41.341Z"
   },
   {
    "duration": 10,
    "start_time": "2025-05-27T09:25:41.420Z"
   },
   {
    "duration": 64,
    "start_time": "2025-05-27T09:25:41.432Z"
   },
   {
    "duration": 51,
    "start_time": "2025-05-27T09:25:41.498Z"
   },
   {
    "duration": 61,
    "start_time": "2025-05-27T09:25:41.550Z"
   },
   {
    "duration": 8,
    "start_time": "2025-05-27T09:25:41.613Z"
   },
   {
    "duration": 882,
    "start_time": "2025-05-27T09:25:41.624Z"
   },
   {
    "duration": 920,
    "start_time": "2025-05-27T09:25:42.508Z"
   },
   {
    "duration": 89,
    "start_time": "2025-05-27T09:25:43.429Z"
   },
   {
    "duration": 31,
    "start_time": "2025-05-27T09:25:43.520Z"
   },
   {
    "duration": 67,
    "start_time": "2025-05-27T09:25:43.552Z"
   },
   {
    "duration": 7,
    "start_time": "2025-05-27T09:25:43.620Z"
   },
   {
    "duration": 24,
    "start_time": "2025-05-27T09:25:43.628Z"
   },
   {
    "duration": 58,
    "start_time": "2025-05-27T09:25:43.654Z"
   },
   {
    "duration": 5,
    "start_time": "2025-05-27T09:25:43.714Z"
   },
   {
    "duration": 1555,
    "start_time": "2025-05-27T09:25:43.720Z"
   },
   {
    "duration": 1337,
    "start_time": "2025-05-27T10:18:45.710Z"
   },
   {
    "duration": 1385,
    "start_time": "2025-05-27T10:19:01.120Z"
   },
   {
    "duration": 1364,
    "start_time": "2025-05-27T10:19:07.672Z"
   },
   {
    "duration": 114,
    "start_time": "2025-05-27T10:22:22.446Z"
   },
   {
    "duration": 15,
    "start_time": "2025-05-27T10:23:28.475Z"
   },
   {
    "duration": 1478,
    "start_time": "2025-05-27T10:25:47.915Z"
   },
   {
    "duration": 1348,
    "start_time": "2025-05-27T10:27:35.581Z"
   },
   {
    "duration": 1336,
    "start_time": "2025-05-27T10:28:08.700Z"
   },
   {
    "duration": 1339,
    "start_time": "2025-05-27T10:28:23.104Z"
   },
   {
    "duration": 1437,
    "start_time": "2025-05-27T10:29:15.682Z"
   },
   {
    "duration": 1424,
    "start_time": "2025-05-27T10:34:30.122Z"
   },
   {
    "duration": 1439,
    "start_time": "2025-05-27T10:35:41.448Z"
   },
   {
    "duration": 16,
    "start_time": "2025-05-27T10:37:25.000Z"
   },
   {
    "duration": 19,
    "start_time": "2025-05-27T10:37:38.420Z"
   },
   {
    "duration": 57,
    "start_time": "2025-05-27T10:37:51.471Z"
   },
   {
    "duration": 11,
    "start_time": "2025-05-27T10:41:04.435Z"
   },
   {
    "duration": 38,
    "start_time": "2025-05-27T10:41:11.747Z"
   },
   {
    "duration": 84,
    "start_time": "2025-05-27T10:43:44.334Z"
   },
   {
    "duration": 1555,
    "start_time": "2025-05-27T10:43:49.648Z"
   },
   {
    "duration": 1641,
    "start_time": "2025-05-27T10:46:06.159Z"
   },
   {
    "duration": 1543,
    "start_time": "2025-05-27T10:46:15.859Z"
   },
   {
    "duration": 1545,
    "start_time": "2025-05-27T10:46:26.946Z"
   },
   {
    "duration": 7,
    "start_time": "2025-05-27T11:19:29.031Z"
   },
   {
    "duration": 14,
    "start_time": "2025-05-27T11:41:52.952Z"
   },
   {
    "duration": 23,
    "start_time": "2025-05-27T11:43:41.462Z"
   },
   {
    "duration": 1493,
    "start_time": "2025-05-27T11:44:05.137Z"
   },
   {
    "duration": 252,
    "start_time": "2025-05-27T11:44:06.632Z"
   },
   {
    "duration": 242,
    "start_time": "2025-05-27T11:44:06.887Z"
   },
   {
    "duration": 28,
    "start_time": "2025-05-27T11:44:07.132Z"
   },
   {
    "duration": 46,
    "start_time": "2025-05-27T11:44:07.162Z"
   },
   {
    "duration": 13,
    "start_time": "2025-05-27T11:44:07.210Z"
   },
   {
    "duration": 71,
    "start_time": "2025-05-27T11:44:07.225Z"
   },
   {
    "duration": 46,
    "start_time": "2025-05-27T11:44:07.297Z"
   },
   {
    "duration": 30,
    "start_time": "2025-05-27T11:44:07.345Z"
   },
   {
    "duration": 45,
    "start_time": "2025-05-27T11:44:07.378Z"
   },
   {
    "duration": 72,
    "start_time": "2025-05-27T11:44:07.424Z"
   },
   {
    "duration": 36,
    "start_time": "2025-05-27T11:44:07.497Z"
   },
   {
    "duration": 9,
    "start_time": "2025-05-27T11:44:07.534Z"
   },
   {
    "duration": 782,
    "start_time": "2025-05-27T11:44:07.545Z"
   },
   {
    "duration": 961,
    "start_time": "2025-05-27T11:44:08.329Z"
   },
   {
    "duration": 87,
    "start_time": "2025-05-27T11:44:09.292Z"
   },
   {
    "duration": 32,
    "start_time": "2025-05-27T11:44:09.384Z"
   },
   {
    "duration": 69,
    "start_time": "2025-05-27T11:44:09.418Z"
   },
   {
    "duration": 9,
    "start_time": "2025-05-27T11:44:09.489Z"
   },
   {
    "duration": 16,
    "start_time": "2025-05-27T11:44:09.500Z"
   },
   {
    "duration": 55,
    "start_time": "2025-05-27T11:44:09.517Z"
   },
   {
    "duration": 6,
    "start_time": "2025-05-27T11:44:09.575Z"
   },
   {
    "duration": 1532,
    "start_time": "2025-05-27T11:44:09.583Z"
   },
   {
    "duration": 18,
    "start_time": "2025-05-27T11:44:11.117Z"
   },
   {
    "duration": 119,
    "start_time": "2025-05-27T11:44:11.137Z"
   },
   {
    "duration": 113,
    "start_time": "2025-05-27T11:46:17.900Z"
   },
   {
    "duration": 5,
    "start_time": "2025-05-27T11:46:27.863Z"
   },
   {
    "duration": 6,
    "start_time": "2025-05-27T13:01:05.937Z"
   },
   {
    "duration": 18,
    "start_time": "2025-05-27T13:01:13.046Z"
   },
   {
    "duration": 15,
    "start_time": "2025-05-27T13:01:40.777Z"
   },
   {
    "duration": 1464,
    "start_time": "2025-05-27T13:12:48.393Z"
   },
   {
    "duration": 1464,
    "start_time": "2025-05-27T13:13:20.386Z"
   },
   {
    "duration": 6,
    "start_time": "2025-05-27T13:13:30.307Z"
   },
   {
    "duration": 11,
    "start_time": "2025-05-27T13:55:01.881Z"
   },
   {
    "duration": 11,
    "start_time": "2025-05-27T13:55:20.491Z"
   },
   {
    "duration": 99,
    "start_time": "2025-05-27T13:55:28.253Z"
   },
   {
    "duration": 11,
    "start_time": "2025-05-27T13:55:39.936Z"
   },
   {
    "duration": 7,
    "start_time": "2025-05-27T13:55:51.410Z"
   },
   {
    "duration": 7,
    "start_time": "2025-05-27T13:57:27.571Z"
   },
   {
    "duration": 6,
    "start_time": "2025-05-27T13:58:23.292Z"
   },
   {
    "duration": 6,
    "start_time": "2025-05-27T13:58:33.352Z"
   },
   {
    "duration": 1512,
    "start_time": "2025-05-27T14:00:35.068Z"
   },
   {
    "duration": 1432,
    "start_time": "2025-05-27T14:01:03.618Z"
   },
   {
    "duration": 81,
    "start_time": "2025-05-27T14:02:28.301Z"
   },
   {
    "duration": 1482,
    "start_time": "2025-05-27T14:02:47.063Z"
   },
   {
    "duration": 18,
    "start_time": "2025-05-27T14:03:18.159Z"
   },
   {
    "duration": 84,
    "start_time": "2025-05-27T14:04:27.822Z"
   },
   {
    "duration": 82,
    "start_time": "2025-05-27T14:04:53.200Z"
   },
   {
    "duration": 4,
    "start_time": "2025-05-27T14:05:16.939Z"
   },
   {
    "duration": 1372,
    "start_time": "2025-05-27T14:05:25.646Z"
   },
   {
    "duration": 27,
    "start_time": "2025-05-27T14:12:54.620Z"
   },
   {
    "duration": 30,
    "start_time": "2025-05-27T14:14:15.445Z"
   },
   {
    "duration": 41,
    "start_time": "2025-05-27T14:14:42.247Z"
   },
   {
    "duration": 37,
    "start_time": "2025-05-27T14:14:54.239Z"
   },
   {
    "duration": 1492,
    "start_time": "2025-05-27T14:15:40.162Z"
   },
   {
    "duration": 309,
    "start_time": "2025-05-27T14:15:41.656Z"
   },
   {
    "duration": 115,
    "start_time": "2025-05-27T14:15:41.966Z"
   },
   {
    "duration": 28,
    "start_time": "2025-05-27T14:15:42.083Z"
   },
   {
    "duration": 60,
    "start_time": "2025-05-27T14:15:42.113Z"
   },
   {
    "duration": 12,
    "start_time": "2025-05-27T14:15:42.175Z"
   },
   {
    "duration": 51,
    "start_time": "2025-05-27T14:15:42.188Z"
   },
   {
    "duration": 58,
    "start_time": "2025-05-27T14:15:42.241Z"
   },
   {
    "duration": 10,
    "start_time": "2025-05-27T14:15:42.301Z"
   },
   {
    "duration": 59,
    "start_time": "2025-05-27T14:15:42.313Z"
   },
   {
    "duration": 54,
    "start_time": "2025-05-27T14:15:42.374Z"
   },
   {
    "duration": 50,
    "start_time": "2025-05-27T14:15:42.430Z"
   },
   {
    "duration": 9,
    "start_time": "2025-05-27T14:15:42.482Z"
   },
   {
    "duration": 770,
    "start_time": "2025-05-27T14:15:42.494Z"
   },
   {
    "duration": 866,
    "start_time": "2025-05-27T14:15:43.271Z"
   },
   {
    "duration": 150,
    "start_time": "2025-05-27T14:15:44.139Z"
   },
   {
    "duration": 0,
    "start_time": "2025-05-27T14:15:44.291Z"
   },
   {
    "duration": 0,
    "start_time": "2025-05-27T14:15:44.292Z"
   },
   {
    "duration": 0,
    "start_time": "2025-05-27T14:15:44.294Z"
   },
   {
    "duration": 0,
    "start_time": "2025-05-27T14:15:44.295Z"
   },
   {
    "duration": 0,
    "start_time": "2025-05-27T14:15:44.296Z"
   },
   {
    "duration": 0,
    "start_time": "2025-05-27T14:15:44.297Z"
   },
   {
    "duration": 0,
    "start_time": "2025-05-27T14:15:44.299Z"
   },
   {
    "duration": 0,
    "start_time": "2025-05-27T14:15:44.300Z"
   },
   {
    "duration": 0,
    "start_time": "2025-05-27T14:15:44.301Z"
   },
   {
    "duration": 0,
    "start_time": "2025-05-27T14:15:44.303Z"
   },
   {
    "duration": 0,
    "start_time": "2025-05-27T14:15:44.304Z"
   },
   {
    "duration": 0,
    "start_time": "2025-05-27T14:15:44.305Z"
   },
   {
    "duration": 79,
    "start_time": "2025-05-27T14:16:02.612Z"
   },
   {
    "duration": 1407,
    "start_time": "2025-05-27T14:16:07.745Z"
   },
   {
    "duration": 235,
    "start_time": "2025-05-27T14:16:09.158Z"
   },
   {
    "duration": 203,
    "start_time": "2025-05-27T14:16:09.395Z"
   },
   {
    "duration": 29,
    "start_time": "2025-05-27T14:16:09.601Z"
   },
   {
    "duration": 54,
    "start_time": "2025-05-27T14:16:09.632Z"
   },
   {
    "duration": 14,
    "start_time": "2025-05-27T14:16:09.688Z"
   },
   {
    "duration": 74,
    "start_time": "2025-05-27T14:16:09.703Z"
   },
   {
    "duration": 50,
    "start_time": "2025-05-27T14:16:09.779Z"
   },
   {
    "duration": 10,
    "start_time": "2025-05-27T14:16:09.831Z"
   },
   {
    "duration": 61,
    "start_time": "2025-05-27T14:16:09.843Z"
   },
   {
    "duration": 66,
    "start_time": "2025-05-27T14:16:09.906Z"
   },
   {
    "duration": 36,
    "start_time": "2025-05-27T14:16:09.974Z"
   },
   {
    "duration": 9,
    "start_time": "2025-05-27T14:16:10.013Z"
   },
   {
    "duration": 769,
    "start_time": "2025-05-27T14:16:10.024Z"
   },
   {
    "duration": 897,
    "start_time": "2025-05-27T14:16:10.795Z"
   },
   {
    "duration": 98,
    "start_time": "2025-05-27T14:16:11.694Z"
   },
   {
    "duration": 32,
    "start_time": "2025-05-27T14:16:11.794Z"
   },
   {
    "duration": 61,
    "start_time": "2025-05-27T14:16:11.828Z"
   },
   {
    "duration": 6,
    "start_time": "2025-05-27T14:16:11.892Z"
   },
   {
    "duration": 16,
    "start_time": "2025-05-27T14:16:11.900Z"
   },
   {
    "duration": 54,
    "start_time": "2025-05-27T14:16:11.918Z"
   },
   {
    "duration": 5,
    "start_time": "2025-05-27T14:16:11.974Z"
   },
   {
    "duration": 1406,
    "start_time": "2025-05-27T14:16:11.981Z"
   },
   {
    "duration": 16,
    "start_time": "2025-05-27T14:16:13.389Z"
   },
   {
    "duration": 5,
    "start_time": "2025-05-27T14:16:13.407Z"
   },
   {
    "duration": 23,
    "start_time": "2025-05-27T14:16:13.414Z"
   },
   {
    "duration": 36,
    "start_time": "2025-05-27T14:16:13.439Z"
   },
   {
    "duration": 1558,
    "start_time": "2025-05-27T14:16:13.477Z"
   },
   {
    "duration": 11,
    "start_time": "2025-05-27T14:18:27.053Z"
   },
   {
    "duration": 1404,
    "start_time": "2025-05-27T14:18:39.771Z"
   },
   {
    "duration": 251,
    "start_time": "2025-05-27T14:18:41.178Z"
   },
   {
    "duration": 122,
    "start_time": "2025-05-27T14:18:41.431Z"
   },
   {
    "duration": 30,
    "start_time": "2025-05-27T14:18:41.554Z"
   },
   {
    "duration": 46,
    "start_time": "2025-05-27T14:18:41.586Z"
   },
   {
    "duration": 13,
    "start_time": "2025-05-27T14:18:41.633Z"
   },
   {
    "duration": 50,
    "start_time": "2025-05-27T14:18:41.672Z"
   },
   {
    "duration": 60,
    "start_time": "2025-05-27T14:18:41.723Z"
   },
   {
    "duration": 9,
    "start_time": "2025-05-27T14:18:41.785Z"
   },
   {
    "duration": 34,
    "start_time": "2025-05-27T14:18:41.796Z"
   },
   {
    "duration": 81,
    "start_time": "2025-05-27T14:18:41.832Z"
   },
   {
    "duration": 36,
    "start_time": "2025-05-27T14:18:41.914Z"
   },
   {
    "duration": 20,
    "start_time": "2025-05-27T14:18:41.952Z"
   },
   {
    "duration": 796,
    "start_time": "2025-05-27T14:18:41.976Z"
   },
   {
    "duration": 829,
    "start_time": "2025-05-27T14:18:42.774Z"
   },
   {
    "duration": 96,
    "start_time": "2025-05-27T14:18:43.605Z"
   },
   {
    "duration": 31,
    "start_time": "2025-05-27T14:18:43.703Z"
   },
   {
    "duration": 62,
    "start_time": "2025-05-27T14:18:43.736Z"
   },
   {
    "duration": 6,
    "start_time": "2025-05-27T14:18:43.800Z"
   },
   {
    "duration": 15,
    "start_time": "2025-05-27T14:18:43.808Z"
   },
   {
    "duration": 55,
    "start_time": "2025-05-27T14:18:43.825Z"
   },
   {
    "duration": 5,
    "start_time": "2025-05-27T14:18:43.882Z"
   },
   {
    "duration": 1384,
    "start_time": "2025-05-27T14:18:43.888Z"
   },
   {
    "duration": 15,
    "start_time": "2025-05-27T14:18:45.274Z"
   },
   {
    "duration": 32,
    "start_time": "2025-05-27T14:18:45.291Z"
   },
   {
    "duration": 44,
    "start_time": "2025-05-27T14:18:45.325Z"
   },
   {
    "duration": 6,
    "start_time": "2025-05-27T14:18:45.370Z"
   },
   {
    "duration": 39,
    "start_time": "2025-05-27T14:18:45.378Z"
   },
   {
    "duration": 47,
    "start_time": "2025-05-28T06:41:40.194Z"
   },
   {
    "duration": 1418,
    "start_time": "2025-05-28T06:41:49.353Z"
   },
   {
    "duration": 214,
    "start_time": "2025-05-28T06:41:50.773Z"
   },
   {
    "duration": 139,
    "start_time": "2025-05-28T06:41:50.989Z"
   },
   {
    "duration": 23,
    "start_time": "2025-05-28T06:41:51.130Z"
   },
   {
    "duration": 39,
    "start_time": "2025-05-28T06:41:51.156Z"
   },
   {
    "duration": 12,
    "start_time": "2025-05-28T06:41:51.197Z"
   },
   {
    "duration": 40,
    "start_time": "2025-05-28T06:41:51.236Z"
   },
   {
    "duration": 38,
    "start_time": "2025-05-28T06:41:51.277Z"
   },
   {
    "duration": 26,
    "start_time": "2025-05-28T06:41:51.317Z"
   },
   {
    "duration": 35,
    "start_time": "2025-05-28T06:41:51.344Z"
   },
   {
    "duration": 62,
    "start_time": "2025-05-28T06:41:51.381Z"
   },
   {
    "duration": 28,
    "start_time": "2025-05-28T06:41:51.445Z"
   },
   {
    "duration": 9,
    "start_time": "2025-05-28T06:41:51.474Z"
   },
   {
    "duration": 683,
    "start_time": "2025-05-28T06:41:51.487Z"
   },
   {
    "duration": 714,
    "start_time": "2025-05-28T06:41:52.172Z"
   },
   {
    "duration": 76,
    "start_time": "2025-05-28T06:41:52.888Z"
   },
   {
    "duration": 28,
    "start_time": "2025-05-28T06:41:52.966Z"
   },
   {
    "duration": 57,
    "start_time": "2025-05-28T06:41:52.996Z"
   },
   {
    "duration": 6,
    "start_time": "2025-05-28T06:41:53.054Z"
   },
   {
    "duration": 58,
    "start_time": "2025-05-28T06:41:53.061Z"
   },
   {
    "duration": 31,
    "start_time": "2025-05-28T06:41:53.120Z"
   },
   {
    "duration": 4,
    "start_time": "2025-05-28T06:41:53.153Z"
   },
   {
    "duration": 1310,
    "start_time": "2025-05-28T06:41:53.158Z"
   },
   {
    "duration": 12,
    "start_time": "2025-05-28T06:41:54.470Z"
   },
   {
    "duration": 5,
    "start_time": "2025-05-28T06:41:54.484Z"
   },
   {
    "duration": 18,
    "start_time": "2025-05-28T06:41:54.490Z"
   },
   {
    "duration": 4,
    "start_time": "2025-05-28T06:41:54.510Z"
   },
   {
    "duration": 14,
    "start_time": "2025-05-28T06:41:54.515Z"
   },
   {
    "duration": 16,
    "start_time": "2025-05-28T06:41:54.531Z"
   },
   {
    "duration": 234,
    "start_time": "2025-05-28T06:41:54.549Z"
   },
   {
    "duration": 185,
    "start_time": "2025-05-28T06:42:02.921Z"
   },
   {
    "duration": 194,
    "start_time": "2025-05-28T06:47:55.912Z"
   },
   {
    "duration": 214,
    "start_time": "2025-05-28T06:48:03.355Z"
   },
   {
    "duration": 217,
    "start_time": "2025-05-28T06:48:13.435Z"
   },
   {
    "duration": 796,
    "start_time": "2025-05-28T06:48:22.984Z"
   },
   {
    "duration": 161,
    "start_time": "2025-05-28T06:48:48.995Z"
   },
   {
    "duration": 158,
    "start_time": "2025-05-28T06:48:57.623Z"
   },
   {
    "duration": 199,
    "start_time": "2025-05-28T06:49:07.977Z"
   },
   {
    "duration": 165,
    "start_time": "2025-05-28T06:49:21.757Z"
   },
   {
    "duration": 253,
    "start_time": "2025-05-28T06:49:27.877Z"
   },
   {
    "duration": 486,
    "start_time": "2025-05-28T07:06:15.114Z"
   },
   {
    "duration": 62,
    "start_time": "2025-05-28T07:19:17.882Z"
   },
   {
    "duration": 60,
    "start_time": "2025-05-28T07:20:38.469Z"
   },
   {
    "duration": 54,
    "start_time": "2025-05-28T07:21:16.571Z"
   },
   {
    "duration": 63,
    "start_time": "2025-05-28T07:22:03.105Z"
   },
   {
    "duration": 75,
    "start_time": "2025-05-28T07:22:10.097Z"
   },
   {
    "duration": 53,
    "start_time": "2025-05-28T10:11:01.234Z"
   },
   {
    "duration": 60,
    "start_time": "2025-05-28T10:14:26.063Z"
   },
   {
    "duration": 58,
    "start_time": "2025-05-28T10:14:30.489Z"
   },
   {
    "duration": 54,
    "start_time": "2025-05-28T10:14:56.743Z"
   },
   {
    "duration": 55,
    "start_time": "2025-05-28T10:15:15.177Z"
   },
   {
    "duration": 57,
    "start_time": "2025-05-28T10:15:26.630Z"
   },
   {
    "duration": 151,
    "start_time": "2025-05-28T10:15:38.887Z"
   },
   {
    "duration": 74,
    "start_time": "2025-05-28T10:15:50.129Z"
   },
   {
    "duration": 185,
    "start_time": "2025-05-28T10:18:33.511Z"
   },
   {
    "duration": 159,
    "start_time": "2025-05-28T10:18:43.378Z"
   },
   {
    "duration": 270,
    "start_time": "2025-05-28T10:19:02.438Z"
   },
   {
    "duration": 190,
    "start_time": "2025-05-28T10:23:33.035Z"
   },
   {
    "duration": 276,
    "start_time": "2025-05-28T10:23:55.118Z"
   },
   {
    "duration": 276,
    "start_time": "2025-05-28T10:23:59.131Z"
   },
   {
    "duration": 369,
    "start_time": "2025-05-28T10:24:02.850Z"
   },
   {
    "duration": 158,
    "start_time": "2025-05-28T10:24:08.596Z"
   },
   {
    "duration": 315,
    "start_time": "2025-05-28T10:24:13.950Z"
   },
   {
    "duration": 270,
    "start_time": "2025-05-28T10:24:35.266Z"
   },
   {
    "duration": 263,
    "start_time": "2025-05-28T10:24:40.762Z"
   },
   {
    "duration": 276,
    "start_time": "2025-05-28T10:24:45.010Z"
   },
   {
    "duration": 372,
    "start_time": "2025-05-28T10:24:49.029Z"
   },
   {
    "duration": 263,
    "start_time": "2025-05-28T10:24:52.781Z"
   },
   {
    "duration": 268,
    "start_time": "2025-05-28T10:25:03.776Z"
   },
   {
    "duration": 263,
    "start_time": "2025-05-28T10:25:08.794Z"
   },
   {
    "duration": 267,
    "start_time": "2025-05-28T10:25:12.561Z"
   },
   {
    "duration": 269,
    "start_time": "2025-05-28T10:25:18.495Z"
   },
   {
    "duration": 396,
    "start_time": "2025-05-28T10:25:36.888Z"
   },
   {
    "duration": 265,
    "start_time": "2025-05-28T10:25:39.856Z"
   },
   {
    "duration": 19,
    "start_time": "2025-05-28T10:28:28.474Z"
   },
   {
    "duration": 5,
    "start_time": "2025-05-28T10:29:58.064Z"
   },
   {
    "duration": 14,
    "start_time": "2025-05-28T10:34:17.573Z"
   },
   {
    "duration": 27,
    "start_time": "2025-05-28T10:38:31.363Z"
   },
   {
    "duration": 19,
    "start_time": "2025-05-28T11:21:20.254Z"
   },
   {
    "duration": 19,
    "start_time": "2025-05-28T11:22:07.785Z"
   },
   {
    "duration": 50,
    "start_time": "2025-05-28T11:22:45.087Z"
   },
   {
    "duration": 50,
    "start_time": "2025-05-28T11:29:13.937Z"
   },
   {
    "duration": 63,
    "start_time": "2025-05-28T11:37:13.825Z"
   },
   {
    "duration": 48,
    "start_time": "2025-05-28T11:41:35.021Z"
   },
   {
    "duration": 20,
    "start_time": "2025-05-28T12:10:22.618Z"
   },
   {
    "duration": 1290,
    "start_time": "2025-05-28T13:30:06.265Z"
   },
   {
    "duration": 243,
    "start_time": "2025-05-28T13:30:07.557Z"
   },
   {
    "duration": 115,
    "start_time": "2025-05-28T13:30:07.802Z"
   },
   {
    "duration": 26,
    "start_time": "2025-05-28T13:30:07.919Z"
   },
   {
    "duration": 65,
    "start_time": "2025-05-28T13:30:07.947Z"
   },
   {
    "duration": 10,
    "start_time": "2025-05-28T13:30:08.014Z"
   },
   {
    "duration": 72,
    "start_time": "2025-05-28T13:30:08.025Z"
   },
   {
    "duration": 131,
    "start_time": "2025-05-28T13:30:08.099Z"
   },
   {
    "duration": 9,
    "start_time": "2025-05-28T13:30:08.231Z"
   },
   {
    "duration": 34,
    "start_time": "2025-05-28T13:30:08.241Z"
   },
   {
    "duration": 47,
    "start_time": "2025-05-28T13:30:08.277Z"
   },
   {
    "duration": 37,
    "start_time": "2025-05-28T13:30:08.326Z"
   },
   {
    "duration": 10,
    "start_time": "2025-05-28T13:30:08.364Z"
   },
   {
    "duration": 759,
    "start_time": "2025-05-28T13:30:08.377Z"
   },
   {
    "duration": 736,
    "start_time": "2025-05-28T13:30:09.138Z"
   },
   {
    "duration": 76,
    "start_time": "2025-05-28T13:30:09.876Z"
   },
   {
    "duration": 27,
    "start_time": "2025-05-28T13:30:09.954Z"
   },
   {
    "duration": 55,
    "start_time": "2025-05-28T13:30:09.983Z"
   },
   {
    "duration": 6,
    "start_time": "2025-05-28T13:30:10.040Z"
   },
   {
    "duration": 171,
    "start_time": "2025-05-28T13:30:10.047Z"
   },
   {
    "duration": 45,
    "start_time": "2025-05-28T13:30:10.220Z"
   },
   {
    "duration": 5,
    "start_time": "2025-05-28T13:30:10.267Z"
   },
   {
    "duration": 1243,
    "start_time": "2025-05-28T13:30:10.273Z"
   },
   {
    "duration": 14,
    "start_time": "2025-05-28T13:30:11.518Z"
   },
   {
    "duration": 5,
    "start_time": "2025-05-28T13:30:11.533Z"
   },
   {
    "duration": 14,
    "start_time": "2025-05-28T13:30:11.540Z"
   },
   {
    "duration": 6,
    "start_time": "2025-05-28T13:30:11.555Z"
   },
   {
    "duration": 36,
    "start_time": "2025-05-28T13:30:11.562Z"
   },
   {
    "duration": 15,
    "start_time": "2025-05-28T13:30:11.600Z"
   },
   {
    "duration": 278,
    "start_time": "2025-05-28T13:30:11.617Z"
   },
   {
    "duration": 375,
    "start_time": "2025-05-28T13:30:11.897Z"
   },
   {
    "duration": 239,
    "start_time": "2025-05-28T13:30:12.273Z"
   },
   {
    "duration": 36,
    "start_time": "2025-05-28T13:30:12.514Z"
   },
   {
    "duration": 150,
    "start_time": "2025-05-28T13:30:12.555Z"
   },
   {
    "duration": 0,
    "start_time": "2025-05-28T13:30:12.707Z"
   },
   {
    "duration": 18,
    "start_time": "2025-05-28T13:31:33.482Z"
   },
   {
    "duration": 55,
    "start_time": "2025-05-28T13:32:03.115Z"
   },
   {
    "duration": 51,
    "start_time": "2025-05-28T13:32:22.550Z"
   },
   {
    "duration": 14,
    "start_time": "2025-05-28T13:38:51.139Z"
   },
   {
    "duration": 1216,
    "start_time": "2025-05-28T13:39:02.134Z"
   },
   {
    "duration": 356,
    "start_time": "2025-05-28T13:39:03.352Z"
   },
   {
    "duration": 92,
    "start_time": "2025-05-28T13:39:03.710Z"
   },
   {
    "duration": 25,
    "start_time": "2025-05-28T13:39:03.804Z"
   },
   {
    "duration": 95,
    "start_time": "2025-05-28T13:39:03.831Z"
   },
   {
    "duration": 12,
    "start_time": "2025-05-28T13:39:03.927Z"
   },
   {
    "duration": 46,
    "start_time": "2025-05-28T13:39:03.940Z"
   },
   {
    "duration": 50,
    "start_time": "2025-05-28T13:39:03.988Z"
   },
   {
    "duration": 8,
    "start_time": "2025-05-28T13:39:04.039Z"
   },
   {
    "duration": 29,
    "start_time": "2025-05-28T13:39:04.049Z"
   },
   {
    "duration": 70,
    "start_time": "2025-05-28T13:39:04.080Z"
   },
   {
    "duration": 35,
    "start_time": "2025-05-28T13:39:04.152Z"
   },
   {
    "duration": 21,
    "start_time": "2025-05-28T13:39:04.189Z"
   },
   {
    "duration": 660,
    "start_time": "2025-05-28T13:39:04.213Z"
   },
   {
    "duration": 786,
    "start_time": "2025-05-28T13:39:04.875Z"
   },
   {
    "duration": 74,
    "start_time": "2025-05-28T13:39:05.663Z"
   },
   {
    "duration": 26,
    "start_time": "2025-05-28T13:39:05.739Z"
   },
   {
    "duration": 145,
    "start_time": "2025-05-28T13:39:05.766Z"
   },
   {
    "duration": 6,
    "start_time": "2025-05-28T13:39:05.913Z"
   },
   {
    "duration": 17,
    "start_time": "2025-05-28T13:39:05.920Z"
   },
   {
    "duration": 41,
    "start_time": "2025-05-28T13:39:05.938Z"
   },
   {
    "duration": 4,
    "start_time": "2025-05-28T13:39:05.981Z"
   },
   {
    "duration": 1337,
    "start_time": "2025-05-28T13:39:05.987Z"
   },
   {
    "duration": 15,
    "start_time": "2025-05-28T13:39:07.326Z"
   },
   {
    "duration": 6,
    "start_time": "2025-05-28T13:39:07.343Z"
   },
   {
    "duration": 15,
    "start_time": "2025-05-28T13:39:07.350Z"
   },
   {
    "duration": 6,
    "start_time": "2025-05-28T13:39:07.367Z"
   },
   {
    "duration": 14,
    "start_time": "2025-05-28T13:39:07.375Z"
   },
   {
    "duration": 50,
    "start_time": "2025-05-28T13:39:07.391Z"
   },
   {
    "duration": 339,
    "start_time": "2025-05-28T13:39:07.442Z"
   },
   {
    "duration": 378,
    "start_time": "2025-05-28T13:39:07.783Z"
   },
   {
    "duration": 246,
    "start_time": "2025-05-28T13:39:08.162Z"
   },
   {
    "duration": 36,
    "start_time": "2025-05-28T13:39:08.409Z"
   },
   {
    "duration": 53,
    "start_time": "2025-05-28T13:39:08.446Z"
   },
   {
    "duration": 46,
    "start_time": "2025-05-28T13:39:08.500Z"
   },
   {
    "duration": 7,
    "start_time": "2025-05-28T13:39:08.548Z"
   },
   {
    "duration": 1245,
    "start_time": "2025-05-28T13:39:08.556Z"
   },
   {
    "duration": 7,
    "start_time": "2025-05-28T13:40:34.392Z"
   },
   {
    "duration": 105,
    "start_time": "2025-05-28T13:40:35.830Z"
   },
   {
    "duration": 255,
    "start_time": "2025-05-28T13:41:08.158Z"
   },
   {
    "duration": 177,
    "start_time": "2025-05-28T13:41:24.546Z"
   },
   {
    "duration": 2074,
    "start_time": "2025-05-28T14:03:41.828Z"
   },
   {
    "duration": 96,
    "start_time": "2025-05-28T14:05:36.927Z"
   },
   {
    "duration": 2103,
    "start_time": "2025-05-28T14:05:40.107Z"
   },
   {
    "duration": 18,
    "start_time": "2025-05-28T14:11:46.140Z"
   },
   {
    "duration": 1970,
    "start_time": "2025-05-28T14:11:58.110Z"
   },
   {
    "duration": 2406,
    "start_time": "2025-05-28T14:13:34.278Z"
   },
   {
    "duration": 1175,
    "start_time": "2025-05-28T14:15:21.782Z"
   },
   {
    "duration": 250,
    "start_time": "2025-05-28T14:15:22.959Z"
   },
   {
    "duration": 232,
    "start_time": "2025-05-28T14:15:23.210Z"
   },
   {
    "duration": 23,
    "start_time": "2025-05-28T14:15:23.444Z"
   },
   {
    "duration": 40,
    "start_time": "2025-05-28T14:15:23.470Z"
   },
   {
    "duration": 33,
    "start_time": "2025-05-28T14:15:23.511Z"
   },
   {
    "duration": 41,
    "start_time": "2025-05-28T14:15:23.546Z"
   },
   {
    "duration": 61,
    "start_time": "2025-05-28T14:15:23.589Z"
   },
   {
    "duration": 8,
    "start_time": "2025-05-28T14:15:23.652Z"
   },
   {
    "duration": 30,
    "start_time": "2025-05-28T14:15:23.662Z"
   },
   {
    "duration": 74,
    "start_time": "2025-05-28T14:15:23.694Z"
   },
   {
    "duration": 30,
    "start_time": "2025-05-28T14:15:23.770Z"
   },
   {
    "duration": 10,
    "start_time": "2025-05-28T14:15:23.802Z"
   },
   {
    "duration": 689,
    "start_time": "2025-05-28T14:15:23.836Z"
   },
   {
    "duration": 726,
    "start_time": "2025-05-28T14:15:24.527Z"
   },
   {
    "duration": 67,
    "start_time": "2025-05-28T14:15:25.255Z"
   },
   {
    "duration": 31,
    "start_time": "2025-05-28T14:15:25.336Z"
   },
   {
    "duration": 36,
    "start_time": "2025-05-28T14:15:25.369Z"
   },
   {
    "duration": 7,
    "start_time": "2025-05-28T14:15:25.407Z"
   },
   {
    "duration": 12,
    "start_time": "2025-05-28T14:15:25.435Z"
   },
   {
    "duration": 35,
    "start_time": "2025-05-28T14:15:25.448Z"
   },
   {
    "duration": 5,
    "start_time": "2025-05-28T14:15:25.484Z"
   },
   {
    "duration": 1304,
    "start_time": "2025-05-28T14:15:25.491Z"
   },
   {
    "duration": 14,
    "start_time": "2025-05-28T14:15:26.796Z"
   },
   {
    "duration": 50,
    "start_time": "2025-05-28T14:15:26.811Z"
   },
   {
    "duration": 13,
    "start_time": "2025-05-28T14:15:26.863Z"
   },
   {
    "duration": 4,
    "start_time": "2025-05-28T14:15:26.878Z"
   },
   {
    "duration": 12,
    "start_time": "2025-05-28T14:15:26.884Z"
   },
   {
    "duration": 14,
    "start_time": "2025-05-28T14:15:26.897Z"
   },
   {
    "duration": 271,
    "start_time": "2025-05-28T14:15:26.913Z"
   },
   {
    "duration": 374,
    "start_time": "2025-05-28T14:15:27.186Z"
   },
   {
    "duration": 236,
    "start_time": "2025-05-28T14:15:27.562Z"
   },
   {
    "duration": 17,
    "start_time": "2025-05-28T14:15:27.800Z"
   },
   {
    "duration": 63,
    "start_time": "2025-05-28T14:15:27.819Z"
   },
   {
    "duration": 94,
    "start_time": "2025-05-28T14:15:27.883Z"
   },
   {
    "duration": 95,
    "start_time": "2025-05-28T14:15:27.979Z"
   },
   {
    "duration": 1188,
    "start_time": "2025-05-28T14:21:37.895Z"
   },
   {
    "duration": 232,
    "start_time": "2025-05-28T14:21:39.085Z"
   },
   {
    "duration": 113,
    "start_time": "2025-05-28T14:21:39.319Z"
   },
   {
    "duration": 22,
    "start_time": "2025-05-28T14:21:39.433Z"
   },
   {
    "duration": 38,
    "start_time": "2025-05-28T14:21:39.457Z"
   },
   {
    "duration": 11,
    "start_time": "2025-05-28T14:21:39.497Z"
   },
   {
    "duration": 58,
    "start_time": "2025-05-28T14:21:39.509Z"
   },
   {
    "duration": 39,
    "start_time": "2025-05-28T14:21:39.569Z"
   },
   {
    "duration": 10,
    "start_time": "2025-05-28T14:21:39.609Z"
   },
   {
    "duration": 80,
    "start_time": "2025-05-28T14:21:39.636Z"
   },
   {
    "duration": 44,
    "start_time": "2025-05-28T14:21:39.718Z"
   },
   {
    "duration": 32,
    "start_time": "2025-05-28T14:21:39.763Z"
   },
   {
    "duration": 9,
    "start_time": "2025-05-28T14:21:39.796Z"
   },
   {
    "duration": 667,
    "start_time": "2025-05-28T14:21:39.809Z"
   },
   {
    "duration": 759,
    "start_time": "2025-05-28T14:21:40.478Z"
   },
   {
    "duration": 70,
    "start_time": "2025-05-28T14:21:41.239Z"
   },
   {
    "duration": 44,
    "start_time": "2025-05-28T14:21:41.311Z"
   },
   {
    "duration": 37,
    "start_time": "2025-05-28T14:21:41.357Z"
   },
   {
    "duration": 7,
    "start_time": "2025-05-28T14:21:41.396Z"
   },
   {
    "duration": 35,
    "start_time": "2025-05-28T14:21:41.404Z"
   },
   {
    "duration": 34,
    "start_time": "2025-05-28T14:21:41.441Z"
   },
   {
    "duration": 5,
    "start_time": "2025-05-28T14:21:41.477Z"
   },
   {
    "duration": 1282,
    "start_time": "2025-05-28T14:21:41.484Z"
   },
   {
    "duration": 14,
    "start_time": "2025-05-28T14:21:42.768Z"
   },
   {
    "duration": 4,
    "start_time": "2025-05-28T14:21:42.783Z"
   },
   {
    "duration": 14,
    "start_time": "2025-05-28T14:21:42.789Z"
   },
   {
    "duration": 41,
    "start_time": "2025-05-28T14:21:42.805Z"
   },
   {
    "duration": 51,
    "start_time": "2025-05-28T14:21:42.848Z"
   },
   {
    "duration": 28,
    "start_time": "2025-05-28T14:21:42.901Z"
   },
   {
    "duration": 265,
    "start_time": "2025-05-28T14:21:42.931Z"
   },
   {
    "duration": 376,
    "start_time": "2025-05-28T14:21:43.198Z"
   },
   {
    "duration": 224,
    "start_time": "2025-05-28T14:21:43.576Z"
   },
   {
    "duration": 34,
    "start_time": "2025-05-28T14:21:43.802Z"
   },
   {
    "duration": 55,
    "start_time": "2025-05-28T14:21:43.837Z"
   },
   {
    "duration": 100,
    "start_time": "2025-05-28T14:21:43.893Z"
   },
   {
    "duration": 94,
    "start_time": "2025-05-28T14:21:43.994Z"
   },
   {
    "duration": 1250,
    "start_time": "2025-05-28T14:24:37.013Z"
   },
   {
    "duration": 235,
    "start_time": "2025-05-28T14:24:38.265Z"
   },
   {
    "duration": 98,
    "start_time": "2025-05-28T14:24:38.502Z"
   },
   {
    "duration": 23,
    "start_time": "2025-05-28T14:24:38.602Z"
   },
   {
    "duration": 39,
    "start_time": "2025-05-28T14:24:38.627Z"
   },
   {
    "duration": 11,
    "start_time": "2025-05-28T14:24:38.667Z"
   },
   {
    "duration": 60,
    "start_time": "2025-05-28T14:24:38.680Z"
   },
   {
    "duration": 39,
    "start_time": "2025-05-28T14:24:38.741Z"
   },
   {
    "duration": 8,
    "start_time": "2025-05-28T14:24:38.782Z"
   },
   {
    "duration": 49,
    "start_time": "2025-05-28T14:24:38.792Z"
   },
   {
    "duration": 44,
    "start_time": "2025-05-28T14:24:38.842Z"
   },
   {
    "duration": 39,
    "start_time": "2025-05-28T14:24:38.887Z"
   },
   {
    "duration": 12,
    "start_time": "2025-05-28T14:24:38.927Z"
   },
   {
    "duration": 677,
    "start_time": "2025-05-28T14:24:38.940Z"
   },
   {
    "duration": 753,
    "start_time": "2025-05-28T14:24:39.619Z"
   },
   {
    "duration": 78,
    "start_time": "2025-05-28T14:24:40.373Z"
   },
   {
    "duration": 29,
    "start_time": "2025-05-28T14:24:40.452Z"
   },
   {
    "duration": 57,
    "start_time": "2025-05-28T14:24:40.482Z"
   },
   {
    "duration": 6,
    "start_time": "2025-05-28T14:24:40.541Z"
   },
   {
    "duration": 16,
    "start_time": "2025-05-28T14:24:40.548Z"
   },
   {
    "duration": 35,
    "start_time": "2025-05-28T14:24:40.565Z"
   },
   {
    "duration": 4,
    "start_time": "2025-05-28T14:24:40.602Z"
   },
   {
    "duration": 1248,
    "start_time": "2025-05-28T14:24:40.608Z"
   },
   {
    "duration": 14,
    "start_time": "2025-05-28T14:24:41.858Z"
   },
   {
    "duration": 112,
    "start_time": "2025-05-28T14:24:41.874Z"
   },
   {
    "duration": 15,
    "start_time": "2025-05-28T14:24:41.988Z"
   },
   {
    "duration": 5,
    "start_time": "2025-05-28T14:24:42.005Z"
   },
   {
    "duration": 13,
    "start_time": "2025-05-28T14:24:42.013Z"
   },
   {
    "duration": 15,
    "start_time": "2025-05-28T14:24:42.027Z"
   },
   {
    "duration": 265,
    "start_time": "2025-05-28T14:24:42.043Z"
   },
   {
    "duration": 384,
    "start_time": "2025-05-28T14:24:42.310Z"
   },
   {
    "duration": 245,
    "start_time": "2025-05-28T14:24:42.695Z"
   },
   {
    "duration": 18,
    "start_time": "2025-05-28T14:24:42.942Z"
   },
   {
    "duration": 53,
    "start_time": "2025-05-28T14:24:42.961Z"
   },
   {
    "duration": 19,
    "start_time": "2025-05-28T14:24:43.035Z"
   },
   {
    "duration": 7,
    "start_time": "2025-05-28T14:24:43.056Z"
   },
   {
    "duration": 165,
    "start_time": "2025-05-28T14:24:43.064Z"
   },
   {
    "duration": 0,
    "start_time": "2025-05-28T14:24:43.235Z"
   },
   {
    "duration": 99,
    "start_time": "2025-05-28T14:25:38.657Z"
   },
   {
    "duration": 14,
    "start_time": "2025-05-28T14:25:41.201Z"
   },
   {
    "duration": 297,
    "start_time": "2025-05-28T14:25:48.373Z"
   },
   {
    "duration": 259,
    "start_time": "2025-05-28T14:26:03.433Z"
   },
   {
    "duration": 7,
    "start_time": "2025-05-28T14:27:17.545Z"
   },
   {
    "duration": 7,
    "start_time": "2025-05-28T14:31:12.149Z"
   },
   {
    "duration": 122,
    "start_time": "2025-05-28T14:31:14.470Z"
   },
   {
    "duration": 1425,
    "start_time": "2025-05-28T18:55:18.583Z"
   },
   {
    "duration": 240,
    "start_time": "2025-05-28T18:55:20.010Z"
   },
   {
    "duration": 127,
    "start_time": "2025-05-28T18:55:20.252Z"
   },
   {
    "duration": 25,
    "start_time": "2025-05-28T18:55:20.380Z"
   },
   {
    "duration": 38,
    "start_time": "2025-05-28T18:55:20.407Z"
   },
   {
    "duration": 20,
    "start_time": "2025-05-28T18:55:20.446Z"
   },
   {
    "duration": 40,
    "start_time": "2025-05-28T18:55:20.468Z"
   },
   {
    "duration": 60,
    "start_time": "2025-05-28T18:55:20.510Z"
   },
   {
    "duration": 9,
    "start_time": "2025-05-28T18:55:20.571Z"
   },
   {
    "duration": 49,
    "start_time": "2025-05-28T18:55:20.581Z"
   },
   {
    "duration": 45,
    "start_time": "2025-05-28T18:55:20.632Z"
   },
   {
    "duration": 29,
    "start_time": "2025-05-28T18:55:20.678Z"
   },
   {
    "duration": 8,
    "start_time": "2025-05-28T18:55:20.709Z"
   },
   {
    "duration": 701,
    "start_time": "2025-05-28T18:55:20.720Z"
   },
   {
    "duration": 766,
    "start_time": "2025-05-28T18:55:21.422Z"
   },
   {
    "duration": 69,
    "start_time": "2025-05-28T18:55:22.190Z"
   },
   {
    "duration": 123,
    "start_time": "2025-05-28T18:55:22.261Z"
   },
   {
    "duration": 36,
    "start_time": "2025-05-28T18:55:22.386Z"
   },
   {
    "duration": 6,
    "start_time": "2025-05-28T18:55:22.423Z"
   },
   {
    "duration": 29,
    "start_time": "2025-05-28T18:55:22.430Z"
   },
   {
    "duration": 32,
    "start_time": "2025-05-28T18:55:22.460Z"
   },
   {
    "duration": 4,
    "start_time": "2025-05-28T18:55:22.494Z"
   },
   {
    "duration": 1343,
    "start_time": "2025-05-28T18:55:22.499Z"
   },
   {
    "duration": 13,
    "start_time": "2025-05-28T18:55:23.844Z"
   },
   {
    "duration": 9,
    "start_time": "2025-05-28T18:55:23.859Z"
   },
   {
    "duration": 15,
    "start_time": "2025-05-28T18:55:23.870Z"
   },
   {
    "duration": 5,
    "start_time": "2025-05-28T18:55:23.886Z"
   },
   {
    "duration": 12,
    "start_time": "2025-05-28T18:55:23.892Z"
   },
   {
    "duration": 13,
    "start_time": "2025-05-28T18:55:23.905Z"
   },
   {
    "duration": 288,
    "start_time": "2025-05-28T18:55:23.920Z"
   },
   {
    "duration": 379,
    "start_time": "2025-05-28T18:55:24.209Z"
   },
   {
    "duration": 228,
    "start_time": "2025-05-28T18:55:24.590Z"
   },
   {
    "duration": 16,
    "start_time": "2025-05-28T18:55:24.820Z"
   },
   {
    "duration": 68,
    "start_time": "2025-05-28T18:55:24.838Z"
   },
   {
    "duration": 21,
    "start_time": "2025-05-28T18:55:24.907Z"
   },
   {
    "duration": 7,
    "start_time": "2025-05-28T18:55:24.930Z"
   },
   {
    "duration": 265,
    "start_time": "2025-05-28T18:55:24.958Z"
   },
   {
    "duration": 0,
    "start_time": "2025-05-28T18:55:25.224Z"
   },
   {
    "duration": 0,
    "start_time": "2025-05-28T18:55:25.226Z"
   },
   {
    "duration": 0,
    "start_time": "2025-05-28T18:55:25.227Z"
   },
   {
    "duration": 8,
    "start_time": "2025-05-28T19:25:32.213Z"
   },
   {
    "duration": 1041,
    "start_time": "2025-05-28T19:25:34.008Z"
   },
   {
    "duration": 7,
    "start_time": "2025-05-28T19:26:57.198Z"
   },
   {
    "duration": 158,
    "start_time": "2025-05-28T19:26:58.288Z"
   },
   {
    "duration": 11,
    "start_time": "2025-05-28T19:27:00.778Z"
   },
   {
    "duration": 285,
    "start_time": "2025-05-28T19:27:26.719Z"
   },
   {
    "duration": 289,
    "start_time": "2025-05-28T19:27:35.814Z"
   },
   {
    "duration": 349,
    "start_time": "2025-05-28T19:27:49.519Z"
   },
   {
    "duration": 8,
    "start_time": "2025-05-28T19:29:53.529Z"
   },
   {
    "duration": 312,
    "start_time": "2025-05-28T19:29:55.371Z"
   },
   {
    "duration": 9,
    "start_time": "2025-05-28T19:34:50.082Z"
   },
   {
    "duration": 280,
    "start_time": "2025-05-28T19:34:52.716Z"
   },
   {
    "duration": 329,
    "start_time": "2025-05-28T19:34:54.002Z"
   },
   {
    "duration": 266,
    "start_time": "2025-05-28T19:36:25.714Z"
   },
   {
    "duration": 299,
    "start_time": "2025-05-28T19:36:29.228Z"
   },
   {
    "duration": 279,
    "start_time": "2025-05-28T19:37:06.005Z"
   },
   {
    "duration": 176,
    "start_time": "2025-05-28T19:37:27.860Z"
   },
   {
    "duration": 4,
    "start_time": "2025-05-28T19:37:51.263Z"
   },
   {
    "duration": 387,
    "start_time": "2025-05-28T19:38:40.446Z"
   },
   {
    "duration": 302,
    "start_time": "2025-05-28T19:40:24.933Z"
   },
   {
    "duration": 300,
    "start_time": "2025-05-28T19:41:02.352Z"
   },
   {
    "duration": 304,
    "start_time": "2025-05-28T19:41:49.523Z"
   },
   {
    "duration": 323,
    "start_time": "2025-05-28T19:41:58.126Z"
   },
   {
    "duration": 251,
    "start_time": "2025-05-28T19:42:05.959Z"
   },
   {
    "duration": 300,
    "start_time": "2025-05-28T19:42:19.111Z"
   },
   {
    "duration": 340,
    "start_time": "2025-05-28T19:42:36.550Z"
   },
   {
    "duration": 355,
    "start_time": "2025-05-28T19:42:55.046Z"
   },
   {
    "duration": 104,
    "start_time": "2025-05-28T19:48:14.825Z"
   },
   {
    "duration": 359,
    "start_time": "2025-05-28T19:48:18.231Z"
   },
   {
    "duration": 345,
    "start_time": "2025-05-28T19:48:38.150Z"
   },
   {
    "duration": 307,
    "start_time": "2025-05-28T19:49:56.051Z"
   },
   {
    "duration": 4,
    "start_time": "2025-05-28T19:50:26.471Z"
   },
   {
    "duration": 289,
    "start_time": "2025-05-28T19:55:50.753Z"
   },
   {
    "duration": 345,
    "start_time": "2025-05-28T19:56:00.187Z"
   },
   {
    "duration": 5,
    "start_time": "2025-05-28T20:12:19.518Z"
   },
   {
    "duration": 8,
    "start_time": "2025-05-28T20:12:29.742Z"
   },
   {
    "duration": 8,
    "start_time": "2025-05-28T20:12:35.628Z"
   },
   {
    "duration": 8,
    "start_time": "2025-05-28T20:15:44.201Z"
   },
   {
    "duration": 41,
    "start_time": "2025-05-28T20:31:06.341Z"
   },
   {
    "duration": 16,
    "start_time": "2025-05-28T20:31:14.451Z"
   },
   {
    "duration": 121,
    "start_time": "2025-05-28T20:31:37.996Z"
   },
   {
    "duration": 22,
    "start_time": "2025-05-28T20:32:28.247Z"
   },
   {
    "duration": 119,
    "start_time": "2025-05-28T20:33:35.472Z"
   },
   {
    "duration": 6,
    "start_time": "2025-05-28T20:36:18.187Z"
   },
   {
    "duration": 39,
    "start_time": "2025-05-28T20:50:58.093Z"
   },
   {
    "duration": 8,
    "start_time": "2025-05-28T20:51:06.735Z"
   },
   {
    "duration": 51,
    "start_time": "2025-05-28T20:51:24.728Z"
   },
   {
    "duration": 13,
    "start_time": "2025-05-28T20:57:30.716Z"
   },
   {
    "duration": 12,
    "start_time": "2025-05-28T20:57:54.399Z"
   },
   {
    "duration": 1041,
    "start_time": "2025-05-28T20:58:21.061Z"
   },
   {
    "duration": 50,
    "start_time": "2025-05-28T20:59:06.536Z"
   },
   {
    "duration": 12,
    "start_time": "2025-05-28T20:59:24.852Z"
   },
   {
    "duration": 59,
    "start_time": "2025-05-28T20:59:38.817Z"
   },
   {
    "duration": 59,
    "start_time": "2025-05-28T20:59:49.939Z"
   },
   {
    "duration": 46,
    "start_time": "2025-05-28T20:59:56.268Z"
   },
   {
    "duration": 46,
    "start_time": "2025-05-28T21:07:47.165Z"
   },
   {
    "duration": 52,
    "start_time": "2025-05-28T21:07:56.123Z"
   },
   {
    "duration": 316,
    "start_time": "2025-05-28T21:10:53.678Z"
   },
   {
    "duration": 12,
    "start_time": "2025-05-28T21:14:27.877Z"
   },
   {
    "duration": 14,
    "start_time": "2025-05-28T21:15:11.500Z"
   },
   {
    "duration": 3,
    "start_time": "2025-05-28T21:16:03.624Z"
   },
   {
    "duration": 1093,
    "start_time": "2025-05-28T21:16:15.222Z"
   },
   {
    "duration": 10,
    "start_time": "2025-05-28T21:16:40.953Z"
   },
   {
    "duration": 11,
    "start_time": "2025-05-28T21:16:54.672Z"
   },
   {
    "duration": 12,
    "start_time": "2025-05-28T21:17:31.039Z"
   },
   {
    "duration": 13,
    "start_time": "2025-05-28T21:17:44.539Z"
   },
   {
    "duration": 12,
    "start_time": "2025-05-28T21:17:56.886Z"
   },
   {
    "duration": 13,
    "start_time": "2025-05-28T21:18:02.268Z"
   },
   {
    "duration": 14,
    "start_time": "2025-05-28T21:18:07.200Z"
   },
   {
    "duration": 14,
    "start_time": "2025-05-28T21:18:23.375Z"
   },
   {
    "duration": 21,
    "start_time": "2025-05-28T21:18:28.952Z"
   },
   {
    "duration": 16,
    "start_time": "2025-05-28T21:18:42.230Z"
   },
   {
    "duration": 13,
    "start_time": "2025-05-28T21:18:57.608Z"
   },
   {
    "duration": 1029,
    "start_time": "2025-05-28T21:20:12.645Z"
   },
   {
    "duration": 20,
    "start_time": "2025-05-28T21:20:27.214Z"
   },
   {
    "duration": 12,
    "start_time": "2025-05-28T21:20:36.537Z"
   },
   {
    "duration": 43,
    "start_time": "2025-05-28T21:22:19.370Z"
   },
   {
    "duration": 11,
    "start_time": "2025-05-28T21:23:03.296Z"
   },
   {
    "duration": 45,
    "start_time": "2025-05-28T21:23:15.591Z"
   },
   {
    "duration": 46,
    "start_time": "2025-05-28T21:24:12.512Z"
   },
   {
    "duration": 54,
    "start_time": "2025-05-28T21:26:32.986Z"
   },
   {
    "duration": 53,
    "start_time": "2025-05-28T21:26:56.419Z"
   },
   {
    "duration": 46,
    "start_time": "2025-05-28T21:33:33.509Z"
   },
   {
    "duration": 47,
    "start_time": "2025-05-28T21:34:25.175Z"
   },
   {
    "duration": 4,
    "start_time": "2025-05-28T21:35:49.841Z"
   },
   {
    "duration": 41,
    "start_time": "2025-05-28T21:36:02.369Z"
   },
   {
    "duration": 39,
    "start_time": "2025-05-28T21:37:20.739Z"
   },
   {
    "duration": 1222,
    "start_time": "2025-05-28T21:52:29.462Z"
   },
   {
    "duration": 303,
    "start_time": "2025-05-28T21:52:30.686Z"
   },
   {
    "duration": 235,
    "start_time": "2025-05-28T21:52:30.991Z"
   },
   {
    "duration": 25,
    "start_time": "2025-05-28T21:52:31.228Z"
   },
   {
    "duration": 39,
    "start_time": "2025-05-28T21:52:31.255Z"
   },
   {
    "duration": 11,
    "start_time": "2025-05-28T21:52:31.295Z"
   },
   {
    "duration": 58,
    "start_time": "2025-05-28T21:52:31.307Z"
   },
   {
    "duration": 39,
    "start_time": "2025-05-28T21:52:31.366Z"
   },
   {
    "duration": 9,
    "start_time": "2025-05-28T21:52:31.406Z"
   },
   {
    "duration": 52,
    "start_time": "2025-05-28T21:52:31.417Z"
   },
   {
    "duration": 53,
    "start_time": "2025-05-28T21:52:31.471Z"
   },
   {
    "duration": 51,
    "start_time": "2025-05-28T21:52:31.525Z"
   },
   {
    "duration": 10,
    "start_time": "2025-05-28T21:52:31.579Z"
   },
   {
    "duration": 692,
    "start_time": "2025-05-28T21:52:31.594Z"
   },
   {
    "duration": 743,
    "start_time": "2025-05-28T21:52:32.288Z"
   },
   {
    "duration": 75,
    "start_time": "2025-05-28T21:52:33.033Z"
   },
   {
    "duration": 27,
    "start_time": "2025-05-28T21:52:33.109Z"
   },
   {
    "duration": 50,
    "start_time": "2025-05-28T21:52:33.138Z"
   },
   {
    "duration": 6,
    "start_time": "2025-05-28T21:52:33.189Z"
   },
   {
    "duration": 24,
    "start_time": "2025-05-28T21:52:33.196Z"
   },
   {
    "duration": 41,
    "start_time": "2025-05-28T21:52:33.221Z"
   },
   {
    "duration": 5,
    "start_time": "2025-05-28T21:52:33.264Z"
   },
   {
    "duration": 1276,
    "start_time": "2025-05-28T21:52:33.271Z"
   },
   {
    "duration": 15,
    "start_time": "2025-05-28T21:52:34.549Z"
   },
   {
    "duration": 77,
    "start_time": "2025-05-28T21:52:34.566Z"
   },
   {
    "duration": 42,
    "start_time": "2025-05-28T21:52:34.644Z"
   },
   {
    "duration": 6,
    "start_time": "2025-05-28T21:52:34.688Z"
   },
   {
    "duration": 120,
    "start_time": "2025-05-28T21:52:34.698Z"
   },
   {
    "duration": 27,
    "start_time": "2025-05-28T21:52:34.820Z"
   },
   {
    "duration": 261,
    "start_time": "2025-05-28T21:52:34.849Z"
   },
   {
    "duration": 393,
    "start_time": "2025-05-28T21:52:35.112Z"
   },
   {
    "duration": 258,
    "start_time": "2025-05-28T21:52:35.507Z"
   },
   {
    "duration": 17,
    "start_time": "2025-05-28T21:52:35.767Z"
   },
   {
    "duration": 52,
    "start_time": "2025-05-28T21:52:35.786Z"
   },
   {
    "duration": 22,
    "start_time": "2025-05-28T21:52:35.858Z"
   },
   {
    "duration": 7,
    "start_time": "2025-05-28T21:52:35.881Z"
   },
   {
    "duration": 1689,
    "start_time": "2025-05-28T21:52:35.890Z"
   },
   {
    "duration": 0,
    "start_time": "2025-05-28T21:52:37.580Z"
   },
   {
    "duration": 0,
    "start_time": "2025-05-28T21:52:37.581Z"
   },
   {
    "duration": 0,
    "start_time": "2025-05-28T21:52:37.582Z"
   },
   {
    "duration": 0,
    "start_time": "2025-05-28T21:52:37.583Z"
   },
   {
    "duration": 0,
    "start_time": "2025-05-28T21:52:37.584Z"
   },
   {
    "duration": 0,
    "start_time": "2025-05-28T21:52:37.586Z"
   },
   {
    "duration": 0,
    "start_time": "2025-05-28T21:52:37.587Z"
   },
   {
    "duration": 0,
    "start_time": "2025-05-28T21:52:37.588Z"
   },
   {
    "duration": 0,
    "start_time": "2025-05-28T21:52:37.589Z"
   },
   {
    "duration": 0,
    "start_time": "2025-05-28T21:52:37.590Z"
   },
   {
    "duration": 0,
    "start_time": "2025-05-28T21:52:37.591Z"
   },
   {
    "duration": 0,
    "start_time": "2025-05-28T21:52:37.592Z"
   },
   {
    "duration": 0,
    "start_time": "2025-05-28T21:52:37.594Z"
   },
   {
    "duration": 0,
    "start_time": "2025-05-28T21:52:37.594Z"
   },
   {
    "duration": 8,
    "start_time": "2025-05-28T21:53:50.883Z"
   },
   {
    "duration": 202,
    "start_time": "2025-05-28T21:53:54.585Z"
   },
   {
    "duration": 8,
    "start_time": "2025-05-28T21:53:56.647Z"
   },
   {
    "duration": 1243,
    "start_time": "2025-05-28T21:54:04.056Z"
   },
   {
    "duration": 256,
    "start_time": "2025-05-28T21:54:05.301Z"
   },
   {
    "duration": 285,
    "start_time": "2025-05-28T21:54:05.559Z"
   },
   {
    "duration": 26,
    "start_time": "2025-05-28T21:54:05.846Z"
   },
   {
    "duration": 51,
    "start_time": "2025-05-28T21:54:05.876Z"
   },
   {
    "duration": 13,
    "start_time": "2025-05-28T21:54:05.929Z"
   },
   {
    "duration": 53,
    "start_time": "2025-05-28T21:54:05.944Z"
   },
   {
    "duration": 40,
    "start_time": "2025-05-28T21:54:05.999Z"
   },
   {
    "duration": 22,
    "start_time": "2025-05-28T21:54:06.040Z"
   },
   {
    "duration": 32,
    "start_time": "2025-05-28T21:54:06.063Z"
   },
   {
    "duration": 63,
    "start_time": "2025-05-28T21:54:06.096Z"
   },
   {
    "duration": 31,
    "start_time": "2025-05-28T21:54:06.160Z"
   },
   {
    "duration": 7,
    "start_time": "2025-05-28T21:54:06.192Z"
   },
   {
    "duration": 672,
    "start_time": "2025-05-28T21:54:06.202Z"
   },
   {
    "duration": 735,
    "start_time": "2025-05-28T21:54:06.876Z"
   },
   {
    "duration": 75,
    "start_time": "2025-05-28T21:54:07.613Z"
   },
   {
    "duration": 28,
    "start_time": "2025-05-28T21:54:07.689Z"
   },
   {
    "duration": 48,
    "start_time": "2025-05-28T21:54:07.718Z"
   },
   {
    "duration": 6,
    "start_time": "2025-05-28T21:54:07.767Z"
   },
   {
    "duration": 13,
    "start_time": "2025-05-28T21:54:07.774Z"
   },
   {
    "duration": 31,
    "start_time": "2025-05-28T21:54:07.788Z"
   },
   {
    "duration": 4,
    "start_time": "2025-05-28T21:54:07.821Z"
   },
   {
    "duration": 1276,
    "start_time": "2025-05-28T21:54:07.826Z"
   },
   {
    "duration": 13,
    "start_time": "2025-05-28T21:54:09.104Z"
   },
   {
    "duration": 5,
    "start_time": "2025-05-28T21:54:09.118Z"
   },
   {
    "duration": 14,
    "start_time": "2025-05-28T21:54:09.124Z"
   },
   {
    "duration": 5,
    "start_time": "2025-05-28T21:54:09.139Z"
   },
   {
    "duration": 23,
    "start_time": "2025-05-28T21:54:09.146Z"
   },
   {
    "duration": 15,
    "start_time": "2025-05-28T21:54:09.170Z"
   },
   {
    "duration": 284,
    "start_time": "2025-05-28T21:54:09.186Z"
   },
   {
    "duration": 422,
    "start_time": "2025-05-28T21:54:09.472Z"
   },
   {
    "duration": 228,
    "start_time": "2025-05-28T21:54:09.896Z"
   },
   {
    "duration": 18,
    "start_time": "2025-05-28T21:54:10.126Z"
   },
   {
    "duration": 61,
    "start_time": "2025-05-28T21:54:10.145Z"
   },
   {
    "duration": 19,
    "start_time": "2025-05-28T21:54:10.208Z"
   },
   {
    "duration": 7,
    "start_time": "2025-05-28T21:54:10.229Z"
   },
   {
    "duration": 214,
    "start_time": "2025-05-28T21:54:10.237Z"
   },
   {
    "duration": 10,
    "start_time": "2025-05-28T21:54:10.453Z"
   },
   {
    "duration": 271,
    "start_time": "2025-05-28T21:54:10.465Z"
   },
   {
    "duration": 25,
    "start_time": "2025-05-28T21:54:10.739Z"
   },
   {
    "duration": 410,
    "start_time": "2025-05-28T21:54:10.768Z"
   },
   {
    "duration": 22,
    "start_time": "2025-05-28T21:54:11.179Z"
   },
   {
    "duration": 6,
    "start_time": "2025-05-28T21:54:11.203Z"
   },
   {
    "duration": 135,
    "start_time": "2025-05-28T21:54:11.211Z"
   },
   {
    "duration": 49,
    "start_time": "2025-05-28T21:54:11.348Z"
   },
   {
    "duration": 67,
    "start_time": "2025-05-28T21:54:11.398Z"
   },
   {
    "duration": 65,
    "start_time": "2025-05-28T21:54:11.467Z"
   },
   {
    "duration": 91,
    "start_time": "2025-05-28T21:54:11.534Z"
   },
   {
    "duration": 60,
    "start_time": "2025-05-28T21:54:11.627Z"
   },
   {
    "duration": 68,
    "start_time": "2025-05-28T21:54:11.688Z"
   },
   {
    "duration": 47,
    "start_time": "2025-05-28T21:54:11.758Z"
   },
   {
    "duration": 1265,
    "start_time": "2025-05-28T21:57:43.899Z"
   },
   {
    "duration": 285,
    "start_time": "2025-05-28T21:57:45.167Z"
   },
   {
    "duration": 126,
    "start_time": "2025-05-28T21:57:45.454Z"
   },
   {
    "duration": 24,
    "start_time": "2025-05-28T21:57:45.582Z"
   },
   {
    "duration": 50,
    "start_time": "2025-05-28T21:57:45.608Z"
   },
   {
    "duration": 11,
    "start_time": "2025-05-28T21:57:45.659Z"
   },
   {
    "duration": 62,
    "start_time": "2025-05-28T21:57:45.672Z"
   },
   {
    "duration": 39,
    "start_time": "2025-05-28T21:57:45.736Z"
   },
   {
    "duration": 9,
    "start_time": "2025-05-28T21:57:45.776Z"
   },
   {
    "duration": 34,
    "start_time": "2025-05-28T21:57:45.787Z"
   },
   {
    "duration": 65,
    "start_time": "2025-05-28T21:57:45.823Z"
   },
   {
    "duration": 28,
    "start_time": "2025-05-28T21:57:45.890Z"
   },
   {
    "duration": 40,
    "start_time": "2025-05-28T21:57:45.920Z"
   },
   {
    "duration": 659,
    "start_time": "2025-05-28T21:57:45.962Z"
   },
   {
    "duration": 766,
    "start_time": "2025-05-28T21:57:46.623Z"
   },
   {
    "duration": 78,
    "start_time": "2025-05-28T21:57:47.391Z"
   },
   {
    "duration": 27,
    "start_time": "2025-05-28T21:57:47.470Z"
   },
   {
    "duration": 93,
    "start_time": "2025-05-28T21:57:47.498Z"
   },
   {
    "duration": 6,
    "start_time": "2025-05-28T21:57:47.593Z"
   },
   {
    "duration": 23,
    "start_time": "2025-05-28T21:57:47.600Z"
   },
   {
    "duration": 41,
    "start_time": "2025-05-28T21:57:47.624Z"
   },
   {
    "duration": 39,
    "start_time": "2025-05-28T21:57:47.667Z"
   },
   {
    "duration": 1287,
    "start_time": "2025-05-28T21:57:47.707Z"
   },
   {
    "duration": 14,
    "start_time": "2025-05-28T21:57:48.996Z"
   },
   {
    "duration": 19,
    "start_time": "2025-05-28T21:57:49.011Z"
   },
   {
    "duration": 14,
    "start_time": "2025-05-28T21:57:49.032Z"
   },
   {
    "duration": 5,
    "start_time": "2025-05-28T21:57:49.047Z"
   },
   {
    "duration": 12,
    "start_time": "2025-05-28T21:57:49.059Z"
   },
   {
    "duration": 14,
    "start_time": "2025-05-28T21:57:49.073Z"
   },
   {
    "duration": 285,
    "start_time": "2025-05-28T21:57:49.089Z"
   },
   {
    "duration": 382,
    "start_time": "2025-05-28T21:57:49.376Z"
   },
   {
    "duration": 255,
    "start_time": "2025-05-28T21:57:49.760Z"
   },
   {
    "duration": 42,
    "start_time": "2025-05-28T21:57:50.017Z"
   },
   {
    "duration": 58,
    "start_time": "2025-05-28T21:57:50.060Z"
   },
   {
    "duration": 20,
    "start_time": "2025-05-28T21:57:50.120Z"
   },
   {
    "duration": 8,
    "start_time": "2025-05-28T21:57:50.157Z"
   },
   {
    "duration": 203,
    "start_time": "2025-05-28T21:57:50.167Z"
   },
   {
    "duration": 10,
    "start_time": "2025-05-28T21:57:50.371Z"
   },
   {
    "duration": 337,
    "start_time": "2025-05-28T21:57:50.383Z"
   },
   {
    "duration": 12,
    "start_time": "2025-05-28T21:57:50.722Z"
   },
   {
    "duration": 431,
    "start_time": "2025-05-28T21:57:50.736Z"
   },
   {
    "duration": 24,
    "start_time": "2025-05-28T21:57:51.169Z"
   },
   {
    "duration": 6,
    "start_time": "2025-05-28T21:57:51.195Z"
   },
   {
    "duration": 150,
    "start_time": "2025-05-28T21:57:51.202Z"
   },
   {
    "duration": 44,
    "start_time": "2025-05-28T21:57:51.357Z"
   },
   {
    "duration": 72,
    "start_time": "2025-05-28T21:57:51.403Z"
   },
   {
    "duration": 65,
    "start_time": "2025-05-28T21:57:51.476Z"
   },
   {
    "duration": 73,
    "start_time": "2025-05-28T21:57:51.558Z"
   },
   {
    "duration": 62,
    "start_time": "2025-05-28T21:57:51.633Z"
   },
   {
    "duration": 65,
    "start_time": "2025-05-28T21:57:51.696Z"
   },
   {
    "duration": 45,
    "start_time": "2025-05-28T21:57:51.763Z"
   },
   {
    "duration": 2258,
    "start_time": "2025-05-29T10:27:59.497Z"
   },
   {
    "duration": 599,
    "start_time": "2025-05-29T10:28:01.757Z"
   },
   {
    "duration": 874,
    "start_time": "2025-05-29T10:28:02.358Z"
   },
   {
    "duration": 496,
    "start_time": "2025-05-29T10:28:03.234Z"
   },
   {
    "duration": 0,
    "start_time": "2025-05-29T10:28:03.734Z"
   },
   {
    "duration": 0,
    "start_time": "2025-05-29T10:28:03.736Z"
   },
   {
    "duration": 0,
    "start_time": "2025-05-29T10:28:03.737Z"
   },
   {
    "duration": 0,
    "start_time": "2025-05-29T10:28:03.738Z"
   },
   {
    "duration": 0,
    "start_time": "2025-05-29T10:28:03.739Z"
   },
   {
    "duration": 0,
    "start_time": "2025-05-29T10:28:03.741Z"
   },
   {
    "duration": 0,
    "start_time": "2025-05-29T10:28:03.742Z"
   },
   {
    "duration": 0,
    "start_time": "2025-05-29T10:28:03.742Z"
   },
   {
    "duration": 0,
    "start_time": "2025-05-29T10:28:03.743Z"
   },
   {
    "duration": 0,
    "start_time": "2025-05-29T10:28:03.745Z"
   },
   {
    "duration": 0,
    "start_time": "2025-05-29T10:28:03.746Z"
   },
   {
    "duration": 0,
    "start_time": "2025-05-29T10:28:03.747Z"
   },
   {
    "duration": 0,
    "start_time": "2025-05-29T10:28:03.748Z"
   },
   {
    "duration": 0,
    "start_time": "2025-05-29T10:28:03.749Z"
   },
   {
    "duration": 0,
    "start_time": "2025-05-29T10:28:03.751Z"
   },
   {
    "duration": 0,
    "start_time": "2025-05-29T10:28:03.752Z"
   },
   {
    "duration": 0,
    "start_time": "2025-05-29T10:28:03.753Z"
   },
   {
    "duration": 0,
    "start_time": "2025-05-29T10:28:03.754Z"
   },
   {
    "duration": 0,
    "start_time": "2025-05-29T10:28:03.755Z"
   },
   {
    "duration": 0,
    "start_time": "2025-05-29T10:28:03.756Z"
   },
   {
    "duration": 0,
    "start_time": "2025-05-29T10:28:03.757Z"
   },
   {
    "duration": 0,
    "start_time": "2025-05-29T10:28:03.758Z"
   },
   {
    "duration": 0,
    "start_time": "2025-05-29T10:28:03.760Z"
   },
   {
    "duration": 0,
    "start_time": "2025-05-29T10:28:03.761Z"
   },
   {
    "duration": 0,
    "start_time": "2025-05-29T10:28:03.762Z"
   },
   {
    "duration": 0,
    "start_time": "2025-05-29T10:28:03.762Z"
   },
   {
    "duration": 0,
    "start_time": "2025-05-29T10:28:03.836Z"
   },
   {
    "duration": 0,
    "start_time": "2025-05-29T10:28:03.837Z"
   },
   {
    "duration": 0,
    "start_time": "2025-05-29T10:28:03.838Z"
   },
   {
    "duration": 0,
    "start_time": "2025-05-29T10:28:03.840Z"
   },
   {
    "duration": 0,
    "start_time": "2025-05-29T10:28:03.841Z"
   },
   {
    "duration": 0,
    "start_time": "2025-05-29T10:28:03.842Z"
   },
   {
    "duration": 0,
    "start_time": "2025-05-29T10:28:03.843Z"
   },
   {
    "duration": 0,
    "start_time": "2025-05-29T10:28:03.845Z"
   },
   {
    "duration": 0,
    "start_time": "2025-05-29T10:28:03.846Z"
   },
   {
    "duration": 0,
    "start_time": "2025-05-29T10:28:03.847Z"
   },
   {
    "duration": 0,
    "start_time": "2025-05-29T10:28:03.849Z"
   },
   {
    "duration": 0,
    "start_time": "2025-05-29T10:28:03.850Z"
   },
   {
    "duration": 0,
    "start_time": "2025-05-29T10:28:03.851Z"
   },
   {
    "duration": 0,
    "start_time": "2025-05-29T10:28:03.853Z"
   },
   {
    "duration": 0,
    "start_time": "2025-05-29T10:28:03.855Z"
   },
   {
    "duration": 0,
    "start_time": "2025-05-29T10:28:03.856Z"
   },
   {
    "duration": 0,
    "start_time": "2025-05-29T10:28:03.857Z"
   },
   {
    "duration": 0,
    "start_time": "2025-05-29T10:28:03.859Z"
   },
   {
    "duration": 0,
    "start_time": "2025-05-29T10:28:03.860Z"
   },
   {
    "duration": 0,
    "start_time": "2025-05-29T10:28:03.862Z"
   },
   {
    "duration": 0,
    "start_time": "2025-05-29T10:28:03.935Z"
   },
   {
    "duration": 1303,
    "start_time": "2025-05-29T11:03:44.379Z"
   },
   {
    "duration": 273,
    "start_time": "2025-05-29T11:03:45.684Z"
   },
   {
    "duration": 100,
    "start_time": "2025-05-29T11:03:45.959Z"
   },
   {
    "duration": 25,
    "start_time": "2025-05-29T11:03:46.061Z"
   },
   {
    "duration": 44,
    "start_time": "2025-05-29T11:03:46.088Z"
   },
   {
    "duration": 11,
    "start_time": "2025-05-29T11:03:46.134Z"
   },
   {
    "duration": 61,
    "start_time": "2025-05-29T11:03:46.147Z"
   },
   {
    "duration": 39,
    "start_time": "2025-05-29T11:03:46.210Z"
   },
   {
    "duration": 8,
    "start_time": "2025-05-29T11:03:46.251Z"
   },
   {
    "duration": 30,
    "start_time": "2025-05-29T11:03:46.278Z"
   },
   {
    "duration": 85,
    "start_time": "2025-05-29T11:03:46.310Z"
   },
   {
    "duration": 36,
    "start_time": "2025-05-29T11:03:46.397Z"
   },
   {
    "duration": 8,
    "start_time": "2025-05-29T11:03:46.435Z"
   },
   {
    "duration": 715,
    "start_time": "2025-05-29T11:03:46.445Z"
   },
   {
    "duration": 831,
    "start_time": "2025-05-29T11:03:47.162Z"
   },
   {
    "duration": 101,
    "start_time": "2025-05-29T11:03:47.995Z"
   },
   {
    "duration": 40,
    "start_time": "2025-05-29T11:03:48.099Z"
   },
   {
    "duration": 65,
    "start_time": "2025-05-29T11:03:48.141Z"
   },
   {
    "duration": 6,
    "start_time": "2025-05-29T11:03:48.208Z"
   },
   {
    "duration": 24,
    "start_time": "2025-05-29T11:03:48.216Z"
   },
   {
    "duration": 47,
    "start_time": "2025-05-29T11:03:48.242Z"
   },
   {
    "duration": 5,
    "start_time": "2025-05-29T11:03:48.290Z"
   },
   {
    "duration": 1286,
    "start_time": "2025-05-29T11:03:48.296Z"
   },
   {
    "duration": 14,
    "start_time": "2025-05-29T11:03:49.584Z"
   },
   {
    "duration": 58,
    "start_time": "2025-05-29T11:03:49.600Z"
   },
   {
    "duration": 74,
    "start_time": "2025-05-29T11:03:49.660Z"
   },
   {
    "duration": 5,
    "start_time": "2025-05-29T11:03:49.736Z"
   },
   {
    "duration": 18,
    "start_time": "2025-05-29T11:03:49.745Z"
   },
   {
    "duration": 21,
    "start_time": "2025-05-29T11:03:49.765Z"
   },
   {
    "duration": 278,
    "start_time": "2025-05-29T11:03:49.788Z"
   },
   {
    "duration": 387,
    "start_time": "2025-05-29T11:03:50.067Z"
   },
   {
    "duration": 251,
    "start_time": "2025-05-29T11:03:50.455Z"
   },
   {
    "duration": 20,
    "start_time": "2025-05-29T11:03:50.708Z"
   },
   {
    "duration": 77,
    "start_time": "2025-05-29T11:03:50.730Z"
   },
   {
    "duration": 23,
    "start_time": "2025-05-29T11:03:50.809Z"
   },
   {
    "duration": 25,
    "start_time": "2025-05-29T11:03:50.834Z"
   },
   {
    "duration": 240,
    "start_time": "2025-05-29T11:03:50.861Z"
   },
   {
    "duration": 9,
    "start_time": "2025-05-29T11:03:51.103Z"
   },
   {
    "duration": 409,
    "start_time": "2025-05-29T11:03:51.113Z"
   },
   {
    "duration": 7,
    "start_time": "2025-05-29T11:03:51.524Z"
   },
   {
    "duration": 603,
    "start_time": "2025-05-29T11:03:51.533Z"
   },
   {
    "duration": 21,
    "start_time": "2025-05-29T11:03:52.138Z"
   },
   {
    "duration": 22,
    "start_time": "2025-05-29T11:03:52.161Z"
   },
   {
    "duration": 131,
    "start_time": "2025-05-29T11:03:52.184Z"
   },
   {
    "duration": 44,
    "start_time": "2025-05-29T11:03:52.317Z"
   },
   {
    "duration": 55,
    "start_time": "2025-05-29T11:03:52.376Z"
   },
   {
    "duration": 86,
    "start_time": "2025-05-29T11:03:52.432Z"
   },
   {
    "duration": 70,
    "start_time": "2025-05-29T11:03:52.520Z"
   },
   {
    "duration": 55,
    "start_time": "2025-05-29T11:03:52.592Z"
   },
   {
    "duration": 62,
    "start_time": "2025-05-29T11:03:52.648Z"
   },
   {
    "duration": 71,
    "start_time": "2025-05-29T11:03:52.712Z"
   },
   {
    "duration": 62,
    "start_time": "2025-05-29T11:05:31.800Z"
   },
   {
    "duration": 1252,
    "start_time": "2025-05-29T11:45:02.116Z"
   },
   {
    "duration": 418,
    "start_time": "2025-05-29T11:45:03.370Z"
   },
   {
    "duration": 94,
    "start_time": "2025-05-29T11:45:03.790Z"
   },
   {
    "duration": 423,
    "start_time": "2025-05-29T11:45:03.886Z"
   },
   {
    "duration": 0,
    "start_time": "2025-05-29T11:45:04.312Z"
   },
   {
    "duration": 0,
    "start_time": "2025-05-29T11:45:04.313Z"
   },
   {
    "duration": 0,
    "start_time": "2025-05-29T11:45:04.314Z"
   },
   {
    "duration": 0,
    "start_time": "2025-05-29T11:45:04.315Z"
   },
   {
    "duration": 0,
    "start_time": "2025-05-29T11:45:04.317Z"
   },
   {
    "duration": 0,
    "start_time": "2025-05-29T11:45:04.318Z"
   },
   {
    "duration": 0,
    "start_time": "2025-05-29T11:45:04.319Z"
   },
   {
    "duration": 0,
    "start_time": "2025-05-29T11:45:04.319Z"
   },
   {
    "duration": 0,
    "start_time": "2025-05-29T11:45:04.321Z"
   },
   {
    "duration": 0,
    "start_time": "2025-05-29T11:45:04.321Z"
   },
   {
    "duration": 0,
    "start_time": "2025-05-29T11:45:04.322Z"
   },
   {
    "duration": 0,
    "start_time": "2025-05-29T11:45:04.324Z"
   },
   {
    "duration": 0,
    "start_time": "2025-05-29T11:45:04.325Z"
   },
   {
    "duration": 0,
    "start_time": "2025-05-29T11:45:04.326Z"
   },
   {
    "duration": 0,
    "start_time": "2025-05-29T11:45:04.327Z"
   },
   {
    "duration": 0,
    "start_time": "2025-05-29T11:45:04.328Z"
   },
   {
    "duration": 0,
    "start_time": "2025-05-29T11:45:04.329Z"
   },
   {
    "duration": 0,
    "start_time": "2025-05-29T11:45:04.330Z"
   },
   {
    "duration": 0,
    "start_time": "2025-05-29T11:45:04.331Z"
   },
   {
    "duration": 0,
    "start_time": "2025-05-29T11:45:04.332Z"
   },
   {
    "duration": 0,
    "start_time": "2025-05-29T11:45:04.332Z"
   },
   {
    "duration": 0,
    "start_time": "2025-05-29T11:45:04.333Z"
   },
   {
    "duration": 0,
    "start_time": "2025-05-29T11:45:04.334Z"
   },
   {
    "duration": 0,
    "start_time": "2025-05-29T11:45:04.336Z"
   },
   {
    "duration": 0,
    "start_time": "2025-05-29T11:45:04.337Z"
   },
   {
    "duration": 0,
    "start_time": "2025-05-29T11:45:04.338Z"
   },
   {
    "duration": 0,
    "start_time": "2025-05-29T11:45:04.339Z"
   },
   {
    "duration": 0,
    "start_time": "2025-05-29T11:45:04.340Z"
   },
   {
    "duration": 0,
    "start_time": "2025-05-29T11:45:04.341Z"
   },
   {
    "duration": 0,
    "start_time": "2025-05-29T11:45:04.341Z"
   },
   {
    "duration": 0,
    "start_time": "2025-05-29T11:45:04.343Z"
   },
   {
    "duration": 0,
    "start_time": "2025-05-29T11:45:04.344Z"
   },
   {
    "duration": 0,
    "start_time": "2025-05-29T11:45:04.345Z"
   },
   {
    "duration": 0,
    "start_time": "2025-05-29T11:45:04.346Z"
   },
   {
    "duration": 0,
    "start_time": "2025-05-29T11:45:04.347Z"
   },
   {
    "duration": 0,
    "start_time": "2025-05-29T11:45:04.348Z"
   },
   {
    "duration": 0,
    "start_time": "2025-05-29T11:45:04.349Z"
   },
   {
    "duration": 0,
    "start_time": "2025-05-29T11:45:04.350Z"
   },
   {
    "duration": 0,
    "start_time": "2025-05-29T11:45:04.350Z"
   },
   {
    "duration": 0,
    "start_time": "2025-05-29T11:45:04.351Z"
   },
   {
    "duration": 0,
    "start_time": "2025-05-29T11:45:04.353Z"
   },
   {
    "duration": 0,
    "start_time": "2025-05-29T11:45:04.354Z"
   },
   {
    "duration": 0,
    "start_time": "2025-05-29T11:45:04.354Z"
   },
   {
    "duration": 0,
    "start_time": "2025-05-29T11:45:04.355Z"
   },
   {
    "duration": 0,
    "start_time": "2025-05-29T11:45:04.356Z"
   },
   {
    "duration": 0,
    "start_time": "2025-05-29T11:45:04.357Z"
   },
   {
    "duration": 0,
    "start_time": "2025-05-29T11:45:04.358Z"
   },
   {
    "duration": 238,
    "start_time": "2025-05-29T11:45:20.887Z"
   },
   {
    "duration": 1162,
    "start_time": "2025-05-29T11:45:26.686Z"
   },
   {
    "duration": 414,
    "start_time": "2025-05-29T11:45:27.850Z"
   },
   {
    "duration": 80,
    "start_time": "2025-05-29T11:45:28.265Z"
   },
   {
    "duration": 434,
    "start_time": "2025-05-29T11:45:28.346Z"
   },
   {
    "duration": 0,
    "start_time": "2025-05-29T11:45:28.783Z"
   },
   {
    "duration": 0,
    "start_time": "2025-05-29T11:45:28.784Z"
   },
   {
    "duration": 0,
    "start_time": "2025-05-29T11:45:28.786Z"
   },
   {
    "duration": 0,
    "start_time": "2025-05-29T11:45:28.787Z"
   },
   {
    "duration": 0,
    "start_time": "2025-05-29T11:45:28.788Z"
   },
   {
    "duration": 0,
    "start_time": "2025-05-29T11:45:28.789Z"
   },
   {
    "duration": 0,
    "start_time": "2025-05-29T11:45:28.789Z"
   },
   {
    "duration": 0,
    "start_time": "2025-05-29T11:45:28.790Z"
   },
   {
    "duration": 0,
    "start_time": "2025-05-29T11:45:28.791Z"
   },
   {
    "duration": 0,
    "start_time": "2025-05-29T11:45:28.792Z"
   },
   {
    "duration": 0,
    "start_time": "2025-05-29T11:45:28.793Z"
   },
   {
    "duration": 0,
    "start_time": "2025-05-29T11:45:28.794Z"
   },
   {
    "duration": 0,
    "start_time": "2025-05-29T11:45:28.796Z"
   },
   {
    "duration": 0,
    "start_time": "2025-05-29T11:45:28.797Z"
   },
   {
    "duration": 0,
    "start_time": "2025-05-29T11:45:28.797Z"
   },
   {
    "duration": 0,
    "start_time": "2025-05-29T11:45:28.798Z"
   },
   {
    "duration": 0,
    "start_time": "2025-05-29T11:45:28.799Z"
   },
   {
    "duration": 0,
    "start_time": "2025-05-29T11:45:28.800Z"
   },
   {
    "duration": 0,
    "start_time": "2025-05-29T11:45:28.801Z"
   },
   {
    "duration": 0,
    "start_time": "2025-05-29T11:45:28.802Z"
   },
   {
    "duration": 0,
    "start_time": "2025-05-29T11:45:28.803Z"
   },
   {
    "duration": 0,
    "start_time": "2025-05-29T11:45:28.804Z"
   },
   {
    "duration": 0,
    "start_time": "2025-05-29T11:45:28.806Z"
   },
   {
    "duration": 0,
    "start_time": "2025-05-29T11:45:28.806Z"
   },
   {
    "duration": 0,
    "start_time": "2025-05-29T11:45:28.807Z"
   },
   {
    "duration": 0,
    "start_time": "2025-05-29T11:45:28.808Z"
   },
   {
    "duration": 0,
    "start_time": "2025-05-29T11:45:28.810Z"
   },
   {
    "duration": 0,
    "start_time": "2025-05-29T11:45:28.811Z"
   },
   {
    "duration": 0,
    "start_time": "2025-05-29T11:45:28.812Z"
   },
   {
    "duration": 0,
    "start_time": "2025-05-29T11:45:28.813Z"
   },
   {
    "duration": 0,
    "start_time": "2025-05-29T11:45:28.814Z"
   },
   {
    "duration": 0,
    "start_time": "2025-05-29T11:45:28.815Z"
   },
   {
    "duration": 0,
    "start_time": "2025-05-29T11:45:28.816Z"
   },
   {
    "duration": 0,
    "start_time": "2025-05-29T11:45:28.817Z"
   },
   {
    "duration": 0,
    "start_time": "2025-05-29T11:45:28.818Z"
   },
   {
    "duration": 0,
    "start_time": "2025-05-29T11:45:28.819Z"
   },
   {
    "duration": 0,
    "start_time": "2025-05-29T11:45:28.835Z"
   },
   {
    "duration": 0,
    "start_time": "2025-05-29T11:45:28.837Z"
   },
   {
    "duration": 0,
    "start_time": "2025-05-29T11:45:28.838Z"
   },
   {
    "duration": 0,
    "start_time": "2025-05-29T11:45:28.839Z"
   },
   {
    "duration": 0,
    "start_time": "2025-05-29T11:45:28.840Z"
   },
   {
    "duration": 0,
    "start_time": "2025-05-29T11:45:28.841Z"
   },
   {
    "duration": 0,
    "start_time": "2025-05-29T11:45:28.842Z"
   },
   {
    "duration": 0,
    "start_time": "2025-05-29T11:45:28.843Z"
   },
   {
    "duration": 0,
    "start_time": "2025-05-29T11:45:28.845Z"
   },
   {
    "duration": 0,
    "start_time": "2025-05-29T11:45:28.846Z"
   },
   {
    "duration": 0,
    "start_time": "2025-05-29T11:45:28.847Z"
   },
   {
    "duration": 1278,
    "start_time": "2025-05-29T11:45:53.881Z"
   },
   {
    "duration": 127,
    "start_time": "2025-05-29T11:45:55.161Z"
   },
   {
    "duration": 92,
    "start_time": "2025-05-29T11:45:55.290Z"
   },
   {
    "duration": 24,
    "start_time": "2025-05-29T11:45:55.383Z"
   },
   {
    "duration": 53,
    "start_time": "2025-05-29T11:45:55.410Z"
   },
   {
    "duration": 12,
    "start_time": "2025-05-29T11:45:55.465Z"
   },
   {
    "duration": 58,
    "start_time": "2025-05-29T11:45:55.479Z"
   },
   {
    "duration": 42,
    "start_time": "2025-05-29T11:45:55.539Z"
   },
   {
    "duration": 8,
    "start_time": "2025-05-29T11:45:55.583Z"
   },
   {
    "duration": 50,
    "start_time": "2025-05-29T11:45:55.593Z"
   },
   {
    "duration": 46,
    "start_time": "2025-05-29T11:45:55.645Z"
   },
   {
    "duration": 46,
    "start_time": "2025-05-29T11:45:55.693Z"
   },
   {
    "duration": 8,
    "start_time": "2025-05-29T11:45:55.741Z"
   },
   {
    "duration": 671,
    "start_time": "2025-05-29T11:45:55.752Z"
   },
   {
    "duration": 788,
    "start_time": "2025-05-29T11:45:56.424Z"
   },
   {
    "duration": 76,
    "start_time": "2025-05-29T11:45:57.214Z"
   },
   {
    "duration": 29,
    "start_time": "2025-05-29T11:45:57.292Z"
   },
   {
    "duration": 44,
    "start_time": "2025-05-29T11:45:57.322Z"
   },
   {
    "duration": 36,
    "start_time": "2025-05-29T11:45:57.368Z"
   },
   {
    "duration": 13,
    "start_time": "2025-05-29T11:45:57.406Z"
   },
   {
    "duration": 31,
    "start_time": "2025-05-29T11:45:57.420Z"
   },
   {
    "duration": 4,
    "start_time": "2025-05-29T11:45:57.453Z"
   },
   {
    "duration": 1229,
    "start_time": "2025-05-29T11:45:57.458Z"
   },
   {
    "duration": 14,
    "start_time": "2025-05-29T11:45:58.688Z"
   },
   {
    "duration": 5,
    "start_time": "2025-05-29T11:45:58.703Z"
   },
   {
    "duration": 37,
    "start_time": "2025-05-29T11:45:58.709Z"
   },
   {
    "duration": 5,
    "start_time": "2025-05-29T11:45:58.748Z"
   },
   {
    "duration": 21,
    "start_time": "2025-05-29T11:45:58.755Z"
   },
   {
    "duration": 15,
    "start_time": "2025-05-29T11:45:58.777Z"
   },
   {
    "duration": 285,
    "start_time": "2025-05-29T11:45:58.793Z"
   },
   {
    "duration": 1459,
    "start_time": "2025-05-29T11:45:59.079Z"
   },
   {
    "duration": 158,
    "start_time": "2025-05-29T11:46:00.540Z"
   },
   {
    "duration": 18,
    "start_time": "2025-05-29T11:46:00.700Z"
   },
   {
    "duration": 67,
    "start_time": "2025-05-29T11:46:00.720Z"
   },
   {
    "duration": 20,
    "start_time": "2025-05-29T11:46:00.789Z"
   },
   {
    "duration": 7,
    "start_time": "2025-05-29T11:46:00.811Z"
   },
   {
    "duration": 205,
    "start_time": "2025-05-29T11:46:00.819Z"
   },
   {
    "duration": 8,
    "start_time": "2025-05-29T11:46:01.026Z"
   },
   {
    "duration": 341,
    "start_time": "2025-05-29T11:46:01.036Z"
   },
   {
    "duration": 7,
    "start_time": "2025-05-29T11:46:01.379Z"
   },
   {
    "duration": 484,
    "start_time": "2025-05-29T11:46:01.390Z"
   },
   {
    "duration": 21,
    "start_time": "2025-05-29T11:46:01.876Z"
   },
   {
    "duration": 150,
    "start_time": "2025-05-29T11:46:01.899Z"
   },
   {
    "duration": 182,
    "start_time": "2025-05-29T11:46:02.051Z"
   },
   {
    "duration": 47,
    "start_time": "2025-05-29T11:46:02.235Z"
   },
   {
    "duration": 71,
    "start_time": "2025-05-29T11:46:02.284Z"
   },
   {
    "duration": 59,
    "start_time": "2025-05-29T11:46:02.356Z"
   },
   {
    "duration": 71,
    "start_time": "2025-05-29T11:46:02.417Z"
   },
   {
    "duration": 67,
    "start_time": "2025-05-29T11:46:02.489Z"
   },
   {
    "duration": 41,
    "start_time": "2025-05-29T11:46:02.558Z"
   },
   {
    "duration": 73,
    "start_time": "2025-05-29T11:46:02.601Z"
   },
   {
    "duration": 1264,
    "start_time": "2025-05-29T11:55:40.760Z"
   },
   {
    "duration": 160,
    "start_time": "2025-05-29T11:55:42.027Z"
   },
   {
    "duration": 125,
    "start_time": "2025-05-29T11:55:42.189Z"
   },
   {
    "duration": 25,
    "start_time": "2025-05-29T11:55:42.315Z"
   },
   {
    "duration": 62,
    "start_time": "2025-05-29T11:55:42.342Z"
   },
   {
    "duration": 12,
    "start_time": "2025-05-29T11:55:42.405Z"
   },
   {
    "duration": 61,
    "start_time": "2025-05-29T11:55:42.418Z"
   },
   {
    "duration": 42,
    "start_time": "2025-05-29T11:55:42.480Z"
   },
   {
    "duration": 10,
    "start_time": "2025-05-29T11:55:42.523Z"
   },
   {
    "duration": 50,
    "start_time": "2025-05-29T11:55:42.536Z"
   },
   {
    "duration": 45,
    "start_time": "2025-05-29T11:55:42.588Z"
   },
   {
    "duration": 59,
    "start_time": "2025-05-29T11:55:42.635Z"
   },
   {
    "duration": 8,
    "start_time": "2025-05-29T11:55:42.696Z"
   },
   {
    "duration": 684,
    "start_time": "2025-05-29T11:55:42.705Z"
   },
   {
    "duration": 803,
    "start_time": "2025-05-29T11:55:43.391Z"
   },
   {
    "duration": 80,
    "start_time": "2025-05-29T11:55:44.196Z"
   },
   {
    "duration": 28,
    "start_time": "2025-05-29T11:55:44.279Z"
   },
   {
    "duration": 38,
    "start_time": "2025-05-29T11:55:44.309Z"
   },
   {
    "duration": 6,
    "start_time": "2025-05-29T11:55:44.348Z"
   },
   {
    "duration": 35,
    "start_time": "2025-05-29T11:55:44.355Z"
   },
   {
    "duration": 36,
    "start_time": "2025-05-29T11:55:44.392Z"
   },
   {
    "duration": 5,
    "start_time": "2025-05-29T11:55:44.430Z"
   },
   {
    "duration": 1258,
    "start_time": "2025-05-29T11:55:44.437Z"
   },
   {
    "duration": 16,
    "start_time": "2025-05-29T11:55:45.697Z"
   },
   {
    "duration": 5,
    "start_time": "2025-05-29T11:55:45.715Z"
   },
   {
    "duration": 49,
    "start_time": "2025-05-29T11:55:45.722Z"
   },
   {
    "duration": 44,
    "start_time": "2025-05-29T11:55:45.773Z"
   },
   {
    "duration": 14,
    "start_time": "2025-05-29T11:55:45.821Z"
   },
   {
    "duration": 38,
    "start_time": "2025-05-29T11:55:45.837Z"
   },
   {
    "duration": 277,
    "start_time": "2025-05-29T11:55:45.878Z"
   },
   {
    "duration": 377,
    "start_time": "2025-05-29T11:55:46.157Z"
   },
   {
    "duration": 245,
    "start_time": "2025-05-29T11:55:46.535Z"
   },
   {
    "duration": 18,
    "start_time": "2025-05-29T11:55:46.782Z"
   },
   {
    "duration": 74,
    "start_time": "2025-05-29T11:55:46.802Z"
   },
   {
    "duration": 22,
    "start_time": "2025-05-29T11:55:46.878Z"
   },
   {
    "duration": 8,
    "start_time": "2025-05-29T11:55:46.902Z"
   },
   {
    "duration": 209,
    "start_time": "2025-05-29T11:55:46.911Z"
   },
   {
    "duration": 8,
    "start_time": "2025-05-29T11:55:47.121Z"
   },
   {
    "duration": 315,
    "start_time": "2025-05-29T11:55:47.131Z"
   },
   {
    "duration": 8,
    "start_time": "2025-05-29T11:55:47.447Z"
   },
   {
    "duration": 349,
    "start_time": "2025-05-29T11:55:47.457Z"
   },
   {
    "duration": 20,
    "start_time": "2025-05-29T11:55:47.808Z"
   },
   {
    "duration": 5,
    "start_time": "2025-05-29T11:55:47.830Z"
   },
   {
    "duration": 140,
    "start_time": "2025-05-29T11:55:47.837Z"
   },
   {
    "duration": 49,
    "start_time": "2025-05-29T11:55:47.978Z"
   },
   {
    "duration": 74,
    "start_time": "2025-05-29T11:55:48.028Z"
   },
   {
    "duration": 74,
    "start_time": "2025-05-29T11:55:48.104Z"
   },
   {
    "duration": 57,
    "start_time": "2025-05-29T11:55:48.180Z"
   },
   {
    "duration": 71,
    "start_time": "2025-05-29T11:55:48.239Z"
   },
   {
    "duration": 42,
    "start_time": "2025-05-29T11:55:48.312Z"
   },
   {
    "duration": 65,
    "start_time": "2025-05-29T11:55:48.356Z"
   },
   {
    "duration": 305,
    "start_time": "2025-05-29T12:02:31.061Z"
   },
   {
    "duration": 1694,
    "start_time": "2025-05-29T13:11:51.619Z"
   },
   {
    "duration": 2394,
    "start_time": "2025-05-29T13:36:42.211Z"
   },
   {
    "duration": 1273,
    "start_time": "2025-05-29T13:38:31.301Z"
   },
   {
    "duration": 2127,
    "start_time": "2025-05-29T13:39:09.479Z"
   },
   {
    "duration": 2085,
    "start_time": "2025-05-29T13:46:10.876Z"
   },
   {
    "duration": 2174,
    "start_time": "2025-05-29T13:46:44.518Z"
   },
   {
    "duration": 1215,
    "start_time": "2025-05-29T15:41:47.326Z"
   },
   {
    "duration": 115,
    "start_time": "2025-05-29T15:41:48.543Z"
   },
   {
    "duration": 62,
    "start_time": "2025-05-29T15:41:48.659Z"
   },
   {
    "duration": 22,
    "start_time": "2025-05-29T15:41:48.723Z"
   },
   {
    "duration": 37,
    "start_time": "2025-05-29T15:41:48.747Z"
   },
   {
    "duration": 63,
    "start_time": "2025-05-29T15:41:48.785Z"
   },
   {
    "duration": 48,
    "start_time": "2025-05-29T15:41:48.850Z"
   },
   {
    "duration": 36,
    "start_time": "2025-05-29T15:41:48.900Z"
   },
   {
    "duration": 8,
    "start_time": "2025-05-29T15:41:48.938Z"
   },
   {
    "duration": 28,
    "start_time": "2025-05-29T15:41:48.949Z"
   },
   {
    "duration": 64,
    "start_time": "2025-05-29T15:41:48.978Z"
   },
   {
    "duration": 28,
    "start_time": "2025-05-29T15:41:49.044Z"
   },
   {
    "duration": 47,
    "start_time": "2025-05-29T15:41:49.074Z"
   },
   {
    "duration": 651,
    "start_time": "2025-05-29T15:41:49.123Z"
   },
   {
    "duration": 751,
    "start_time": "2025-05-29T15:41:49.776Z"
   },
   {
    "duration": 74,
    "start_time": "2025-05-29T15:41:50.528Z"
   },
   {
    "duration": 45,
    "start_time": "2025-05-29T15:41:50.603Z"
   },
   {
    "duration": 45,
    "start_time": "2025-05-29T15:41:50.649Z"
   },
   {
    "duration": 5,
    "start_time": "2025-05-29T15:41:50.696Z"
   },
   {
    "duration": 36,
    "start_time": "2025-05-29T15:41:50.703Z"
   },
   {
    "duration": 33,
    "start_time": "2025-05-29T15:41:50.741Z"
   },
   {
    "duration": 72,
    "start_time": "2025-05-29T15:41:50.776Z"
   },
   {
    "duration": 1182,
    "start_time": "2025-05-29T15:41:50.849Z"
   },
   {
    "duration": 16,
    "start_time": "2025-05-29T15:41:52.032Z"
   },
   {
    "duration": 13,
    "start_time": "2025-05-29T15:41:52.049Z"
   },
   {
    "duration": 15,
    "start_time": "2025-05-29T15:41:52.063Z"
   },
   {
    "duration": 5,
    "start_time": "2025-05-29T15:41:52.079Z"
   },
   {
    "duration": 12,
    "start_time": "2025-05-29T15:41:52.088Z"
   },
   {
    "duration": 46,
    "start_time": "2025-05-29T15:41:52.102Z"
   },
   {
    "duration": 254,
    "start_time": "2025-05-29T15:41:52.150Z"
   },
   {
    "duration": 1512,
    "start_time": "2025-05-29T15:41:52.406Z"
   },
   {
    "duration": 226,
    "start_time": "2025-05-29T15:41:53.920Z"
   },
   {
    "duration": 22,
    "start_time": "2025-05-29T15:41:54.148Z"
   },
   {
    "duration": 73,
    "start_time": "2025-05-29T15:41:54.172Z"
   },
   {
    "duration": 19,
    "start_time": "2025-05-29T15:41:54.246Z"
   },
   {
    "duration": 7,
    "start_time": "2025-05-29T15:41:54.267Z"
   },
   {
    "duration": 200,
    "start_time": "2025-05-29T15:41:54.276Z"
   },
   {
    "duration": 9,
    "start_time": "2025-05-29T15:41:54.478Z"
   },
   {
    "duration": 307,
    "start_time": "2025-05-29T15:41:54.488Z"
   },
   {
    "duration": 8,
    "start_time": "2025-05-29T15:41:54.796Z"
   },
   {
    "duration": 369,
    "start_time": "2025-05-29T15:41:54.806Z"
   },
   {
    "duration": 22,
    "start_time": "2025-05-29T15:41:55.176Z"
   },
   {
    "duration": 6,
    "start_time": "2025-05-29T15:41:55.200Z"
   },
   {
    "duration": 138,
    "start_time": "2025-05-29T15:41:55.208Z"
   },
   {
    "duration": 44,
    "start_time": "2025-05-29T15:41:55.347Z"
   },
   {
    "duration": 69,
    "start_time": "2025-05-29T15:41:55.393Z"
   },
   {
    "duration": 167,
    "start_time": "2025-05-29T15:41:55.464Z"
   },
   {
    "duration": 0,
    "start_time": "2025-05-29T15:41:55.633Z"
   },
   {
    "duration": 0,
    "start_time": "2025-05-29T15:41:55.634Z"
   },
   {
    "duration": 0,
    "start_time": "2025-05-29T15:41:55.635Z"
   },
   {
    "duration": 0,
    "start_time": "2025-05-29T15:41:55.636Z"
   },
   {
    "duration": 0,
    "start_time": "2025-05-29T15:41:55.637Z"
   }
  ],
  "kernelspec": {
   "display_name": "Python 3 (ipykernel)",
   "language": "python",
   "name": "python3"
  },
  "language_info": {
   "codemirror_mode": {
    "name": "ipython",
    "version": 3
   },
   "file_extension": ".py",
   "mimetype": "text/x-python",
   "name": "python",
   "nbconvert_exporter": "python",
   "pygments_lexer": "ipython3",
   "version": "3.9.5"
  },
  "toc": {
   "base_numbering": 1,
   "nav_menu": {
    "height": "219px",
    "width": "289px"
   },
   "number_sections": true,
   "sideBar": true,
   "skip_h1_title": true,
   "title_cell": "Table of Contents",
   "title_sidebar": "Contents",
   "toc_cell": false,
   "toc_position": {},
   "toc_section_display": true,
   "toc_window_display": true
  }
 },
 "nbformat": 4,
 "nbformat_minor": 5
}
