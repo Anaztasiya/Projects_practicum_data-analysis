{
 "cells": [
  {
   "cell_type": "markdown",
   "metadata": {},
   "source": [
    "# Анализ закономерностей успешных игр"
   ]
  },
  {
   "cell_type": "markdown",
   "metadata": {},
   "source": [
    "# Описание данных\n",
    "\n",
    "Представлены данные до 2016 года. Предполагается, что сейчас декабрь 2016 г., и планируется кампания на 2017-й. Нужно обработать данные и выявить определяющие успешность игры закономерности. Это позволит сделать ставку на потенциально популярный продукт и спланировать прогноз продаж на 2017 год.\n",
    "\n",
    "В наборе данных попадается аббревиатура ESRB (Entertainment Software Rating Board) — это ассоциация, определяющая возрастной рейтинг компьютерных игр. ESRB оценивает игровой контент и присваивает ему подходящую возрастную категорию, например, «Для взрослых», «Для детей младшего возраста» или «Для подростков».\n",
    "\n",
    "* Name — название игры\n",
    "* Platform — платформа\n",
    "* Year_of_Release — год выпуска\n",
    "* Genre — жанр игры\n",
    "* NA_sales — продажи в Северной Америке (миллионы проданных копий)\n",
    "* EU_sales — продажи в Европе (миллионы проданных копий)\n",
    "* JP_sales — продажи в Японии (миллионы проданных копий)\n",
    "* Other_sales — продажи в других странах (миллионы проданных копий)\n",
    "* Critic_Score — оценка критиков (максимум 100)\n",
    "* User_Score — оценка пользователей (максимум 10)\n",
    "* Rating — рейтинг от организации ESRB (англ. Entertainment Software Rating Board)"
   ]
  },
  {
   "cell_type": "code",
   "execution_count": 1,
   "metadata": {},
   "outputs": [],
   "source": [
    "import pandas as pd\n",
    "import numpy as np\n",
    "import matplotlib.pyplot as plt\n",
    "from scipy import stats as st\n",
    "from datetime import datetime\n",
    "import seaborn as sns"
   ]
  },
  {
   "cell_type": "markdown",
   "metadata": {},
   "source": [
    "## Общая информация о данных"
   ]
  },
  {
   "cell_type": "code",
   "execution_count": 2,
   "metadata": {},
   "outputs": [
    {
     "name": "stdout",
     "output_type": "stream",
     "text": [
      "<class 'pandas.core.frame.DataFrame'>\n",
      "RangeIndex: 16715 entries, 0 to 16714\n",
      "Data columns (total 11 columns):\n",
      " #   Column           Non-Null Count  Dtype  \n",
      "---  ------           --------------  -----  \n",
      " 0   Name             16713 non-null  object \n",
      " 1   Platform         16715 non-null  object \n",
      " 2   Year_of_Release  16446 non-null  float64\n",
      " 3   Genre            16713 non-null  object \n",
      " 4   NA_sales         16715 non-null  float64\n",
      " 5   EU_sales         16715 non-null  float64\n",
      " 6   JP_sales         16715 non-null  float64\n",
      " 7   Other_sales      16715 non-null  float64\n",
      " 8   Critic_Score     8137 non-null   float64\n",
      " 9   User_Score       10014 non-null  object \n",
      " 10  Rating           9949 non-null   object \n",
      "dtypes: float64(6), object(5)\n",
      "memory usage: 1.4+ MB\n"
     ]
    }
   ],
   "source": [
    "data = pd.read_csv('/datasets/games.csv')\n",
    "data.info()"
   ]
  },
  {
   "cell_type": "code",
   "execution_count": 3,
   "metadata": {},
   "outputs": [
    {
     "data": {
      "text/html": [
       "<div>\n",
       "<style scoped>\n",
       "    .dataframe tbody tr th:only-of-type {\n",
       "        vertical-align: middle;\n",
       "    }\n",
       "\n",
       "    .dataframe tbody tr th {\n",
       "        vertical-align: top;\n",
       "    }\n",
       "\n",
       "    .dataframe thead th {\n",
       "        text-align: right;\n",
       "    }\n",
       "</style>\n",
       "<table border=\"1\" class=\"dataframe\">\n",
       "  <thead>\n",
       "    <tr style=\"text-align: right;\">\n",
       "      <th></th>\n",
       "      <th>Name</th>\n",
       "      <th>Platform</th>\n",
       "      <th>Year_of_Release</th>\n",
       "      <th>Genre</th>\n",
       "      <th>NA_sales</th>\n",
       "      <th>EU_sales</th>\n",
       "      <th>JP_sales</th>\n",
       "      <th>Other_sales</th>\n",
       "      <th>Critic_Score</th>\n",
       "      <th>User_Score</th>\n",
       "      <th>Rating</th>\n",
       "    </tr>\n",
       "  </thead>\n",
       "  <tbody>\n",
       "    <tr>\n",
       "      <th>0</th>\n",
       "      <td>Wii Sports</td>\n",
       "      <td>Wii</td>\n",
       "      <td>2006.0</td>\n",
       "      <td>Sports</td>\n",
       "      <td>41.36</td>\n",
       "      <td>28.96</td>\n",
       "      <td>3.77</td>\n",
       "      <td>8.45</td>\n",
       "      <td>76.0</td>\n",
       "      <td>8</td>\n",
       "      <td>E</td>\n",
       "    </tr>\n",
       "    <tr>\n",
       "      <th>1</th>\n",
       "      <td>Super Mario Bros.</td>\n",
       "      <td>NES</td>\n",
       "      <td>1985.0</td>\n",
       "      <td>Platform</td>\n",
       "      <td>29.08</td>\n",
       "      <td>3.58</td>\n",
       "      <td>6.81</td>\n",
       "      <td>0.77</td>\n",
       "      <td>NaN</td>\n",
       "      <td>NaN</td>\n",
       "      <td>NaN</td>\n",
       "    </tr>\n",
       "    <tr>\n",
       "      <th>2</th>\n",
       "      <td>Mario Kart Wii</td>\n",
       "      <td>Wii</td>\n",
       "      <td>2008.0</td>\n",
       "      <td>Racing</td>\n",
       "      <td>15.68</td>\n",
       "      <td>12.76</td>\n",
       "      <td>3.79</td>\n",
       "      <td>3.29</td>\n",
       "      <td>82.0</td>\n",
       "      <td>8.3</td>\n",
       "      <td>E</td>\n",
       "    </tr>\n",
       "    <tr>\n",
       "      <th>3</th>\n",
       "      <td>Wii Sports Resort</td>\n",
       "      <td>Wii</td>\n",
       "      <td>2009.0</td>\n",
       "      <td>Sports</td>\n",
       "      <td>15.61</td>\n",
       "      <td>10.93</td>\n",
       "      <td>3.28</td>\n",
       "      <td>2.95</td>\n",
       "      <td>80.0</td>\n",
       "      <td>8</td>\n",
       "      <td>E</td>\n",
       "    </tr>\n",
       "    <tr>\n",
       "      <th>4</th>\n",
       "      <td>Pokemon Red/Pokemon Blue</td>\n",
       "      <td>GB</td>\n",
       "      <td>1996.0</td>\n",
       "      <td>Role-Playing</td>\n",
       "      <td>11.27</td>\n",
       "      <td>8.89</td>\n",
       "      <td>10.22</td>\n",
       "      <td>1.00</td>\n",
       "      <td>NaN</td>\n",
       "      <td>NaN</td>\n",
       "      <td>NaN</td>\n",
       "    </tr>\n",
       "    <tr>\n",
       "      <th>5</th>\n",
       "      <td>Tetris</td>\n",
       "      <td>GB</td>\n",
       "      <td>1989.0</td>\n",
       "      <td>Puzzle</td>\n",
       "      <td>23.20</td>\n",
       "      <td>2.26</td>\n",
       "      <td>4.22</td>\n",
       "      <td>0.58</td>\n",
       "      <td>NaN</td>\n",
       "      <td>NaN</td>\n",
       "      <td>NaN</td>\n",
       "    </tr>\n",
       "    <tr>\n",
       "      <th>6</th>\n",
       "      <td>New Super Mario Bros.</td>\n",
       "      <td>DS</td>\n",
       "      <td>2006.0</td>\n",
       "      <td>Platform</td>\n",
       "      <td>11.28</td>\n",
       "      <td>9.14</td>\n",
       "      <td>6.50</td>\n",
       "      <td>2.88</td>\n",
       "      <td>89.0</td>\n",
       "      <td>8.5</td>\n",
       "      <td>E</td>\n",
       "    </tr>\n",
       "    <tr>\n",
       "      <th>7</th>\n",
       "      <td>Wii Play</td>\n",
       "      <td>Wii</td>\n",
       "      <td>2006.0</td>\n",
       "      <td>Misc</td>\n",
       "      <td>13.96</td>\n",
       "      <td>9.18</td>\n",
       "      <td>2.93</td>\n",
       "      <td>2.84</td>\n",
       "      <td>58.0</td>\n",
       "      <td>6.6</td>\n",
       "      <td>E</td>\n",
       "    </tr>\n",
       "    <tr>\n",
       "      <th>8</th>\n",
       "      <td>New Super Mario Bros. Wii</td>\n",
       "      <td>Wii</td>\n",
       "      <td>2009.0</td>\n",
       "      <td>Platform</td>\n",
       "      <td>14.44</td>\n",
       "      <td>6.94</td>\n",
       "      <td>4.70</td>\n",
       "      <td>2.24</td>\n",
       "      <td>87.0</td>\n",
       "      <td>8.4</td>\n",
       "      <td>E</td>\n",
       "    </tr>\n",
       "    <tr>\n",
       "      <th>9</th>\n",
       "      <td>Duck Hunt</td>\n",
       "      <td>NES</td>\n",
       "      <td>1984.0</td>\n",
       "      <td>Shooter</td>\n",
       "      <td>26.93</td>\n",
       "      <td>0.63</td>\n",
       "      <td>0.28</td>\n",
       "      <td>0.47</td>\n",
       "      <td>NaN</td>\n",
       "      <td>NaN</td>\n",
       "      <td>NaN</td>\n",
       "    </tr>\n",
       "  </tbody>\n",
       "</table>\n",
       "</div>"
      ],
      "text/plain": [
       "                        Name Platform  Year_of_Release         Genre  \\\n",
       "0                 Wii Sports      Wii           2006.0        Sports   \n",
       "1          Super Mario Bros.      NES           1985.0      Platform   \n",
       "2             Mario Kart Wii      Wii           2008.0        Racing   \n",
       "3          Wii Sports Resort      Wii           2009.0        Sports   \n",
       "4   Pokemon Red/Pokemon Blue       GB           1996.0  Role-Playing   \n",
       "5                     Tetris       GB           1989.0        Puzzle   \n",
       "6      New Super Mario Bros.       DS           2006.0      Platform   \n",
       "7                   Wii Play      Wii           2006.0          Misc   \n",
       "8  New Super Mario Bros. Wii      Wii           2009.0      Platform   \n",
       "9                  Duck Hunt      NES           1984.0       Shooter   \n",
       "\n",
       "   NA_sales  EU_sales  JP_sales  Other_sales  Critic_Score User_Score Rating  \n",
       "0     41.36     28.96      3.77         8.45          76.0          8      E  \n",
       "1     29.08      3.58      6.81         0.77           NaN        NaN    NaN  \n",
       "2     15.68     12.76      3.79         3.29          82.0        8.3      E  \n",
       "3     15.61     10.93      3.28         2.95          80.0          8      E  \n",
       "4     11.27      8.89     10.22         1.00           NaN        NaN    NaN  \n",
       "5     23.20      2.26      4.22         0.58           NaN        NaN    NaN  \n",
       "6     11.28      9.14      6.50         2.88          89.0        8.5      E  \n",
       "7     13.96      9.18      2.93         2.84          58.0        6.6      E  \n",
       "8     14.44      6.94      4.70         2.24          87.0        8.4      E  \n",
       "9     26.93      0.63      0.28         0.47           NaN        NaN    NaN  "
      ]
     },
     "execution_count": 3,
     "metadata": {},
     "output_type": "execute_result"
    }
   ],
   "source": [
    "data.head(10)"
   ]
  },
  {
   "cell_type": "markdown",
   "metadata": {},
   "source": [
    "<b>Вывод</b>\n",
    "\n",
    "Мы провели исследование и изучили предоставленную информацию. У нас есть таблица с данными о выпущенных играх, игровых платформах, годах производства, жанрах, продажах в Северной Америке, Европе и Японии, информация об оценках пользователей и критиков, а также рейтинге игр. Мы обнаружили наличие пропусков в данных и также нужно изменить тип некоторых значений. Для удобства обращения к определенным столбцам, мы приведем названия столбцов к нижнему регистру. В следующем этапе мы проведем предварительную обработку данных и на основе имеющейся информации проведем исследование, с целью выявить закономерности, определяющие успешность игры."
   ]
  },
  {
   "cell_type": "markdown",
   "metadata": {},
   "source": [
    "## Преодобработка данных"
   ]
  },
  {
   "cell_type": "markdown",
   "metadata": {},
   "source": [
    "Приведем наименования колонок к нижнему регистру для удобства обращения к ним в дальнейшем."
   ]
  },
  {
   "cell_type": "code",
   "execution_count": 4,
   "metadata": {},
   "outputs": [
    {
     "data": {
      "text/plain": [
       "Index(['name', 'platform', 'year_of_release', 'genre', 'na_sales', 'eu_sales',\n",
       "       'jp_sales', 'other_sales', 'critic_score', 'user_score', 'rating'],\n",
       "      dtype='object')"
      ]
     },
     "execution_count": 4,
     "metadata": {},
     "output_type": "execute_result"
    }
   ],
   "source": [
    "data.columns = data.columns.str.lower()\n",
    "data.columns\n"
   ]
  },
  {
   "cell_type": "markdown",
   "metadata": {},
   "source": [
    "Приведем данные к нужному типу"
   ]
  },
  {
   "cell_type": "code",
   "execution_count": 5,
   "metadata": {},
   "outputs": [
    {
     "name": "stdout",
     "output_type": "stream",
     "text": [
      "<class 'pandas.core.frame.DataFrame'>\n",
      "RangeIndex: 16715 entries, 0 to 16714\n",
      "Data columns (total 11 columns):\n",
      " #   Column           Non-Null Count  Dtype         \n",
      "---  ------           --------------  -----         \n",
      " 0   name             16713 non-null  object        \n",
      " 1   platform         16715 non-null  object        \n",
      " 2   year_of_release  16446 non-null  datetime64[ns]\n",
      " 3   genre            16713 non-null  object        \n",
      " 4   na_sales         16715 non-null  float64       \n",
      " 5   eu_sales         16715 non-null  float64       \n",
      " 6   jp_sales         16715 non-null  float64       \n",
      " 7   other_sales      16715 non-null  float64       \n",
      " 8   critic_score     8137 non-null   float64       \n",
      " 9   user_score       10014 non-null  object        \n",
      " 10  rating           9949 non-null   object        \n",
      "dtypes: datetime64[ns](1), float64(5), object(5)\n",
      "memory usage: 1.4+ MB\n"
     ]
    }
   ],
   "source": [
    "data['year_of_release'] = pd.to_datetime(data['year_of_release'], format='%Y').astype('datetime64[Y]')\n",
    "data.info()"
   ]
  },
  {
   "cell_type": "code",
   "execution_count": 6,
   "metadata": {
    "scrolled": true
   },
   "outputs": [
    {
     "data": {
      "text/html": [
       "<div>\n",
       "<style scoped>\n",
       "    .dataframe tbody tr th:only-of-type {\n",
       "        vertical-align: middle;\n",
       "    }\n",
       "\n",
       "    .dataframe tbody tr th {\n",
       "        vertical-align: top;\n",
       "    }\n",
       "\n",
       "    .dataframe thead th {\n",
       "        text-align: right;\n",
       "    }\n",
       "</style>\n",
       "<table border=\"1\" class=\"dataframe\">\n",
       "  <thead>\n",
       "    <tr style=\"text-align: right;\">\n",
       "      <th></th>\n",
       "      <th>name</th>\n",
       "      <th>platform</th>\n",
       "      <th>year_of_release</th>\n",
       "      <th>genre</th>\n",
       "      <th>na_sales</th>\n",
       "      <th>eu_sales</th>\n",
       "      <th>jp_sales</th>\n",
       "      <th>other_sales</th>\n",
       "      <th>critic_score</th>\n",
       "      <th>user_score</th>\n",
       "      <th>rating</th>\n",
       "    </tr>\n",
       "  </thead>\n",
       "  <tbody>\n",
       "    <tr>\n",
       "      <th>0</th>\n",
       "      <td>Wii Sports</td>\n",
       "      <td>Wii</td>\n",
       "      <td>2006.0</td>\n",
       "      <td>Sports</td>\n",
       "      <td>41.36</td>\n",
       "      <td>28.96</td>\n",
       "      <td>3.77</td>\n",
       "      <td>8.45</td>\n",
       "      <td>76.0</td>\n",
       "      <td>8</td>\n",
       "      <td>E</td>\n",
       "    </tr>\n",
       "    <tr>\n",
       "      <th>1</th>\n",
       "      <td>Super Mario Bros.</td>\n",
       "      <td>NES</td>\n",
       "      <td>1985.0</td>\n",
       "      <td>Platform</td>\n",
       "      <td>29.08</td>\n",
       "      <td>3.58</td>\n",
       "      <td>6.81</td>\n",
       "      <td>0.77</td>\n",
       "      <td>NaN</td>\n",
       "      <td>NaN</td>\n",
       "      <td>NaN</td>\n",
       "    </tr>\n",
       "    <tr>\n",
       "      <th>2</th>\n",
       "      <td>Mario Kart Wii</td>\n",
       "      <td>Wii</td>\n",
       "      <td>2008.0</td>\n",
       "      <td>Racing</td>\n",
       "      <td>15.68</td>\n",
       "      <td>12.76</td>\n",
       "      <td>3.79</td>\n",
       "      <td>3.29</td>\n",
       "      <td>82.0</td>\n",
       "      <td>8.3</td>\n",
       "      <td>E</td>\n",
       "    </tr>\n",
       "    <tr>\n",
       "      <th>3</th>\n",
       "      <td>Wii Sports Resort</td>\n",
       "      <td>Wii</td>\n",
       "      <td>2009.0</td>\n",
       "      <td>Sports</td>\n",
       "      <td>15.61</td>\n",
       "      <td>10.93</td>\n",
       "      <td>3.28</td>\n",
       "      <td>2.95</td>\n",
       "      <td>80.0</td>\n",
       "      <td>8</td>\n",
       "      <td>E</td>\n",
       "    </tr>\n",
       "    <tr>\n",
       "      <th>4</th>\n",
       "      <td>Pokemon Red/Pokemon Blue</td>\n",
       "      <td>GB</td>\n",
       "      <td>1996.0</td>\n",
       "      <td>Role-Playing</td>\n",
       "      <td>11.27</td>\n",
       "      <td>8.89</td>\n",
       "      <td>10.22</td>\n",
       "      <td>1.00</td>\n",
       "      <td>NaN</td>\n",
       "      <td>NaN</td>\n",
       "      <td>NaN</td>\n",
       "    </tr>\n",
       "  </tbody>\n",
       "</table>\n",
       "</div>"
      ],
      "text/plain": [
       "                       name platform  year_of_release         genre  na_sales  \\\n",
       "0                Wii Sports      Wii           2006.0        Sports     41.36   \n",
       "1         Super Mario Bros.      NES           1985.0      Platform     29.08   \n",
       "2            Mario Kart Wii      Wii           2008.0        Racing     15.68   \n",
       "3         Wii Sports Resort      Wii           2009.0        Sports     15.61   \n",
       "4  Pokemon Red/Pokemon Blue       GB           1996.0  Role-Playing     11.27   \n",
       "\n",
       "   eu_sales  jp_sales  other_sales  critic_score user_score rating  \n",
       "0     28.96      3.77         8.45          76.0          8      E  \n",
       "1      3.58      6.81         0.77           NaN        NaN    NaN  \n",
       "2     12.76      3.79         3.29          82.0        8.3      E  \n",
       "3     10.93      3.28         2.95          80.0          8      E  \n",
       "4      8.89     10.22         1.00           NaN        NaN    NaN  "
      ]
     },
     "execution_count": 6,
     "metadata": {},
     "output_type": "execute_result"
    }
   ],
   "source": [
    "data['year_of_release'] = data['year_of_release'].dt.year\n",
    "data.head()"
   ]
  },
  {
   "cell_type": "markdown",
   "metadata": {},
   "source": [
    "В колонке \"user_score\" текущий тип данных является вещественным. Заменим его на числовой."
   ]
  },
  {
   "cell_type": "code",
   "execution_count": 7,
   "metadata": {},
   "outputs": [
    {
     "data": {
      "text/plain": [
       "array(['8', nan, '8.3', '8.5', '6.6', '8.4', '8.6', '7.7', '6.3', '7.4',\n",
       "       '8.2', '9', '7.9', '8.1', '8.7', '7.1', '3.4', '5.3', '4.8', '3.2',\n",
       "       '8.9', '6.4', '7.8', '7.5', '2.6', '7.2', '9.2', '7', '7.3', '4.3',\n",
       "       '7.6', '5.7', '5', '9.1', '6.5', 'tbd', '8.8', '6.9', '9.4', '6.8',\n",
       "       '6.1', '6.7', '5.4', '4', '4.9', '4.5', '9.3', '6.2', '4.2', '6',\n",
       "       '3.7', '4.1', '5.8', '5.6', '5.5', '4.4', '4.6', '5.9', '3.9',\n",
       "       '3.1', '2.9', '5.2', '3.3', '4.7', '5.1', '3.5', '2.5', '1.9', '3',\n",
       "       '2.7', '2.2', '2', '9.5', '2.1', '3.6', '2.8', '1.8', '3.8', '0',\n",
       "       '1.6', '9.6', '2.4', '1.7', '1.1', '0.3', '1.5', '0.7', '1.2',\n",
       "       '2.3', '0.5', '1.3', '0.2', '0.6', '1.4', '0.9', '1', '9.7'],\n",
       "      dtype=object)"
      ]
     },
     "execution_count": 7,
     "metadata": {},
     "output_type": "execute_result"
    }
   ],
   "source": [
    "data['user_score'].unique()"
   ]
  },
  {
   "cell_type": "code",
   "execution_count": 8,
   "metadata": {},
   "outputs": [],
   "source": [
    "data.loc[data['user_score'] == 'tbd', 'user_score'] = np.nan"
   ]
  },
  {
   "cell_type": "code",
   "execution_count": 9,
   "metadata": {},
   "outputs": [
    {
     "name": "stdout",
     "output_type": "stream",
     "text": [
      "<class 'pandas.core.frame.DataFrame'>\n",
      "RangeIndex: 16715 entries, 0 to 16714\n",
      "Data columns (total 11 columns):\n",
      " #   Column           Non-Null Count  Dtype  \n",
      "---  ------           --------------  -----  \n",
      " 0   name             16713 non-null  object \n",
      " 1   platform         16715 non-null  object \n",
      " 2   year_of_release  16446 non-null  float64\n",
      " 3   genre            16713 non-null  object \n",
      " 4   na_sales         16715 non-null  float64\n",
      " 5   eu_sales         16715 non-null  float64\n",
      " 6   jp_sales         16715 non-null  float64\n",
      " 7   other_sales      16715 non-null  float64\n",
      " 8   critic_score     8137 non-null   float64\n",
      " 9   user_score       7590 non-null   float64\n",
      " 10  rating           9949 non-null   object \n",
      "dtypes: float64(7), object(4)\n",
      "memory usage: 1.4+ MB\n"
     ]
    }
   ],
   "source": [
    "data['user_score'] = data['user_score'].astype('float')\n",
    "data.info()"
   ]
  },
  {
   "cell_type": "markdown",
   "metadata": {},
   "source": [
    "При попытке осуществить преобразование типа столбца в числовой с помощью метода astype возникает сбой, препятствующий выполнению данной операции. Рассмотрев уникальные значения в данном столбце, среди числовых значений встретили аббревиатуру tbd. Данная аббревиатура означает что данных пока нет, и поскольку мы не можем заменить эти данные на другие, заменили их на nan. После чего преобразование прошло успешно."
   ]
  },
  {
   "cell_type": "markdown",
   "metadata": {},
   "source": [
    "Обработаем пропуски"
   ]
  },
  {
   "cell_type": "code",
   "execution_count": 10,
   "metadata": {},
   "outputs": [
    {
     "data": {
      "text/plain": [
       "name                  2\n",
       "platform              0\n",
       "year_of_release     269\n",
       "genre                 2\n",
       "na_sales              0\n",
       "eu_sales              0\n",
       "jp_sales              0\n",
       "other_sales           0\n",
       "critic_score       8578\n",
       "user_score         9125\n",
       "rating             6766\n",
       "dtype: int64"
      ]
     },
     "execution_count": 10,
     "metadata": {},
     "output_type": "execute_result"
    }
   ],
   "source": [
    "data.isnull().sum()"
   ]
  },
  {
   "cell_type": "code",
   "execution_count": 11,
   "metadata": {},
   "outputs": [
    {
     "data": {
      "text/plain": [
       "array([76., nan, 82., 80., 89., 58., 87., 91., 61., 97., 95., 77., 88.,\n",
       "       83., 94., 93., 85., 86., 98., 96., 90., 84., 73., 74., 78., 92.,\n",
       "       71., 72., 68., 62., 49., 67., 81., 66., 56., 79., 70., 59., 64.,\n",
       "       75., 60., 63., 69., 50., 25., 42., 44., 55., 48., 57., 29., 47.,\n",
       "       65., 54., 20., 53., 37., 38., 33., 52., 30., 32., 43., 45., 51.,\n",
       "       40., 46., 39., 34., 35., 41., 36., 28., 31., 27., 26., 19., 23.,\n",
       "       24., 21., 17., 22., 13.])"
      ]
     },
     "execution_count": 11,
     "metadata": {},
     "output_type": "execute_result"
    }
   ],
   "source": [
    "data['critic_score'].unique()"
   ]
  },
  {
   "cell_type": "code",
   "execution_count": 12,
   "metadata": {},
   "outputs": [
    {
     "data": {
      "text/plain": [
       "array([8. , nan, 8.3, 8.5, 6.6, 8.4, 8.6, 7.7, 6.3, 7.4, 8.2, 9. , 7.9,\n",
       "       8.1, 8.7, 7.1, 3.4, 5.3, 4.8, 3.2, 8.9, 6.4, 7.8, 7.5, 2.6, 7.2,\n",
       "       9.2, 7. , 7.3, 4.3, 7.6, 5.7, 5. , 9.1, 6.5, 8.8, 6.9, 9.4, 6.8,\n",
       "       6.1, 6.7, 5.4, 4. , 4.9, 4.5, 9.3, 6.2, 4.2, 6. , 3.7, 4.1, 5.8,\n",
       "       5.6, 5.5, 4.4, 4.6, 5.9, 3.9, 3.1, 2.9, 5.2, 3.3, 4.7, 5.1, 3.5,\n",
       "       2.5, 1.9, 3. , 2.7, 2.2, 2. , 9.5, 2.1, 3.6, 2.8, 1.8, 3.8, 0. ,\n",
       "       1.6, 9.6, 2.4, 1.7, 1.1, 0.3, 1.5, 0.7, 1.2, 2.3, 0.5, 1.3, 0.2,\n",
       "       0.6, 1.4, 0.9, 1. , 9.7])"
      ]
     },
     "execution_count": 12,
     "metadata": {},
     "output_type": "execute_result"
    }
   ],
   "source": [
    "data['user_score'].unique()"
   ]
  },
  {
   "cell_type": "markdown",
   "metadata": {},
   "source": [
    "Заменим отсутствующие значения в столбцах user_score и critic_score на уникальное значение \"-1\", чтобы отличить их от реального рейтинга, равного нулю. Оставим нули без изменений."
   ]
  },
  {
   "cell_type": "code",
   "execution_count": 13,
   "metadata": {},
   "outputs": [],
   "source": [
    "data['critic_score'] = data['critic_score'].fillna(-1)\n",
    "data['user_score'] = data['user_score'].fillna(-1)"
   ]
  },
  {
   "cell_type": "code",
   "execution_count": 14,
   "metadata": {},
   "outputs": [
    {
     "data": {
      "text/plain": [
       "name                  2\n",
       "platform              0\n",
       "year_of_release     269\n",
       "genre                 2\n",
       "na_sales              0\n",
       "eu_sales              0\n",
       "jp_sales              0\n",
       "other_sales           0\n",
       "critic_score          0\n",
       "user_score            0\n",
       "rating             6766\n",
       "dtype: int64"
      ]
     },
     "execution_count": 14,
     "metadata": {},
     "output_type": "execute_result"
    }
   ],
   "source": [
    "data.isnull().sum()"
   ]
  },
  {
   "cell_type": "code",
   "execution_count": 15,
   "metadata": {},
   "outputs": [
    {
     "data": {
      "text/plain": [
       "array(['E', nan, 'M', 'T', 'E10+', 'K-A', 'AO', 'EC', 'RP'], dtype=object)"
      ]
     },
     "execution_count": 15,
     "metadata": {},
     "output_type": "execute_result"
    }
   ],
   "source": [
    "data['rating'].unique()"
   ]
  },
  {
   "cell_type": "code",
   "execution_count": 16,
   "metadata": {},
   "outputs": [
    {
     "data": {
      "text/plain": [
       "name                 2\n",
       "platform             0\n",
       "year_of_release    269\n",
       "genre                2\n",
       "na_sales             0\n",
       "eu_sales             0\n",
       "jp_sales             0\n",
       "other_sales          0\n",
       "critic_score         0\n",
       "user_score           0\n",
       "rating               0\n",
       "dtype: int64"
      ]
     },
     "execution_count": 16,
     "metadata": {},
     "output_type": "execute_result"
    }
   ],
   "source": [
    "data['rating'] = data['rating'].fillna('Unknown')\n",
    "data.isnull().sum()"
   ]
  },
  {
   "cell_type": "markdown",
   "metadata": {},
   "source": [
    "Относительно пропусков в столбцах с названием и жанром, их всего по два в каждом столбце, что является незначительным количеством. Возможно, мы могли бы удалить эти строки полностью, однако я считаю, что их наличие не повлияет на исследование. Кроме того, эти строки содержат очень мало полезных данных для анализа. Что касается года выпуска, количество пропущенных значений составляет 269, что также является незначительной частью от общего объема данных. Мы не можем заполнить эти пропуски реалистичными данными, поэтому оставим их без изменений.\n",
    "\n",
    "Значительное количество пропусков в столбцах с user_score, critic_score и rating могло возникнуть из-за ошибки при вводе данных или из-за непопулярности игр, где в первоначальной версии информация об этих рейтингах отсутствовала."
   ]
  },
  {
   "cell_type": "code",
   "execution_count": 17,
   "metadata": {},
   "outputs": [
    {
     "data": {
      "text/html": [
       "<div>\n",
       "<style scoped>\n",
       "    .dataframe tbody tr th:only-of-type {\n",
       "        vertical-align: middle;\n",
       "    }\n",
       "\n",
       "    .dataframe tbody tr th {\n",
       "        vertical-align: top;\n",
       "    }\n",
       "\n",
       "    .dataframe thead th {\n",
       "        text-align: right;\n",
       "    }\n",
       "</style>\n",
       "<table border=\"1\" class=\"dataframe\">\n",
       "  <thead>\n",
       "    <tr style=\"text-align: right;\">\n",
       "      <th></th>\n",
       "      <th>name</th>\n",
       "      <th>platform</th>\n",
       "      <th>year_of_release</th>\n",
       "      <th>genre</th>\n",
       "      <th>na_sales</th>\n",
       "      <th>eu_sales</th>\n",
       "      <th>jp_sales</th>\n",
       "      <th>other_sales</th>\n",
       "      <th>critic_score</th>\n",
       "      <th>user_score</th>\n",
       "      <th>rating</th>\n",
       "    </tr>\n",
       "  </thead>\n",
       "  <tbody>\n",
       "    <tr>\n",
       "      <th>659</th>\n",
       "      <td>NaN</td>\n",
       "      <td>GEN</td>\n",
       "      <td>1993.0</td>\n",
       "      <td>NaN</td>\n",
       "      <td>1.78</td>\n",
       "      <td>0.53</td>\n",
       "      <td>0.00</td>\n",
       "      <td>0.08</td>\n",
       "      <td>-1.0</td>\n",
       "      <td>-1.0</td>\n",
       "      <td>Unknown</td>\n",
       "    </tr>\n",
       "    <tr>\n",
       "      <th>14244</th>\n",
       "      <td>NaN</td>\n",
       "      <td>GEN</td>\n",
       "      <td>1993.0</td>\n",
       "      <td>NaN</td>\n",
       "      <td>0.00</td>\n",
       "      <td>0.00</td>\n",
       "      <td>0.03</td>\n",
       "      <td>0.00</td>\n",
       "      <td>-1.0</td>\n",
       "      <td>-1.0</td>\n",
       "      <td>Unknown</td>\n",
       "    </tr>\n",
       "  </tbody>\n",
       "</table>\n",
       "</div>"
      ],
      "text/plain": [
       "      name platform  year_of_release genre  na_sales  eu_sales  jp_sales  \\\n",
       "659    NaN      GEN           1993.0   NaN      1.78      0.53      0.00   \n",
       "14244  NaN      GEN           1993.0   NaN      0.00      0.00      0.03   \n",
       "\n",
       "       other_sales  critic_score  user_score   rating  \n",
       "659           0.08          -1.0        -1.0  Unknown  \n",
       "14244         0.00          -1.0        -1.0  Unknown  "
      ]
     },
     "execution_count": 17,
     "metadata": {},
     "output_type": "execute_result"
    }
   ],
   "source": [
    "data.loc[data['genre'].isnull()]"
   ]
  },
  {
   "cell_type": "markdown",
   "metadata": {},
   "source": [
    "Проанализируем объединенные продажи по всем данным из различных регионов и добавим их в новый столбец."
   ]
  },
  {
   "cell_type": "code",
   "execution_count": 18,
   "metadata": {},
   "outputs": [],
   "source": [
    "data['total_sales'] = data['na_sales'] + data['eu_sales'] + data['jp_sales'] + data['other_sales']"
   ]
  },
  {
   "cell_type": "code",
   "execution_count": 19,
   "metadata": {
    "scrolled": true
   },
   "outputs": [
    {
     "data": {
      "text/html": [
       "<div>\n",
       "<style scoped>\n",
       "    .dataframe tbody tr th:only-of-type {\n",
       "        vertical-align: middle;\n",
       "    }\n",
       "\n",
       "    .dataframe tbody tr th {\n",
       "        vertical-align: top;\n",
       "    }\n",
       "\n",
       "    .dataframe thead th {\n",
       "        text-align: right;\n",
       "    }\n",
       "</style>\n",
       "<table border=\"1\" class=\"dataframe\">\n",
       "  <thead>\n",
       "    <tr style=\"text-align: right;\">\n",
       "      <th></th>\n",
       "      <th>name</th>\n",
       "      <th>platform</th>\n",
       "      <th>year_of_release</th>\n",
       "      <th>genre</th>\n",
       "      <th>na_sales</th>\n",
       "      <th>eu_sales</th>\n",
       "      <th>jp_sales</th>\n",
       "      <th>other_sales</th>\n",
       "      <th>critic_score</th>\n",
       "      <th>user_score</th>\n",
       "      <th>rating</th>\n",
       "      <th>total_sales</th>\n",
       "    </tr>\n",
       "  </thead>\n",
       "  <tbody>\n",
       "    <tr>\n",
       "      <th>0</th>\n",
       "      <td>Wii Sports</td>\n",
       "      <td>Wii</td>\n",
       "      <td>2006.0</td>\n",
       "      <td>Sports</td>\n",
       "      <td>41.36</td>\n",
       "      <td>28.96</td>\n",
       "      <td>3.77</td>\n",
       "      <td>8.45</td>\n",
       "      <td>76.0</td>\n",
       "      <td>8.0</td>\n",
       "      <td>E</td>\n",
       "      <td>82.54</td>\n",
       "    </tr>\n",
       "    <tr>\n",
       "      <th>1</th>\n",
       "      <td>Super Mario Bros.</td>\n",
       "      <td>NES</td>\n",
       "      <td>1985.0</td>\n",
       "      <td>Platform</td>\n",
       "      <td>29.08</td>\n",
       "      <td>3.58</td>\n",
       "      <td>6.81</td>\n",
       "      <td>0.77</td>\n",
       "      <td>-1.0</td>\n",
       "      <td>-1.0</td>\n",
       "      <td>Unknown</td>\n",
       "      <td>40.24</td>\n",
       "    </tr>\n",
       "    <tr>\n",
       "      <th>2</th>\n",
       "      <td>Mario Kart Wii</td>\n",
       "      <td>Wii</td>\n",
       "      <td>2008.0</td>\n",
       "      <td>Racing</td>\n",
       "      <td>15.68</td>\n",
       "      <td>12.76</td>\n",
       "      <td>3.79</td>\n",
       "      <td>3.29</td>\n",
       "      <td>82.0</td>\n",
       "      <td>8.3</td>\n",
       "      <td>E</td>\n",
       "      <td>35.52</td>\n",
       "    </tr>\n",
       "    <tr>\n",
       "      <th>3</th>\n",
       "      <td>Wii Sports Resort</td>\n",
       "      <td>Wii</td>\n",
       "      <td>2009.0</td>\n",
       "      <td>Sports</td>\n",
       "      <td>15.61</td>\n",
       "      <td>10.93</td>\n",
       "      <td>3.28</td>\n",
       "      <td>2.95</td>\n",
       "      <td>80.0</td>\n",
       "      <td>8.0</td>\n",
       "      <td>E</td>\n",
       "      <td>32.77</td>\n",
       "    </tr>\n",
       "    <tr>\n",
       "      <th>4</th>\n",
       "      <td>Pokemon Red/Pokemon Blue</td>\n",
       "      <td>GB</td>\n",
       "      <td>1996.0</td>\n",
       "      <td>Role-Playing</td>\n",
       "      <td>11.27</td>\n",
       "      <td>8.89</td>\n",
       "      <td>10.22</td>\n",
       "      <td>1.00</td>\n",
       "      <td>-1.0</td>\n",
       "      <td>-1.0</td>\n",
       "      <td>Unknown</td>\n",
       "      <td>31.38</td>\n",
       "    </tr>\n",
       "  </tbody>\n",
       "</table>\n",
       "</div>"
      ],
      "text/plain": [
       "                       name platform  year_of_release         genre  na_sales  \\\n",
       "0                Wii Sports      Wii           2006.0        Sports     41.36   \n",
       "1         Super Mario Bros.      NES           1985.0      Platform     29.08   \n",
       "2            Mario Kart Wii      Wii           2008.0        Racing     15.68   \n",
       "3         Wii Sports Resort      Wii           2009.0        Sports     15.61   \n",
       "4  Pokemon Red/Pokemon Blue       GB           1996.0  Role-Playing     11.27   \n",
       "\n",
       "   eu_sales  jp_sales  other_sales  critic_score  user_score   rating  \\\n",
       "0     28.96      3.77         8.45          76.0         8.0        E   \n",
       "1      3.58      6.81         0.77          -1.0        -1.0  Unknown   \n",
       "2     12.76      3.79         3.29          82.0         8.3        E   \n",
       "3     10.93      3.28         2.95          80.0         8.0        E   \n",
       "4      8.89     10.22         1.00          -1.0        -1.0  Unknown   \n",
       "\n",
       "   total_sales  \n",
       "0        82.54  \n",
       "1        40.24  \n",
       "2        35.52  \n",
       "3        32.77  \n",
       "4        31.38  "
      ]
     },
     "execution_count": 19,
     "metadata": {},
     "output_type": "execute_result"
    }
   ],
   "source": [
    "data.head()"
   ]
  },
  {
   "cell_type": "code",
   "execution_count": 20,
   "metadata": {},
   "outputs": [
    {
     "data": {
      "text/plain": [
       "0"
      ]
     },
     "execution_count": 20,
     "metadata": {},
     "output_type": "execute_result"
    }
   ],
   "source": [
    "data.duplicated().sum()"
   ]
  },
  {
   "cell_type": "markdown",
   "metadata": {},
   "source": [
    "<b>Вывод</b>\n",
    "\n",
    "В данном разделе были обработаны пропуски в данных, а также названия столбцов были приведены к нижнему регистру. Так же провели проверку на дубликаты и она показала ихотсутствие. Кроме того, была осуществлена замена типа данных для определенных столбцов. Важно отметить, что был внесен дополнительный столбец, отражающий общие суммарные продажи во всех регионах. Теперь мы можем приступить к процессу исследовательского анализа данных."
   ]
  },
  {
   "cell_type": "markdown",
   "metadata": {},
   "source": [
    "## Исследовательский анализ данных"
   ]
  },
  {
   "cell_type": "markdown",
   "metadata": {},
   "source": [
    "Давайте рассмотрим, сколько игр было выпущено в различные годы, и важно ли иметь данные за все временные периоды."
   ]
  },
  {
   "cell_type": "code",
   "execution_count": 21,
   "metadata": {},
   "outputs": [
    {
     "data": {
      "image/png": "[encoded data removed]",
      "text/plain": [
       "<Figure size 648x504 with 1 Axes>"
      ]
     },
     "metadata": {
      "needs_background": "light"
     },
     "output_type": "display_data"
    }
   ],
   "source": [
    "data['year_of_release'].value_counts().sort_index()\\\n",
    ".plot(kind='bar', grid=True, figsize=(9,7), color='g')\n",
    "plt.title('График распределения количества выпущенных игр по годам')\n",
    "plt.xlabel('год выпуска')\n",
    "plt.ylabel('количество игр')\n",
    "plt.show()"
   ]
  },
  {
   "cell_type": "markdown",
   "metadata": {},
   "source": [
    "Подробный график распределения выпущенных игр по каждому году позволяет выявить интересные тенденции в индустрии разработки игр. По данным можно сделать вывод, что после 2000-х годов произошел резкий скачок в производстве игр. Содержательная часть игрового контента была создана именно с этого времени. Однако, стоит отметить, что начиная с 2008 года, мы наблюдаем снижение в количестве произведенных игр за год. Это может свидетельствовать о насыщении рынка и необходимости более тщательного подхода к разработке игровых проектов."
   ]
  },
  {
   "cell_type": "code",
   "execution_count": 22,
   "metadata": {},
   "outputs": [
    {
     "data": {
      "image/png": "[encoded data removed]",
      "text/plain": [
       "<Figure size 648x504 with 1 Axes>"
      ]
     },
     "metadata": {
      "needs_background": "light"
     },
     "output_type": "display_data"
    }
   ],
   "source": [
    "data.groupby('year_of_release')['total_sales'].agg('sum')\\\n",
    ".plot(kind='bar', figsize=(9,7), grid=True, color='b')\n",
    "plt.title('График суммарных продаж игр по годам')\n",
    "plt.xlabel('год продажи')\n",
    "plt.ylabel('сумма проданных игр')\n",
    "plt.show()"
   ]
  },
  {
   "cell_type": "markdown",
   "metadata": {},
   "source": [
    "В последние годы также заметно снизились и совокупные объемы продаж. Рассмотрим, как изменялись продажи на разных платформах. Отоберем платформы с наибольшими общими объемами продаж и создадим график, отображающий их динамику по годам."
   ]
  },
  {
   "cell_type": "code",
   "execution_count": 23,
   "metadata": {},
   "outputs": [
    {
     "data": {
      "text/plain": [
       "platform\n",
       "PS2     1255.77\n",
       "X360     971.42\n",
       "PS3      939.65\n",
       "Wii      907.51\n",
       "DS       806.12\n",
       "PS       730.86\n",
       "GBA      317.85\n",
       "PS4      314.14\n",
       "PSP      294.05\n",
       "PC       259.52\n",
       "3DS      259.00\n",
       "XB       257.74\n",
       "GB       255.46\n",
       "NES      251.05\n",
       "N64      218.68\n",
       "SNES     200.04\n",
       "GC       198.93\n",
       "XOne     159.32\n",
       "2600      96.98\n",
       "WiiU      82.19\n",
       "PSV       54.07\n",
       "SAT       33.59\n",
       "GEN       30.77\n",
       "DC        15.95\n",
       "SCD        1.86\n",
       "NG         1.44\n",
       "WS         1.42\n",
       "TG16       0.16\n",
       "3DO        0.10\n",
       "GG         0.04\n",
       "PCFX       0.03\n",
       "Name: total_sales, dtype: float64"
      ]
     },
     "execution_count": 23,
     "metadata": {},
     "output_type": "execute_result"
    }
   ],
   "source": [
    "data.groupby('platform')['total_sales'].agg('sum').sort_values(ascending=False)"
   ]
  },
  {
   "cell_type": "markdown",
   "metadata": {},
   "source": [
    "По общему количеству продаж впереди идут следующие игровые платформы: Sony PlayStation 2, Xbox 360, Sony PlayStation 3 и Wii."
   ]
  },
  {
   "cell_type": "code",
   "execution_count": 24,
   "metadata": {},
   "outputs": [
    {
     "data": {
      "image/png": "[encoded data removed]",
      "text/plain": [
       "<Figure size 432x288 with 1 Axes>"
      ]
     },
     "metadata": {
      "needs_background": "light"
     },
     "output_type": "display_data"
    }
   ],
   "source": [
    "data.loc[data['platform'] == 'PS2'].groupby('year_of_release')['total_sales']\\\n",
    ".agg('sum').plot(kind='bar', color='y', grid=True)\n",
    "plt.title('Суммарные продажи игр на платформе PlayStation2 по годам')\n",
    "plt.xlabel('год продажи')\n",
    "plt.ylabel('количество игр')\n",
    "plt.show()"
   ]
  },
  {
   "cell_type": "code",
   "execution_count": 25,
   "metadata": {},
   "outputs": [
    {
     "data": {
      "image/png": "[encoded data removed]",
      "text/plain": [
       "<Figure size 432x288 with 1 Axes>"
      ]
     },
     "metadata": {
      "needs_background": "light"
     },
     "output_type": "display_data"
    }
   ],
   "source": [
    "data.loc[data['platform'] == 'X360'].groupby('year_of_release')['total_sales']\\\n",
    ".agg('sum').plot(kind='bar', color='r', grid=True)\n",
    "plt.title('Суммарные продажи игр на платформе Xbox 360 по годам')\n",
    "plt.xlabel('год продажи')\n",
    "plt.ylabel('количество игр')\n",
    "plt.show()"
   ]
  },
  {
   "cell_type": "code",
   "execution_count": 26,
   "metadata": {},
   "outputs": [
    {
     "data": {
      "image/png": "[encoded data removed]",
      "text/plain": [
       "<Figure size 432x288 with 1 Axes>"
      ]
     },
     "metadata": {
      "needs_background": "light"
     },
     "output_type": "display_data"
    }
   ],
   "source": [
    "data.loc[data['platform'] == 'Wii'].groupby('year_of_release')['total_sales']\\\n",
    ".agg('sum').plot(kind='bar',color='g', grid=True)\n",
    "plt.title('Суммарные продажи игр на платформе Wii по годам')\n",
    "plt.xlabel('год продажи')\n",
    "plt.ylabel('количество игр')\n",
    "plt.show()"
   ]
  },
  {
   "cell_type": "code",
   "execution_count": 27,
   "metadata": {},
   "outputs": [
    {
     "data": {
      "image/png": "[encoded data removed]",
      "text/plain": [
       "<Figure size 432x288 with 1 Axes>"
      ]
     },
     "metadata": {
      "needs_background": "light"
     },
     "output_type": "display_data"
    }
   ],
   "source": [
    "data.loc[data['platform'] == 'PS3'].groupby('year_of_release')['total_sales'].agg('sum')\\\n",
    ".plot(kind='bar',color='b', grid=True)\n",
    "plt.title('Суммарные продажи игр на платформе PlayStation3 по годам')\n",
    "plt.xlabel('год продажи')\n",
    "plt.ylabel('количество игр')\n",
    "plt.show()"
   ]
  },
  {
   "cell_type": "markdown",
   "metadata": {},
   "source": [
    "По графикам наглядно видно, что каждая из рассмотренных платформ прочно удерживается на рынке в течение приблизительно 10 лет. Однако стоит отметить, что несмотря на их лидирующие позиции, продажи всех четырех платформ за последние несколько лет идут на спад."
   ]
  },
  {
   "cell_type": "markdown",
   "metadata": {},
   "source": [
    "Какие платформы лидируют по продажам, растут или падают? Выберем несколько потенциально прибыльных платформ. Для проведения исследования мы будем использовать данные за последние пять лет, которые являются актуальным периодом."
   ]
  },
  {
   "cell_type": "code",
   "execution_count": 28,
   "metadata": {},
   "outputs": [
    {
     "data": {
      "text/html": [
       "<div>\n",
       "<style scoped>\n",
       "    .dataframe tbody tr th:only-of-type {\n",
       "        vertical-align: middle;\n",
       "    }\n",
       "\n",
       "    .dataframe tbody tr th {\n",
       "        vertical-align: top;\n",
       "    }\n",
       "\n",
       "    .dataframe thead th {\n",
       "        text-align: right;\n",
       "    }\n",
       "</style>\n",
       "<table border=\"1\" class=\"dataframe\">\n",
       "  <thead>\n",
       "    <tr style=\"text-align: right;\">\n",
       "      <th></th>\n",
       "      <th>platform</th>\n",
       "      <th>total_sales</th>\n",
       "    </tr>\n",
       "  </thead>\n",
       "  <tbody>\n",
       "    <tr>\n",
       "      <th>4</th>\n",
       "      <td>PS4</td>\n",
       "      <td>314.14</td>\n",
       "    </tr>\n",
       "    <tr>\n",
       "      <th>3</th>\n",
       "      <td>PS3</td>\n",
       "      <td>288.79</td>\n",
       "    </tr>\n",
       "    <tr>\n",
       "      <th>9</th>\n",
       "      <td>X360</td>\n",
       "      <td>236.54</td>\n",
       "    </tr>\n",
       "    <tr>\n",
       "      <th>0</th>\n",
       "      <td>3DS</td>\n",
       "      <td>194.61</td>\n",
       "    </tr>\n",
       "    <tr>\n",
       "      <th>10</th>\n",
       "      <td>XOne</td>\n",
       "      <td>159.32</td>\n",
       "    </tr>\n",
       "    <tr>\n",
       "      <th>8</th>\n",
       "      <td>WiiU</td>\n",
       "      <td>82.19</td>\n",
       "    </tr>\n",
       "    <tr>\n",
       "      <th>2</th>\n",
       "      <td>PC</td>\n",
       "      <td>62.65</td>\n",
       "    </tr>\n",
       "    <tr>\n",
       "      <th>6</th>\n",
       "      <td>PSV</td>\n",
       "      <td>49.18</td>\n",
       "    </tr>\n",
       "    <tr>\n",
       "      <th>7</th>\n",
       "      <td>Wii</td>\n",
       "      <td>35.37</td>\n",
       "    </tr>\n",
       "    <tr>\n",
       "      <th>1</th>\n",
       "      <td>DS</td>\n",
       "      <td>12.55</td>\n",
       "    </tr>\n",
       "    <tr>\n",
       "      <th>5</th>\n",
       "      <td>PSP</td>\n",
       "      <td>11.19</td>\n",
       "    </tr>\n",
       "  </tbody>\n",
       "</table>\n",
       "</div>"
      ],
      "text/plain": [
       "   platform  total_sales\n",
       "4       PS4       314.14\n",
       "3       PS3       288.79\n",
       "9      X360       236.54\n",
       "0       3DS       194.61\n",
       "10     XOne       159.32\n",
       "8      WiiU        82.19\n",
       "2        PC        62.65\n",
       "6       PSV        49.18\n",
       "7       Wii        35.37\n",
       "1        DS        12.55\n",
       "5       PSP        11.19"
      ]
     },
     "execution_count": 28,
     "metadata": {},
     "output_type": "execute_result"
    }
   ],
   "source": [
    "new_data = data.query('year_of_release >= 2012')\n",
    "new_data.pivot_table(index='platform', values='total_sales', aggfunc='sum').reset_index()\\\n",
    ".sort_values('total_sales', ascending=False)"
   ]
  },
  {
   "cell_type": "code",
   "execution_count": 29,
   "metadata": {},
   "outputs": [
    {
     "data": {
      "text/html": [
       "<div>\n",
       "<style scoped>\n",
       "    .dataframe tbody tr th:only-of-type {\n",
       "        vertical-align: middle;\n",
       "    }\n",
       "\n",
       "    .dataframe tbody tr th {\n",
       "        vertical-align: top;\n",
       "    }\n",
       "\n",
       "    .dataframe thead th {\n",
       "        text-align: right;\n",
       "    }\n",
       "</style>\n",
       "<table border=\"1\" class=\"dataframe\">\n",
       "  <thead>\n",
       "    <tr style=\"text-align: right;\">\n",
       "      <th></th>\n",
       "      <th>year_of_release</th>\n",
       "      <th>total_sales</th>\n",
       "    </tr>\n",
       "  </thead>\n",
       "  <tbody>\n",
       "    <tr>\n",
       "      <th>0</th>\n",
       "      <td>2013.0</td>\n",
       "      <td>25.99</td>\n",
       "    </tr>\n",
       "    <tr>\n",
       "      <th>1</th>\n",
       "      <td>2014.0</td>\n",
       "      <td>100.00</td>\n",
       "    </tr>\n",
       "    <tr>\n",
       "      <th>2</th>\n",
       "      <td>2015.0</td>\n",
       "      <td>118.90</td>\n",
       "    </tr>\n",
       "    <tr>\n",
       "      <th>3</th>\n",
       "      <td>2016.0</td>\n",
       "      <td>69.25</td>\n",
       "    </tr>\n",
       "  </tbody>\n",
       "</table>\n",
       "</div>"
      ],
      "text/plain": [
       "   year_of_release  total_sales\n",
       "0           2013.0        25.99\n",
       "1           2014.0       100.00\n",
       "2           2015.0       118.90\n",
       "3           2016.0        69.25"
      ]
     },
     "execution_count": 29,
     "metadata": {},
     "output_type": "execute_result"
    }
   ],
   "source": [
    "ps4_sales = new_data.loc[new_data['platform'] == 'PS4']\\\n",
    ".pivot_table(index='year_of_release',values='total_sales',aggfunc='sum').reset_index()                                                                                                                                                                                         \n",
    "ps4_sales"
   ]
  },
  {
   "cell_type": "code",
   "execution_count": 30,
   "metadata": {},
   "outputs": [
    {
     "data": {
      "text/html": [
       "<div>\n",
       "<style scoped>\n",
       "    .dataframe tbody tr th:only-of-type {\n",
       "        vertical-align: middle;\n",
       "    }\n",
       "\n",
       "    .dataframe tbody tr th {\n",
       "        vertical-align: top;\n",
       "    }\n",
       "\n",
       "    .dataframe thead th {\n",
       "        text-align: right;\n",
       "    }\n",
       "</style>\n",
       "<table border=\"1\" class=\"dataframe\">\n",
       "  <thead>\n",
       "    <tr style=\"text-align: right;\">\n",
       "      <th></th>\n",
       "      <th>year_of_release</th>\n",
       "      <th>total_sales</th>\n",
       "    </tr>\n",
       "  </thead>\n",
       "  <tbody>\n",
       "    <tr>\n",
       "      <th>0</th>\n",
       "      <td>2012.0</td>\n",
       "      <td>99.74</td>\n",
       "    </tr>\n",
       "    <tr>\n",
       "      <th>1</th>\n",
       "      <td>2013.0</td>\n",
       "      <td>88.58</td>\n",
       "    </tr>\n",
       "    <tr>\n",
       "      <th>2</th>\n",
       "      <td>2014.0</td>\n",
       "      <td>34.74</td>\n",
       "    </tr>\n",
       "    <tr>\n",
       "      <th>3</th>\n",
       "      <td>2015.0</td>\n",
       "      <td>11.96</td>\n",
       "    </tr>\n",
       "    <tr>\n",
       "      <th>4</th>\n",
       "      <td>2016.0</td>\n",
       "      <td>1.52</td>\n",
       "    </tr>\n",
       "  </tbody>\n",
       "</table>\n",
       "</div>"
      ],
      "text/plain": [
       "   year_of_release  total_sales\n",
       "0           2012.0        99.74\n",
       "1           2013.0        88.58\n",
       "2           2014.0        34.74\n",
       "3           2015.0        11.96\n",
       "4           2016.0         1.52"
      ]
     },
     "execution_count": 30,
     "metadata": {},
     "output_type": "execute_result"
    }
   ],
   "source": [
    "x360_sales = new_data.loc[new_data['platform'] == 'X360']\\\n",
    ".pivot_table(index='year_of_release', values='total_sales', aggfunc='sum').reset_index()\n",
    "x360_sales"
   ]
  },
  {
   "cell_type": "code",
   "execution_count": 31,
   "metadata": {},
   "outputs": [
    {
     "data": {
      "text/html": [
       "<div>\n",
       "<style scoped>\n",
       "    .dataframe tbody tr th:only-of-type {\n",
       "        vertical-align: middle;\n",
       "    }\n",
       "\n",
       "    .dataframe tbody tr th {\n",
       "        vertical-align: top;\n",
       "    }\n",
       "\n",
       "    .dataframe thead th {\n",
       "        text-align: right;\n",
       "    }\n",
       "</style>\n",
       "<table border=\"1\" class=\"dataframe\">\n",
       "  <thead>\n",
       "    <tr style=\"text-align: right;\">\n",
       "      <th></th>\n",
       "      <th>year_of_release</th>\n",
       "      <th>total_sales</th>\n",
       "    </tr>\n",
       "  </thead>\n",
       "  <tbody>\n",
       "    <tr>\n",
       "      <th>0</th>\n",
       "      <td>2012.0</td>\n",
       "      <td>51.36</td>\n",
       "    </tr>\n",
       "    <tr>\n",
       "      <th>1</th>\n",
       "      <td>2013.0</td>\n",
       "      <td>56.57</td>\n",
       "    </tr>\n",
       "    <tr>\n",
       "      <th>2</th>\n",
       "      <td>2014.0</td>\n",
       "      <td>43.76</td>\n",
       "    </tr>\n",
       "    <tr>\n",
       "      <th>3</th>\n",
       "      <td>2015.0</td>\n",
       "      <td>27.78</td>\n",
       "    </tr>\n",
       "    <tr>\n",
       "      <th>4</th>\n",
       "      <td>2016.0</td>\n",
       "      <td>15.14</td>\n",
       "    </tr>\n",
       "  </tbody>\n",
       "</table>\n",
       "</div>"
      ],
      "text/plain": [
       "   year_of_release  total_sales\n",
       "0           2012.0        51.36\n",
       "1           2013.0        56.57\n",
       "2           2014.0        43.76\n",
       "3           2015.0        27.78\n",
       "4           2016.0        15.14"
      ]
     },
     "execution_count": 31,
     "metadata": {},
     "output_type": "execute_result"
    }
   ],
   "source": [
    "sales_3ds = new_data.loc[new_data['platform'] == '3DS']\\\n",
    ".pivot_table(index='year_of_release', values='total_sales', aggfunc='sum').reset_index()\n",
    "sales_3ds"
   ]
  },
  {
   "cell_type": "code",
   "execution_count": 32,
   "metadata": {},
   "outputs": [
    {
     "data": {
      "text/html": [
       "<div>\n",
       "<style scoped>\n",
       "    .dataframe tbody tr th:only-of-type {\n",
       "        vertical-align: middle;\n",
       "    }\n",
       "\n",
       "    .dataframe tbody tr th {\n",
       "        vertical-align: top;\n",
       "    }\n",
       "\n",
       "    .dataframe thead th {\n",
       "        text-align: right;\n",
       "    }\n",
       "</style>\n",
       "<table border=\"1\" class=\"dataframe\">\n",
       "  <thead>\n",
       "    <tr style=\"text-align: right;\">\n",
       "      <th></th>\n",
       "      <th>year_of_release</th>\n",
       "      <th>total_sales</th>\n",
       "    </tr>\n",
       "  </thead>\n",
       "  <tbody>\n",
       "    <tr>\n",
       "      <th>0</th>\n",
       "      <td>2012.0</td>\n",
       "      <td>107.36</td>\n",
       "    </tr>\n",
       "    <tr>\n",
       "      <th>1</th>\n",
       "      <td>2013.0</td>\n",
       "      <td>113.25</td>\n",
       "    </tr>\n",
       "    <tr>\n",
       "      <th>2</th>\n",
       "      <td>2014.0</td>\n",
       "      <td>47.76</td>\n",
       "    </tr>\n",
       "    <tr>\n",
       "      <th>3</th>\n",
       "      <td>2015.0</td>\n",
       "      <td>16.82</td>\n",
       "    </tr>\n",
       "    <tr>\n",
       "      <th>4</th>\n",
       "      <td>2016.0</td>\n",
       "      <td>3.60</td>\n",
       "    </tr>\n",
       "  </tbody>\n",
       "</table>\n",
       "</div>"
      ],
      "text/plain": [
       "   year_of_release  total_sales\n",
       "0           2012.0       107.36\n",
       "1           2013.0       113.25\n",
       "2           2014.0        47.76\n",
       "3           2015.0        16.82\n",
       "4           2016.0         3.60"
      ]
     },
     "execution_count": 32,
     "metadata": {},
     "output_type": "execute_result"
    }
   ],
   "source": [
    "ps3_sales = new_data.loc[new_data['platform'] == 'PS3']\\\n",
    ".pivot_table(index='year_of_release', values='total_sales', aggfunc='sum').reset_index()\n",
    "ps3_sales"
   ]
  },
  {
   "cell_type": "code",
   "execution_count": 33,
   "metadata": {},
   "outputs": [
    {
     "data": {
      "text/html": [
       "<div>\n",
       "<style scoped>\n",
       "    .dataframe tbody tr th:only-of-type {\n",
       "        vertical-align: middle;\n",
       "    }\n",
       "\n",
       "    .dataframe tbody tr th {\n",
       "        vertical-align: top;\n",
       "    }\n",
       "\n",
       "    .dataframe thead th {\n",
       "        text-align: right;\n",
       "    }\n",
       "</style>\n",
       "<table border=\"1\" class=\"dataframe\">\n",
       "  <thead>\n",
       "    <tr style=\"text-align: right;\">\n",
       "      <th></th>\n",
       "      <th>year_of_release</th>\n",
       "      <th>total_sales</th>\n",
       "    </tr>\n",
       "  </thead>\n",
       "  <tbody>\n",
       "    <tr>\n",
       "      <th>0</th>\n",
       "      <td>2013.0</td>\n",
       "      <td>18.96</td>\n",
       "    </tr>\n",
       "    <tr>\n",
       "      <th>1</th>\n",
       "      <td>2014.0</td>\n",
       "      <td>54.07</td>\n",
       "    </tr>\n",
       "    <tr>\n",
       "      <th>2</th>\n",
       "      <td>2015.0</td>\n",
       "      <td>60.14</td>\n",
       "    </tr>\n",
       "    <tr>\n",
       "      <th>3</th>\n",
       "      <td>2016.0</td>\n",
       "      <td>26.15</td>\n",
       "    </tr>\n",
       "  </tbody>\n",
       "</table>\n",
       "</div>"
      ],
      "text/plain": [
       "   year_of_release  total_sales\n",
       "0           2013.0        18.96\n",
       "1           2014.0        54.07\n",
       "2           2015.0        60.14\n",
       "3           2016.0        26.15"
      ]
     },
     "execution_count": 33,
     "metadata": {},
     "output_type": "execute_result"
    }
   ],
   "source": [
    "xone_sales = new_data.loc[new_data['platform'] == 'XOne'].pivot_table(index='year_of_release',\\\n",
    "                                                                      values='total_sales', aggfunc='sum').reset_index()\n",
    "xone_sales"
   ]
  },
  {
   "cell_type": "code",
   "execution_count": 34,
   "metadata": {},
   "outputs": [
    {
     "data": {
      "image/png": "[encoded data removed]",
      "text/plain": [
       "<Figure size 432x288 with 1 Axes>"
      ]
     },
     "metadata": {
      "needs_background": "light"
     },
     "output_type": "display_data"
    },
    {
     "data": {
      "image/png": "[encoded data removed]",
      "text/plain": [
       "<Figure size 432x288 with 1 Axes>"
      ]
     },
     "metadata": {
      "needs_background": "light"
     },
     "output_type": "display_data"
    },
    {
     "data": {
      "image/png": "[encoded data removed]",
      "text/plain": [
       "<Figure size 432x288 with 1 Axes>"
      ]
     },
     "metadata": {
      "needs_background": "light"
     },
     "output_type": "display_data"
    },
    {
     "data": {
      "image/png": "[encoded data removed]",
      "text/plain": [
       "<Figure size 432x288 with 1 Axes>"
      ]
     },
     "metadata": {
      "needs_background": "light"
     },
     "output_type": "display_data"
    },
    {
     "data": {
      "image/png": "[encoded data removed]",
      "text/plain": [
       "<Figure size 432x288 with 1 Axes>"
      ]
     },
     "metadata": {
      "needs_background": "light"
     },
     "output_type": "display_data"
    }
   ],
   "source": [
    "ps3_sales.plot(x='year_of_release', y='total_sales', grid=True, kind='bar')\n",
    "plt.title('Суммарные продажи игр на платформе PlayStation3')\n",
    "ps4_sales.plot(x='year_of_release', y='total_sales', grid=True, kind='bar')\n",
    "plt.title('Суммарные продажи игр на платформе PlayStation4')\n",
    "sales_3ds.plot(x='year_of_release', y='total_sales', grid=True, kind='bar')\n",
    "plt.title('Суммарные продажи игр на платформе Nintendo 3DS')\n",
    "xone_sales.plot(x='year_of_release', y='total_sales', grid=True, kind='bar')\n",
    "plt.title('Суммарные продажи игр на платформе Xbox One')\n",
    "x360_sales.plot(x='year_of_release', y='total_sales', grid=True, kind='bar')\n",
    "plt.title('Суммарные продажи игр на платформе Xbox 360')\n",
    "plt.show()"
   ]
  },
  {
   "cell_type": "markdown",
   "metadata": {},
   "source": [
    "Мы проанализировали пять самых перспективных игровых платформ: PlayStation 4, PlayStation 3, Xbox One, Xbox 360 и Nintendo 3DS. За последние несколько лет наблюдается снижение продаж игр на данных платформах."
   ]
  },
  {
   "cell_type": "markdown",
   "metadata": {},
   "source": [
    "Сформируем диаграмму \"ящик с усами\" для обобщенных данных о мировых продажах видеоигр, разбивка которых произведена в соответствии с используемыми игровыми платформами."
   ]
  },
  {
   "cell_type": "code",
   "execution_count": 35,
   "metadata": {},
   "outputs": [
    {
     "data": {
      "image/png": "[encoded data removed]",
      "text/plain": [
       "<Figure size 1080x504 with 1 Axes>"
      ]
     },
     "metadata": {
      "needs_background": "light"
     },
     "output_type": "display_data"
    }
   ],
   "source": [
    "fig, ax = plt.subplots(figsize = (15,7))\n",
    "sns.boxplot(data = new_data, x= 'total_sales', y = 'platform', orient = 'h')\n",
    "plt.xlim(0,2)\n",
    "plt.title('Глобальные продажи игр по платформам')\n",
    "plt.show()"
   ]
  },
  {
   "cell_type": "markdown",
   "metadata": {},
   "source": [
    "Анализируя график, можно сделать вывод, что наибольшим спросом пользуются игры, доступные для платформ Xbox 360, PlayStation 3 и PlayStation 4."
   ]
  },
  {
   "cell_type": "markdown",
   "metadata": {},
   "source": [
    "Давайте изучим, как отзывы пользователей и критиков влияют на продажи внутри одной известной платформы. Создадим диаграмму рассеяния и рассчитаем корреляцию между отзывами и объемами продаж. Для анализа примем платформу Sony PlayStation4 в качестве примера."
   ]
  },
  {
   "cell_type": "code",
   "execution_count": 36,
   "metadata": {},
   "outputs": [
    {
     "data": {
      "image/png": "[encoded data removed]",
      "text/plain": [
       "<Figure size 432x288 with 1 Axes>"
      ]
     },
     "metadata": {
      "needs_background": "light"
     },
     "output_type": "display_data"
    },
    {
     "data": {
      "image/png": "[encoded data removed]",
      "text/plain": [
       "<Figure size 432x288 with 1 Axes>"
      ]
     },
     "metadata": {
      "needs_background": "light"
     },
     "output_type": "display_data"
    }
   ],
   "source": [
    "ps4 = new_data.loc[(new_data['platform'] == 'PS4') & (new_data['user_score'] >=0)\\\n",
    "                   & (new_data['critic_score'] >= 0)]\n",
    "ps4.plot(kind= 'scatter', x='user_score', y = 'total_sales')\n",
    "plt.xlabel('оценка пользователей')\n",
    "plt.ylabel('суммарные продажи')\n",
    "plt.title('Диаграмма рассеяния по оценкам пользователей и суммарным продажам')\n",
    "ps4.plot(kind= 'scatter', x='critic_score', y = 'total_sales')\n",
    "plt.xlabel('оценка критиков')\n",
    "plt.ylabel('суммарные продажи')\n",
    "plt.title('Диаграмма рассеяния по оценкам критиков и суммарным продажам')\n",
    "plt.show()"
   ]
  },
  {
   "cell_type": "markdown",
   "metadata": {},
   "source": [
    "Анализ графиков явно показывает, что продажи игр тесно связаны с их оценками, как от пользователей, так и от критиков. Однако можно заметить несколько выбросов, когда игры с невысокими значениями рейтинга все же имеют большие объемы продаж. Давайте более детально рассмотрим эту корреляцию."
   ]
  },
  {
   "cell_type": "code",
   "execution_count": 37,
   "metadata": {},
   "outputs": [
    {
     "data": {
      "text/html": [
       "<div>\n",
       "<style scoped>\n",
       "    .dataframe tbody tr th:only-of-type {\n",
       "        vertical-align: middle;\n",
       "    }\n",
       "\n",
       "    .dataframe tbody tr th {\n",
       "        vertical-align: top;\n",
       "    }\n",
       "\n",
       "    .dataframe thead th {\n",
       "        text-align: right;\n",
       "    }\n",
       "</style>\n",
       "<table border=\"1\" class=\"dataframe\">\n",
       "  <thead>\n",
       "    <tr style=\"text-align: right;\">\n",
       "      <th></th>\n",
       "      <th>total_sales</th>\n",
       "      <th>user_score</th>\n",
       "      <th>critic_score</th>\n",
       "    </tr>\n",
       "  </thead>\n",
       "  <tbody>\n",
       "    <tr>\n",
       "      <th>total_sales</th>\n",
       "      <td>1.000000</td>\n",
       "      <td>-0.033625</td>\n",
       "      <td>0.405895</td>\n",
       "    </tr>\n",
       "    <tr>\n",
       "      <th>user_score</th>\n",
       "      <td>-0.033625</td>\n",
       "      <td>1.000000</td>\n",
       "      <td>0.557654</td>\n",
       "    </tr>\n",
       "    <tr>\n",
       "      <th>critic_score</th>\n",
       "      <td>0.405895</td>\n",
       "      <td>0.557654</td>\n",
       "      <td>1.000000</td>\n",
       "    </tr>\n",
       "  </tbody>\n",
       "</table>\n",
       "</div>"
      ],
      "text/plain": [
       "              total_sales  user_score  critic_score\n",
       "total_sales      1.000000   -0.033625      0.405895\n",
       "user_score      -0.033625    1.000000      0.557654\n",
       "critic_score     0.405895    0.557654      1.000000"
      ]
     },
     "execution_count": 37,
     "metadata": {},
     "output_type": "execute_result"
    }
   ],
   "source": [
    "ps4[['total_sales', 'user_score', 'critic_score']].corr()"
   ]
  },
  {
   "cell_type": "markdown",
   "metadata": {},
   "source": [
    "Анализируя корреляцию данных, можно утверждать, что не существует прямой связи между отзывами пользователей и уровнем продаж - значение коэффициента корреляции является отрицательным. Однако, имеется позитивная зависимость между оценками критиков и объемом продаж - значение коэффициента корреляции превышает ноль."
   ]
  },
  {
   "cell_type": "markdown",
   "metadata": {},
   "source": [
    "Посмторим на другие платформы"
   ]
  },
  {
   "cell_type": "code",
   "execution_count": 38,
   "metadata": {},
   "outputs": [
    {
     "data": {
      "image/png": "[encoded data removed]",
      "text/plain": [
       "<Figure size 432x288 with 1 Axes>"
      ]
     },
     "metadata": {
      "needs_background": "light"
     },
     "output_type": "display_data"
    },
    {
     "data": {
      "image/png": "[encoded data removed]",
      "text/plain": [
       "<Figure size 432x288 with 1 Axes>"
      ]
     },
     "metadata": {
      "needs_background": "light"
     },
     "output_type": "display_data"
    }
   ],
   "source": [
    "ps3 = new_data.loc[(new_data['platform'] == 'PS3') & (new_data['user_score'] >=0)\\\n",
    "                   & (new_data['critic_score'] >= 0)]\n",
    "ps3.plot(kind= 'scatter', x='user_score', y = 'total_sales')\n",
    "plt.xlabel('оценка пользователей')\n",
    "plt.ylabel('суммарные продажи')\n",
    "plt.title('Диаграмма рассеяния по оценкам пользователей и суммарным продажам')\n",
    "ps4.plot(kind= 'scatter', x='critic_score', y = 'total_sales')\n",
    "plt.xlabel('оценка критиков')\n",
    "plt.ylabel('суммарные продажи')\n",
    "plt.title('Диаграмма рассеяния по оценкам критиков и суммарным продажам')\n",
    "plt.show()"
   ]
  },
  {
   "cell_type": "code",
   "execution_count": 39,
   "metadata": {},
   "outputs": [
    {
     "data": {
      "text/html": [
       "<div>\n",
       "<style scoped>\n",
       "    .dataframe tbody tr th:only-of-type {\n",
       "        vertical-align: middle;\n",
       "    }\n",
       "\n",
       "    .dataframe tbody tr th {\n",
       "        vertical-align: top;\n",
       "    }\n",
       "\n",
       "    .dataframe thead th {\n",
       "        text-align: right;\n",
       "    }\n",
       "</style>\n",
       "<table border=\"1\" class=\"dataframe\">\n",
       "  <thead>\n",
       "    <tr style=\"text-align: right;\">\n",
       "      <th></th>\n",
       "      <th>total_sales</th>\n",
       "      <th>user_score</th>\n",
       "      <th>critic_score</th>\n",
       "    </tr>\n",
       "  </thead>\n",
       "  <tbody>\n",
       "    <tr>\n",
       "      <th>total_sales</th>\n",
       "      <td>1.000000</td>\n",
       "      <td>0.003227</td>\n",
       "      <td>0.331057</td>\n",
       "    </tr>\n",
       "    <tr>\n",
       "      <th>user_score</th>\n",
       "      <td>0.003227</td>\n",
       "      <td>1.000000</td>\n",
       "      <td>0.539456</td>\n",
       "    </tr>\n",
       "    <tr>\n",
       "      <th>critic_score</th>\n",
       "      <td>0.331057</td>\n",
       "      <td>0.539456</td>\n",
       "      <td>1.000000</td>\n",
       "    </tr>\n",
       "  </tbody>\n",
       "</table>\n",
       "</div>"
      ],
      "text/plain": [
       "              total_sales  user_score  critic_score\n",
       "total_sales      1.000000    0.003227      0.331057\n",
       "user_score       0.003227    1.000000      0.539456\n",
       "critic_score     0.331057    0.539456      1.000000"
      ]
     },
     "execution_count": 39,
     "metadata": {},
     "output_type": "execute_result"
    }
   ],
   "source": [
    "ps3[['total_sales', 'user_score', 'critic_score']].corr()"
   ]
  },
  {
   "cell_type": "code",
   "execution_count": 40,
   "metadata": {},
   "outputs": [
    {
     "data": {
      "image/png": "[encoded data removed]",
      "text/plain": [
       "<Figure size 432x288 with 1 Axes>"
      ]
     },
     "metadata": {
      "needs_background": "light"
     },
     "output_type": "display_data"
    },
    {
     "data": {
      "image/png": "[encoded data removed]",
      "text/plain": [
       "<Figure size 432x288 with 1 Axes>"
      ]
     },
     "metadata": {
      "needs_background": "light"
     },
     "output_type": "display_data"
    }
   ],
   "source": [
    "x360 = new_data.loc[(new_data['platform'] == 'X360') & (new_data['user_score'] >=0)\\\n",
    "                   & (new_data['critic_score'] >= 0)]\n",
    "x360.plot(kind= 'scatter', x='user_score', y = 'total_sales')\n",
    "plt.xlabel('оценка пользователей')\n",
    "plt.ylabel('суммарные продажи')\n",
    "plt.title('Диаграмма рассеяния по оценкам пользователей и суммарным продажам')\n",
    "ps4.plot(kind= 'scatter', x='critic_score', y = 'total_sales')\n",
    "plt.xlabel('оценка критиков')\n",
    "plt.ylabel('суммарные продажи')\n",
    "plt.title('Диаграмма рассеяния по оценкам критиков и суммарным продажам')\n",
    "plt.show()"
   ]
  },
  {
   "cell_type": "code",
   "execution_count": 41,
   "metadata": {},
   "outputs": [
    {
     "data": {
      "text/html": [
       "<div>\n",
       "<style scoped>\n",
       "    .dataframe tbody tr th:only-of-type {\n",
       "        vertical-align: middle;\n",
       "    }\n",
       "\n",
       "    .dataframe tbody tr th {\n",
       "        vertical-align: top;\n",
       "    }\n",
       "\n",
       "    .dataframe thead th {\n",
       "        text-align: right;\n",
       "    }\n",
       "</style>\n",
       "<table border=\"1\" class=\"dataframe\">\n",
       "  <thead>\n",
       "    <tr style=\"text-align: right;\">\n",
       "      <th></th>\n",
       "      <th>total_sales</th>\n",
       "      <th>user_score</th>\n",
       "      <th>critic_score</th>\n",
       "    </tr>\n",
       "  </thead>\n",
       "  <tbody>\n",
       "    <tr>\n",
       "      <th>total_sales</th>\n",
       "      <td>1.000000</td>\n",
       "      <td>-0.002014</td>\n",
       "      <td>0.360573</td>\n",
       "    </tr>\n",
       "    <tr>\n",
       "      <th>user_score</th>\n",
       "      <td>-0.002014</td>\n",
       "      <td>1.000000</td>\n",
       "      <td>0.557352</td>\n",
       "    </tr>\n",
       "    <tr>\n",
       "      <th>critic_score</th>\n",
       "      <td>0.360573</td>\n",
       "      <td>0.557352</td>\n",
       "      <td>1.000000</td>\n",
       "    </tr>\n",
       "  </tbody>\n",
       "</table>\n",
       "</div>"
      ],
      "text/plain": [
       "              total_sales  user_score  critic_score\n",
       "total_sales      1.000000   -0.002014      0.360573\n",
       "user_score      -0.002014    1.000000      0.557352\n",
       "critic_score     0.360573    0.557352      1.000000"
      ]
     },
     "execution_count": 41,
     "metadata": {},
     "output_type": "execute_result"
    }
   ],
   "source": [
    "x360[['total_sales', 'user_score', 'critic_score']].corr()"
   ]
  },
  {
   "cell_type": "markdown",
   "metadata": {},
   "source": [
    "Анализируя выводы по платформе PS4 с учетом двух других популярных платформ - PS3 и Xbox 360, мы можем заметить, что связь между продажами и оценками пользователей не так явно прослеживается, как в первом случае. Вместе с тем, становится очевидно, что связь между оценками критиков и объемом продаж в целом является прямопропорциональной."
   ]
  },
  {
   "cell_type": "markdown",
   "metadata": {},
   "source": [
    "Давайте рассмотрим общее разнообразие игр по их жанрам. Каковы характеристики самых прибыльных жанров? Есть ли жанры, которые привлекают внимание своими высокими или низкими объемами продаж?"
   ]
  },
  {
   "cell_type": "code",
   "execution_count": 42,
   "metadata": {},
   "outputs": [
    {
     "data": {
      "image/png": "[encoded data removed]",
      "text/plain": [
       "<Figure size 432x288 with 1 Axes>"
      ]
     },
     "metadata": {
      "needs_background": "light"
     },
     "output_type": "display_data"
    }
   ],
   "source": [
    "new_data.groupby('genre')['name'].agg('count').sort_values(ascending=False).plot(kind='bar')\n",
    "plt.title('Распределение количества игр по жанрам')\n",
    "plt.xlabel('жанры')\n",
    "plt.ylabel('количество игр')\n",
    "plt.show()"
   ]
  },
  {
   "cell_type": "code",
   "execution_count": 43,
   "metadata": {},
   "outputs": [
    {
     "data": {
      "image/png": "[encoded data removed]",
      "text/plain": [
       "<Figure size 432x288 with 1 Axes>"
      ]
     },
     "metadata": {
      "needs_background": "light"
     },
     "output_type": "display_data"
    }
   ],
   "source": [
    "new_data.groupby('genre')['total_sales'].agg('median').sort_values(ascending=False).plot(kind='bar')\n",
    "plt.title('Распределение медианных продаж по жанрам')\n",
    "plt.xlabel('жанры')\n",
    "plt.ylabel('медианные продажи')\n",
    "plt.show()"
   ]
  },
  {
   "cell_type": "markdown",
   "metadata": {},
   "source": [
    "В топе по количеству игр находятся экшн, RPG, приключенческие и спортивные симуляторы. Самыми малопопулярными являются головоломки.\n",
    "\n",
    "Однако по продажам самыми популярными являются шутеры, спортивные, платформер и RPG.А самыми малопопулярными являются приключенческие игры."
   ]
  },
  {
   "cell_type": "markdown",
   "metadata": {},
   "source": [
    "<b>Вывод</b>\n",
    "\n",
    "Изучив статистику игровой индустрии за последние пять лет, можно заметить, что даже у крупных производителей, таких как PlayStation, Xbox и Nintendo, как объемы продаж, так и количество выпускаемых игр существенно снизилось. Что касается жанров, опираясь на донные продаж то можем сделать вывод что пользователи отдают предпочтение играм в жанре шутер, в то время как приключенческие оказались наименее популярными."
   ]
  },
  {
   "cell_type": "markdown",
   "metadata": {},
   "source": [
    "## Составляем портрет пользователя каждого региона"
   ]
  },
  {
   "cell_type": "markdown",
   "metadata": {},
   "source": [
    "### Самые популярные платформы (топ-5)"
   ]
  },
  {
   "cell_type": "code",
   "execution_count": 44,
   "metadata": {},
   "outputs": [
    {
     "data": {
      "image/png": "[encoded data removed]",
      "text/plain": [
       "<Figure size 648x504 with 1 Axes>"
      ]
     },
     "metadata": {
      "needs_background": "light"
     },
     "output_type": "display_data"
    }
   ],
   "source": [
    "new_data.pivot_table(index='platform', values=['eu_sales', 'na_sales', 'jp_sales'],\\\n",
    "                     aggfunc='sum').plot(kind='bar', color=['y','b','r'], figsize=(9,7), grid=True)\n",
    "plt.title('График суммарных продаж игр на разных платформах по регионам')\n",
    "plt.xlabel('игровые платформы')\n",
    "plt.ylabel('продажи')\n",
    "plt.show()"
   ]
  },
  {
   "cell_type": "markdown",
   "metadata": {},
   "source": [
    "Найдем пять самых популярных платформ в каждом регионе.\n",
    "\n"
   ]
  },
  {
   "cell_type": "code",
   "execution_count": 45,
   "metadata": {},
   "outputs": [
    {
     "data": {
      "text/html": [
       "<div>\n",
       "<style scoped>\n",
       "    .dataframe tbody tr th:only-of-type {\n",
       "        vertical-align: middle;\n",
       "    }\n",
       "\n",
       "    .dataframe tbody tr th {\n",
       "        vertical-align: top;\n",
       "    }\n",
       "\n",
       "    .dataframe thead th {\n",
       "        text-align: right;\n",
       "    }\n",
       "</style>\n",
       "<table border=\"1\" class=\"dataframe\">\n",
       "  <thead>\n",
       "    <tr style=\"text-align: right;\">\n",
       "      <th></th>\n",
       "      <th>platform</th>\n",
       "      <th>na_sales</th>\n",
       "      <th>percent</th>\n",
       "    </tr>\n",
       "  </thead>\n",
       "  <tbody>\n",
       "    <tr>\n",
       "      <th>9</th>\n",
       "      <td>X360</td>\n",
       "      <td>140.05</td>\n",
       "      <td>23.698326</td>\n",
       "    </tr>\n",
       "    <tr>\n",
       "      <th>4</th>\n",
       "      <td>PS4</td>\n",
       "      <td>108.74</td>\n",
       "      <td>18.400257</td>\n",
       "    </tr>\n",
       "    <tr>\n",
       "      <th>3</th>\n",
       "      <td>PS3</td>\n",
       "      <td>103.38</td>\n",
       "      <td>17.493274</td>\n",
       "    </tr>\n",
       "    <tr>\n",
       "      <th>10</th>\n",
       "      <td>XOne</td>\n",
       "      <td>93.12</td>\n",
       "      <td>15.757145</td>\n",
       "    </tr>\n",
       "    <tr>\n",
       "      <th>0</th>\n",
       "      <td>3DS</td>\n",
       "      <td>55.31</td>\n",
       "      <td>9.359189</td>\n",
       "    </tr>\n",
       "  </tbody>\n",
       "</table>\n",
       "</div>"
      ],
      "text/plain": [
       "   platform  na_sales    percent\n",
       "9      X360    140.05  23.698326\n",
       "4       PS4    108.74  18.400257\n",
       "3       PS3    103.38  17.493274\n",
       "10     XOne     93.12  15.757145\n",
       "0       3DS     55.31   9.359189"
      ]
     },
     "execution_count": 45,
     "metadata": {},
     "output_type": "execute_result"
    }
   ],
   "source": [
    "reg_na = new_data.groupby(by='platform').agg({'na_sales':'sum'}).reset_index()\\\n",
    ".sort_values(by='na_sales', ascending=False).head(5)\n",
    "reg_na['percent'] = reg_na['na_sales'] / new_data['na_sales'].sum() * 100\n",
    "reg_na"
   ]
  },
  {
   "cell_type": "code",
   "execution_count": 46,
   "metadata": {},
   "outputs": [
    {
     "data": {
      "text/html": [
       "<div>\n",
       "<style scoped>\n",
       "    .dataframe tbody tr th:only-of-type {\n",
       "        vertical-align: middle;\n",
       "    }\n",
       "\n",
       "    .dataframe tbody tr th {\n",
       "        vertical-align: top;\n",
       "    }\n",
       "\n",
       "    .dataframe thead th {\n",
       "        text-align: right;\n",
       "    }\n",
       "</style>\n",
       "<table border=\"1\" class=\"dataframe\">\n",
       "  <thead>\n",
       "    <tr style=\"text-align: right;\">\n",
       "      <th></th>\n",
       "      <th>platform</th>\n",
       "      <th>eu_sales</th>\n",
       "      <th>percent</th>\n",
       "    </tr>\n",
       "  </thead>\n",
       "  <tbody>\n",
       "    <tr>\n",
       "      <th>4</th>\n",
       "      <td>PS4</td>\n",
       "      <td>141.09</td>\n",
       "      <td>27.838286</td>\n",
       "    </tr>\n",
       "    <tr>\n",
       "      <th>3</th>\n",
       "      <td>PS3</td>\n",
       "      <td>106.86</td>\n",
       "      <td>21.084409</td>\n",
       "    </tr>\n",
       "    <tr>\n",
       "      <th>9</th>\n",
       "      <td>X360</td>\n",
       "      <td>74.52</td>\n",
       "      <td>14.703445</td>\n",
       "    </tr>\n",
       "    <tr>\n",
       "      <th>10</th>\n",
       "      <td>XOne</td>\n",
       "      <td>51.59</td>\n",
       "      <td>10.179156</td>\n",
       "    </tr>\n",
       "    <tr>\n",
       "      <th>0</th>\n",
       "      <td>3DS</td>\n",
       "      <td>42.64</td>\n",
       "      <td>8.413243</td>\n",
       "    </tr>\n",
       "  </tbody>\n",
       "</table>\n",
       "</div>"
      ],
      "text/plain": [
       "   platform  eu_sales    percent\n",
       "4       PS4    141.09  27.838286\n",
       "3       PS3    106.86  21.084409\n",
       "9      X360     74.52  14.703445\n",
       "10     XOne     51.59  10.179156\n",
       "0       3DS     42.64   8.413243"
      ]
     },
     "execution_count": 46,
     "metadata": {},
     "output_type": "execute_result"
    }
   ],
   "source": [
    "reg_eu = new_data.groupby(by='platform').agg({'eu_sales':'sum'}).reset_index()\\\n",
    ".sort_values(by='eu_sales', ascending=False).head(5)\n",
    "reg_eu['percent'] = reg_eu['eu_sales'] / new_data['eu_sales'].sum() * 100\n",
    "reg_eu"
   ]
  },
  {
   "cell_type": "code",
   "execution_count": 47,
   "metadata": {},
   "outputs": [
    {
     "data": {
      "text/html": [
       "<div>\n",
       "<style scoped>\n",
       "    .dataframe tbody tr th:only-of-type {\n",
       "        vertical-align: middle;\n",
       "    }\n",
       "\n",
       "    .dataframe tbody tr th {\n",
       "        vertical-align: top;\n",
       "    }\n",
       "\n",
       "    .dataframe thead th {\n",
       "        text-align: right;\n",
       "    }\n",
       "</style>\n",
       "<table border=\"1\" class=\"dataframe\">\n",
       "  <thead>\n",
       "    <tr style=\"text-align: right;\">\n",
       "      <th></th>\n",
       "      <th>platform</th>\n",
       "      <th>jp_sales</th>\n",
       "      <th>percent</th>\n",
       "    </tr>\n",
       "  </thead>\n",
       "  <tbody>\n",
       "    <tr>\n",
       "      <th>0</th>\n",
       "      <td>3DS</td>\n",
       "      <td>87.79</td>\n",
       "      <td>45.586250</td>\n",
       "    </tr>\n",
       "    <tr>\n",
       "      <th>3</th>\n",
       "      <td>PS3</td>\n",
       "      <td>35.29</td>\n",
       "      <td>18.324852</td>\n",
       "    </tr>\n",
       "    <tr>\n",
       "      <th>6</th>\n",
       "      <td>PSV</td>\n",
       "      <td>21.04</td>\n",
       "      <td>10.925330</td>\n",
       "    </tr>\n",
       "    <tr>\n",
       "      <th>4</th>\n",
       "      <td>PS4</td>\n",
       "      <td>15.96</td>\n",
       "      <td>8.287465</td>\n",
       "    </tr>\n",
       "    <tr>\n",
       "      <th>8</th>\n",
       "      <td>WiiU</td>\n",
       "      <td>13.01</td>\n",
       "      <td>6.755634</td>\n",
       "    </tr>\n",
       "  </tbody>\n",
       "</table>\n",
       "</div>"
      ],
      "text/plain": [
       "  platform  jp_sales    percent\n",
       "0      3DS     87.79  45.586250\n",
       "3      PS3     35.29  18.324852\n",
       "6      PSV     21.04  10.925330\n",
       "4      PS4     15.96   8.287465\n",
       "8     WiiU     13.01   6.755634"
      ]
     },
     "execution_count": 47,
     "metadata": {},
     "output_type": "execute_result"
    }
   ],
   "source": [
    "reg_jp = new_data.groupby(by='platform').agg({'jp_sales':'sum'}).reset_index()\\\n",
    ".sort_values(by='jp_sales', ascending=False).head(5)\n",
    "reg_jp['percent'] = reg_jp['jp_sales'] / new_data['jp_sales'].sum() * 100\n",
    "reg_jp"
   ]
  },
  {
   "cell_type": "markdown",
   "metadata": {},
   "source": [
    "Если обобщить полученную информацию то мы видим что в Соединенных Штатах самой распространенной является американская консоль Xbox 360, в то время как в Европе игроки предпочитают японские Playstation 4 и 3. А в Японии почти половина всех проданных игр приходится на свою собственную платформу Nintendo 3DS."
   ]
  },
  {
   "cell_type": "markdown",
   "metadata": {},
   "source": [
    "### Самые популярные жанры (топ-5)"
   ]
  },
  {
   "cell_type": "code",
   "execution_count": 48,
   "metadata": {},
   "outputs": [
    {
     "data": {
      "image/png": "[encoded data removed]",
      "text/plain": [
       "<Figure size 504x360 with 1 Axes>"
      ]
     },
     "metadata": {
      "needs_background": "light"
     },
     "output_type": "display_data"
    },
    {
     "data": {
      "image/png": "[encoded data removed]",
      "text/plain": [
       "<Figure size 504x360 with 1 Axes>"
      ]
     },
     "metadata": {
      "needs_background": "light"
     },
     "output_type": "display_data"
    },
    {
     "data": {
      "image/png": "[encoded data removed]",
      "text/plain": [
       "<Figure size 504x360 with 1 Axes>"
      ]
     },
     "metadata": {
      "needs_background": "light"
     },
     "output_type": "display_data"
    }
   ],
   "source": [
    "new_data.pivot_table(index='genre', values='na_sales',aggfunc='sum').reset_index()\\\n",
    ".sort_values(by='na_sales',ascending=False).head(5)\\\n",
    ".plot(x='genre', y='na_sales', kind='bar', grid=True, color='b', label='Северная Америка', figsize=(7,5))\n",
    "plt.title('Топ-5 популярных жанров в Северной Америке')\n",
    "plt.xlabel('жанры')\n",
    "plt.ylabel('количество проданных игр')\n",
    "\n",
    "new_data.pivot_table(index='genre', values='eu_sales', aggfunc='sum').reset_index()\\\n",
    ".sort_values(by='eu_sales', ascending=False).head(5)\\\n",
    ".plot(x='genre', y='eu_sales', kind='bar', grid=True, color='y', label='Европа', figsize=(7,5))\n",
    "plt.title('Топ-5 популярных жанров в Европе')\n",
    "plt.xlabel('жанры')\n",
    "plt.ylabel('количество проданных игр')\n",
    "\n",
    "new_data.pivot_table(index='genre', values='jp_sales', aggfunc='sum').reset_index()\\\n",
    ".sort_values(by='jp_sales', ascending=False).head(5)\\\n",
    ".plot(x='genre', y='jp_sales', kind='bar', grid=True, color='r', label='Япония', figsize=(7,5))\n",
    "plt.title('Топ-5 популярных жанров в Японии')\n",
    "plt.xlabel('жанры')\n",
    "plt.ylabel('количество проданных игр')\n",
    "plt.show()"
   ]
  },
  {
   "cell_type": "markdown",
   "metadata": {},
   "source": [
    "Можем отметить, что в Японии наиболее популярны ролевые игры, в то время как в Северной Америке и Европе предпочтение отдается экшн играм. Возможно, это связано с культурными особенностями и предпочтениями игроков в разных регионах. В целом ролевые и экшн игры обладают сходством и часто могут сочетать в себе элементы нескольких жанров. Давайте рассмотрим популярные ролевые игры в Японии для лучшего понимания этой тенденции."
   ]
  },
  {
   "cell_type": "code",
   "execution_count": 49,
   "metadata": {},
   "outputs": [
    {
     "data": {
      "text/plain": [
       "33                            Pokemon X/Pokemon Y\n",
       "385                              Monster Hunter 4\n",
       "412                     Yokai Watch 2 Ganso/Honke\n",
       "83                Pokemon Black 2/Pokemon White 2\n",
       "47      Pokemon Omega Ruby/Pokemon Alpha Sapphire\n",
       "563                        Yokai Watch 2 Shinuchi\n",
       "312                     Monster Hunter 4 Ultimate\n",
       "108                              Pokemon Sun/Moon\n",
       "1244                             Puzzle & Dragons\n",
       "798                                   Yokai Watch\n",
       "Name: name, dtype: object"
      ]
     },
     "execution_count": 49,
     "metadata": {},
     "output_type": "execute_result"
    }
   ],
   "source": [
    "new_data[new_data['genre'] == 'Role-Playing'].sort_values(by='jp_sales', ascending=False)['name'].head(10)"
   ]
  },
  {
   "cell_type": "markdown",
   "metadata": {},
   "source": [
    "Сразу бросается в глаза, что большинство представленных игр, таких как Pokemon и Yokai Watch, являются японскими продуктами, и, следовательно, наиболее популярны именно на своем собственном рынке."
   ]
  },
  {
   "cell_type": "markdown",
   "metadata": {},
   "source": [
    "### Влияет ли рейтинг ESRB на продажи в отдельном регионе?"
   ]
  },
  {
   "cell_type": "markdown",
   "metadata": {},
   "source": [
    "Давайте проанализируем, какие игры с какими оценками более популярны в различных местах."
   ]
  },
  {
   "cell_type": "code",
   "execution_count": 50,
   "metadata": {
    "scrolled": true
   },
   "outputs": [
    {
     "data": {
      "text/html": [
       "<div>\n",
       "<style scoped>\n",
       "    .dataframe tbody tr th:only-of-type {\n",
       "        vertical-align: middle;\n",
       "    }\n",
       "\n",
       "    .dataframe tbody tr th {\n",
       "        vertical-align: top;\n",
       "    }\n",
       "\n",
       "    .dataframe thead th {\n",
       "        text-align: right;\n",
       "    }\n",
       "</style>\n",
       "<table border=\"1\" class=\"dataframe\">\n",
       "  <thead>\n",
       "    <tr style=\"text-align: right;\">\n",
       "      <th></th>\n",
       "      <th>rating</th>\n",
       "      <th>eu_sales</th>\n",
       "      <th>jp_sales</th>\n",
       "      <th>na_sales</th>\n",
       "    </tr>\n",
       "  </thead>\n",
       "  <tbody>\n",
       "    <tr>\n",
       "      <th>0</th>\n",
       "      <td>E</td>\n",
       "      <td>113.03</td>\n",
       "      <td>28.33</td>\n",
       "      <td>114.37</td>\n",
       "    </tr>\n",
       "    <tr>\n",
       "      <th>1</th>\n",
       "      <td>E10+</td>\n",
       "      <td>55.37</td>\n",
       "      <td>8.19</td>\n",
       "      <td>75.70</td>\n",
       "    </tr>\n",
       "    <tr>\n",
       "      <th>2</th>\n",
       "      <td>M</td>\n",
       "      <td>193.96</td>\n",
       "      <td>21.20</td>\n",
       "      <td>231.57</td>\n",
       "    </tr>\n",
       "    <tr>\n",
       "      <th>3</th>\n",
       "      <td>T</td>\n",
       "      <td>52.96</td>\n",
       "      <td>26.02</td>\n",
       "      <td>66.02</td>\n",
       "    </tr>\n",
       "  </tbody>\n",
       "</table>\n",
       "</div>"
      ],
      "text/plain": [
       "  rating  eu_sales  jp_sales  na_sales\n",
       "0      E    113.03     28.33    114.37\n",
       "1   E10+     55.37      8.19     75.70\n",
       "2      M    193.96     21.20    231.57\n",
       "3      T     52.96     26.02     66.02"
      ]
     },
     "execution_count": 50,
     "metadata": {},
     "output_type": "execute_result"
    }
   ],
   "source": [
    "region_rating = new_data[new_data['rating'] != 'Unknown']\\\n",
    ".pivot_table(index='rating', values = ['na_sales', 'eu_sales', 'jp_sales'], aggfunc='sum').reset_index()\n",
    "region_rating"
   ]
  },
  {
   "cell_type": "markdown",
   "metadata": {},
   "source": [
    "E - everyone(для всех возрастов)\n",
    "E10+ - everyone 10 and older(для всех старше 10)\n",
    "M - mature (для лиц 17 лет и старше)\n",
    "T - Teen (для подростков 13-19 лет)"
   ]
  },
  {
   "cell_type": "code",
   "execution_count": 51,
   "metadata": {},
   "outputs": [
    {
     "data": {
      "image/png": "[encoded data removed]",
      "text/plain": [
       "<Figure size 648x504 with 1 Axes>"
      ]
     },
     "metadata": {
      "needs_background": "light"
     },
     "output_type": "display_data"
    }
   ],
   "source": [
    "region_rating.plot(figsize=(9,7), grid=True, kind='bar', x='rating')\n",
    "plt.title('Распределение проданных игр по рейтингу в каждом регионе')\n",
    "plt.xlabel('рейтинг')\n",
    "plt.ylabel('количество игр')\n",
    "plt.show()"
   ]
  },
  {
   "cell_type": "code",
   "execution_count": 52,
   "metadata": {},
   "outputs": [
    {
     "data": {
      "text/plain": [
       "[]"
      ]
     },
     "execution_count": 52,
     "metadata": {},
     "output_type": "execute_result"
    },
    {
     "data": {
      "image/png": "[encoded data removed]",
      "text/plain": [
       "<Figure size 648x360 with 1 Axes>"
      ]
     },
     "metadata": {
      "needs_background": "light"
     },
     "output_type": "display_data"
    }
   ],
   "source": [
    "region_rating['percent_na'] = region_rating['na_sales'] / region_rating['na_sales'].sum() *100\n",
    "region_rating['percent_eu'] = region_rating['eu_sales'] / region_rating['eu_sales'].sum() *100\n",
    "region_rating['percent_jp'] = region_rating['jp_sales'] / region_rating['jp_sales'].sum() *100\n",
    "region_rating.plot(kind='bar', x='rating', y=['percent_na', 'percent_eu', 'percent_jp'], figsize=(9,5),\\\n",
    "                   label=['Северная Америка', 'Европа', 'Япония'])\n",
    "plt.title('Доля (в процентах) проданных игр по рейтингу в каждом регионе')\n",
    "plt.xlabel('рейтинг')\n",
    "plt.ylabel('Доля игр')\n",
    "plt.plot()"
   ]
  },
  {
   "cell_type": "markdown",
   "metadata": {},
   "source": [
    "<b>Вывод</b>\n",
    "\n",
    "Диаграмма распределения продаж игр по жанрам наглядно демонстрирует, что в Европе и Северной Америке продажи по рейтингу очень похожи между собой. Здесь основные продажи игр приходятся на категории \"17+\" и \"Для всех\". В Японии же продажи по разным рейтингам примерно одинаковы, но немного больше игр продаётся с рейтингом \"10+\". Анализируя данные о популярности жанров в различных регионах, замечаем, что в Европе и Америке предпочитают экшн-игры, в то время как в Японии предпочтение отдается ролевым играм. Что касается игровых платформ, в США наиболее востребованной является Xbox 360, в Европе играют на Playstation 4 и 3, а в Японии большинство игр выходит для Nintendo 3DS."
   ]
  },
  {
   "cell_type": "markdown",
   "metadata": {},
   "source": [
    "## Проверяем гипотезы"
   ]
  },
  {
   "cell_type": "markdown",
   "metadata": {},
   "source": [
    "Давайте выразим основную гипотезу (H0), которая заключается в том, что средние пользовательские оценки для платформ Xbox One и PC одинаковы. Следовательно, альтернативная гипотеза (H1) будет заключаться в том, что средние оценки пользователей для платформ Xbox One и PC различаются."
   ]
  },
  {
   "cell_type": "code",
   "execution_count": 53,
   "metadata": {},
   "outputs": [],
   "source": [
    "xbox = new_data[(new_data['platform'] == 'XOne') & (new_data['user_score'] >= 0)]['user_score']\n",
    "pc = new_data[(new_data['platform'] == 'PC') & (new_data['user_score'] >= 0)]['user_score']"
   ]
  },
  {
   "cell_type": "markdown",
   "metadata": {},
   "source": [
    "Рассчитаем разброс выборок."
   ]
  },
  {
   "cell_type": "code",
   "execution_count": 54,
   "metadata": {},
   "outputs": [
    {
     "data": {
      "text/plain": [
       "1.9069968429360695"
      ]
     },
     "execution_count": 54,
     "metadata": {},
     "output_type": "execute_result"
    }
   ],
   "source": [
    "xbox.var()"
   ]
  },
  {
   "cell_type": "code",
   "execution_count": 55,
   "metadata": {},
   "outputs": [
    {
     "data": {
      "text/plain": [
       "2.770443997158418"
      ]
     },
     "execution_count": 55,
     "metadata": {},
     "output_type": "execute_result"
    }
   ],
   "source": [
    "pc.var()"
   ]
  },
  {
   "cell_type": "markdown",
   "metadata": {},
   "source": [
    "Проверяем нулевую гипотезу."
   ]
  },
  {
   "cell_type": "code",
   "execution_count": 56,
   "metadata": {},
   "outputs": [
    {
     "name": "stdout",
     "output_type": "stream",
     "text": [
      "0.5489537965134912\n",
      "Не получилось отвергнуть нулевую гипотезу\n"
     ]
    }
   ],
   "source": [
    "result = st.ttest_ind(xbox, pc, equal_var=False)\n",
    "alpha = .05\n",
    "print(result.pvalue)\n",
    "if result.pvalue < alpha:\n",
    "    print('Отвергаем нулевую гипотезу')\n",
    "else:\n",
    "    print('Не получилось отвергнуть нулевую гипотезу')"
   ]
  },
  {
   "cell_type": "code",
   "execution_count": 57,
   "metadata": {},
   "outputs": [
    {
     "data": {
      "image/png": "[encoded data removed]",
      "text/plain": [
       "<Figure size 432x288 with 1 Axes>"
      ]
     },
     "metadata": {
      "needs_background": "light"
     },
     "output_type": "display_data"
    }
   ],
   "source": [
    "plt.hist(xbox, color='b', alpha=0.5)\n",
    "plt.hist(pc, alpha=0.3, color='y')\n",
    "plt.title('Распределение оценок пользователей по платформам Xbox и PC')\n",
    "plt.show()"
   ]
  },
  {
   "cell_type": "code",
   "execution_count": 58,
   "metadata": {},
   "outputs": [
    {
     "data": {
      "text/plain": [
       "6.521428571428572"
      ]
     },
     "execution_count": 58,
     "metadata": {},
     "output_type": "execute_result"
    }
   ],
   "source": [
    "xbox.mean()"
   ]
  },
  {
   "cell_type": "code",
   "execution_count": 59,
   "metadata": {},
   "outputs": [
    {
     "data": {
      "text/plain": [
       "6.4286407766990274"
      ]
     },
     "execution_count": 59,
     "metadata": {},
     "output_type": "execute_result"
    }
   ],
   "source": [
    "pc.mean()"
   ]
  },
  {
   "cell_type": "markdown",
   "metadata": {},
   "source": [
    "После проведения проверки гипотезы можно утверждать, что средние пользовательские оценки для платформ Xbox One и PC одинаковы. Диаграмма и средние значения выборок также показывают, что данные очень похожи друг на друга."
   ]
  },
  {
   "cell_type": "markdown",
   "metadata": {},
   "source": [
    "Произведем проверку нулевой гипотезы (H0), согласно которой средние пользовательские рейтинги жанров Action (экшен-игры) и Sports (спортивные соревнования) равны. Как альтернативу, предположим, что средние пользовательские рейтинги указанных жанров отличаются."
   ]
  },
  {
   "cell_type": "code",
   "execution_count": 60,
   "metadata": {},
   "outputs": [],
   "source": [
    "action = new_data[(new_data['genre'] == 'Action') & (new_data['user_score'] >= 0)]['user_score']\n",
    "sports = new_data[(new_data['genre'] == 'Sports') & (new_data['user_score'] >= 0)]['user_score']"
   ]
  },
  {
   "cell_type": "code",
   "execution_count": 61,
   "metadata": {},
   "outputs": [
    {
     "data": {
      "text/plain": [
       "1.8890840494348111"
      ]
     },
     "execution_count": 61,
     "metadata": {},
     "output_type": "execute_result"
    }
   ],
   "source": [
    "action.var()"
   ]
  },
  {
   "cell_type": "code",
   "execution_count": 62,
   "metadata": {},
   "outputs": [
    {
     "data": {
      "text/plain": [
       "3.022890298704732"
      ]
     },
     "execution_count": 62,
     "metadata": {},
     "output_type": "execute_result"
    }
   ],
   "source": [
    "sports.var()"
   ]
  },
  {
   "cell_type": "code",
   "execution_count": 63,
   "metadata": {},
   "outputs": [
    {
     "name": "stdout",
     "output_type": "stream",
     "text": [
      "4.24307776572644e-20\n",
      "Отвергаем нулевую гипотезу\n"
     ]
    }
   ],
   "source": [
    "results = st.ttest_ind(action, sports, equal_var=False)\n",
    "alpha = .05\n",
    "print(results.pvalue)\n",
    "if results.pvalue < alpha:\n",
    "    print('Отвергаем нулевую гипотезу')\n",
    "else:\n",
    "    print('Не получилось отвергнуть нулевую гипотезу')"
   ]
  },
  {
   "cell_type": "code",
   "execution_count": 64,
   "metadata": {},
   "outputs": [
    {
     "data": {
      "image/png": "[encoded data removed]",
      "text/plain": [
       "<Figure size 432x288 with 1 Axes>"
      ]
     },
     "metadata": {
      "needs_background": "light"
     },
     "output_type": "display_data"
    }
   ],
   "source": [
    "plt.hist(action, color='y', alpha=0.7)\n",
    "plt.hist(sports, alpha=0.3, color='r')\n",
    "plt.title('Распределение оценок пользователей по играм жанром Экшен и Спорт')\n",
    "plt.show()"
   ]
  },
  {
   "cell_type": "code",
   "execution_count": 65,
   "metadata": {},
   "outputs": [
    {
     "data": {
      "text/plain": [
       "6.825047801147227"
      ]
     },
     "execution_count": 65,
     "metadata": {},
     "output_type": "execute_result"
    }
   ],
   "source": [
    "action.mean()"
   ]
  },
  {
   "cell_type": "code",
   "execution_count": 66,
   "metadata": {},
   "outputs": [
    {
     "data": {
      "text/plain": [
       "5.455897435897437"
      ]
     },
     "execution_count": 66,
     "metadata": {},
     "output_type": "execute_result"
    }
   ],
   "source": [
    "sports.mean()"
   ]
  },
  {
   "cell_type": "markdown",
   "metadata": {},
   "source": [
    "<b>Вывод</b>\n",
    "\n",
    "Проведя анализ двух основных гипотез, можно заключить, что средние пользовательские оценки игр для платформ Xbox One и PC совпадают, а оценки игр в жанрах экшен и спорт отличаются."
   ]
  },
  {
   "cell_type": "markdown",
   "metadata": {},
   "source": [
    "## Общий вывод\n",
    "\n",
    "Анализируя результаты исследования, можно сделать следующие выводы:\n",
    "\n",
    "- Большинство игр было выпущено в период с 2000 по 2010 год.\n",
    "\n",
    "- В последние годы как объемы продаж игр, так и их количество значительно сократились. Этот десятилетний период с 2000-х до 2010-х годов можно назвать \"временем расцвета игровой индустрии\", когда с развитием технологий появлялись новые игровые платформы, каждая из которых стремилась привлечь свою аудиторию, выпуская все новые и новые игры. В последние годы количество выпускаемых игр снизилось, но, возможно, они стали качественнее, и новые релизы выходят не так часто, как раньше.\n",
    "\n",
    "- Для более точного определения причин снижения объемов производства игр необходимо провести дополнительные исследования. Однако можно предположить, что это может быть связано с переходом пользователей на мобильные приложения, часто предлагаемые бесплатно. Также разработка игр сейчас требует больше времени, увеличилось качество графики и самой игры. Время, необходимое для прохождения игры, с годами увеличивается, потому что современные игры могут потребовать больше времени для завершения, что может быть связано с снижением объемов продаж.\n",
    "\n",
    "- За последние пять лет самыми продаваемыми игровыми платформами оказались Sony PlayStation 4 и 3, Xbox 360 и Nintendo 3DS.\n",
    "\n",
    "- В отношении жанров лидерство по количеству удерживают игры в жанрах экшен, ролевых игр, спортивных симуляторов и шутеров, а по объемам продаж шутеры, спортивные, платформеры и ролевые. Наименее популярными оказались игры-головоломки по количеству и приключенческие по продажам.\n",
    "\n",
    "- В Северной Америке примерно четверть всех продаж игр приходится на игры для платформы Xbox 360 от корпорации Microsoft. В Европе более популярной оказалась японская Sony PlayStation 4. В то же время в Японии больше всего спроса на игры для портативной консоли Nintendo 3DS, которая также производится в этой стране.\n",
    "\n",
    "- Проверка гипотез привела к выводу, что пользовательские рейтинги для платформ Xbox One и ПК примерно равны между собой, в то время как средние пользовательские рейтинги экшен и спортивных игр разнятся.\n",
    "\n",
    "- Также было исследовано, влияют ли рейтинги пользователей и критиков на объемы продаж. Оказалось, что пользовательские оценки не оказывают значительного влияния на продажи, что подтверждается как графическими данными, так и корреляционным анализом. Однако игроки проявляют больше доверия к рейтингам критиков и предпочитают покупать игры с более высокими оценками от них.\n",
    "\n",
    "<b>Выоды по региональные особенностям:</b>\n",
    "\n",
    "<b><i>Северная Америка</i></b>\n",
    "\n",
    "В Северной Америке наиболее высокие продажи (четверть от общего объема) обеспечивает игровая платформа Xbox 360, принадлежащая Microsoft. Второе, третье и четвертое места занимают PlayStation4, PlayStation3 и Xbox One со схожими долями рынка. Самыми популярными жанрами являются экшен, стрелялки и спортивные игры. Лидируют продажи игр с рейтингом \"17+\" и \"Для всех возрастов\".\n",
    "\n",
    "<b><i>Европа</i></b>\n",
    "\n",
    "В Европе предпочтение отдается японским платформам PlayStation4 и PlayStation3, с американской Xbox 360 на третьем месте. По жанрам предпочтения европейцев совпадают с американскими геймерами - экшен, стрелялки и спортивные игры наиболее востребованы. Основной объем продаж приходится на игры с рейтингом \"17+\" и \"Для всех возрастов\".\n",
    "\n",
    "<b><i>Япония</i></b>\n",
    "\n",
    "В Японии наибольшую популярность имеют местные платформы. Почти половина всех проданных игр приходится на Nintendo 3DS, затем следуют Sony PlayStation3 и PlayStation Vita. Американские Xbox не пользуются большой популярностью среди японцев. В жанровом плане ролевые игры и экшены лидируют с большим отрывом. Продажи по жанрам распределены примерно равномерно, с меньшей долей выпускаемых игр для возрастной категории \"10+\" и старше.\n"
   ]
  }
 ],
 "metadata": {
  "ExecuteTimeLog": [
   {
    "duration": 1397,
    "start_time": "2024-05-02T13:16:33.812Z"
   },
   {
    "duration": 206,
    "start_time": "2024-05-02T13:17:44.037Z"
   },
   {
    "duration": 20,
    "start_time": "2024-05-02T13:18:11.916Z"
   },
   {
    "duration": 6,
    "start_time": "2024-05-02T13:33:56.918Z"
   },
   {
    "duration": 18,
    "start_time": "2024-05-02T13:34:37.398Z"
   },
   {
    "duration": 15,
    "start_time": "2024-05-02T13:35:01.839Z"
   },
   {
    "duration": 116,
    "start_time": "2024-05-02T13:37:11.077Z"
   },
   {
    "duration": 77,
    "start_time": "2024-05-02T13:37:17.532Z"
   },
   {
    "duration": 5,
    "start_time": "2024-05-02T13:37:42.972Z"
   },
   {
    "duration": 5,
    "start_time": "2024-05-02T13:37:57.868Z"
   },
   {
    "duration": 17,
    "start_time": "2024-05-02T13:38:09.756Z"
   },
   {
    "duration": 9,
    "start_time": "2024-05-02T13:40:40.145Z"
   },
   {
    "duration": 5,
    "start_time": "2024-05-02T13:40:51.264Z"
   },
   {
    "duration": 6,
    "start_time": "2024-05-02T13:41:01.113Z"
   },
   {
    "duration": 5,
    "start_time": "2024-05-02T13:54:20.342Z"
   },
   {
    "duration": 10,
    "start_time": "2024-05-02T13:54:26.541Z"
   },
   {
    "duration": 5,
    "start_time": "2024-05-02T13:54:41.148Z"
   },
   {
    "duration": 5,
    "start_time": "2024-05-02T13:54:58.043Z"
   },
   {
    "duration": 5,
    "start_time": "2024-05-02T13:55:06.193Z"
   },
   {
    "duration": 11,
    "start_time": "2024-05-02T13:55:10.356Z"
   },
   {
    "duration": 15,
    "start_time": "2024-05-02T14:00:03.392Z"
   },
   {
    "duration": 7,
    "start_time": "2024-05-02T14:05:50.146Z"
   },
   {
    "duration": 15,
    "start_time": "2024-05-02T14:05:57.659Z"
   },
   {
    "duration": 45,
    "start_time": "2024-05-02T17:31:59.260Z"
   },
   {
    "duration": 1325,
    "start_time": "2024-05-02T17:32:21.091Z"
   },
   {
    "duration": 209,
    "start_time": "2024-05-02T17:32:22.418Z"
   },
   {
    "duration": 17,
    "start_time": "2024-05-02T17:32:22.629Z"
   },
   {
    "duration": 5,
    "start_time": "2024-05-02T17:32:22.648Z"
   },
   {
    "duration": 32,
    "start_time": "2024-05-02T17:32:22.654Z"
   },
   {
    "duration": 12,
    "start_time": "2024-05-02T17:32:22.688Z"
   },
   {
    "duration": 14,
    "start_time": "2024-05-02T17:32:22.702Z"
   },
   {
    "duration": 9,
    "start_time": "2024-05-02T17:32:22.717Z"
   },
   {
    "duration": 17,
    "start_time": "2024-05-02T17:32:22.727Z"
   },
   {
    "duration": 10,
    "start_time": "2024-05-02T17:32:22.746Z"
   },
   {
    "duration": 7,
    "start_time": "2024-05-02T17:32:22.757Z"
   },
   {
    "duration": 6,
    "start_time": "2024-05-02T17:32:22.766Z"
   },
   {
    "duration": 3,
    "start_time": "2024-05-02T17:32:22.774Z"
   },
   {
    "duration": 37,
    "start_time": "2024-05-02T17:32:22.779Z"
   },
   {
    "duration": 13,
    "start_time": "2024-05-02T17:32:22.817Z"
   },
   {
    "duration": 14,
    "start_time": "2024-05-02T17:32:22.832Z"
   },
   {
    "duration": 15,
    "start_time": "2024-05-02T17:32:22.847Z"
   },
   {
    "duration": 9,
    "start_time": "2024-05-02T17:32:22.864Z"
   },
   {
    "duration": 16,
    "start_time": "2024-05-02T17:32:22.875Z"
   },
   {
    "duration": 164,
    "start_time": "2024-05-02T17:32:22.893Z"
   },
   {
    "duration": 313,
    "start_time": "2024-05-02T17:38:29.482Z"
   },
   {
    "duration": 313,
    "start_time": "2024-05-02T17:40:50.015Z"
   },
   {
    "duration": 8,
    "start_time": "2024-05-02T17:42:37.200Z"
   },
   {
    "duration": 211,
    "start_time": "2024-05-02T17:43:48.928Z"
   },
   {
    "duration": 184,
    "start_time": "2024-05-02T17:44:02.938Z"
   },
   {
    "duration": 193,
    "start_time": "2024-05-02T17:44:17.021Z"
   },
   {
    "duration": 272,
    "start_time": "2024-05-02T17:44:30.720Z"
   },
   {
    "duration": 185,
    "start_time": "2024-05-02T17:44:46.293Z"
   },
   {
    "duration": 23,
    "start_time": "2024-05-02T17:47:02.605Z"
   },
   {
    "duration": 14,
    "start_time": "2024-05-02T17:49:59.806Z"
   },
   {
    "duration": 15,
    "start_time": "2024-05-02T17:50:44.643Z"
   },
   {
    "duration": 74,
    "start_time": "2024-05-02T17:51:41.398Z"
   },
   {
    "duration": 13,
    "start_time": "2024-05-02T17:52:12.460Z"
   },
   {
    "duration": 14,
    "start_time": "2024-05-02T17:52:44.644Z"
   },
   {
    "duration": 13,
    "start_time": "2024-05-02T17:53:11.508Z"
   },
   {
    "duration": 657,
    "start_time": "2024-05-02T17:54:05.226Z"
   },
   {
    "duration": 260,
    "start_time": "2024-05-02T17:57:35.090Z"
   },
   {
    "duration": 306,
    "start_time": "2024-05-02T18:00:52.315Z"
   },
   {
    "duration": 14,
    "start_time": "2024-05-02T18:01:41.025Z"
   },
   {
    "duration": 278,
    "start_time": "2024-05-02T18:02:42.682Z"
   },
   {
    "duration": 11,
    "start_time": "2024-05-02T18:03:00.617Z"
   },
   {
    "duration": 300,
    "start_time": "2024-05-02T18:03:08.271Z"
   },
   {
    "duration": 9,
    "start_time": "2024-05-02T18:03:16.773Z"
   },
   {
    "duration": 158,
    "start_time": "2024-05-02T18:05:36.748Z"
   },
   {
    "duration": 247,
    "start_time": "2024-05-02T18:05:46.711Z"
   },
   {
    "duration": 255,
    "start_time": "2024-05-02T18:14:16.687Z"
   },
   {
    "duration": 288,
    "start_time": "2024-05-02T18:14:28.697Z"
   },
   {
    "duration": 13,
    "start_time": "2024-05-02T18:15:03.631Z"
   },
   {
    "duration": 13,
    "start_time": "2024-05-02T18:15:19.596Z"
   },
   {
    "duration": 15,
    "start_time": "2024-05-02T18:15:26.917Z"
   },
   {
    "duration": 14,
    "start_time": "2024-05-02T18:16:00.385Z"
   },
   {
    "duration": 18,
    "start_time": "2024-05-02T18:16:06.085Z"
   },
   {
    "duration": 14,
    "start_time": "2024-05-02T18:16:13.733Z"
   },
   {
    "duration": 454,
    "start_time": "2024-05-02T18:19:42.377Z"
   },
   {
    "duration": 6,
    "start_time": "2024-05-02T18:22:10.231Z"
   },
   {
    "duration": 20,
    "start_time": "2024-05-02T18:24:27.910Z"
   },
   {
    "duration": 167,
    "start_time": "2024-05-02T18:25:32.278Z"
   },
   {
    "duration": 165,
    "start_time": "2024-05-02T18:26:12.215Z"
   },
   {
    "duration": 6,
    "start_time": "2024-05-02T18:32:43.966Z"
   },
   {
    "duration": 4,
    "start_time": "2024-05-02T18:33:24.403Z"
   },
   {
    "duration": 4,
    "start_time": "2024-05-02T18:33:33.425Z"
   },
   {
    "duration": 4,
    "start_time": "2024-05-02T18:34:03.687Z"
   },
   {
    "duration": 137,
    "start_time": "2024-05-02T18:34:36.950Z"
   },
   {
    "duration": 6,
    "start_time": "2024-05-02T18:35:05.433Z"
   },
   {
    "duration": 4,
    "start_time": "2024-05-02T18:35:24.054Z"
   },
   {
    "duration": 4,
    "start_time": "2024-05-02T18:35:30.778Z"
   },
   {
    "duration": 8,
    "start_time": "2024-05-02T18:37:11.331Z"
   },
   {
    "duration": 5,
    "start_time": "2024-05-02T18:37:27.893Z"
   },
   {
    "duration": 5,
    "start_time": "2024-05-02T18:37:30.003Z"
   },
   {
    "duration": 4,
    "start_time": "2024-05-02T18:37:44.917Z"
   },
   {
    "duration": 147,
    "start_time": "2024-05-02T18:38:00.036Z"
   },
   {
    "duration": 138,
    "start_time": "2024-05-02T18:38:07.104Z"
   },
   {
    "duration": 4,
    "start_time": "2024-05-02T18:38:23.346Z"
   },
   {
    "duration": 4,
    "start_time": "2024-05-02T18:38:30.366Z"
   },
   {
    "duration": 144,
    "start_time": "2024-05-02T18:39:46.937Z"
   },
   {
    "duration": 242,
    "start_time": "2024-05-02T18:39:53.245Z"
   },
   {
    "duration": 132,
    "start_time": "2024-05-02T18:39:59.367Z"
   },
   {
    "duration": 133,
    "start_time": "2024-05-02T18:40:09.171Z"
   },
   {
    "duration": 1219,
    "start_time": "2024-05-02T18:44:57.617Z"
   },
   {
    "duration": 77,
    "start_time": "2024-05-02T18:44:58.837Z"
   },
   {
    "duration": 19,
    "start_time": "2024-05-02T18:44:58.915Z"
   },
   {
    "duration": 5,
    "start_time": "2024-05-02T18:44:58.935Z"
   },
   {
    "duration": 35,
    "start_time": "2024-05-02T18:44:58.941Z"
   },
   {
    "duration": 18,
    "start_time": "2024-05-02T18:44:58.978Z"
   },
   {
    "duration": 21,
    "start_time": "2024-05-02T18:44:58.997Z"
   },
   {
    "duration": 7,
    "start_time": "2024-05-02T18:44:59.020Z"
   },
   {
    "duration": 20,
    "start_time": "2024-05-02T18:44:59.028Z"
   },
   {
    "duration": 10,
    "start_time": "2024-05-02T18:44:59.051Z"
   },
   {
    "duration": 7,
    "start_time": "2024-05-02T18:44:59.063Z"
   },
   {
    "duration": 5,
    "start_time": "2024-05-02T18:44:59.071Z"
   },
   {
    "duration": 7,
    "start_time": "2024-05-02T18:44:59.078Z"
   },
   {
    "duration": 39,
    "start_time": "2024-05-02T18:44:59.086Z"
   },
   {
    "duration": 11,
    "start_time": "2024-05-02T18:44:59.127Z"
   },
   {
    "duration": 12,
    "start_time": "2024-05-02T18:44:59.139Z"
   },
   {
    "duration": 16,
    "start_time": "2024-05-02T18:44:59.152Z"
   },
   {
    "duration": 5,
    "start_time": "2024-05-02T18:44:59.169Z"
   },
   {
    "duration": 32,
    "start_time": "2024-05-02T18:44:59.175Z"
   },
   {
    "duration": 358,
    "start_time": "2024-05-02T18:44:59.215Z"
   },
   {
    "duration": 328,
    "start_time": "2024-05-02T18:44:59.574Z"
   },
   {
    "duration": 12,
    "start_time": "2024-05-02T18:44:59.903Z"
   },
   {
    "duration": 205,
    "start_time": "2024-05-02T18:44:59.917Z"
   },
   {
    "duration": 209,
    "start_time": "2024-05-02T18:45:00.123Z"
   },
   {
    "duration": 182,
    "start_time": "2024-05-02T18:45:00.333Z"
   },
   {
    "duration": 184,
    "start_time": "2024-05-02T18:45:00.516Z"
   },
   {
    "duration": 103,
    "start_time": "2024-05-02T18:45:00.702Z"
   },
   {
    "duration": 14,
    "start_time": "2024-05-02T18:45:00.814Z"
   },
   {
    "duration": 66,
    "start_time": "2024-05-02T18:45:00.830Z"
   },
   {
    "duration": 65,
    "start_time": "2024-05-02T18:45:00.897Z"
   },
   {
    "duration": 142,
    "start_time": "2024-05-02T18:45:00.964Z"
   },
   {
    "duration": 65,
    "start_time": "2024-05-02T18:45:01.107Z"
   },
   {
    "duration": 802,
    "start_time": "2024-05-02T18:45:01.174Z"
   },
   {
    "duration": 288,
    "start_time": "2024-05-02T18:45:01.978Z"
   },
   {
    "duration": 317,
    "start_time": "2024-05-02T18:45:02.268Z"
   },
   {
    "duration": 10,
    "start_time": "2024-05-02T18:45:02.587Z"
   },
   {
    "duration": 306,
    "start_time": "2024-05-02T18:45:02.598Z"
   },
   {
    "duration": 15,
    "start_time": "2024-05-02T18:45:02.906Z"
   },
   {
    "duration": 318,
    "start_time": "2024-05-02T18:45:02.922Z"
   },
   {
    "duration": 9,
    "start_time": "2024-05-02T18:45:03.242Z"
   },
   {
    "duration": 191,
    "start_time": "2024-05-02T18:45:03.253Z"
   },
   {
    "duration": 188,
    "start_time": "2024-05-02T18:45:03.446Z"
   },
   {
    "duration": 259,
    "start_time": "2024-05-02T18:45:03.635Z"
   },
   {
    "duration": 107,
    "start_time": "2024-05-02T18:45:03.896Z"
   },
   {
    "duration": 0,
    "start_time": "2024-05-02T18:45:04.004Z"
   },
   {
    "duration": 0,
    "start_time": "2024-05-02T18:45:04.006Z"
   },
   {
    "duration": 0,
    "start_time": "2024-05-02T18:45:04.007Z"
   },
   {
    "duration": 0,
    "start_time": "2024-05-02T18:45:04.014Z"
   },
   {
    "duration": 0,
    "start_time": "2024-05-02T18:45:04.016Z"
   },
   {
    "duration": 0,
    "start_time": "2024-05-02T18:45:04.017Z"
   },
   {
    "duration": 0,
    "start_time": "2024-05-02T18:45:04.017Z"
   },
   {
    "duration": 0,
    "start_time": "2024-05-02T18:45:04.019Z"
   },
   {
    "duration": 0,
    "start_time": "2024-05-02T18:45:04.019Z"
   },
   {
    "duration": 0,
    "start_time": "2024-05-02T18:45:04.021Z"
   },
   {
    "duration": 0,
    "start_time": "2024-05-02T18:45:04.022Z"
   },
   {
    "duration": 1,
    "start_time": "2024-05-02T18:45:04.022Z"
   },
   {
    "duration": 0,
    "start_time": "2024-05-02T18:45:04.024Z"
   },
   {
    "duration": 0,
    "start_time": "2024-05-02T18:45:04.026Z"
   },
   {
    "duration": 0,
    "start_time": "2024-05-02T18:45:04.027Z"
   },
   {
    "duration": 0,
    "start_time": "2024-05-02T18:45:04.028Z"
   },
   {
    "duration": 0,
    "start_time": "2024-05-02T18:45:04.030Z"
   },
   {
    "duration": 0,
    "start_time": "2024-05-02T18:45:04.031Z"
   },
   {
    "duration": 0,
    "start_time": "2024-05-02T18:45:04.033Z"
   },
   {
    "duration": 0,
    "start_time": "2024-05-02T18:45:04.161Z"
   },
   {
    "duration": 0,
    "start_time": "2024-05-02T18:45:04.162Z"
   },
   {
    "duration": 1152,
    "start_time": "2024-05-02T18:45:54.182Z"
   },
   {
    "duration": 66,
    "start_time": "2024-05-02T18:45:55.336Z"
   },
   {
    "duration": 24,
    "start_time": "2024-05-02T18:45:55.403Z"
   },
   {
    "duration": 6,
    "start_time": "2024-05-02T18:45:55.429Z"
   },
   {
    "duration": 24,
    "start_time": "2024-05-02T18:45:55.437Z"
   },
   {
    "duration": 14,
    "start_time": "2024-05-02T18:45:55.462Z"
   },
   {
    "duration": 5,
    "start_time": "2024-05-02T18:45:55.477Z"
   },
   {
    "duration": 8,
    "start_time": "2024-05-02T18:45:55.484Z"
   },
   {
    "duration": 35,
    "start_time": "2024-05-02T18:45:55.493Z"
   },
   {
    "duration": 12,
    "start_time": "2024-05-02T18:45:55.531Z"
   },
   {
    "duration": 4,
    "start_time": "2024-05-02T18:45:55.544Z"
   },
   {
    "duration": 10,
    "start_time": "2024-05-02T18:45:55.550Z"
   },
   {
    "duration": 4,
    "start_time": "2024-05-02T18:45:55.561Z"
   },
   {
    "duration": 17,
    "start_time": "2024-05-02T18:45:55.566Z"
   },
   {
    "duration": 46,
    "start_time": "2024-05-02T18:45:55.584Z"
   },
   {
    "duration": 11,
    "start_time": "2024-05-02T18:45:55.632Z"
   },
   {
    "duration": 27,
    "start_time": "2024-05-02T18:45:55.644Z"
   },
   {
    "duration": 7,
    "start_time": "2024-05-02T18:45:55.673Z"
   },
   {
    "duration": 18,
    "start_time": "2024-05-02T18:45:55.681Z"
   },
   {
    "duration": 427,
    "start_time": "2024-05-02T18:45:55.701Z"
   },
   {
    "duration": 414,
    "start_time": "2024-05-02T18:45:56.130Z"
   },
   {
    "duration": 7,
    "start_time": "2024-05-02T18:45:56.546Z"
   },
   {
    "duration": 191,
    "start_time": "2024-05-02T18:45:56.554Z"
   },
   {
    "duration": 229,
    "start_time": "2024-05-02T18:45:56.746Z"
   },
   {
    "duration": 176,
    "start_time": "2024-05-02T18:45:56.976Z"
   },
   {
    "duration": 184,
    "start_time": "2024-05-02T18:45:57.153Z"
   },
   {
    "duration": 102,
    "start_time": "2024-05-02T18:45:57.339Z"
   },
   {
    "duration": 14,
    "start_time": "2024-05-02T18:45:57.445Z"
   },
   {
    "duration": 15,
    "start_time": "2024-05-02T18:45:57.460Z"
   },
   {
    "duration": 13,
    "start_time": "2024-05-02T18:45:57.476Z"
   },
   {
    "duration": 40,
    "start_time": "2024-05-02T18:45:57.491Z"
   },
   {
    "duration": 14,
    "start_time": "2024-05-02T18:45:57.532Z"
   },
   {
    "duration": 687,
    "start_time": "2024-05-02T18:45:57.547Z"
   },
   {
    "duration": 285,
    "start_time": "2024-05-02T18:45:58.235Z"
   },
   {
    "duration": 313,
    "start_time": "2024-05-02T18:45:58.522Z"
   },
   {
    "duration": 10,
    "start_time": "2024-05-02T18:45:58.837Z"
   },
   {
    "duration": 329,
    "start_time": "2024-05-02T18:45:58.849Z"
   },
   {
    "duration": 10,
    "start_time": "2024-05-02T18:45:59.179Z"
   },
   {
    "duration": 314,
    "start_time": "2024-05-02T18:45:59.190Z"
   },
   {
    "duration": 15,
    "start_time": "2024-05-02T18:45:59.506Z"
   },
   {
    "duration": 162,
    "start_time": "2024-05-02T18:45:59.523Z"
   },
   {
    "duration": 163,
    "start_time": "2024-05-02T18:45:59.686Z"
   },
   {
    "duration": 242,
    "start_time": "2024-05-02T18:45:59.851Z"
   },
   {
    "duration": 20,
    "start_time": "2024-05-02T18:46:00.094Z"
   },
   {
    "duration": 39,
    "start_time": "2024-05-02T18:46:00.116Z"
   },
   {
    "duration": 99,
    "start_time": "2024-05-02T18:46:00.156Z"
   },
   {
    "duration": 587,
    "start_time": "2024-05-02T18:46:00.257Z"
   },
   {
    "duration": 7,
    "start_time": "2024-05-02T18:46:00.845Z"
   },
   {
    "duration": 57,
    "start_time": "2024-05-02T18:46:00.853Z"
   },
   {
    "duration": 192,
    "start_time": "2024-05-02T18:46:00.912Z"
   },
   {
    "duration": 175,
    "start_time": "2024-05-02T18:46:01.106Z"
   },
   {
    "duration": 5,
    "start_time": "2024-05-02T18:46:01.283Z"
   },
   {
    "duration": 43,
    "start_time": "2024-05-02T18:46:01.290Z"
   },
   {
    "duration": 46,
    "start_time": "2024-05-02T18:46:01.334Z"
   },
   {
    "duration": 30,
    "start_time": "2024-05-02T18:46:01.382Z"
   },
   {
    "duration": 181,
    "start_time": "2024-05-02T18:46:01.413Z"
   },
   {
    "duration": 5,
    "start_time": "2024-05-02T18:46:01.595Z"
   },
   {
    "duration": 25,
    "start_time": "2024-05-02T18:46:01.601Z"
   },
   {
    "duration": 23,
    "start_time": "2024-05-02T18:46:01.627Z"
   },
   {
    "duration": 37,
    "start_time": "2024-05-02T18:46:01.652Z"
   },
   {
    "duration": 24,
    "start_time": "2024-05-02T18:46:01.691Z"
   },
   {
    "duration": 11,
    "start_time": "2024-05-02T18:46:01.716Z"
   },
   {
    "duration": 173,
    "start_time": "2024-05-02T18:46:01.728Z"
   },
   {
    "duration": 13,
    "start_time": "2024-05-02T18:46:01.904Z"
   },
   {
    "duration": 37,
    "start_time": "2024-05-02T18:46:01.919Z"
   },
   {
    "duration": 46,
    "start_time": "2024-05-03T06:24:48.412Z"
   },
   {
    "duration": 1321,
    "start_time": "2024-05-03T06:25:24.792Z"
   },
   {
    "duration": 119,
    "start_time": "2024-05-03T06:25:26.116Z"
   },
   {
    "duration": 20,
    "start_time": "2024-05-03T06:25:26.236Z"
   },
   {
    "duration": 12,
    "start_time": "2024-05-03T06:25:26.258Z"
   },
   {
    "duration": 25,
    "start_time": "2024-05-03T06:25:26.271Z"
   },
   {
    "duration": 19,
    "start_time": "2024-05-03T06:25:26.297Z"
   },
   {
    "duration": 5,
    "start_time": "2024-05-03T06:25:26.317Z"
   },
   {
    "duration": 14,
    "start_time": "2024-05-03T06:25:26.324Z"
   },
   {
    "duration": 31,
    "start_time": "2024-05-03T06:25:26.339Z"
   },
   {
    "duration": 9,
    "start_time": "2024-05-03T06:25:26.372Z"
   },
   {
    "duration": 25,
    "start_time": "2024-05-03T06:25:26.382Z"
   },
   {
    "duration": 7,
    "start_time": "2024-05-03T06:25:26.408Z"
   },
   {
    "duration": 14,
    "start_time": "2024-05-03T06:25:26.417Z"
   },
   {
    "duration": 11,
    "start_time": "2024-05-03T06:25:26.432Z"
   },
   {
    "duration": 5,
    "start_time": "2024-05-03T06:25:26.444Z"
   },
   {
    "duration": 30,
    "start_time": "2024-05-03T06:25:26.450Z"
   },
   {
    "duration": 15,
    "start_time": "2024-05-03T06:25:26.482Z"
   },
   {
    "duration": 6,
    "start_time": "2024-05-03T06:25:26.498Z"
   },
   {
    "duration": 16,
    "start_time": "2024-05-03T06:25:26.505Z"
   },
   {
    "duration": 19,
    "start_time": "2024-05-03T06:25:26.523Z"
   },
   {
    "duration": 345,
    "start_time": "2024-05-03T06:25:26.544Z"
   },
   {
    "duration": 344,
    "start_time": "2024-05-03T06:25:26.891Z"
   },
   {
    "duration": 7,
    "start_time": "2024-05-03T06:25:27.236Z"
   },
   {
    "duration": 176,
    "start_time": "2024-05-03T06:25:27.244Z"
   },
   {
    "duration": 180,
    "start_time": "2024-05-03T06:25:27.422Z"
   },
   {
    "duration": 183,
    "start_time": "2024-05-03T06:25:27.604Z"
   },
   {
    "duration": 179,
    "start_time": "2024-05-03T06:25:27.788Z"
   },
   {
    "duration": 98,
    "start_time": "2024-05-03T06:25:27.971Z"
   },
   {
    "duration": 14,
    "start_time": "2024-05-03T06:25:28.071Z"
   },
   {
    "duration": 14,
    "start_time": "2024-05-03T06:25:28.087Z"
   },
   {
    "duration": 14,
    "start_time": "2024-05-03T06:25:28.103Z"
   },
   {
    "duration": 20,
    "start_time": "2024-05-03T06:25:28.119Z"
   },
   {
    "duration": 35,
    "start_time": "2024-05-03T06:25:28.140Z"
   },
   {
    "duration": 668,
    "start_time": "2024-05-03T06:25:28.176Z"
   },
   {
    "duration": 307,
    "start_time": "2024-05-03T06:25:28.846Z"
   },
   {
    "duration": 300,
    "start_time": "2024-05-03T06:25:29.154Z"
   },
   {
    "duration": 15,
    "start_time": "2024-05-03T06:25:29.456Z"
   },
   {
    "duration": 284,
    "start_time": "2024-05-03T06:25:29.472Z"
   },
   {
    "duration": 16,
    "start_time": "2024-05-03T06:25:29.764Z"
   },
   {
    "duration": 322,
    "start_time": "2024-05-03T06:25:29.782Z"
   },
   {
    "duration": 10,
    "start_time": "2024-05-03T06:25:30.106Z"
   },
   {
    "duration": 209,
    "start_time": "2024-05-03T06:25:30.118Z"
   },
   {
    "duration": 159,
    "start_time": "2024-05-03T06:25:30.328Z"
   },
   {
    "duration": 258,
    "start_time": "2024-05-03T06:25:30.489Z"
   },
   {
    "duration": 19,
    "start_time": "2024-05-03T06:25:30.749Z"
   },
   {
    "duration": 70,
    "start_time": "2024-05-03T06:25:30.770Z"
   },
   {
    "duration": 55,
    "start_time": "2024-05-03T06:25:30.841Z"
   },
   {
    "duration": 577,
    "start_time": "2024-05-03T06:25:30.897Z"
   },
   {
    "duration": 8,
    "start_time": "2024-05-03T06:25:31.476Z"
   },
   {
    "duration": 52,
    "start_time": "2024-05-03T06:25:31.486Z"
   },
   {
    "duration": 188,
    "start_time": "2024-05-03T06:25:31.540Z"
   },
   {
    "duration": 208,
    "start_time": "2024-05-03T06:25:31.731Z"
   },
   {
    "duration": 10,
    "start_time": "2024-05-03T06:25:31.941Z"
   },
   {
    "duration": 15,
    "start_time": "2024-05-03T06:25:31.953Z"
   },
   {
    "duration": 5,
    "start_time": "2024-05-03T06:25:31.970Z"
   },
   {
    "duration": 12,
    "start_time": "2024-05-03T06:25:31.976Z"
   },
   {
    "duration": 195,
    "start_time": "2024-05-03T06:25:31.989Z"
   },
   {
    "duration": 4,
    "start_time": "2024-05-03T06:25:32.187Z"
   },
   {
    "duration": 34,
    "start_time": "2024-05-03T06:25:32.193Z"
   },
   {
    "duration": 22,
    "start_time": "2024-05-03T06:25:32.229Z"
   },
   {
    "duration": 37,
    "start_time": "2024-05-03T06:25:32.253Z"
   },
   {
    "duration": 13,
    "start_time": "2024-05-03T06:25:32.292Z"
   },
   {
    "duration": 22,
    "start_time": "2024-05-03T06:25:32.307Z"
   },
   {
    "duration": 178,
    "start_time": "2024-05-03T06:25:32.331Z"
   },
   {
    "duration": 5,
    "start_time": "2024-05-03T06:25:32.511Z"
   },
   {
    "duration": 9,
    "start_time": "2024-05-03T06:25:32.518Z"
   },
   {
    "duration": 161,
    "start_time": "2024-05-03T06:31:03.761Z"
   },
   {
    "duration": 152,
    "start_time": "2024-05-03T06:31:20.899Z"
   },
   {
    "duration": 182,
    "start_time": "2024-05-03T06:31:33.642Z"
   },
   {
    "duration": 193,
    "start_time": "2024-05-03T06:32:21.729Z"
   },
   {
    "duration": 165,
    "start_time": "2024-05-03T06:32:33.802Z"
   },
   {
    "duration": 270,
    "start_time": "2024-05-03T06:41:04.456Z"
   },
   {
    "duration": 1164,
    "start_time": "2024-05-03T06:45:39.992Z"
   },
   {
    "duration": 74,
    "start_time": "2024-05-03T06:45:41.159Z"
   },
   {
    "duration": 20,
    "start_time": "2024-05-03T06:45:41.236Z"
   },
   {
    "duration": 6,
    "start_time": "2024-05-03T06:45:41.257Z"
   },
   {
    "duration": 30,
    "start_time": "2024-05-03T06:45:41.265Z"
   },
   {
    "duration": 24,
    "start_time": "2024-05-03T06:45:41.297Z"
   },
   {
    "duration": 7,
    "start_time": "2024-05-03T06:45:41.323Z"
   },
   {
    "duration": 8,
    "start_time": "2024-05-03T06:45:41.332Z"
   },
   {
    "duration": 22,
    "start_time": "2024-05-03T06:45:41.365Z"
   },
   {
    "duration": 14,
    "start_time": "2024-05-03T06:45:41.389Z"
   },
   {
    "duration": 6,
    "start_time": "2024-05-03T06:45:41.405Z"
   },
   {
    "duration": 6,
    "start_time": "2024-05-03T06:45:41.413Z"
   },
   {
    "duration": 4,
    "start_time": "2024-05-03T06:45:41.422Z"
   },
   {
    "duration": 13,
    "start_time": "2024-05-03T06:45:41.468Z"
   },
   {
    "duration": 6,
    "start_time": "2024-05-03T06:45:41.482Z"
   },
   {
    "duration": 14,
    "start_time": "2024-05-03T06:45:41.490Z"
   },
   {
    "duration": 23,
    "start_time": "2024-05-03T06:45:41.507Z"
   },
   {
    "duration": 37,
    "start_time": "2024-05-03T06:45:41.532Z"
   },
   {
    "duration": 26,
    "start_time": "2024-05-03T06:45:41.570Z"
   },
   {
    "duration": 29,
    "start_time": "2024-05-03T06:45:41.598Z"
   },
   {
    "duration": 389,
    "start_time": "2024-05-03T06:45:41.631Z"
   },
   {
    "duration": 408,
    "start_time": "2024-05-03T06:45:42.022Z"
   },
   {
    "duration": 11,
    "start_time": "2024-05-03T06:45:42.432Z"
   },
   {
    "duration": 230,
    "start_time": "2024-05-03T06:45:42.444Z"
   },
   {
    "duration": 226,
    "start_time": "2024-05-03T06:45:42.676Z"
   },
   {
    "duration": 174,
    "start_time": "2024-05-03T06:45:42.904Z"
   },
   {
    "duration": 191,
    "start_time": "2024-05-03T06:45:43.080Z"
   },
   {
    "duration": 97,
    "start_time": "2024-05-03T06:45:43.273Z"
   },
   {
    "duration": 18,
    "start_time": "2024-05-03T06:45:43.373Z"
   },
   {
    "duration": 38,
    "start_time": "2024-05-03T06:45:43.393Z"
   },
   {
    "duration": 21,
    "start_time": "2024-05-03T06:45:43.433Z"
   },
   {
    "duration": 25,
    "start_time": "2024-05-03T06:45:43.455Z"
   },
   {
    "duration": 31,
    "start_time": "2024-05-03T06:45:43.482Z"
   },
   {
    "duration": 733,
    "start_time": "2024-05-03T06:45:43.515Z"
   },
   {
    "duration": 321,
    "start_time": "2024-05-03T06:45:44.250Z"
   },
   {
    "duration": 330,
    "start_time": "2024-05-03T06:45:44.573Z"
   },
   {
    "duration": 10,
    "start_time": "2024-05-03T06:45:44.905Z"
   },
   {
    "duration": 323,
    "start_time": "2024-05-03T06:45:44.917Z"
   },
   {
    "duration": 12,
    "start_time": "2024-05-03T06:45:45.242Z"
   },
   {
    "duration": 332,
    "start_time": "2024-05-03T06:45:45.264Z"
   },
   {
    "duration": 13,
    "start_time": "2024-05-03T06:45:45.602Z"
   },
   {
    "duration": 267,
    "start_time": "2024-05-03T06:45:45.617Z"
   },
   {
    "duration": 189,
    "start_time": "2024-05-03T06:45:45.886Z"
   },
   {
    "duration": 271,
    "start_time": "2024-05-03T06:45:46.077Z"
   },
   {
    "duration": 26,
    "start_time": "2024-05-03T06:45:46.350Z"
   },
   {
    "duration": 19,
    "start_time": "2024-05-03T06:45:46.378Z"
   },
   {
    "duration": 22,
    "start_time": "2024-05-03T06:45:46.399Z"
   },
   {
    "duration": 598,
    "start_time": "2024-05-03T06:45:46.423Z"
   },
   {
    "duration": 7,
    "start_time": "2024-05-03T06:45:47.022Z"
   },
   {
    "duration": 36,
    "start_time": "2024-05-03T06:45:47.031Z"
   },
   {
    "duration": 216,
    "start_time": "2024-05-03T06:45:47.068Z"
   },
   {
    "duration": 249,
    "start_time": "2024-05-03T06:45:47.286Z"
   },
   {
    "duration": 9,
    "start_time": "2024-05-03T06:45:47.538Z"
   },
   {
    "duration": 15,
    "start_time": "2024-05-03T06:45:47.551Z"
   },
   {
    "duration": 10,
    "start_time": "2024-05-03T06:45:47.568Z"
   },
   {
    "duration": 18,
    "start_time": "2024-05-03T06:45:47.580Z"
   },
   {
    "duration": 200,
    "start_time": "2024-05-03T06:45:47.604Z"
   },
   {
    "duration": 5,
    "start_time": "2024-05-03T06:45:47.806Z"
   },
   {
    "duration": 12,
    "start_time": "2024-05-03T06:45:47.812Z"
   },
   {
    "duration": 14,
    "start_time": "2024-05-03T06:45:47.826Z"
   },
   {
    "duration": 7,
    "start_time": "2024-05-03T06:45:47.842Z"
   },
   {
    "duration": 16,
    "start_time": "2024-05-03T06:45:47.851Z"
   },
   {
    "duration": 10,
    "start_time": "2024-05-03T06:45:47.869Z"
   },
   {
    "duration": 188,
    "start_time": "2024-05-03T06:45:47.882Z"
   },
   {
    "duration": 4,
    "start_time": "2024-05-03T06:45:48.072Z"
   },
   {
    "duration": 5,
    "start_time": "2024-05-03T06:45:48.078Z"
   }
  ],
  "kernelspec": {
   "display_name": "Python 3 (ipykernel)",
   "language": "python",
   "name": "python3"
  },
  "language_info": {
   "codemirror_mode": {
    "name": "ipython",
    "version": 3
   },
   "file_extension": ".py",
   "mimetype": "text/x-python",
   "name": "python",
   "nbconvert_exporter": "python",
   "pygments_lexer": "ipython3",
   "version": "3.9.5"
  },
  "toc": {
   "base_numbering": 1,
   "nav_menu": {},
   "number_sections": true,
   "sideBar": true,
   "skip_h1_title": true,
   "title_cell": "Table of Contents",
   "title_sidebar": "Contents",
   "toc_cell": false,
   "toc_position": {},
   "toc_section_display": true,
   "toc_window_display": false
  }
 },
 "nbformat": 4,
 "nbformat_minor": 2
}
