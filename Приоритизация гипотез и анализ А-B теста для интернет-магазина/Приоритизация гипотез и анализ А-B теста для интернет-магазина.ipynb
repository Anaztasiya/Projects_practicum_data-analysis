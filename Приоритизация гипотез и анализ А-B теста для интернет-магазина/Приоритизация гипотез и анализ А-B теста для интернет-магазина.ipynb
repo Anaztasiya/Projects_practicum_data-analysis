{
 "cells": [
  {
   "cell_type": "markdown",
   "metadata": {},
   "source": [
    "# Приоритизация гипотез и анализ А/B теста для интернет-магазина"
   ]
  },
  {
   "cell_type": "markdown",
   "metadata": {},
   "source": [
    "Вместе с отделом маркетинга крупного интернет-магазина был подготовлен список гипотез для увеличения выручки. Необходимо провести приоритизацию гипотез и проанализировать результаты А/В теста.\n",
    "\n",
    "# Описание данных \n",
    "\n",
    "<b>Данные для приоритизации гипотез</b>: \n",
    "\n",
    "Файл <code>/datasets/hypothesis.csv</code> \n",
    "\n",
    "- <code>Hypothesis</code> — краткое описание гипотезы; \n",
    "\n",
    "- <code>Reach</code> — охват пользователей по 10-балльной шкале; \n",
    "\n",
    "- <code>Impact</code> — влияние на пользователей по 10-балльной шкале; \n",
    "\n",
    "- <code>Confidence</code> — уверенность в гипотезе по 10-балльной шкале; \n",
    "\n",
    "- <code>Efforts</code> — затраты ресурсов на проверку гипотезы по 10-балльной шкале. Чем больше значение Efforts, тем дороже проверка гипотезы. \n",
    "\n",
    "<b>Данные для работы с A/B тестом</b>: \n",
    "\n",
    "Файл <code>/datasets/orders.csv</code> \n",
    "\n",
    "- <code>transactionId</code> — идентификатор заказа; \n",
    "\n",
    "- <code>visitorId</code> — идентификатор пользователя, совершившего заказ; \n",
    "\n",
    "- <code>date</code> — дата, когда был совершён заказ; \n",
    "\n",
    "- <code>revenue</code> — выручка заказа; \n",
    "\n",
    "- <code>group</code> — группа A/B-теста, в которую попал заказ. \n",
    "\n",
    "Файл <code>/datasets/visitors.csv</code>\n",
    "\n",
    "- <code>date</code> — дата; \n",
    "\n",
    "- <code>group</code> — группа A/B-теста; \n",
    "\n",
    "- <code>visitors</code> — количество пользователей в указанную дату в указанной группе A/B-теста"
   ]
  },
  {
   "cell_type": "markdown",
   "metadata": {},
   "source": [
    "## Обзор данных и подготовка их к анализу"
   ]
  },
  {
   "cell_type": "code",
   "execution_count": 1,
   "metadata": {},
   "outputs": [],
   "source": [
    "#импортируем библиотеки\n",
    "\n",
    "import pandas as pd\n",
    "import datetime as dt\n",
    "import numpy as np\n",
    "import matplotlib.pyplot as plt\n",
    "import scipy.stats as stats\n",
    "import os"
   ]
  },
  {
   "cell_type": "markdown",
   "metadata": {},
   "source": [
    "<b>Загрузим датасеты по очереди и сразу проверим данные на наличие дубликатов и пропусков</b>"
   ]
  },
  {
   "cell_type": "markdown",
   "metadata": {},
   "source": [
    "<b>Датасет с гипотезами</b>"
   ]
  },
  {
   "cell_type": "code",
   "execution_count": 2,
   "metadata": {},
   "outputs": [
    {
     "name": "stdout",
     "output_type": "stream",
     "text": [
      "                                          Hypothesis  Reach  Impact  \\\n",
      "0  Добавить два новых канала привлечения трафика,...      3      10   \n",
      "1  Запустить собственную службу доставки, что сок...      2       5   \n",
      "2  Добавить блоки рекомендаций товаров на сайт ин...      8       3   \n",
      "3  Изменить структура категорий, что увеличит кон...      8       3   \n",
      "4  Изменить цвет фона главной страницы, чтобы уве...      3       1   \n",
      "\n",
      "   Confidence  Efforts  \n",
      "0           8        6  \n",
      "1           4       10  \n",
      "2           7        3  \n",
      "3           3        8  \n",
      "4           1        1  \n",
      "<class 'pandas.core.frame.DataFrame'>\n",
      "RangeIndex: 9 entries, 0 to 8\n",
      "Data columns (total 5 columns):\n",
      " #   Column      Non-Null Count  Dtype \n",
      "---  ------      --------------  ----- \n",
      " 0   Hypothesis  9 non-null      object\n",
      " 1   Reach       9 non-null      int64 \n",
      " 2   Impact      9 non-null      int64 \n",
      " 3   Confidence  9 non-null      int64 \n",
      " 4   Efforts     9 non-null      int64 \n",
      "dtypes: int64(4), object(1)\n",
      "memory usage: 488.0+ bytes\n",
      "None\n"
     ]
    }
   ],
   "source": [
    "# Загрузка данных\n",
    "pth1 = 'hypothesis.csv'\n",
    "pth2 = '/datasets/hypothesis.csv'\n",
    "\n",
    "if os.path.exists(pth1):\n",
    "        hypothesis = pd.read_csv(pth1)\n",
    "elif os.path.exists(pth2):\n",
    "        hypothesis = pd.read_csv(pth2)\n",
    "else:\n",
    "        print('Something is wrong')\n",
    "\n",
    "# Вывод первых строк DataFrame\n",
    "print(hypothesis.head())\n",
    "\n",
    "# Вывод информации о DataFrame\n",
    "print(hypothesis.info())\n"
   ]
  },
  {
   "cell_type": "code",
   "execution_count": 3,
   "metadata": {},
   "outputs": [
    {
     "name": "stdout",
     "output_type": "stream",
     "text": [
      "Число дубликатов: 0\n",
      "Количество пропусков Hypothesis    0\n",
      "Reach         0\n",
      "Impact        0\n",
      "Confidence    0\n",
      "Efforts       0\n",
      "dtype: int64\n"
     ]
    }
   ],
   "source": [
    "# Вывод количества дубликатов\n",
    "print('Число дубликатов:', hypothesis.duplicated().sum())\n",
    "\n",
    "# Вывод количества пропусков\n",
    "print('Количество пропусков', hypothesis.isna().sum())"
   ]
  },
  {
   "cell_type": "markdown",
   "metadata": {},
   "source": [
    "<b>Датасет с заказами</b>"
   ]
  },
  {
   "cell_type": "code",
   "execution_count": 4,
   "metadata": {},
   "outputs": [
    {
     "name": "stdout",
     "output_type": "stream",
     "text": [
      "   transactionId   visitorId        date  revenue group\n",
      "0     3667963787  3312258926  2019-08-15     1650     B\n",
      "1     2804400009  3642806036  2019-08-15      730     B\n",
      "2     2961555356  4069496402  2019-08-15      400     A\n",
      "3     3797467345  1196621759  2019-08-15     9759     B\n",
      "4     2282983706  2322279887  2019-08-15     2308     B\n",
      "<class 'pandas.core.frame.DataFrame'>\n",
      "RangeIndex: 1197 entries, 0 to 1196\n",
      "Data columns (total 5 columns):\n",
      " #   Column         Non-Null Count  Dtype \n",
      "---  ------         --------------  ----- \n",
      " 0   transactionId  1197 non-null   int64 \n",
      " 1   visitorId      1197 non-null   int64 \n",
      " 2   date           1197 non-null   object\n",
      " 3   revenue        1197 non-null   int64 \n",
      " 4   group          1197 non-null   object\n",
      "dtypes: int64(3), object(2)\n",
      "memory usage: 46.9+ KB\n",
      "None\n"
     ]
    }
   ],
   "source": [
    "# Загрузка данных\n",
    "pth1 = 'orders.csv'\n",
    "pth2 = '/datasets/orders.csv'\n",
    "\n",
    "if os.path.exists(pth1):\n",
    "        orders_dt = pd.read_csv(pth1)\n",
    "elif os.path.exists(pth2):\n",
    "        orders_dt = pd.read_csv(pth2)\n",
    "else:\n",
    "        print('Something is wrong')\n",
    "        \n",
    "# Вывод первых строк DataFrame\n",
    "print(orders_dt.head())\n",
    "\n",
    "# Вывод информации о DataFrame\n",
    "print(orders_dt.info())"
   ]
  },
  {
   "cell_type": "code",
   "execution_count": 5,
   "metadata": {},
   "outputs": [
    {
     "name": "stdout",
     "output_type": "stream",
     "text": [
      "Число дубликатов: 0\n",
      "Количество пропусков transactionId    0\n",
      "visitorId        0\n",
      "date             0\n",
      "revenue          0\n",
      "group            0\n",
      "dtype: int64\n"
     ]
    }
   ],
   "source": [
    "# Вывод количества дубликатов\n",
    "print('Число дубликатов:', orders_dt.duplicated().sum())\n",
    "\n",
    "# Вывод количества пропусков\n",
    "print('Количество пропусков', orders_dt.isna().sum())"
   ]
  },
  {
   "cell_type": "markdown",
   "metadata": {},
   "source": [
    "<b>Датасет с посетителями интернет-магазина</b>"
   ]
  },
  {
   "cell_type": "code",
   "execution_count": 6,
   "metadata": {},
   "outputs": [
    {
     "name": "stdout",
     "output_type": "stream",
     "text": [
      "         date group  visitors\n",
      "0  2019-08-01     A       719\n",
      "1  2019-08-02     A       619\n",
      "2  2019-08-03     A       507\n",
      "3  2019-08-04     A       717\n",
      "4  2019-08-05     A       756\n",
      "<class 'pandas.core.frame.DataFrame'>\n",
      "RangeIndex: 62 entries, 0 to 61\n",
      "Data columns (total 3 columns):\n",
      " #   Column    Non-Null Count  Dtype \n",
      "---  ------    --------------  ----- \n",
      " 0   date      62 non-null     object\n",
      " 1   group     62 non-null     object\n",
      " 2   visitors  62 non-null     int64 \n",
      "dtypes: int64(1), object(2)\n",
      "memory usage: 1.6+ KB\n",
      "None\n"
     ]
    }
   ],
   "source": [
    "# Загрузка данных\n",
    "pth1 = 'visitors.csv'\n",
    "pth2 = '/datasets/visitors.csv'\n",
    "\n",
    "if os.path.exists(pth1):\n",
    "        visitors = pd.read_csv(pth1)\n",
    "elif os.path.exists(pth2):\n",
    "        visitors = pd.read_csv(pth2)\n",
    "else:\n",
    "        print('Something is wrong')\n",
    "        \n",
    "# Вывод первых строк DataFrame\n",
    "print(visitors.head())\n",
    "\n",
    "# Вывод информации о DataFrame\n",
    "print(visitors.info())"
   ]
  },
  {
   "cell_type": "code",
   "execution_count": 7,
   "metadata": {},
   "outputs": [
    {
     "name": "stdout",
     "output_type": "stream",
     "text": [
      "Число дубликатов: 0\n",
      "Количество пропусков date        0\n",
      "group       0\n",
      "visitors    0\n",
      "dtype: int64\n"
     ]
    }
   ],
   "source": [
    "# Вывод количества дубликатов\n",
    "print('Число дубликатов:', visitors.duplicated().sum())\n",
    "\n",
    "# Вывод количества пропусков\n",
    "print('Количество пропусков', visitors.isna().sum())"
   ]
  },
  {
   "cell_type": "markdown",
   "metadata": {},
   "source": [
    "Определим, за какой период предоставлены данные по заказам и наблюдениям."
   ]
  },
  {
   "cell_type": "code",
   "execution_count": 8,
   "metadata": {},
   "outputs": [
    {
     "name": "stdout",
     "output_type": "stream",
     "text": [
      "2019-08-01\n",
      "2019-08-31\n"
     ]
    }
   ],
   "source": [
    "# Даты с посетителями \n",
    "print(visitors['date'].min())\n",
    "print(visitors['date'].max())"
   ]
  },
  {
   "cell_type": "code",
   "execution_count": 9,
   "metadata": {},
   "outputs": [
    {
     "name": "stdout",
     "output_type": "stream",
     "text": [
      "2019-08-01\n",
      "2019-08-31\n"
     ]
    }
   ],
   "source": [
    "# Даты с заказами \n",
    "print(orders_dt['date'].min())\n",
    "print(orders_dt['date'].max())"
   ]
  },
  {
   "cell_type": "markdown",
   "metadata": {},
   "source": [
    "### Предобработка данных"
   ]
  },
  {
   "cell_type": "code",
   "execution_count": 10,
   "metadata": {},
   "outputs": [],
   "source": [
    "# Приведем имена столбцов к нижнему регистру\n",
    "hypothesis.columns = hypothesis.columns.str.lower() \n",
    "orders_dt.columns = orders_dt.columns.str.lower() \n",
    "\n",
    "# Так же добавим нижнее подчеркивание в нужных местах \n",
    "orders_dt = orders_dt.rename(columns={'transactionid':'transaction_id', 'visitorid':'visitor_id'})"
   ]
  },
  {
   "cell_type": "code",
   "execution_count": 11,
   "metadata": {},
   "outputs": [],
   "source": [
    "# Приведем тип данных для столбцов date к временному\n",
    "orders_dt['date'] = pd.to_datetime(orders_dt['date'])\n",
    "visitors['date'] = pd.to_datetime(visitors['date'])"
   ]
  },
  {
   "cell_type": "code",
   "execution_count": 12,
   "metadata": {},
   "outputs": [
    {
     "name": "stdout",
     "output_type": "stream",
     "text": [
      "<class 'pandas.core.frame.DataFrame'>\n",
      "RangeIndex: 9 entries, 0 to 8\n",
      "Data columns (total 5 columns):\n",
      " #   Column      Non-Null Count  Dtype \n",
      "---  ------      --------------  ----- \n",
      " 0   hypothesis  9 non-null      object\n",
      " 1   reach       9 non-null      int64 \n",
      " 2   impact      9 non-null      int64 \n",
      " 3   confidence  9 non-null      int64 \n",
      " 4   efforts     9 non-null      int64 \n",
      "dtypes: int64(4), object(1)\n",
      "memory usage: 488.0+ bytes\n",
      "None\n",
      "<class 'pandas.core.frame.DataFrame'>\n",
      "RangeIndex: 1197 entries, 0 to 1196\n",
      "Data columns (total 5 columns):\n",
      " #   Column          Non-Null Count  Dtype         \n",
      "---  ------          --------------  -----         \n",
      " 0   transaction_id  1197 non-null   int64         \n",
      " 1   visitor_id      1197 non-null   int64         \n",
      " 2   date            1197 non-null   datetime64[ns]\n",
      " 3   revenue         1197 non-null   int64         \n",
      " 4   group           1197 non-null   object        \n",
      "dtypes: datetime64[ns](1), int64(3), object(1)\n",
      "memory usage: 46.9+ KB\n",
      "None\n",
      "<class 'pandas.core.frame.DataFrame'>\n",
      "RangeIndex: 62 entries, 0 to 61\n",
      "Data columns (total 3 columns):\n",
      " #   Column    Non-Null Count  Dtype         \n",
      "---  ------    --------------  -----         \n",
      " 0   date      62 non-null     datetime64[ns]\n",
      " 1   group     62 non-null     object        \n",
      " 2   visitors  62 non-null     int64         \n",
      "dtypes: datetime64[ns](1), int64(1), object(1)\n",
      "memory usage: 1.6+ KB\n",
      "None\n"
     ]
    }
   ],
   "source": [
    "# Проверим исправления\n",
    "print(hypothesis.info())\n",
    "print(orders_dt.info())\n",
    "print(visitors.info())"
   ]
  },
  {
   "cell_type": "code",
   "execution_count": 13,
   "metadata": {},
   "outputs": [
    {
     "name": "stdout",
     "output_type": "stream",
     "text": [
      "Процент пересекающихся пользователей: 5.63%\n"
     ]
    }
   ],
   "source": [
    "# Проверка наличия пользователей в обеих группах\n",
    "users_in_both_groups = orders_dt.groupby('visitor_id').filter(lambda x: x['group'].nunique() > 1)\n",
    "\n",
    "# Расчет процента пересекающихся пользователей\n",
    "total_users = orders_dt['visitor_id'].nunique()\n",
    "intersecting_users_count = users_in_both_groups['visitor_id'].nunique()\n",
    "percentage_intersecting_users = (intersecting_users_count / total_users) * 100\n",
    "\n",
    "print(f\"Процент пересекающихся пользователей: {percentage_intersecting_users:.2f}%\")"
   ]
  },
  {
   "cell_type": "code",
   "execution_count": 14,
   "metadata": {},
   "outputs": [
    {
     "name": "stdout",
     "output_type": "stream",
     "text": [
      "     transaction_id  visitor_id       date  revenue group\n",
      "703      4293855558     8300375 2019-08-07     1790     A\n",
      "71       3679129301     8300375 2019-08-01    10510     B\n",
      "823      2971973105   199603092 2019-08-27     2790     A\n",
      "246       437656952   199603092 2019-08-02     3488     B\n",
      "26       2223239646   199603092 2019-08-15     3488     A\n",
      "..              ...         ...        ...      ...   ...\n",
      "187      2048878902  4256040402 2019-08-17     1550     A\n",
      "114      1120327437  4256040402 2019-08-01     5800     A\n",
      "60       1421016313  4256040402 2019-08-16    56650     B\n",
      "662      1811671147  4266935830 2019-08-29    78990     A\n",
      "682      1216533772  4266935830 2019-08-29    78990     B\n",
      "\n",
      "[181 rows x 5 columns]\n"
     ]
    }
   ],
   "source": [
    "# Выведем таблицк отсортированную по visitor_id \n",
    "\n",
    "print(users_in_both_groups.sort_values(by='visitor_id'))"
   ]
  },
  {
   "cell_type": "markdown",
   "metadata": {},
   "source": [
    "Процент пересечения достаточно большой, особенно учитывая исходные данные. Смотря на отсортированную таблицу мы видим что некоторые посетители попали в разные группы сделав несколько заказов и таким образом если считать по соотношению строк мы получим процент гораздо выше(15,12%). Для чистоты теста данные строки лучше исключить."
   ]
  },
  {
   "cell_type": "code",
   "execution_count": 15,
   "metadata": {},
   "outputs": [
    {
     "name": "stdout",
     "output_type": "stream",
     "text": [
      "Оставшееся количество строк после исключения пересекающихся данных: 1016\n"
     ]
    }
   ],
   "source": [
    "orders = orders_dt[~orders_dt['visitor_id'].isin(users_in_both_groups['visitor_id'])].reset_index(drop=True)\n",
    "\n",
    "remaining_rows = orders.shape[0]\n",
    "\n",
    "print(f\"Оставшееся количество строк после исключения пересекающихся данных: {remaining_rows}\")"
   ]
  },
  {
   "cell_type": "markdown",
   "metadata": {},
   "source": [
    "<b>Промежуточные выводы:</b>\n",
    "\n",
    "В файлах, предоставленных для анализа, содержатся данные для приоритизации гипотез и результаты проведения A/B теста за период с 1 августа 2019 года по 31 августа 2019 года. В данных отсутствуют пропуски и дубликаты. Нарушения стиля в названиях столбцов были исправлены, а также устранены несоответствия типов данных в столбцах с датами, которые были изменены с типа object на datetime.\n",
    "\n",
    "Так же была проведена проверка на наличие пользователей в обеих группах. Так как процент таких записей достаточно высок было принято решение исключить их данные из теста."
   ]
  },
  {
   "cell_type": "markdown",
   "metadata": {},
   "source": [
    "## Часть первая. Приоритизация гипотез"
   ]
  },
  {
   "cell_type": "markdown",
   "metadata": {},
   "source": [
    "<b>Задачи данной части:</b>\n",
    "\n",
    "- Примените фреймворк ICE для приоритизации гипотез. Отсортируйте их по убыванию приоритета. \n",
    "\n",
    "- Примените фреймворк RICE для приоритизации гипотез. Отсортируйте их по убыванию приоритета. \n",
    "\n",
    "- Укажите, как изменилась приоритизация гипотез при применении RICE вместо ICE. Объясните, почему так произошло. "
   ]
  },
  {
   "cell_type": "code",
   "execution_count": 16,
   "metadata": {
    "scrolled": true
   },
   "outputs": [
    {
     "name": "stdout",
     "output_type": "stream",
     "text": [
      "0              Добавить два новых канала привлечения трафика, что позволит привлекать на 30% больше пользователей\n",
      "1                                       Запустить собственную службу доставки, что сократит срок доставки заказов\n",
      "2    Добавить блоки рекомендаций товаров на сайт интернет магазина, чтобы повысить конверсию и средний чек заказа\n",
      "3             Изменить структура категорий, что увеличит конверсию, т.к. пользователи быстрее найдут нужный товар\n",
      "4                                Изменить цвет фона главной страницы, чтобы увеличить вовлеченность пользователей\n",
      "5                        Добавить страницу отзывов клиентов о магазине, что позволит увеличить количество заказов\n",
      "6            Показать на главной странице баннеры с актуальными акциями и распродажами, чтобы увеличить конверсию\n",
      "7                Добавить форму подписки на все основные страницы, чтобы собрать базу клиентов для email-рассылок\n",
      "8                                                         Запустить акцию, дающую скидку на товар в день рождения\n",
      "Name: hypothesis, dtype: object\n"
     ]
    }
   ],
   "source": [
    "# Посмотрим какие гипотезы указаны в данных\n",
    "\n",
    "pd.set_option('display.max_colwidth', None)\n",
    "print(hypothesis.hypothesis)"
   ]
  },
  {
   "cell_type": "markdown",
   "metadata": {},
   "source": [
    "### Приоритизация гипотез\n",
    "\n",
    "#### Примение фреймворка ICE"
   ]
  },
  {
   "cell_type": "code",
   "execution_count": 17,
   "metadata": {},
   "outputs": [
    {
     "name": "stdout",
     "output_type": "stream",
     "text": [
      "                                                                                                     hypothesis  \\\n",
      "8                                                       Запустить акцию, дающую скидку на товар в день рождения   \n",
      "0            Добавить два новых канала привлечения трафика, что позволит привлекать на 30% больше пользователей   \n",
      "7              Добавить форму подписки на все основные страницы, чтобы собрать базу клиентов для email-рассылок   \n",
      "6          Показать на главной странице баннеры с актуальными акциями и распродажами, чтобы увеличить конверсию   \n",
      "2  Добавить блоки рекомендаций товаров на сайт интернет магазина, чтобы повысить конверсию и средний чек заказа   \n",
      "1                                     Запустить собственную службу доставки, что сократит срок доставки заказов   \n",
      "5                      Добавить страницу отзывов клиентов о магазине, что позволит увеличить количество заказов   \n",
      "3           Изменить структура категорий, что увеличит конверсию, т.к. пользователи быстрее найдут нужный товар   \n",
      "4                              Изменить цвет фона главной страницы, чтобы увеличить вовлеченность пользователей   \n",
      "\n",
      "   reach  impact  confidence  efforts        ice  \n",
      "8      1       9           9        5  16.200000  \n",
      "0      3      10           8        6  13.333333  \n",
      "7     10       7           8        5  11.200000  \n",
      "6      5       3           8        3   8.000000  \n",
      "2      8       3           7        3   7.000000  \n",
      "1      2       5           4       10   2.000000  \n",
      "5      3       2           2        3   1.333333  \n",
      "3      8       3           3        8   1.125000  \n",
      "4      3       1           1        1   1.000000  \n"
     ]
    }
   ],
   "source": [
    "# Рассчитаем показатель ICE и отсортируем по убыванию\n",
    "\n",
    "hypothesis['ice'] = (hypothesis['impact'] * hypothesis['confidence'])/hypothesis['efforts']\n",
    "hypothesis_ice = hypothesis.sort_values(by = 'ice', ascending=False)\n",
    "\n",
    "print(hypothesis_ice)"
   ]
  },
  {
   "cell_type": "markdown",
   "metadata": {},
   "source": [
    "<b>Промежуточный вывод:</b>\n",
    "\n",
    "Гипотеза <code>\"Запустить акцию, дающую скидку на товар в день рождения\"</code> имеет наибольшее значение ICE. Компоненты ***impact*** и ***confidence*** показывают почти максимальные значения, что неудивительно, так как они показывают, насколько изменение улучшит удовлетворение пользователей и насколько мы уверены в этом. Людям нравится получать подарки, поэтому эта гипотеза выделяется. Компонент ***efforts***, отвечающий за стоимость проведения, имеет средний показатель. Например, организация рекламной рассылки или размещение привлекательного баннера на сайте, информирующего об акции, не потребует значительных затрат."
   ]
  },
  {
   "cell_type": "markdown",
   "metadata": {},
   "source": [
    "#### Примение фреймворка RICE"
   ]
  },
  {
   "cell_type": "code",
   "execution_count": 18,
   "metadata": {},
   "outputs": [
    {
     "name": "stdout",
     "output_type": "stream",
     "text": [
      "                                                                                                     hypothesis  \\\n",
      "7              Добавить форму подписки на все основные страницы, чтобы собрать базу клиентов для email-рассылок   \n",
      "2  Добавить блоки рекомендаций товаров на сайт интернет магазина, чтобы повысить конверсию и средний чек заказа   \n",
      "0            Добавить два новых канала привлечения трафика, что позволит привлекать на 30% больше пользователей   \n",
      "6          Показать на главной странице баннеры с актуальными акциями и распродажами, чтобы увеличить конверсию   \n",
      "8                                                       Запустить акцию, дающую скидку на товар в день рождения   \n",
      "3           Изменить структура категорий, что увеличит конверсию, т.к. пользователи быстрее найдут нужный товар   \n",
      "1                                     Запустить собственную службу доставки, что сократит срок доставки заказов   \n",
      "5                      Добавить страницу отзывов клиентов о магазине, что позволит увеличить количество заказов   \n",
      "4                              Изменить цвет фона главной страницы, чтобы увеличить вовлеченность пользователей   \n",
      "\n",
      "   reach  impact  confidence  efforts        ice   rice  \n",
      "7     10       7           8        5  11.200000  112.0  \n",
      "2      8       3           7        3   7.000000   56.0  \n",
      "0      3      10           8        6  13.333333   40.0  \n",
      "6      5       3           8        3   8.000000   40.0  \n",
      "8      1       9           9        5  16.200000   16.2  \n",
      "3      8       3           3        8   1.125000    9.0  \n",
      "1      2       5           4       10   2.000000    4.0  \n",
      "5      3       2           2        3   1.333333    4.0  \n",
      "4      3       1           1        1   1.000000    3.0  \n"
     ]
    }
   ],
   "source": [
    "# Рассчитаем показатель RICE и отсортируем по убыванию\n",
    "\n",
    "hypothesis['rice'] = hypothesis['reach'] * hypothesis['ice']\n",
    "hypothesis_rice = hypothesis.sort_values(by = 'rice', ascending=False)\n",
    "\n",
    "print(hypothesis_rice)"
   ]
  },
  {
   "cell_type": "markdown",
   "metadata": {},
   "source": [
    "<b>Промежуточный вывод:</b>\n",
    "\n",
    "При расчете RICE гипотеза <code>\"Добавить форму подписки на все основные страницы для сбора базы клиентов для email-рассылок\"</code> значительно опережает остальные по очкам."
   ]
  },
  {
   "cell_type": "markdown",
   "metadata": {},
   "source": [
    "### Выводы по гипотезам:\n",
    "\n",
    "По фреймворку ICE наиболее приоритетными оказались следующие гипотезы:\n",
    "\n",
    "- Запустить акцию со скидкой на товар в день рождения.\n",
    "- Добавить два новых канала привлечения трафика, что позволит увеличить количество пользователей на 30%.\n",
    "- Добавить форму подписки на все основные страницы для сбора базы клиентов для email-рассылок.\n",
    "\n",
    "По фреймворку RICE приоритетные гипотезы расположились следующим образом:\n",
    "\n",
    "- Добавить форму подписки на все основные страницы для сбора базы клиентов для email-рассылок.\n",
    "- Добавить блоки рекомендаций товаров на сайт интернет-магазина, чтобы повысить конверсию и средний чек заказа.\n",
    "- Добавить два новых канала привлечения трафика, что позволит увеличить количество пользователей на 30%.\n",
    "\n",
    "Это связано с тем, что фреймворк RICE учитывает параметр Reach (количество пользователей, которых затронет изменение), и в лидеры вышли гипотезы с наибольшим охватом пользователей."
   ]
  },
  {
   "cell_type": "markdown",
   "metadata": {},
   "source": [
    "## Часть вторая. Анализ A/B-теста\n"
   ]
  },
  {
   "cell_type": "markdown",
   "metadata": {},
   "source": [
    "<b>Задачи данной части:</b>\n",
    "\n",
    "- Постройте график кумулятивной выручки по группам. Сделайте выводы и предположения. \n",
    "\n",
    "- Постройте график кумулятивного среднего чека по группам. Сделайте выводы и предположения. \n",
    "\n",
    "- Постройте график относительного изменения кумулятивного среднего чека группы B к группе A. Сделайте выводы и предположения. \n",
    "\n",
    "- Постройте график кумулятивного среднего количества заказов на посетителя по группам. Сделайте выводы и предположения. \n",
    "\n",
    "- Постройте график относительного изменения кумулятивного среднего количества заказов на посетителя группы B к группе A. Сделайте выводы и предположения. \n",
    "\n",
    "- Постройте точечный график количества заказов по пользователям. Сделайте выводы и предположения. \n",
    "\n",
    "- Посчитайте 95-й и 99-й перцентили количества заказов на пользователя. Выберите границу для определения аномальных пользователей. \n",
    "\n",
    "- Постройте точечный график стоимостей заказов. Сделайте выводы и предположения. \n",
    "\n",
    "- Посчитайте 95-й и 99-й перцентили стоимости заказов. Выберите границу для определения аномальных заказов. \n",
    "\n",
    "- Посчитайте статистическую значимость различий в среднем количестве заказов на посетителя между группами по «сырым» данным. Сделайте выводы и предположения. \n",
    "\n",
    "- Посчитайте статистическую значимость различий в среднем чеке заказа между группами по «сырым» данным. Сделайте выводы и предположения. \n",
    "\n",
    "- Посчитайте статистическую значимость различий в среднем количестве заказов на посетителя между группами по «очищенным» данным. Сделайте выводы и предположения. \n",
    "\n",
    "- Посчитайте статистическую значимость различий в среднем чеке заказа между группами по «очищенным» данным. Сделайте выводы и предположения. \n",
    "\n",
    "- Примите решение по результатам теста и объясните его. Варианты решений: \n",
    "  - Остановить тест, зафиксировать победу одной из групп. \n",
    "  - Остановить тест, зафиксировать отсутствие различий между группами.\n",
    "  - Продолжить тест. "
   ]
  },
  {
   "cell_type": "markdown",
   "metadata": {},
   "source": [
    "<b>Подготовим данные к анализу</b>\n",
    "\n",
    "Создадим таблицу, в которой будут собраны данные о количестве заказов, количестве покупателей, выручке и количестве посетителей, разбитые по дням и группам."
   ]
  },
  {
   "cell_type": "code",
   "execution_count": 19,
   "metadata": {
    "scrolled": true
   },
   "outputs": [
    {
     "name": "stdout",
     "output_type": "stream",
     "text": [
      "        date group  orders  buyers  revenue  visitors          aov  conversion\n",
      "0 2019-08-01     A      23      19   142779       719  6207.782609    0.031989\n",
      "1 2019-08-01     B      17      17    59758       713  3515.176471    0.023843\n",
      "2 2019-08-02     A      42      36   234381      1338  5580.500000    0.031390\n",
      "3 2019-08-02     B      40      39   221801      1294  5545.025000    0.030912\n",
      "4 2019-08-03     A      66      60   346854      1845  5255.363636    0.035772\n"
     ]
    }
   ],
   "source": [
    "# Создаем массив уникальных пар значений дат и групп теста\n",
    "dates_gr = orders[['date', 'group']].drop_duplicates().reset_index(drop=True)\n",
    "\n",
    "# Получаем агрегированные кумулятивные по дням данные о заказах \n",
    "orders_agg = (dates_gr\n",
    "                    .apply(lambda x: orders[np.logical_and(orders['date'] <= x['date'],\n",
    "                                                           orders['group'] == x['group'])]\n",
    "                           .agg({'date' : 'max', 'group' : 'max', 'transaction_id' : 'nunique',\n",
    "                                 'visitor_id' : 'nunique', 'revenue' : 'sum'}), axis=1)\n",
    "                    .sort_values(by=['date','group'])\n",
    "                    .reset_index(drop=True))\n",
    "                    \n",
    "# Получаем агрегированные кумулятивные по дням данные о посетителях интернет-магазина \n",
    "visitors_agg = (dates_gr\n",
    "                      .apply(lambda x: visitors[np.logical_and(visitors['date'] <= x['date'],\n",
    "                                                               visitors['group'] == x['group'])]\n",
    "                             .agg({'date' : 'max', 'group' : 'max', 'visitors' : 'sum'}), axis=1)\n",
    "                      .sort_values(by=['date','group'])\n",
    "                      .reset_index(drop=True))\n",
    "\n",
    "# Объединяем данные в одной таблице и присваиваем ее столбцам понятные названия\n",
    "cum_d = orders_agg.merge(visitors_agg, on=['date', 'group'])\n",
    "cum_d.columns = ['date', 'group', 'orders', 'buyers', 'revenue', 'visitors']\n",
    "cum_d['aov'] = cum_d[\"revenue\"] / cum_d[\"orders\"]\n",
    "cum_d['conversion'] = cum_d[\"orders\"] / cum_d[\"visitors\"]\n",
    "\n",
    "cum_d_A = cum_d[cum_d['group'] == 'A'].reset_index(drop=True)\n",
    "cum_d_B = cum_d[cum_d['group'] == 'B'].reset_index(drop=True)\n",
    "\n",
    "# Проверяем полученный результат\n",
    "print(cum_d.head())"
   ]
  },
  {
   "cell_type": "markdown",
   "metadata": {},
   "source": [
    "### Построение графика кумулятивной выручки по группам"
   ]
  },
  {
   "cell_type": "code",
   "execution_count": 20,
   "metadata": {},
   "outputs": [
    {
     "data": {
      "image/png": "[encoded data removed]",
      "text/plain": [
       "<Figure size 1080x504 with 1 Axes>"
      ]
     },
     "metadata": {
      "needs_background": "light"
     },
     "output_type": "display_data"
    }
   ],
   "source": [
    "plt.figure(figsize=(15, 7))\n",
    "\n",
    "for group, data in cum_d.groupby('group'):\n",
    "    plt.plot(data['date'], data['revenue'], label=group)\n",
    "\n",
    "plt.title('Кумулятивная выручка')\n",
    "plt.xlabel('Дата')\n",
    "plt.ylabel('Выручка')\n",
    "plt.legend(title='Группа')\n",
    "\n",
    "plt.show()"
   ]
  },
  {
   "cell_type": "markdown",
   "metadata": {},
   "source": [
    "<b>Вывод:</b>\n",
    "\n",
    "Выручка в обеих группах увеличивается, что является положительным признаком. В группе **\"B\"** выручка выше практически на протяжении всего месяца. Однако в этой группе наблюдается резкий скачок с 18 на 19 число, что может указывать на всплеск числа заказов или на появление очень дорогих заказов в выборке."
   ]
  },
  {
   "cell_type": "markdown",
   "metadata": {},
   "source": [
    "### Построение графика кумулятивной среднего чека по группам"
   ]
  },
  {
   "cell_type": "code",
   "execution_count": 21,
   "metadata": {},
   "outputs": [
    {
     "data": {
      "image/png": "[encoded data removed]",
      "text/plain": [
       "<Figure size 1080x504 with 1 Axes>"
      ]
     },
     "metadata": {
      "needs_background": "light"
     },
     "output_type": "display_data"
    }
   ],
   "source": [
    "plt.figure(figsize=(15, 7))\n",
    "\n",
    "plt.plot(cum_d_A['date'], cum_d_A['revenue']/cum_d_A['orders'], label='A')\n",
    "plt.plot(cum_d_B['date'], cum_d_B['revenue']/cum_d_B['orders'], label='B')\n",
    "\n",
    "plt.legend(['Группа А', 'Группа B']) \n",
    "plt.xlabel('Дата')\n",
    "plt.ylabel('Средний чек') \n",
    "plt.title('Кумулятивный средний чек по дням и группам A/B-тестирования')\n",
    "plt.show()  "
   ]
  },
  {
   "cell_type": "markdown",
   "metadata": {},
   "source": [
    "<b>Вывод:</b>\n",
    "\n",
    "На графике можем наблюдать следующее:\n",
    "\n",
    "- С начала месяца до 12 числа средний чек группы <i>**\"В\"**</i> превышает средний чек группы <i>**\"А\"**</i>.\n",
    "- С 12 по 15 число средний чек группы <i>**\"А\"**</i> выше, чем у группы <i>**\"В\"**</i>.\n",
    "- С 15 числа средний чек группы <i>**\"В\"**</i> постоянно выше, а 18 числа произошел резкий выброс (покупка с значительно большим чеком, чем в среднем).\n",
    "- После 19 числа средний чек группы <i>**\"В\"**</i> плавно снижается, тогда как средний чек группы <i>**\"А\"**</i> плавно растет."
   ]
  },
  {
   "cell_type": "markdown",
   "metadata": {},
   "source": [
    "### Построение графика относительного изменения кумулятивного среднего чека группы B к группе A"
   ]
  },
  {
   "cell_type": "code",
   "execution_count": 22,
   "metadata": {},
   "outputs": [
    {
     "data": {
      "image/png": "[encoded data removed]",
      "text/plain": [
       "<Figure size 1080x504 with 1 Axes>"
      ]
     },
     "metadata": {
      "needs_background": "light"
     },
     "output_type": "display_data"
    }
   ],
   "source": [
    "plt.figure(figsize=(15,7))   \n",
    "\n",
    "relative_change_aov = (cum_d_B['aov'] / cum_d_A['aov']) - 1\n",
    "\n",
    "plt.plot(cum_d_A['date'], relative_change_aov, label='Относительное изменение AOV')\n",
    "\n",
    "plt.title('Относительное изменение кумулятивного AOV группы B по сравнению с группой A')\n",
    "plt.xlabel('Дата')\n",
    "plt.ylabel('Относительное изменение AOV')\n",
    "plt.axhline(0, ls='--', color='salmon')\n",
    "plt.legend()\n",
    "\n",
    "plt.show()"
   ]
  },
  {
   "cell_type": "markdown",
   "metadata": {},
   "source": [
    "<b>Вывод:</b>\n",
    "\n",
    "График относительного изменения демонстрирует нестабильное поведение на протяжении всего периода: наблюдаются зоны роста (с 1 по 8 число, с 12 по 18 число, а также резкий скачок 18-19 числа) и зоны спада (с 9 по 13 число, а также с 20 числа до конца периода)."
   ]
  },
  {
   "cell_type": "markdown",
   "metadata": {},
   "source": [
    "### Построение графика кумулятивного среднего количества заказов на посетителя по группам"
   ]
  },
  {
   "cell_type": "code",
   "execution_count": 23,
   "metadata": {},
   "outputs": [
    {
     "data": {
      "image/png": "[encoded data removed]",
      "text/plain": [
       "<Figure size 1080x504 with 1 Axes>"
      ]
     },
     "metadata": {
      "needs_background": "light"
     },
     "output_type": "display_data"
    }
   ],
   "source": [
    "plt.figure(figsize=(15,7))   \n",
    "\n",
    "for group, data in cum_d.groupby('group'):\n",
    "    plt.plot(data['date'], data['conversion'], label=group)\n",
    "\n",
    "plt.title('Среднее количество заказов')\n",
    "plt.xlabel('Дата')\n",
    "plt.ylabel('Конверсия')\n",
    "\n",
    "plt.ylim(0.025, 0.04)\n",
    "plt.legend(title='Группа')\n",
    "\n",
    "plt.show()"
   ]
  },
  {
   "cell_type": "markdown",
   "metadata": {},
   "source": [
    "<b>Вывод:</b>\n",
    "\n",
    "График кумулятивной конверсии группы <i>**\"В\"**</i> на большей части периода значительно выше, чем у группы <i>**\"А\"**</i>. График группы <i>**\"В\"**</i> показывает постепенное снижение, тогда как график группы <i>**\"А\"**</i> демонстрирует небольшое увеличение."
   ]
  },
  {
   "cell_type": "markdown",
   "metadata": {},
   "source": [
    "### Построение графикаотносительного изменения кумулятивного среднего количества заказов на посетителя группы B к группе A"
   ]
  },
  {
   "cell_type": "code",
   "execution_count": 24,
   "metadata": {},
   "outputs": [
    {
     "data": {
      "image/png": "[encoded data removed]",
      "text/plain": [
       "<Figure size 1080x504 with 1 Axes>"
      ]
     },
     "metadata": {
      "needs_background": "light"
     },
     "output_type": "display_data"
    }
   ],
   "source": [
    "plt.figure(figsize=(15,7))   \n",
    "\n",
    "relative_change_conversion = (cum_d_B['conversion'] / cum_d_A['conversion']) - 1\n",
    "\n",
    "plt.plot(cum_d_A['date'], relative_change_conversion, label='Относительное изменение конверсии')\n",
    "\n",
    "plt.title('Относительное изменение среднего количество заказов группы B по сравнению с группой A')\n",
    "plt.xlabel('Дата')\n",
    "plt.ylabel('Относительное изменение')\n",
    "\n",
    "plt.axhline(0, ls='--', color='salmon', label='Базовая линия')\n",
    "plt.axhline(0.1, ls='--', color='#8da0cb', label='10% изменение')\n",
    "plt.legend()\n",
    "\n",
    "plt.show()"
   ]
  },
  {
   "cell_type": "markdown",
   "metadata": {},
   "source": [
    "<b>Вывод:</b>\n",
    "\n",
    "Несмотря на то что график изменения конверсии группы <i>**\"В\"**</i> на большей части рассматриваемого периода показывает лучшие результаты. Отношение конверсии еще не стабилизировалось, и пока рано делать какие-либо выводы по тесту. Сначала необходимо проанализировать аномалии, так как они могут изменить общую картину."
   ]
  },
  {
   "cell_type": "markdown",
   "metadata": {},
   "source": [
    "### Построение точечного графика количества заказов по пользователям"
   ]
  },
  {
   "cell_type": "code",
   "execution_count": 25,
   "metadata": {},
   "outputs": [
    {
     "data": {
      "image/png": "[encoded data removed]",
      "text/plain": [
       "<Figure size 1080x504 with 1 Axes>"
      ]
     },
     "metadata": {
      "needs_background": "light"
     },
     "output_type": "display_data"
    }
   ],
   "source": [
    "plt.figure(figsize=(15,7))   \n",
    "\n",
    "orders_u = orders.groupby(['visitor_id', 'group'], as_index=False).agg({'transaction_id': 'nunique'})\n",
    "orders_u.columns = ['visitor_id', 'group', 'orders']\n",
    "\n",
    "x_values = pd.Series(range(0, len(orders_u)))\n",
    "\n",
    "for group, data in orders_u.groupby('group'):\n",
    "    plt.scatter(x_values[orders_u['group'] == group], data['orders'], label=group, alpha=0.7)\n",
    "\n",
    "plt.title('Количество заказов на пользователя')\n",
    "plt.xlabel('Номер пользователя')\n",
    "plt.ylabel('Количество заказов')\n",
    "\n",
    "plt.legend(title='Группа')\n",
    "\n",
    "plt.show()"
   ]
  },
  {
   "cell_type": "markdown",
   "metadata": {},
   "source": [
    "<b>Вывод:</b>\n",
    "\n",
    "На графике видно, что пользователи в обеих группах в основном делали по одному заказу. Гораздо реже встречаются случаи с двумя заказами и крайне редко с тремя."
   ]
  },
  {
   "cell_type": "markdown",
   "metadata": {},
   "source": [
    "#### Расчет 95-й и 99-й перцентили количества заказов на пользователя. Выбор границы для определения аномальных пользователей. "
   ]
  },
  {
   "cell_type": "code",
   "execution_count": 26,
   "metadata": {},
   "outputs": [
    {
     "name": "stdout",
     "output_type": "stream",
     "text": [
      "95-й и 99-й перцентили группы А: [1.   2.56]\n",
      "95-й и 99-й перцентили группы B: [1. 2.]\n"
     ]
    }
   ],
   "source": [
    "orders_u_A = orders_u[orders_u['group'] == 'A']\n",
    "orders_u_B = orders_u[orders_u['group'] == 'B']\n",
    "\n",
    "# Вычисление 95-го и 99-го перцентилей для группы A\n",
    "percentiles_A = np.percentile(orders_u_A['orders'], [95, 99])\n",
    "\n",
    "# Вычисление 95-го и 99-го перцентилей для группы B\n",
    "percentiles_B = np.percentile(orders_u_B['orders'], [95, 99])\n",
    "\n",
    "# Вывод результатов\n",
    "print('95-й и 99-й перцентили группы А:', percentiles_A)\n",
    "print('95-й и 99-й перцентили группы B:', percentiles_B)"
   ]
  },
  {
   "cell_type": "markdown",
   "metadata": {},
   "source": [
    "<b>Вывод:</b>\n",
    "\n",
    "В группе <i>**\"A\"**</i> не более 1% клиентов оформили более двух заказов. В группе <i>**\"В\"**</i> ситуация аналогична: не более 1% клиентов оформили более двух заказов."
   ]
  },
  {
   "cell_type": "markdown",
   "metadata": {},
   "source": [
    "### Построение точечного графика стоимостей заказов"
   ]
  },
  {
   "cell_type": "code",
   "execution_count": 27,
   "metadata": {},
   "outputs": [
    {
     "data": {
      "image/png": "[encoded data removed]",
      "text/plain": [
       "<Figure size 1080x504 with 1 Axes>"
      ]
     },
     "metadata": {
      "needs_background": "light"
     },
     "output_type": "display_data"
    }
   ],
   "source": [
    "# Построим общий график\n",
    "\n",
    "plt.figure(figsize=(15,7))   \n",
    "\n",
    "x_values = pd.Series(range(0, len(orders['revenue'])))\n",
    "\n",
    "for group, data in orders.groupby('group'):\n",
    "    plt.scatter(x_values[orders['group'] == group], data['revenue'], label=group, alpha=0.7)\n",
    "\n",
    "plt.title('Стоимость заказа')\n",
    "plt.xlabel('Номер заказа')\n",
    "plt.ylabel('Стоимость')\n",
    "plt.legend(title='Группа')\n",
    "\n",
    "plt.show()"
   ]
  },
  {
   "cell_type": "markdown",
   "metadata": {},
   "source": [
    "Видно что у группы <i>**\"В\"**</i> есть заказ с очень высокой стоимостью. Из-за этого на данном графике теряется группа <i>**\"A\"**</i>, построим для нее отдельный график."
   ]
  },
  {
   "cell_type": "code",
   "execution_count": 28,
   "metadata": {},
   "outputs": [
    {
     "data": {
      "image/png": "[encoded data removed]",
      "text/plain": [
       "<Figure size 1080x504 with 1 Axes>"
      ]
     },
     "metadata": {
      "needs_background": "light"
     },
     "output_type": "display_data"
    }
   ],
   "source": [
    "plt.figure(figsize=(15, 7))\n",
    "\n",
    "revenue_orders_A = orders.query('group == \"A\"')['revenue']\n",
    "revenue_orders_B = orders.query('group == \"B\"')['revenue']\n",
    "\n",
    "plt.subplot(1, 2, 1)\n",
    "x_values = pd.Series(range(0,len(revenue_orders_A)))\n",
    "plt.scatter(x_values, revenue_orders_A ) \n",
    "plt.title(\"Стоимость заказов группы А \")\n",
    "plt.xlabel(\"Номер заказа\")\n",
    "plt.ylabel(\"Стоимость заказа\")\n",
    "plt.ylim(0,130000)\n",
    "\n",
    "plt.show()"
   ]
  },
  {
   "cell_type": "markdown",
   "metadata": {},
   "source": [
    "<b>Вывод:</b>\n",
    "\n",
    "У большинства пользователей в обеих группах сумма заказа не превышает 20 тысяч рублей. Встречаются единичные случаи с суммой в 100 тысяч рублей и более. Однако в графике группы <i>**\"В\"**</i> виден единичный заказ на сумму более 1,2 миллиона. Этот заказ является причиной резкого скачка кумулятивного среднего чека."
   ]
  },
  {
   "cell_type": "markdown",
   "metadata": {},
   "source": [
    "#### Расчет 95-й и 99-й перцентили количества заказов на пользователя. Выбор границы для определения аномальных пользователей. "
   ]
  },
  {
   "cell_type": "code",
   "execution_count": 29,
   "metadata": {},
   "outputs": [
    {
     "name": "stdout",
     "output_type": "stream",
     "text": [
      "95-й и 99-й перцентили группы А: [24944.5  56064.18]\n",
      "95-й и 99-й перцентили группы B: [27561.5 49553.6]\n"
     ]
    }
   ],
   "source": [
    "percentiles_A = np.percentile(revenue_orders_A, [95, 99])\n",
    "percentiles_B = np.percentile(revenue_orders_B, [95, 99])\n",
    "\n",
    "print('95-й и 99-й перцентили группы А:', percentiles_A)\n",
    "print('95-й и 99-й перцентили группы B:', percentiles_B)"
   ]
  },
  {
   "cell_type": "markdown",
   "metadata": {},
   "source": [
    "<b>Вывод:</b>\n",
    "\n",
    "В группе <i>**\"А\"**</i> не более 5% заказов превышают 24 944,5 рублей, и лишь 1% — 56 06,18 рубля. В группе <i>**\"В\"**</i> не более 5% заказов превышают 27 561,5 рублей, и лишь 1% — 49 553,6 рублей. В дальнейшем будем считать аномальными заказы, превышающие 30,000 рублей."
   ]
  },
  {
   "cell_type": "markdown",
   "metadata": {},
   "source": [
    "### Расчет статистической значимости различий в среднем количестве заказов на посетителя между группами по «сырым» данным"
   ]
  },
  {
   "cell_type": "markdown",
   "metadata": {},
   "source": [
    "Сформулируем гипотезы:\n",
    "\n",
    "- Н0 - Cтатистически значимых различий в среднем количестве заказов между группами нет\n",
    " \n",
    "- Н1 - Cтатистически значимых различий в среднем количестве заказов между группами есть\n",
    "\n",
    "Пороговое значение *alpha* примем за 5%."
   ]
  },
  {
   "cell_type": "code",
   "execution_count": 30,
   "metadata": {},
   "outputs": [
    {
     "name": "stdout",
     "output_type": "stream",
     "text": [
      "p-значение: 0.010\n",
      "Отвергаем нулевую гипотезу: \"Cтатистически значимых различий в среднем количестве заказов между группами нет\".\n",
      "Относительный прирост конверсии группы B: 0.166\n"
     ]
    }
   ],
   "source": [
    "# Необходимы переменные, с пользователями из разных групп с количество заказов\n",
    "orders_A = pd.concat([orders_u_A['orders'],\n",
    "                     pd.Series(0, index=np.arange(cum_d_A['visitors'].sum() - len(orders_u_A['orders'])),\n",
    "                               name='orders')],axis=0)\n",
    "\n",
    "orders_B = pd.concat([orders_u_B['orders'],\n",
    "                     pd.Series(0, index=np.arange(cum_d_B['visitors'].sum() - len(orders_u_B['orders'])),\n",
    "                               name='orders')],axis=0)\n",
    "\n",
    "alpha = 0.05\n",
    "results = stats.mannwhitneyu(orders_A, orders_B)\n",
    "print('p-значение: {:.3f}'.format(results.pvalue))\n",
    "if (results.pvalue < alpha):\n",
    "    print('Отвергаем нулевую гипотезу: \"Cтатистически значимых различий в среднем количестве заказов между группами нет\".')\n",
    "else:\n",
    "    print('Не получилось отвергнуть нулевую гипотезу: \"Cтатистически значимых различий в среднем количестве заказов между группами нет\".')\n",
    "\n",
    "print(\"Относительный прирост конверсии группы B: {0:.3f}\".format(orders_B.mean()/orders_A.mean()-1))"
   ]
  },
  {
   "cell_type": "markdown",
   "metadata": {},
   "source": [
    "<b>Вывод:</b>\n",
    "\n",
    "После очистки данных значение *p-value* составило 0.010, что подтверждает статистическую значимость, как и в случае с исходными данными. В таком случае нулевая гипотеза отвергается. Относительная разница в сумме среднего чека между группами составила 16.6% — средний чек группы <i>**\"В\"**</i> превышает средний чек группы <i>**\"А\"**</i> на эту величину.\n",
    "\n",
    "Гипотеза о равенстве сумм среднего чека в обеих группах после очистки данных с большой вероятностью не подтверждается."
   ]
  },
  {
   "cell_type": "markdown",
   "metadata": {},
   "source": [
    "### Расчет статистической значимости различий в среднем чеке заказа между группами по «сырым» данным"
   ]
  },
  {
   "cell_type": "markdown",
   "metadata": {},
   "source": [
    "Сформулируем гипотезы:\n",
    "\n",
    "- Н0 - Cтатистически значимых различий в среднем чеке между группами нет\n",
    " \n",
    "- Н1 - Cтатистически значимых различий в среднем чеке между группами есть\n",
    "\n",
    "Пороговое значение *alpha* примем за 5%."
   ]
  },
  {
   "cell_type": "code",
   "execution_count": 31,
   "metadata": {},
   "outputs": [
    {
     "name": "stdout",
     "output_type": "stream",
     "text": [
      "p-значение: 0.829\n",
      "Не получилось отвергнуть нулевую гипотезу: \"Cтатистически значимых различий в среднем чеке между группами нет\".\n",
      "Относительный прирост в среднем чеке группы B: 0.287\n"
     ]
    }
   ],
   "source": [
    "orders_r_A = orders.query('group == \"A\"').reset_index(drop=True)\n",
    "orders_r_B = orders.query('group == \"B\"').reset_index(drop=True)\n",
    "\n",
    "results = stats.mannwhitneyu(orders_r_A['revenue'], orders_r_B['revenue'])\n",
    "print('p-значение: {:.3f}'.format(results.pvalue))\n",
    "if (results.pvalue < alpha):\n",
    "    print('Отвергаем нулевую гипотезу: \"Cтатистически значимых различий в среднем чеке между группами нет\".')\n",
    "else:\n",
    "    print('Не получилось отвергнуть нулевую гипотезу: \"Cтатистически значимых различий в среднем чеке между группами нет\".')\n",
    "\n",
    "print(\"Относительный прирост в среднем чеке группы B: {0:.3f}\"\n",
    "      .format(orders_r_B['revenue'].mean()/orders_r_A['revenue'].mean()-1))"
   ]
  },
  {
   "cell_type": "markdown",
   "metadata": {},
   "source": [
    "<b>Вывод:</b>\n",
    "\n",
    "По \"сырым\" данным значение *p-value* = 0.829, что значительно превышает уровень статистической значимости. Таким образом, гипотеза о том, что различий в сумме среднего чека между группами нет, не отвергается. Наблюдаемое различие в сумме среднего чека между группами в 28.7% — не является статистически значимым, т.к. на графике стоимости заказов у группы <i>**\"В\"**</i> наблюдался единичный заказ сильно превышающий по сумме основную массу заказов в обеих группах.\n",
    "\n",
    "Гипотеза о равенстве сумм среднего чека в обеих группах по \"сырым\" данным с большой вероятностью не отвергается."
   ]
  },
  {
   "cell_type": "markdown",
   "metadata": {},
   "source": [
    "### Расчет статистической значимости различий в среднем количестве заказов на посетителя между группами по «очищенным» данным"
   ]
  },
  {
   "cell_type": "code",
   "execution_count": 32,
   "metadata": {},
   "outputs": [
    {
     "name": "stdout",
     "output_type": "stream",
     "text": [
      "p-значение: 0.008\n",
      "Отвергаем нулевую гипотезу: \"Cтатистически значимых различий в среднем количестве заказов между группами нет\".\n",
      "Относительный прирост конверсии группы B: 0.170\n"
     ]
    }
   ],
   "source": [
    "users_m = orders_u[orders_u['orders'] > 4]['visitor_id']\n",
    "users_e = orders[orders['revenue'] > 58234]['visitor_id']\n",
    "ab_normal_u = (pd.concat([users_m, users_e], axis = 0)\n",
    "                 .drop_duplicates()\n",
    "                 .reset_index(drop=True))\n",
    "orders_A_f = pd.concat(\n",
    "    [orders_u_A[np.logical_not(orders_u_A['visitor_id'].isin(ab_normal_u))]['orders'],\n",
    "     pd.Series(0, index=np.arange(cum_d_A['visitors'].sum() - len(orders_u_A['orders'])),\n",
    "               name='orders')],axis=0)\n",
    "\n",
    "orders_B_f = pd.concat(\n",
    "    [orders_u_B[np.logical_not(orders_u_B['visitor_id'].isin(ab_normal_u))]['orders'],\n",
    "     pd.Series(0, index=np.arange(cum_d_B['visitors'].sum() - len(orders_u_B['orders'])),\n",
    "               name='orders')],axis=0)\n",
    "\n",
    "alpha = 0.05\n",
    "results = stats.mannwhitneyu(orders_A_f, orders_B_f)\n",
    "print('p-значение: {:.3f}'.format(results.pvalue))\n",
    "if (results.pvalue < alpha):\n",
    "    print('Отвергаем нулевую гипотезу: \"Cтатистически значимых различий в среднем количестве заказов между группами нет\".')\n",
    "else:\n",
    "    print('Не получилось отвергнуть нулевую гипотезу: \"Cтатистически значимых различий в среднем количестве заказов между группами нет\".')\n",
    "\n",
    "print(\"Относительный прирост конверсии группы B: {0:.3f}\"\n",
    "      .format(orders_B_f.mean()/orders_A_f.mean() - 1))"
   ]
  },
  {
   "cell_type": "markdown",
   "metadata": {},
   "source": [
    "<b>Вывод:</b>\n",
    "\n",
    "Статистическая значимость подтверждена, как и в случае с исходными данными. Относительный прирост количества заказов группы <i>**\"В\"**</i> по сравнению с группой <i>**\"А\"**</i> по «очищенным» данным составляет 17%."
   ]
  },
  {
   "cell_type": "markdown",
   "metadata": {},
   "source": [
    "### Расчет статистической значимости различий в среднем чеке заказа между группами по «очищенным» данным"
   ]
  },
  {
   "cell_type": "code",
   "execution_count": 33,
   "metadata": {},
   "outputs": [
    {
     "name": "stdout",
     "output_type": "stream",
     "text": [
      "p-значение: 0.901\n",
      "Не получилось отвергнуть нулевую гипотезу: \"Cтатистически значимых различий в среднем чеке между группами нет\".\n",
      "Относительный прирост в среднем чеке группы B: -0.032\n"
     ]
    }
   ],
   "source": [
    "results = stats.mannwhitneyu(orders_r_A[np.logical_not(orders_r_A['visitor_id'].isin(ab_normal_u))]['revenue'],\n",
    "                             orders_r_B[np.logical_not(orders_r_B['visitor_id'].isin(ab_normal_u))]['revenue'])\n",
    "print('p-значение: {:.3f}'.format(results.pvalue))\n",
    "if (results.pvalue < alpha):\n",
    "    print('Отвергаем нулевую гипотезу: \"Cтатистически значимых различий в среднем чеке между группами нет\".')\n",
    "else:\n",
    "    print('Не получилось отвергнуть нулевую гипотезу: \"Cтатистически значимых различий в среднем чеке между группами нет\".')\n",
    "\n",
    "print(\"Относительный прирост в среднем чеке группы B: {0:.3f}\"\n",
    "      .format(orders_r_B[np.logical_not(orders_r_B['visitor_id'].isin(ab_normal_u))]['revenue'].mean()\n",
    "              / orders_r_A[np.logical_not(orders_r_A['visitor_id'].isin(ab_normal_u))]['revenue'].mean() - 1))"
   ]
  },
  {
   "cell_type": "markdown",
   "metadata": {},
   "source": [
    "<b>Вывод:</b>\n",
    "\n",
    "Как и в случае с \"сырыми\" данными значение p-value равное 0.901 значительно превышает уровень статистической значимости. Однако разница между сегментами сократилась с 29% до почти нулевой, и средний чек в группе <i>**\"В\"**</i> стал даже немного ниже, чем в группе <i>**\"А\"**</i>. Таким образом подверждается мысль что такой большой процент разницы среднего чека в группе <i>**\"В\"**</i>, при анализе \"сырых\" данных, был из-за аномального заказа с высокой стоимостью."
   ]
  },
  {
   "cell_type": "markdown",
   "metadata": {},
   "source": [
    "### Принятие решения по результатам теста"
   ]
  },
  {
   "cell_type": "markdown",
   "metadata": {},
   "source": [
    "На основании анализа результатов A/B-тестирования можно сделать следующие выводы:\n",
    "\n",
    "- Статистически значимое различие по конверсии между группами наблюдается как по сырым данным, так и после удаления аномалий.\n",
    "- По сырым и очищенным данным нет статистически значимого различия в среднем чеке между группами.\n",
    "- График различия конверсии показывает, что результаты группы <i>**\"В\"**</i> лучше, чем у группы <i>**\"А\"**</i>, с тенденцией к росту или стабилизации около среднего значения.\n",
    "- График различия среднего чека колеблется, но к концу периода наблюдения результаты группы B становятся лучше, чем у группы A. Однако, после удаления аномальных пользователей, средний чек группы <i>**\"В\"**</i> практически не изменился и даже стал немного ниже по сравнению с группой <i>**\"А\"**</i>.\n",
    "\n",
    "На основании этих данных, **тест следует остановить, зафиксировать победу группы В и перейти к проверке следующей гипотезы**."
   ]
  },
  {
   "cell_type": "markdown",
   "metadata": {},
   "source": [
    "# Общий вывод по проекту:\n",
    "\n",
    "Проект был направлен на повышение выручки интернет-магазина посредством двух ключевых задач: \n",
    "- приоритизации гипотез, способных увеличить продажи\n",
    "- проведения A/B-тестирования для проверки эффективности наиболее перспективных из них.\n",
    "\n",
    "Перед началом анализа данных была проведена тщательная проверка информации, и выяснилось, что данные за август 2019 года полностью соответствуют требованиям: отсутствуют пропущенные значения и дубликаты. Также были устранены форматы данных, например, столбцы с датами были преобразованы из текстового в формат datetime, и исправлены стилистические ошибки в названиях столбцов для упрощения работы с данными.\n",
    "\n",
    "Первая фаза проекта включала анализ девяти гипотез для увеличения продаж с использованием фреймворков ICE и RICE. ICE оценил потенциальное влияние, уверенность в успехе и затраты на внедрение каждой гипотезы. Наиболее перспективной по этой модели оказалась гипотеза <code>\"Запустить акцию, дающую скидку на товар в день рождения\"</code>, получившая высокие оценки по влиянию и уверенности.\n",
    "\n",
    "Использование только фреймворка ICE не дает полной картины, поэтому был применен RICE, который учитывает охват (reach) – количество пользователей, затронутых изменением. Это критически важно для оценки масштабируемости гипотезы и ее влияния на выручку. Анализ с помощью RICE показал, что наиболее перспективной является гипотеза <code>\"Добавить форму подписки на все основные страницы для сбора базы клиентов для email-рассылок\"</code>. Высокий охват в 10, значительно превышающий показатели других гипотез, делает эту гипотезу приоритетной для дальнейшего тестирования.\n",
    "\n",
    "Вторая фаза проекта заключалась в A/B-тестировании гипотезы. Результаты показали, что кумулятивная выручка группы В (с внедрением изменения) стабильно превышала показатели группы А (контрольной) на протяжении всего тестового периода, с особенно значительным скачком 19 августа 2019 года. Анализ кумулятивного среднего чека показал большую нестабильность в группе В, хотя она также демонстрировала тенденцию к превышению группы А. Кумулятивная конверсия группы В стабильно превосходила конверсию группы А, хоть и не так существенно. В целом, A/B-тестирование подтвердило эффективность гипотезы <code>\"Добавить форму подписки на все основные страницы для сбора базы клиентов для email-рассылок\"</code>, позволяя рекомендовать ее внедрение для роста выручки и расширения клиентской базы."
   ]
  }
 ],
 "metadata": {
  "ExecuteTimeLog": [
   {
    "duration": 1223,
    "start_time": "2025-04-04T08:19:24.903Z"
   },
   {
    "duration": 165,
    "start_time": "2025-04-04T08:23:52.211Z"
   },
   {
    "duration": 72,
    "start_time": "2025-04-04T08:24:03.771Z"
   },
   {
    "duration": 66,
    "start_time": "2025-04-04T08:24:30.386Z"
   },
   {
    "duration": 8,
    "start_time": "2025-04-04T08:25:15.425Z"
   },
   {
    "duration": 9,
    "start_time": "2025-04-04T08:25:56.034Z"
   },
   {
    "duration": 4,
    "start_time": "2025-04-04T08:28:36.725Z"
   },
   {
    "duration": 1179,
    "start_time": "2025-04-04T08:30:01.433Z"
   },
   {
    "duration": 2,
    "start_time": "2025-04-04T08:30:02.614Z"
   },
   {
    "duration": 28,
    "start_time": "2025-04-04T08:30:02.618Z"
   },
   {
    "duration": 36,
    "start_time": "2025-04-04T08:30:02.647Z"
   },
   {
    "duration": 93,
    "start_time": "2025-04-04T09:47:22.954Z"
   },
   {
    "duration": 3,
    "start_time": "2025-04-04T09:47:32.714Z"
   },
   {
    "duration": 3,
    "start_time": "2025-04-04T09:47:37.972Z"
   },
   {
    "duration": 115,
    "start_time": "2025-04-04T09:47:41.516Z"
   },
   {
    "duration": 3,
    "start_time": "2025-04-04T09:47:47.187Z"
   },
   {
    "duration": 61,
    "start_time": "2025-04-04T09:47:49.571Z"
   },
   {
    "duration": 1127,
    "start_time": "2025-04-04T09:49:25.585Z"
   },
   {
    "duration": 74,
    "start_time": "2025-04-04T09:49:26.714Z"
   },
   {
    "duration": 5,
    "start_time": "2025-04-04T09:49:26.790Z"
   },
   {
    "duration": 88,
    "start_time": "2025-04-04T09:49:26.797Z"
   },
   {
    "duration": 8,
    "start_time": "2025-04-04T09:49:26.887Z"
   },
   {
    "duration": 62,
    "start_time": "2025-04-04T09:49:26.896Z"
   },
   {
    "duration": 5,
    "start_time": "2025-04-04T09:49:26.960Z"
   },
   {
    "duration": 4,
    "start_time": "2025-04-04T09:55:29.935Z"
   },
   {
    "duration": 4,
    "start_time": "2025-04-04T09:55:32.222Z"
   },
   {
    "duration": 5,
    "start_time": "2025-04-04T09:57:31.614Z"
   },
   {
    "duration": 17,
    "start_time": "2025-04-04T10:00:38.835Z"
   },
   {
    "duration": 17,
    "start_time": "2025-04-04T10:02:35.904Z"
   },
   {
    "duration": 21,
    "start_time": "2025-04-04T10:02:58.162Z"
   },
   {
    "duration": 1048,
    "start_time": "2025-04-04T10:03:12.988Z"
   },
   {
    "duration": 75,
    "start_time": "2025-04-04T10:03:14.038Z"
   },
   {
    "duration": 5,
    "start_time": "2025-04-04T10:03:14.115Z"
   },
   {
    "duration": 82,
    "start_time": "2025-04-04T10:03:14.122Z"
   },
   {
    "duration": 6,
    "start_time": "2025-04-04T10:03:14.206Z"
   },
   {
    "duration": 79,
    "start_time": "2025-04-04T10:03:14.213Z"
   },
   {
    "duration": 6,
    "start_time": "2025-04-04T10:03:14.293Z"
   },
   {
    "duration": 14,
    "start_time": "2025-04-04T10:03:14.300Z"
   },
   {
    "duration": 5,
    "start_time": "2025-04-04T10:03:14.315Z"
   },
   {
    "duration": 4,
    "start_time": "2025-04-04T10:03:14.322Z"
   },
   {
    "duration": 6,
    "start_time": "2025-04-04T10:03:14.327Z"
   },
   {
    "duration": 23,
    "start_time": "2025-04-04T10:03:14.334Z"
   },
   {
    "duration": 5,
    "start_time": "2025-04-04T10:06:04.153Z"
   },
   {
    "duration": 7,
    "start_time": "2025-04-04T10:06:06.834Z"
   },
   {
    "duration": 25,
    "start_time": "2025-04-04T10:06:08.185Z"
   },
   {
    "duration": 94,
    "start_time": "2025-04-04T10:20:11.852Z"
   },
   {
    "duration": 1073,
    "start_time": "2025-04-04T10:20:38.768Z"
   },
   {
    "duration": 67,
    "start_time": "2025-04-04T10:20:39.843Z"
   },
   {
    "duration": 6,
    "start_time": "2025-04-04T10:20:39.912Z"
   },
   {
    "duration": 82,
    "start_time": "2025-04-04T10:20:39.919Z"
   },
   {
    "duration": 7,
    "start_time": "2025-04-04T10:20:40.003Z"
   },
   {
    "duration": 74,
    "start_time": "2025-04-04T10:20:40.011Z"
   },
   {
    "duration": 6,
    "start_time": "2025-04-04T10:20:40.087Z"
   },
   {
    "duration": 4,
    "start_time": "2025-04-04T10:20:40.095Z"
   },
   {
    "duration": 4,
    "start_time": "2025-04-04T10:20:40.101Z"
   },
   {
    "duration": 4,
    "start_time": "2025-04-04T10:20:40.106Z"
   },
   {
    "duration": 7,
    "start_time": "2025-04-04T10:20:40.111Z"
   },
   {
    "duration": 41,
    "start_time": "2025-04-04T10:20:40.120Z"
   },
   {
    "duration": 106,
    "start_time": "2025-04-04T10:20:40.163Z"
   },
   {
    "duration": 5,
    "start_time": "2025-04-04T10:20:56.286Z"
   },
   {
    "duration": 4,
    "start_time": "2025-04-04T10:21:14.807Z"
   },
   {
    "duration": 28,
    "start_time": "2025-04-04T11:02:25.172Z"
   },
   {
    "duration": 8,
    "start_time": "2025-04-04T11:04:34.067Z"
   },
   {
    "duration": 9,
    "start_time": "2025-04-04T11:15:03.487Z"
   },
   {
    "duration": 288,
    "start_time": "2025-04-04T12:58:09.070Z"
   },
   {
    "duration": 7,
    "start_time": "2025-04-04T12:58:35.390Z"
   },
   {
    "duration": 270,
    "start_time": "2025-04-04T12:59:15.902Z"
   },
   {
    "duration": 282,
    "start_time": "2025-04-04T13:02:24.091Z"
   },
   {
    "duration": 10,
    "start_time": "2025-04-04T13:03:08.305Z"
   },
   {
    "duration": 14,
    "start_time": "2025-04-04T13:03:27.624Z"
   },
   {
    "duration": 310,
    "start_time": "2025-04-04T13:06:39.085Z"
   },
   {
    "duration": 17,
    "start_time": "2025-04-04T13:31:37.254Z"
   },
   {
    "duration": 316,
    "start_time": "2025-04-04T13:32:56.604Z"
   },
   {
    "duration": 213,
    "start_time": "2025-04-04T13:33:47.163Z"
   },
   {
    "duration": 368,
    "start_time": "2025-04-04T13:34:37.843Z"
   },
   {
    "duration": 194,
    "start_time": "2025-04-04T13:37:23.175Z"
   },
   {
    "duration": 330,
    "start_time": "2025-04-04T13:38:01.511Z"
   },
   {
    "duration": 382,
    "start_time": "2025-04-04T13:38:20.063Z"
   },
   {
    "duration": 291,
    "start_time": "2025-04-04T13:38:47.334Z"
   },
   {
    "duration": 183,
    "start_time": "2025-04-04T13:38:53.206Z"
   },
   {
    "duration": 213,
    "start_time": "2025-04-04T13:39:45.918Z"
   },
   {
    "duration": 232,
    "start_time": "2025-04-04T13:39:58.861Z"
   },
   {
    "duration": 217,
    "start_time": "2025-04-04T13:42:47.841Z"
   },
   {
    "duration": 1088,
    "start_time": "2025-04-04T13:47:05.110Z"
   },
   {
    "duration": 356,
    "start_time": "2025-04-04T13:52:36.824Z"
   },
   {
    "duration": 228,
    "start_time": "2025-04-04T13:54:23.823Z"
   },
   {
    "duration": 338,
    "start_time": "2025-04-04T13:54:54.726Z"
   },
   {
    "duration": 236,
    "start_time": "2025-04-04T13:59:07.962Z"
   },
   {
    "duration": 450,
    "start_time": "2025-04-04T14:01:48.105Z"
   },
   {
    "duration": 1167,
    "start_time": "2025-04-04T14:04:51.376Z"
   },
   {
    "duration": 67,
    "start_time": "2025-04-04T14:04:52.544Z"
   },
   {
    "duration": 84,
    "start_time": "2025-04-04T14:04:52.612Z"
   },
   {
    "duration": 101,
    "start_time": "2025-04-04T14:04:52.697Z"
   },
   {
    "duration": 7,
    "start_time": "2025-04-04T14:04:52.800Z"
   },
   {
    "duration": 75,
    "start_time": "2025-04-04T14:04:52.809Z"
   },
   {
    "duration": 7,
    "start_time": "2025-04-04T14:04:52.886Z"
   },
   {
    "duration": 18,
    "start_time": "2025-04-04T14:04:52.894Z"
   },
   {
    "duration": 6,
    "start_time": "2025-04-04T14:04:52.914Z"
   },
   {
    "duration": 6,
    "start_time": "2025-04-04T14:04:52.921Z"
   },
   {
    "duration": 7,
    "start_time": "2025-04-04T14:04:52.929Z"
   },
   {
    "duration": 38,
    "start_time": "2025-04-04T14:04:52.938Z"
   },
   {
    "duration": 5,
    "start_time": "2025-04-04T14:04:52.978Z"
   },
   {
    "duration": 12,
    "start_time": "2025-04-04T14:04:52.986Z"
   },
   {
    "duration": 12,
    "start_time": "2025-04-04T14:04:53.000Z"
   },
   {
    "duration": 146,
    "start_time": "2025-04-04T14:04:53.016Z"
   },
   {
    "duration": 0,
    "start_time": "2025-04-04T14:04:53.164Z"
   },
   {
    "duration": 0,
    "start_time": "2025-04-04T14:04:53.165Z"
   },
   {
    "duration": 0,
    "start_time": "2025-04-04T14:04:53.167Z"
   },
   {
    "duration": 0,
    "start_time": "2025-04-04T14:04:53.168Z"
   },
   {
    "duration": 0,
    "start_time": "2025-04-04T14:04:53.169Z"
   },
   {
    "duration": 0,
    "start_time": "2025-04-04T14:04:53.171Z"
   },
   {
    "duration": 0,
    "start_time": "2025-04-04T14:04:53.172Z"
   },
   {
    "duration": 0,
    "start_time": "2025-04-04T14:04:53.173Z"
   },
   {
    "duration": 0,
    "start_time": "2025-04-04T14:04:53.175Z"
   },
   {
    "duration": 1122,
    "start_time": "2025-04-04T14:06:43.092Z"
   },
   {
    "duration": 62,
    "start_time": "2025-04-04T14:06:44.215Z"
   },
   {
    "duration": 8,
    "start_time": "2025-04-04T14:06:44.279Z"
   },
   {
    "duration": 89,
    "start_time": "2025-04-04T14:06:44.289Z"
   },
   {
    "duration": 8,
    "start_time": "2025-04-04T14:06:44.381Z"
   },
   {
    "duration": 68,
    "start_time": "2025-04-04T14:06:44.391Z"
   },
   {
    "duration": 7,
    "start_time": "2025-04-04T14:06:44.461Z"
   },
   {
    "duration": 4,
    "start_time": "2025-04-04T14:06:44.471Z"
   },
   {
    "duration": 3,
    "start_time": "2025-04-04T14:06:44.477Z"
   },
   {
    "duration": 6,
    "start_time": "2025-04-04T14:06:44.482Z"
   },
   {
    "duration": 6,
    "start_time": "2025-04-04T14:06:44.489Z"
   },
   {
    "duration": 24,
    "start_time": "2025-04-04T14:06:44.496Z"
   },
   {
    "duration": 73,
    "start_time": "2025-04-04T14:06:44.522Z"
   },
   {
    "duration": 9,
    "start_time": "2025-04-04T14:06:44.598Z"
   },
   {
    "duration": 36,
    "start_time": "2025-04-04T14:06:44.609Z"
   },
   {
    "duration": 340,
    "start_time": "2025-04-04T14:06:44.647Z"
   },
   {
    "duration": 370,
    "start_time": "2025-04-04T14:06:44.988Z"
   },
   {
    "duration": 243,
    "start_time": "2025-04-04T14:06:45.360Z"
   },
   {
    "duration": 335,
    "start_time": "2025-04-04T14:06:45.605Z"
   },
   {
    "duration": 110,
    "start_time": "2025-04-04T14:06:45.942Z"
   },
   {
    "duration": 0,
    "start_time": "2025-04-04T14:06:46.058Z"
   },
   {
    "duration": 0,
    "start_time": "2025-04-04T14:06:46.060Z"
   },
   {
    "duration": 0,
    "start_time": "2025-04-04T14:06:46.061Z"
   },
   {
    "duration": 0,
    "start_time": "2025-04-04T14:06:46.063Z"
   },
   {
    "duration": 0,
    "start_time": "2025-04-04T14:06:46.064Z"
   },
   {
    "duration": 1187,
    "start_time": "2025-04-04T14:07:19.654Z"
   },
   {
    "duration": 67,
    "start_time": "2025-04-04T14:07:20.843Z"
   },
   {
    "duration": 7,
    "start_time": "2025-04-04T14:07:20.911Z"
   },
   {
    "duration": 94,
    "start_time": "2025-04-04T14:07:20.919Z"
   },
   {
    "duration": 6,
    "start_time": "2025-04-04T14:07:21.016Z"
   },
   {
    "duration": 83,
    "start_time": "2025-04-04T14:07:21.024Z"
   },
   {
    "duration": 39,
    "start_time": "2025-04-04T14:07:21.109Z"
   },
   {
    "duration": 82,
    "start_time": "2025-04-04T14:07:21.150Z"
   },
   {
    "duration": 26,
    "start_time": "2025-04-04T14:07:21.234Z"
   },
   {
    "duration": 13,
    "start_time": "2025-04-04T14:07:21.262Z"
   },
   {
    "duration": 110,
    "start_time": "2025-04-04T14:07:21.277Z"
   },
   {
    "duration": 39,
    "start_time": "2025-04-04T14:07:21.389Z"
   },
   {
    "duration": 4,
    "start_time": "2025-04-04T14:07:21.430Z"
   },
   {
    "duration": 16,
    "start_time": "2025-04-04T14:07:21.437Z"
   },
   {
    "duration": 9,
    "start_time": "2025-04-04T14:07:21.455Z"
   },
   {
    "duration": 323,
    "start_time": "2025-04-04T14:07:21.466Z"
   },
   {
    "duration": 313,
    "start_time": "2025-04-04T14:07:21.790Z"
   },
   {
    "duration": 234,
    "start_time": "2025-04-04T14:07:22.104Z"
   },
   {
    "duration": 359,
    "start_time": "2025-04-04T14:07:22.340Z"
   },
   {
    "duration": 235,
    "start_time": "2025-04-04T14:07:22.701Z"
   },
   {
    "duration": 376,
    "start_time": "2025-04-04T14:07:22.937Z"
   },
   {
    "duration": 6,
    "start_time": "2025-04-04T14:07:23.315Z"
   },
   {
    "duration": 67,
    "start_time": "2025-04-04T14:07:23.323Z"
   },
   {
    "duration": 5,
    "start_time": "2025-04-04T14:07:23.392Z"
   },
   {
    "duration": 5,
    "start_time": "2025-04-04T14:07:23.399Z"
   },
   {
    "duration": 1105,
    "start_time": "2025-04-04T14:09:09.203Z"
   },
   {
    "duration": 63,
    "start_time": "2025-04-04T14:09:10.310Z"
   },
   {
    "duration": 7,
    "start_time": "2025-04-04T14:09:10.374Z"
   },
   {
    "duration": 84,
    "start_time": "2025-04-04T14:09:10.382Z"
   },
   {
    "duration": 6,
    "start_time": "2025-04-04T14:09:10.468Z"
   },
   {
    "duration": 63,
    "start_time": "2025-04-04T14:09:10.476Z"
   },
   {
    "duration": 13,
    "start_time": "2025-04-04T14:09:10.541Z"
   },
   {
    "duration": 139,
    "start_time": "2025-04-04T14:09:10.556Z"
   },
   {
    "duration": 6,
    "start_time": "2025-04-04T14:09:10.697Z"
   },
   {
    "duration": 5,
    "start_time": "2025-04-04T14:09:10.705Z"
   },
   {
    "duration": 6,
    "start_time": "2025-04-04T14:09:10.711Z"
   },
   {
    "duration": 28,
    "start_time": "2025-04-04T14:09:10.718Z"
   },
   {
    "duration": 4,
    "start_time": "2025-04-04T14:09:10.748Z"
   },
   {
    "duration": 72,
    "start_time": "2025-04-04T14:09:10.753Z"
   },
   {
    "duration": 8,
    "start_time": "2025-04-04T14:09:10.827Z"
   },
   {
    "duration": 300,
    "start_time": "2025-04-04T14:09:10.837Z"
   },
   {
    "duration": 320,
    "start_time": "2025-04-04T14:09:11.139Z"
   },
   {
    "duration": 247,
    "start_time": "2025-04-04T14:09:11.461Z"
   },
   {
    "duration": 325,
    "start_time": "2025-04-04T14:09:11.709Z"
   },
   {
    "duration": 232,
    "start_time": "2025-04-04T14:09:12.036Z"
   },
   {
    "duration": 353,
    "start_time": "2025-04-04T14:09:12.270Z"
   },
   {
    "duration": 3,
    "start_time": "2025-04-04T14:09:12.624Z"
   },
   {
    "duration": 59,
    "start_time": "2025-04-04T14:09:12.628Z"
   },
   {
    "duration": 3,
    "start_time": "2025-04-04T14:09:12.689Z"
   },
   {
    "duration": 4,
    "start_time": "2025-04-04T14:09:12.693Z"
   },
   {
    "duration": 59,
    "start_time": "2025-04-05T14:00:47.633Z"
   },
   {
    "duration": 1334,
    "start_time": "2025-04-05T14:00:54.990Z"
   },
   {
    "duration": 63,
    "start_time": "2025-04-05T14:00:56.326Z"
   },
   {
    "duration": 6,
    "start_time": "2025-04-05T14:00:56.391Z"
   },
   {
    "duration": 109,
    "start_time": "2025-04-05T14:00:56.399Z"
   },
   {
    "duration": 7,
    "start_time": "2025-04-05T14:00:56.510Z"
   },
   {
    "duration": 60,
    "start_time": "2025-04-05T14:00:56.519Z"
   },
   {
    "duration": 6,
    "start_time": "2025-04-05T14:00:56.582Z"
   },
   {
    "duration": 8,
    "start_time": "2025-04-05T14:00:56.590Z"
   },
   {
    "duration": 6,
    "start_time": "2025-04-05T14:00:56.599Z"
   },
   {
    "duration": 5,
    "start_time": "2025-04-05T14:00:56.607Z"
   },
   {
    "duration": 10,
    "start_time": "2025-04-05T14:00:56.613Z"
   },
   {
    "duration": 35,
    "start_time": "2025-04-05T14:00:56.624Z"
   },
   {
    "duration": 5,
    "start_time": "2025-04-05T14:00:56.660Z"
   },
   {
    "duration": 10,
    "start_time": "2025-04-05T14:00:56.668Z"
   },
   {
    "duration": 9,
    "start_time": "2025-04-05T14:00:56.680Z"
   },
   {
    "duration": 320,
    "start_time": "2025-04-05T14:00:56.691Z"
   },
   {
    "duration": 323,
    "start_time": "2025-04-05T14:00:57.012Z"
   },
   {
    "duration": 268,
    "start_time": "2025-04-05T14:00:57.338Z"
   },
   {
    "duration": 425,
    "start_time": "2025-04-05T14:00:57.608Z"
   },
   {
    "duration": 263,
    "start_time": "2025-04-05T14:00:58.035Z"
   },
   {
    "duration": 384,
    "start_time": "2025-04-05T14:00:58.299Z"
   },
   {
    "duration": 138,
    "start_time": "2025-04-05T14:00:58.685Z"
   },
   {
    "duration": 0,
    "start_time": "2025-04-05T14:00:58.824Z"
   },
   {
    "duration": 0,
    "start_time": "2025-04-05T14:00:58.826Z"
   },
   {
    "duration": 0,
    "start_time": "2025-04-05T14:00:58.826Z"
   },
   {
    "duration": 256,
    "start_time": "2025-04-05T14:01:29.446Z"
   },
   {
    "duration": 9,
    "start_time": "2025-04-05T14:04:26.764Z"
   },
   {
    "duration": 7,
    "start_time": "2025-04-05T14:07:03.000Z"
   },
   {
    "duration": 241,
    "start_time": "2025-04-05T14:09:25.824Z"
   },
   {
    "duration": 273,
    "start_time": "2025-04-05T14:14:05.123Z"
   },
   {
    "duration": 171,
    "start_time": "2025-04-05T14:14:20.527Z"
   },
   {
    "duration": 163,
    "start_time": "2025-04-05T14:14:31.213Z"
   },
   {
    "duration": 9,
    "start_time": "2025-04-05T14:22:44.545Z"
   },
   {
    "duration": 166,
    "start_time": "2025-04-05T14:22:54.429Z"
   },
   {
    "duration": 714,
    "start_time": "2025-04-05T14:22:57.074Z"
   },
   {
    "duration": 785,
    "start_time": "2025-04-05T14:23:11.495Z"
   },
   {
    "duration": 7,
    "start_time": "2025-04-05T14:25:23.964Z"
   },
   {
    "duration": 18,
    "start_time": "2025-04-05T14:32:13.184Z"
   },
   {
    "duration": 463,
    "start_time": "2025-04-05T14:32:44.876Z"
   },
   {
    "duration": 14,
    "start_time": "2025-04-05T14:39:54.314Z"
   },
   {
    "duration": 1287,
    "start_time": "2025-04-05T14:40:07.025Z"
   },
   {
    "duration": 1168,
    "start_time": "2025-04-05T14:41:02.576Z"
   },
   {
    "duration": 60,
    "start_time": "2025-04-05T14:41:03.746Z"
   },
   {
    "duration": 6,
    "start_time": "2025-04-05T14:41:03.807Z"
   },
   {
    "duration": 97,
    "start_time": "2025-04-05T14:41:03.815Z"
   },
   {
    "duration": 7,
    "start_time": "2025-04-05T14:41:03.914Z"
   },
   {
    "duration": 73,
    "start_time": "2025-04-05T14:41:03.923Z"
   },
   {
    "duration": 6,
    "start_time": "2025-04-05T14:41:03.997Z"
   },
   {
    "duration": 6,
    "start_time": "2025-04-05T14:41:04.005Z"
   },
   {
    "duration": 4,
    "start_time": "2025-04-05T14:41:04.013Z"
   },
   {
    "duration": 5,
    "start_time": "2025-04-05T14:41:04.018Z"
   },
   {
    "duration": 7,
    "start_time": "2025-04-05T14:41:04.025Z"
   },
   {
    "duration": 29,
    "start_time": "2025-04-05T14:41:04.034Z"
   },
   {
    "duration": 6,
    "start_time": "2025-04-05T14:41:04.065Z"
   },
   {
    "duration": 13,
    "start_time": "2025-04-05T14:41:04.075Z"
   },
   {
    "duration": 8,
    "start_time": "2025-04-05T14:41:04.090Z"
   },
   {
    "duration": 308,
    "start_time": "2025-04-05T14:41:04.100Z"
   },
   {
    "duration": 305,
    "start_time": "2025-04-05T14:41:04.410Z"
   },
   {
    "duration": 232,
    "start_time": "2025-04-05T14:41:04.717Z"
   },
   {
    "duration": 376,
    "start_time": "2025-04-05T14:41:04.951Z"
   },
   {
    "duration": 232,
    "start_time": "2025-04-05T14:41:05.329Z"
   },
   {
    "duration": 372,
    "start_time": "2025-04-05T14:41:05.563Z"
   },
   {
    "duration": 231,
    "start_time": "2025-04-05T14:41:05.937Z"
   },
   {
    "duration": 11,
    "start_time": "2025-04-05T14:41:06.171Z"
   },
   {
    "duration": 327,
    "start_time": "2025-04-05T14:41:06.183Z"
   },
   {
    "duration": 171,
    "start_time": "2025-04-05T14:41:06.512Z"
   },
   {
    "duration": 7,
    "start_time": "2025-04-05T14:41:06.684Z"
   },
   {
    "duration": 544,
    "start_time": "2025-04-05T14:41:06.692Z"
   },
   {
    "duration": 1428,
    "start_time": "2025-04-05T14:41:07.238Z"
   },
   {
    "duration": 1171,
    "start_time": "2025-04-05T14:43:13.855Z"
   },
   {
    "duration": 13,
    "start_time": "2025-04-05T14:43:54.008Z"
   },
   {
    "duration": 5,
    "start_time": "2025-04-05T14:44:10.798Z"
   },
   {
    "duration": 8,
    "start_time": "2025-04-05T14:45:34.014Z"
   },
   {
    "duration": 1332,
    "start_time": "2025-04-05T14:46:00.219Z"
   },
   {
    "duration": 464,
    "start_time": "2025-04-05T14:47:52.636Z"
   },
   {
    "duration": 1242,
    "start_time": "2025-04-05T14:54:54.914Z"
   },
   {
    "duration": 1246,
    "start_time": "2025-04-05T14:55:04.575Z"
   },
   {
    "duration": 70,
    "start_time": "2025-04-05T14:55:05.822Z"
   },
   {
    "duration": 6,
    "start_time": "2025-04-05T14:55:05.893Z"
   },
   {
    "duration": 90,
    "start_time": "2025-04-05T14:55:05.900Z"
   },
   {
    "duration": 7,
    "start_time": "2025-04-05T14:55:05.992Z"
   },
   {
    "duration": 84,
    "start_time": "2025-04-05T14:55:06.001Z"
   },
   {
    "duration": 7,
    "start_time": "2025-04-05T14:55:06.088Z"
   },
   {
    "duration": 19,
    "start_time": "2025-04-05T14:55:06.097Z"
   },
   {
    "duration": 18,
    "start_time": "2025-04-05T14:55:06.118Z"
   },
   {
    "duration": 10,
    "start_time": "2025-04-05T14:55:06.137Z"
   },
   {
    "duration": 23,
    "start_time": "2025-04-05T14:55:06.149Z"
   },
   {
    "duration": 73,
    "start_time": "2025-04-05T14:55:06.175Z"
   },
   {
    "duration": 62,
    "start_time": "2025-04-05T14:55:06.249Z"
   },
   {
    "duration": 14,
    "start_time": "2025-04-05T14:55:06.314Z"
   },
   {
    "duration": 35,
    "start_time": "2025-04-05T14:55:06.330Z"
   },
   {
    "duration": 339,
    "start_time": "2025-04-05T14:55:06.367Z"
   },
   {
    "duration": 348,
    "start_time": "2025-04-05T14:55:06.707Z"
   },
   {
    "duration": 266,
    "start_time": "2025-04-05T14:55:07.057Z"
   },
   {
    "duration": 391,
    "start_time": "2025-04-05T14:55:07.325Z"
   },
   {
    "duration": 266,
    "start_time": "2025-04-05T14:55:07.718Z"
   },
   {
    "duration": 377,
    "start_time": "2025-04-05T14:55:07.987Z"
   },
   {
    "duration": 251,
    "start_time": "2025-04-05T14:55:08.367Z"
   },
   {
    "duration": 9,
    "start_time": "2025-04-05T14:55:08.621Z"
   },
   {
    "duration": 271,
    "start_time": "2025-04-05T14:55:08.632Z"
   },
   {
    "duration": 178,
    "start_time": "2025-04-05T14:55:08.905Z"
   },
   {
    "duration": 7,
    "start_time": "2025-04-05T14:55:09.085Z"
   },
   {
    "duration": 565,
    "start_time": "2025-04-05T14:55:09.093Z"
   },
   {
    "duration": 1330,
    "start_time": "2025-04-05T14:55:09.660Z"
   },
   {
    "duration": 0,
    "start_time": "2025-04-05T14:55:10.991Z"
   },
   {
    "duration": 945,
    "start_time": "2025-04-05T14:55:51.523Z"
   },
   {
    "duration": 89,
    "start_time": "2025-04-05T14:56:25.884Z"
   },
   {
    "duration": 10,
    "start_time": "2025-04-05T14:56:38.368Z"
   },
   {
    "duration": 5,
    "start_time": "2025-04-05T14:56:48.302Z"
   },
   {
    "duration": 15,
    "start_time": "2025-04-05T14:58:12.472Z"
   },
   {
    "duration": 458,
    "start_time": "2025-04-05T15:02:40.122Z"
   },
   {
    "duration": 11,
    "start_time": "2025-04-05T15:03:55.333Z"
   },
   {
    "duration": 23,
    "start_time": "2025-04-05T15:04:08.451Z"
   },
   {
    "duration": 15,
    "start_time": "2025-04-05T15:04:16.557Z"
   },
   {
    "duration": 1115,
    "start_time": "2025-04-05T15:35:22.919Z"
   },
   {
    "duration": 60,
    "start_time": "2025-04-05T15:35:24.036Z"
   },
   {
    "duration": 5,
    "start_time": "2025-04-05T15:35:24.098Z"
   },
   {
    "duration": 83,
    "start_time": "2025-04-05T15:35:24.105Z"
   },
   {
    "duration": 6,
    "start_time": "2025-04-05T15:35:24.191Z"
   },
   {
    "duration": 61,
    "start_time": "2025-04-05T15:35:24.199Z"
   },
   {
    "duration": 6,
    "start_time": "2025-04-05T15:35:24.262Z"
   },
   {
    "duration": 5,
    "start_time": "2025-04-05T15:35:24.270Z"
   },
   {
    "duration": 6,
    "start_time": "2025-04-05T15:35:24.278Z"
   },
   {
    "duration": 6,
    "start_time": "2025-04-05T15:35:24.286Z"
   },
   {
    "duration": 6,
    "start_time": "2025-04-05T15:35:24.293Z"
   },
   {
    "duration": 26,
    "start_time": "2025-04-05T15:35:24.300Z"
   },
   {
    "duration": 4,
    "start_time": "2025-04-05T15:35:24.358Z"
   },
   {
    "duration": 72,
    "start_time": "2025-04-05T15:35:24.367Z"
   },
   {
    "duration": 8,
    "start_time": "2025-04-05T15:35:24.441Z"
   },
   {
    "duration": 294,
    "start_time": "2025-04-05T15:35:24.451Z"
   },
   {
    "duration": 321,
    "start_time": "2025-04-05T15:35:24.747Z"
   },
   {
    "duration": 276,
    "start_time": "2025-04-05T15:35:25.071Z"
   },
   {
    "duration": 359,
    "start_time": "2025-04-05T15:35:25.349Z"
   },
   {
    "duration": 240,
    "start_time": "2025-04-05T15:35:25.710Z"
   },
   {
    "duration": 391,
    "start_time": "2025-04-05T15:35:25.957Z"
   },
   {
    "duration": 220,
    "start_time": "2025-04-05T15:35:26.350Z"
   },
   {
    "duration": 9,
    "start_time": "2025-04-05T15:35:26.572Z"
   },
   {
    "duration": 256,
    "start_time": "2025-04-05T15:35:26.583Z"
   },
   {
    "duration": 165,
    "start_time": "2025-04-05T15:35:26.841Z"
   },
   {
    "duration": 5,
    "start_time": "2025-04-05T15:35:27.008Z"
   },
   {
    "duration": 510,
    "start_time": "2025-04-05T15:35:27.014Z"
   },
   {
    "duration": 11,
    "start_time": "2025-04-05T15:35:27.525Z"
   },
   {
    "duration": 554,
    "start_time": "2025-04-05T15:35:27.537Z"
   },
   {
    "duration": 12,
    "start_time": "2025-04-05T15:35:28.092Z"
   },
   {
    "duration": 1387,
    "start_time": "2025-04-05T15:56:08.095Z"
   },
   {
    "duration": 81,
    "start_time": "2025-04-05T15:56:09.485Z"
   },
   {
    "duration": 7,
    "start_time": "2025-04-05T15:56:09.567Z"
   },
   {
    "duration": 88,
    "start_time": "2025-04-05T15:56:09.575Z"
   },
   {
    "duration": 8,
    "start_time": "2025-04-05T15:56:09.665Z"
   },
   {
    "duration": 53,
    "start_time": "2025-04-05T15:56:09.675Z"
   },
   {
    "duration": 10,
    "start_time": "2025-04-05T15:56:09.730Z"
   },
   {
    "duration": 115,
    "start_time": "2025-04-05T15:56:09.742Z"
   },
   {
    "duration": 5,
    "start_time": "2025-04-05T15:56:09.861Z"
   },
   {
    "duration": 8,
    "start_time": "2025-04-05T15:56:09.867Z"
   },
   {
    "duration": 16,
    "start_time": "2025-04-05T15:56:09.876Z"
   },
   {
    "duration": 31,
    "start_time": "2025-04-05T15:56:09.894Z"
   },
   {
    "duration": 4,
    "start_time": "2025-04-05T15:56:09.927Z"
   },
   {
    "duration": 22,
    "start_time": "2025-04-05T15:56:09.937Z"
   },
   {
    "duration": 9,
    "start_time": "2025-04-05T15:56:09.961Z"
   },
   {
    "duration": 585,
    "start_time": "2025-04-05T15:56:09.972Z"
   },
   {
    "duration": 884,
    "start_time": "2025-04-05T15:56:10.560Z"
   },
   {
    "duration": 470,
    "start_time": "2025-04-05T15:56:11.447Z"
   },
   {
    "duration": 422,
    "start_time": "2025-04-05T15:56:11.918Z"
   },
   {
    "duration": 283,
    "start_time": "2025-04-05T15:56:12.342Z"
   },
   {
    "duration": 440,
    "start_time": "2025-04-05T15:56:12.626Z"
   },
   {
    "duration": 273,
    "start_time": "2025-04-05T15:56:13.068Z"
   },
   {
    "duration": 13,
    "start_time": "2025-04-05T15:56:13.345Z"
   },
   {
    "duration": 271,
    "start_time": "2025-04-05T15:56:13.360Z"
   },
   {
    "duration": 199,
    "start_time": "2025-04-05T15:56:13.633Z"
   },
   {
    "duration": 8,
    "start_time": "2025-04-05T15:56:13.834Z"
   },
   {
    "duration": 636,
    "start_time": "2025-04-05T15:56:13.844Z"
   },
   {
    "duration": 14,
    "start_time": "2025-04-05T15:56:14.482Z"
   },
   {
    "duration": 531,
    "start_time": "2025-04-05T15:56:14.498Z"
   },
   {
    "duration": 21,
    "start_time": "2025-04-05T15:56:15.030Z"
   },
   {
    "duration": 1041,
    "start_time": "2025-04-05T16:23:24.293Z"
   },
   {
    "duration": 1177,
    "start_time": "2025-04-05T16:23:30.546Z"
   },
   {
    "duration": 60,
    "start_time": "2025-04-05T16:23:31.725Z"
   },
   {
    "duration": 5,
    "start_time": "2025-04-05T16:23:31.787Z"
   },
   {
    "duration": 81,
    "start_time": "2025-04-05T16:23:31.795Z"
   },
   {
    "duration": 24,
    "start_time": "2025-04-05T16:23:31.877Z"
   },
   {
    "duration": 60,
    "start_time": "2025-04-05T16:23:31.902Z"
   },
   {
    "duration": 7,
    "start_time": "2025-04-05T16:23:31.963Z"
   },
   {
    "duration": 37,
    "start_time": "2025-04-05T16:23:31.971Z"
   },
   {
    "duration": 4,
    "start_time": "2025-04-05T16:23:32.010Z"
   },
   {
    "duration": 4,
    "start_time": "2025-04-05T16:23:32.017Z"
   },
   {
    "duration": 9,
    "start_time": "2025-04-05T16:23:32.023Z"
   },
   {
    "duration": 25,
    "start_time": "2025-04-05T16:23:32.033Z"
   },
   {
    "duration": 1106,
    "start_time": "2025-04-05T16:23:32.059Z"
   },
   {
    "duration": 0,
    "start_time": "2025-04-05T16:23:33.166Z"
   },
   {
    "duration": 0,
    "start_time": "2025-04-05T16:23:33.168Z"
   },
   {
    "duration": 0,
    "start_time": "2025-04-05T16:23:33.170Z"
   },
   {
    "duration": 0,
    "start_time": "2025-04-05T16:23:33.171Z"
   },
   {
    "duration": 0,
    "start_time": "2025-04-05T16:23:33.172Z"
   },
   {
    "duration": 0,
    "start_time": "2025-04-05T16:23:33.173Z"
   },
   {
    "duration": 0,
    "start_time": "2025-04-05T16:23:33.175Z"
   },
   {
    "duration": 0,
    "start_time": "2025-04-05T16:23:33.177Z"
   },
   {
    "duration": 0,
    "start_time": "2025-04-05T16:23:33.178Z"
   },
   {
    "duration": 0,
    "start_time": "2025-04-05T16:23:33.179Z"
   },
   {
    "duration": 0,
    "start_time": "2025-04-05T16:23:33.180Z"
   },
   {
    "duration": 0,
    "start_time": "2025-04-05T16:23:33.181Z"
   },
   {
    "duration": 0,
    "start_time": "2025-04-05T16:23:33.182Z"
   },
   {
    "duration": 0,
    "start_time": "2025-04-05T16:23:33.183Z"
   },
   {
    "duration": 0,
    "start_time": "2025-04-05T16:23:33.184Z"
   },
   {
    "duration": 0,
    "start_time": "2025-04-05T16:23:33.185Z"
   },
   {
    "duration": 0,
    "start_time": "2025-04-05T16:23:33.186Z"
   },
   {
    "duration": 0,
    "start_time": "2025-04-05T16:23:33.187Z"
   },
   {
    "duration": 15,
    "start_time": "2025-04-05T16:23:59.411Z"
   },
   {
    "duration": 10,
    "start_time": "2025-04-05T16:24:18.292Z"
   },
   {
    "duration": 8,
    "start_time": "2025-04-05T16:25:45.645Z"
   },
   {
    "duration": 7,
    "start_time": "2025-04-05T16:26:05.102Z"
   },
   {
    "duration": 8,
    "start_time": "2025-04-05T16:27:12.476Z"
   },
   {
    "duration": 14,
    "start_time": "2025-04-05T16:37:43.953Z"
   },
   {
    "duration": 9,
    "start_time": "2025-04-05T16:38:18.346Z"
   },
   {
    "duration": 12,
    "start_time": "2025-04-05T16:38:40.557Z"
   },
   {
    "duration": 13,
    "start_time": "2025-04-05T16:39:14.580Z"
   },
   {
    "duration": 13,
    "start_time": "2025-04-05T16:40:02.573Z"
   },
   {
    "duration": 12,
    "start_time": "2025-04-05T16:40:29.567Z"
   },
   {
    "duration": 9,
    "start_time": "2025-04-05T16:41:28.055Z"
   },
   {
    "duration": 10,
    "start_time": "2025-04-05T16:42:46.550Z"
   },
   {
    "duration": 9,
    "start_time": "2025-04-05T16:42:49.373Z"
   },
   {
    "duration": 362,
    "start_time": "2025-04-05T16:49:29.941Z"
   },
   {
    "duration": 271,
    "start_time": "2025-04-05T16:49:54.592Z"
   },
   {
    "duration": 1143,
    "start_time": "2025-04-05T17:05:22.753Z"
   },
   {
    "duration": 63,
    "start_time": "2025-04-05T17:05:23.898Z"
   },
   {
    "duration": 47,
    "start_time": "2025-04-05T17:05:23.963Z"
   },
   {
    "duration": 82,
    "start_time": "2025-04-05T17:05:24.013Z"
   },
   {
    "duration": 7,
    "start_time": "2025-04-05T17:05:24.096Z"
   },
   {
    "duration": 99,
    "start_time": "2025-04-05T17:05:24.105Z"
   },
   {
    "duration": 6,
    "start_time": "2025-04-05T17:05:24.206Z"
   },
   {
    "duration": 6,
    "start_time": "2025-04-05T17:05:24.214Z"
   },
   {
    "duration": 3,
    "start_time": "2025-04-05T17:05:24.222Z"
   },
   {
    "duration": 27,
    "start_time": "2025-04-05T17:05:24.228Z"
   },
   {
    "duration": 7,
    "start_time": "2025-04-05T17:05:24.256Z"
   },
   {
    "duration": 25,
    "start_time": "2025-04-05T17:05:24.265Z"
   },
   {
    "duration": 279,
    "start_time": "2025-04-05T17:05:24.291Z"
   },
   {
    "duration": 5,
    "start_time": "2025-04-05T17:05:24.571Z"
   },
   {
    "duration": 6,
    "start_time": "2025-04-05T17:05:24.578Z"
   },
   {
    "duration": 9,
    "start_time": "2025-04-05T17:05:24.585Z"
   },
   {
    "duration": 9,
    "start_time": "2025-04-05T17:05:24.595Z"
   },
   {
    "duration": 321,
    "start_time": "2025-04-05T17:05:24.605Z"
   },
   {
    "duration": 340,
    "start_time": "2025-04-05T17:05:24.928Z"
   },
   {
    "duration": 235,
    "start_time": "2025-04-05T17:05:25.269Z"
   },
   {
    "duration": 379,
    "start_time": "2025-04-05T17:05:25.506Z"
   },
   {
    "duration": 494,
    "start_time": "2025-04-05T17:05:25.886Z"
   },
   {
    "duration": 601,
    "start_time": "2025-04-05T17:05:26.382Z"
   },
   {
    "duration": 394,
    "start_time": "2025-04-05T17:05:26.985Z"
   },
   {
    "duration": 9,
    "start_time": "2025-04-05T17:05:27.381Z"
   },
   {
    "duration": 125,
    "start_time": "2025-04-05T17:05:27.391Z"
   },
   {
    "duration": 0,
    "start_time": "2025-04-05T17:05:27.518Z"
   },
   {
    "duration": 0,
    "start_time": "2025-04-05T17:05:27.519Z"
   },
   {
    "duration": 0,
    "start_time": "2025-04-05T17:05:27.520Z"
   },
   {
    "duration": 0,
    "start_time": "2025-04-05T17:05:27.521Z"
   },
   {
    "duration": 0,
    "start_time": "2025-04-05T17:05:27.522Z"
   },
   {
    "duration": 0,
    "start_time": "2025-04-05T17:05:27.524Z"
   },
   {
    "duration": 291,
    "start_time": "2025-04-05T17:17:40.434Z"
   },
   {
    "duration": 265,
    "start_time": "2025-04-05T17:17:57.883Z"
   },
   {
    "duration": 9,
    "start_time": "2025-04-05T17:20:55.523Z"
   },
   {
    "duration": 5,
    "start_time": "2025-04-05T17:21:02.324Z"
   },
   {
    "duration": 270,
    "start_time": "2025-04-05T17:22:30.727Z"
   },
   {
    "duration": 5,
    "start_time": "2025-04-05T17:22:33.120Z"
   },
   {
    "duration": 273,
    "start_time": "2025-04-05T17:23:18.449Z"
   },
   {
    "duration": 3,
    "start_time": "2025-04-05T17:23:43.318Z"
   },
   {
    "duration": 8,
    "start_time": "2025-04-05T17:23:57.848Z"
   },
   {
    "duration": 12,
    "start_time": "2025-04-05T17:25:18.181Z"
   },
   {
    "duration": 13,
    "start_time": "2025-04-05T17:25:23.579Z"
   },
   {
    "duration": 68,
    "start_time": "2025-04-05T17:34:40.747Z"
   },
   {
    "duration": 8,
    "start_time": "2025-04-05T17:34:46.600Z"
   },
   {
    "duration": 9,
    "start_time": "2025-04-05T17:37:46.829Z"
   },
   {
    "duration": 1119,
    "start_time": "2025-04-05T18:04:03.503Z"
   },
   {
    "duration": 72,
    "start_time": "2025-04-05T18:04:04.624Z"
   },
   {
    "duration": 6,
    "start_time": "2025-04-05T18:04:04.697Z"
   },
   {
    "duration": 129,
    "start_time": "2025-04-05T18:04:04.705Z"
   },
   {
    "duration": 8,
    "start_time": "2025-04-05T18:04:04.836Z"
   },
   {
    "duration": 124,
    "start_time": "2025-04-05T18:04:04.846Z"
   },
   {
    "duration": 6,
    "start_time": "2025-04-05T18:04:04.972Z"
   },
   {
    "duration": 5,
    "start_time": "2025-04-05T18:04:04.979Z"
   },
   {
    "duration": 4,
    "start_time": "2025-04-05T18:04:04.985Z"
   },
   {
    "duration": 9,
    "start_time": "2025-04-05T18:04:04.991Z"
   },
   {
    "duration": 7,
    "start_time": "2025-04-05T18:04:05.001Z"
   },
   {
    "duration": 50,
    "start_time": "2025-04-05T18:04:05.010Z"
   },
   {
    "duration": 329,
    "start_time": "2025-04-05T18:04:05.062Z"
   },
   {
    "duration": 10,
    "start_time": "2025-04-05T18:04:05.395Z"
   },
   {
    "duration": 32,
    "start_time": "2025-04-05T18:04:05.406Z"
   },
   {
    "duration": 11,
    "start_time": "2025-04-05T18:04:05.439Z"
   },
   {
    "duration": 27,
    "start_time": "2025-04-05T18:04:05.451Z"
   },
   {
    "duration": 17,
    "start_time": "2025-04-05T18:04:05.479Z"
   },
   {
    "duration": 285,
    "start_time": "2025-04-05T18:04:05.497Z"
   },
   {
    "duration": 318,
    "start_time": "2025-04-05T18:04:05.783Z"
   },
   {
    "duration": 245,
    "start_time": "2025-04-05T18:04:06.103Z"
   },
   {
    "duration": 356,
    "start_time": "2025-04-05T18:04:06.349Z"
   },
   {
    "duration": 234,
    "start_time": "2025-04-05T18:04:06.707Z"
   },
   {
    "duration": 365,
    "start_time": "2025-04-05T18:04:06.942Z"
   },
   {
    "duration": 240,
    "start_time": "2025-04-05T18:04:07.308Z"
   },
   {
    "duration": 12,
    "start_time": "2025-04-05T18:04:07.549Z"
   },
   {
    "duration": 112,
    "start_time": "2025-04-05T18:04:07.563Z"
   },
   {
    "duration": 0,
    "start_time": "2025-04-05T18:04:07.676Z"
   },
   {
    "duration": 0,
    "start_time": "2025-04-05T18:04:07.677Z"
   },
   {
    "duration": 1,
    "start_time": "2025-04-05T18:04:07.678Z"
   },
   {
    "duration": 0,
    "start_time": "2025-04-05T18:04:07.680Z"
   },
   {
    "duration": 0,
    "start_time": "2025-04-05T18:04:07.681Z"
   },
   {
    "duration": 0,
    "start_time": "2025-04-05T18:04:07.682Z"
   },
   {
    "duration": 5,
    "start_time": "2025-04-05T18:07:42.859Z"
   },
   {
    "duration": 1149,
    "start_time": "2025-04-05T18:07:52.927Z"
   },
   {
    "duration": 58,
    "start_time": "2025-04-05T18:07:54.078Z"
   },
   {
    "duration": 55,
    "start_time": "2025-04-05T18:07:54.141Z"
   },
   {
    "duration": 83,
    "start_time": "2025-04-05T18:07:54.198Z"
   },
   {
    "duration": 7,
    "start_time": "2025-04-05T18:07:54.284Z"
   },
   {
    "duration": 68,
    "start_time": "2025-04-05T18:07:54.293Z"
   },
   {
    "duration": 6,
    "start_time": "2025-04-05T18:07:54.363Z"
   },
   {
    "duration": 5,
    "start_time": "2025-04-05T18:07:54.371Z"
   },
   {
    "duration": 4,
    "start_time": "2025-04-05T18:07:54.379Z"
   },
   {
    "duration": 5,
    "start_time": "2025-04-05T18:07:54.385Z"
   },
   {
    "duration": 7,
    "start_time": "2025-04-05T18:07:54.391Z"
   },
   {
    "duration": 60,
    "start_time": "2025-04-05T18:07:54.399Z"
   },
   {
    "duration": 297,
    "start_time": "2025-04-05T18:07:54.461Z"
   },
   {
    "duration": 8,
    "start_time": "2025-04-05T18:07:54.760Z"
   },
   {
    "duration": 5,
    "start_time": "2025-04-05T18:07:54.770Z"
   },
   {
    "duration": 4,
    "start_time": "2025-04-05T18:07:54.776Z"
   },
   {
    "duration": 8,
    "start_time": "2025-04-05T18:07:54.782Z"
   },
   {
    "duration": 8,
    "start_time": "2025-04-05T18:07:54.792Z"
   },
   {
    "duration": 343,
    "start_time": "2025-04-05T18:07:54.801Z"
   },
   {
    "duration": 336,
    "start_time": "2025-04-05T18:07:55.146Z"
   },
   {
    "duration": 242,
    "start_time": "2025-04-05T18:07:55.484Z"
   },
   {
    "duration": 351,
    "start_time": "2025-04-05T18:07:55.728Z"
   },
   {
    "duration": 242,
    "start_time": "2025-04-05T18:07:56.081Z"
   },
   {
    "duration": 376,
    "start_time": "2025-04-05T18:07:56.325Z"
   },
   {
    "duration": 241,
    "start_time": "2025-04-05T18:07:56.703Z"
   },
   {
    "duration": 15,
    "start_time": "2025-04-05T18:07:56.945Z"
   },
   {
    "duration": 221,
    "start_time": "2025-04-05T18:07:56.963Z"
   },
   {
    "duration": 160,
    "start_time": "2025-04-05T18:07:57.185Z"
   },
   {
    "duration": 13,
    "start_time": "2025-04-05T18:07:57.347Z"
   },
   {
    "duration": 552,
    "start_time": "2025-04-05T18:07:57.362Z"
   },
   {
    "duration": 11,
    "start_time": "2025-04-05T18:07:57.916Z"
   },
   {
    "duration": 546,
    "start_time": "2025-04-05T18:07:57.929Z"
   },
   {
    "duration": 12,
    "start_time": "2025-04-05T18:07:58.476Z"
   },
   {
    "duration": 9,
    "start_time": "2025-04-05T18:13:04.006Z"
   },
   {
    "duration": 8,
    "start_time": "2025-04-05T18:13:15.339Z"
   },
   {
    "duration": 7,
    "start_time": "2025-04-05T18:13:23.304Z"
   },
   {
    "duration": 397,
    "start_time": "2025-04-05T18:22:09.161Z"
   },
   {
    "duration": 13,
    "start_time": "2025-04-05T18:23:04.729Z"
   },
   {
    "duration": 1094,
    "start_time": "2025-04-06T06:23:29.140Z"
   },
   {
    "duration": 73,
    "start_time": "2025-04-06T06:23:30.235Z"
   },
   {
    "duration": 7,
    "start_time": "2025-04-06T06:23:30.309Z"
   },
   {
    "duration": 223,
    "start_time": "2025-04-06T06:23:30.317Z"
   },
   {
    "duration": 7,
    "start_time": "2025-04-06T06:23:30.543Z"
   },
   {
    "duration": 101,
    "start_time": "2025-04-06T06:23:30.552Z"
   },
   {
    "duration": 8,
    "start_time": "2025-04-06T06:23:30.656Z"
   },
   {
    "duration": 4,
    "start_time": "2025-04-06T06:23:30.666Z"
   },
   {
    "duration": 12,
    "start_time": "2025-04-06T06:23:30.672Z"
   },
   {
    "duration": 23,
    "start_time": "2025-04-06T06:23:30.685Z"
   },
   {
    "duration": 52,
    "start_time": "2025-04-06T06:23:30.709Z"
   },
   {
    "duration": 24,
    "start_time": "2025-04-06T06:23:30.763Z"
   },
   {
    "duration": 296,
    "start_time": "2025-04-06T06:23:30.789Z"
   },
   {
    "duration": 8,
    "start_time": "2025-04-06T06:23:31.088Z"
   },
   {
    "duration": 22,
    "start_time": "2025-04-06T06:23:31.097Z"
   },
   {
    "duration": 14,
    "start_time": "2025-04-06T06:23:31.120Z"
   },
   {
    "duration": 9,
    "start_time": "2025-04-06T06:23:31.136Z"
   },
   {
    "duration": 7,
    "start_time": "2025-04-06T06:23:31.146Z"
   },
   {
    "duration": 291,
    "start_time": "2025-04-06T06:23:31.155Z"
   },
   {
    "duration": 294,
    "start_time": "2025-04-06T06:23:31.447Z"
   },
   {
    "duration": 219,
    "start_time": "2025-04-06T06:23:31.744Z"
   },
   {
    "duration": 329,
    "start_time": "2025-04-06T06:23:31.973Z"
   },
   {
    "duration": 256,
    "start_time": "2025-04-06T06:23:32.304Z"
   },
   {
    "duration": 531,
    "start_time": "2025-04-06T06:23:32.562Z"
   },
   {
    "duration": 424,
    "start_time": "2025-04-06T06:23:33.095Z"
   },
   {
    "duration": 8,
    "start_time": "2025-04-06T06:23:33.572Z"
   },
   {
    "duration": 432,
    "start_time": "2025-04-06T06:23:33.581Z"
   },
   {
    "duration": 242,
    "start_time": "2025-04-06T06:23:34.014Z"
   },
   {
    "duration": 5,
    "start_time": "2025-04-06T06:23:34.257Z"
   },
   {
    "duration": 475,
    "start_time": "2025-04-06T06:23:34.273Z"
   },
   {
    "duration": 11,
    "start_time": "2025-04-06T06:23:34.749Z"
   },
   {
    "duration": 402,
    "start_time": "2025-04-06T06:23:34.772Z"
   },
   {
    "duration": 12,
    "start_time": "2025-04-06T06:23:35.175Z"
   }
  ],
  "kernelspec": {
   "display_name": "Python 3 (ipykernel)",
   "language": "python",
   "name": "python3"
  },
  "language_info": {
   "codemirror_mode": {
    "name": "ipython",
    "version": 3
   },
   "file_extension": ".py",
   "mimetype": "text/x-python",
   "name": "python",
   "nbconvert_exporter": "python",
   "pygments_lexer": "ipython3",
   "version": "3.9.5"
  },
  "toc": {
   "base_numbering": 1,
   "nav_menu": {},
   "number_sections": true,
   "sideBar": true,
   "skip_h1_title": true,
   "title_cell": "Table of Contents",
   "title_sidebar": "Contents",
   "toc_cell": false,
   "toc_position": {
    "height": "calc(100% - 180px)",
    "left": "10px",
    "top": "150px",
    "width": "165px"
   },
   "toc_section_display": true,
   "toc_window_display": true
  }
 },
 "nbformat": 4,
 "nbformat_minor": 2
}
